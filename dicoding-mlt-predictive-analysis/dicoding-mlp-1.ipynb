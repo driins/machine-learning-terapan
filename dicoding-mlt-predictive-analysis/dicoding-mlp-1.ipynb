{
  "cells": [
    {
      "cell_type": "markdown",
      "source": [
        "Nama : Indri Windriasari <br>\n",
        "Email: indriwindriasari2511@gmail.com"
      ],
      "metadata": {
        "id": "6rxpPLE0HQGr"
      },
      "id": "6rxpPLE0HQGr"
    },
    {
      "cell_type": "markdown",
      "source": [
        "# Machine Learning Terapan - Submission Predictive Analytics <br>\n",
        "## **Judul Proyek : Mengatasi Tantangan Attrition Karyawan dengan Prediksi Berbasis Machine Learning**"
      ],
      "metadata": {
        "id": "L42MDExTH5CG"
      },
      "id": "L42MDExTH5CG"
    },
    {
      "cell_type": "markdown",
      "source": [
        "Proyek ini bertujuan untuk memahami dan mengatasi tantangan atrisi karyawan melalui pendekatan berbasis machine learning.\n",
        "\n",
        "Dengan menggunakan dataset kuantitatif HR IBM Analytics yang mencakup 1.470 entri karyawan dan 35 fitur, proyek ini mengembangkan model prediktif berbasis klasifikasi biner untuk mengelompokkan karyawan ke dalam dua kategori: **Bertahan** dan **Keluar**. Tiga algoritma machine learning: *XGBoost, Random Forest, dan Logistic Regression* digunakan untuk menggali pola-pola dalam data.\n",
        "\n",
        "Hasil dari model ini diharapkan dapat membantu menurunkan biaya rekrutmen, eningkatkan tingkat retensi karyawan, serta memberikan wawasan strategis bagi pengelolaan sumber daya manusia."
      ],
      "metadata": {
        "id": "heYT_ahHJQvi"
      },
      "id": "heYT_ahHJQvi"
    },
    {
      "cell_type": "markdown",
      "source": [
        "## 1. Library Import"
      ],
      "metadata": {
        "id": "PWMY7YhSLjbA"
      },
      "id": "PWMY7YhSLjbA"
    },
    {
      "cell_type": "code",
      "execution_count": 73,
      "id": "12ba3a5a",
      "metadata": {
        "execution": {
          "iopub.execute_input": "2024-05-03T15:41:56.206254Z",
          "iopub.status.busy": "2024-05-03T15:41:56.205430Z",
          "iopub.status.idle": "2024-05-03T15:42:02.847251Z",
          "shell.execute_reply": "2024-05-03T15:42:02.846260Z"
        },
        "papermill": {
          "duration": 6.671261,
          "end_time": "2024-05-03T15:42:02.850393",
          "exception": false,
          "start_time": "2024-05-03T15:41:56.179132",
          "status": "completed"
        },
        "tags": [],
        "id": "12ba3a5a"
      },
      "outputs": [],
      "source": [
        "import datetime\n",
        "from statistics import stdev\n",
        "from tqdm import tqdm\n",
        "\n",
        "# Mengimpor pustaka untuk manipulasi data dan EDA (Exploratory Data Analysis)\n",
        "import numpy as np\n",
        "import pandas as pd\n",
        "import seaborn as sns\n",
        "import matplotlib.colors as mcolors\n",
        "import matplotlib.pyplot as plt\n",
        "import plotly.express as px\n",
        "import plotly.figure_factory as ff\n",
        "import plotly.graph_objects as go\n",
        "\n",
        "# Mengimpor pustaka untuk preprocessing data\n",
        "from sklearn.preprocessing import LabelEncoder, MinMaxScaler, StandardScaler\n",
        "import imblearn\n",
        "\n",
        "# Mengimpor pustaka untuk membangun dan melatih model machine learning\n",
        "from sklearn.ensemble import RandomForestClassifier\n",
        "from sklearn.linear_model import LogisticRegression\n",
        "from sklearn.neighbors import KNeighborsClassifier\n",
        "from sklearn.tree import DecisionTreeClassifier\n",
        "from lightgbm import LGBMClassifier\n",
        "from xgboost import XGBClassifier\n",
        "\n",
        "# Mengimpor pustaka untuk seleksi fitur dan tuning hyperparameter\n",
        "from sklearn.feature_selection import SelectKBest, chi2\n",
        "from sklearn.model_selection import (GridSearchCV, RepeatedStratifiedKFold,\n",
        "                                     cross_val_score, train_test_split)\n",
        "\n",
        "# Mengimpor pustaka untuk evaluasi model\n",
        "from sklearn.metrics import (accuracy_score, auc, classification_report,\n",
        "                             confusion_matrix, precision_recall_curve,\n",
        "                             roc_auc_score, roc_curve)\n",
        "\n",
        "# Menonaktifkan peringatan yang tidak diperlukan selama eksekusi\n",
        "import warnings\n",
        "warnings.filterwarnings('ignore')"
      ]
    },
    {
      "cell_type": "markdown",
      "source": [
        "## 2. Data Understanding"
      ],
      "metadata": {
        "id": "cOrdSahgLoZ2"
      },
      "id": "cOrdSahgLoZ2"
    },
    {
      "cell_type": "markdown",
      "source": [
        "### 2.1 Data Loading"
      ],
      "metadata": {
        "id": "AVHlX373Pj8C"
      },
      "id": "AVHlX373Pj8C"
    },
    {
      "cell_type": "markdown",
      "source": [
        "Tahapan ini memuat dataset [HR IBM Analytics](https://www.kaggle.com/datasets/pavansubhasht/ibm-hr-analytics-attrition-dataset/data) dan menampilkan informasi awal dari dataset"
      ],
      "metadata": {
        "id": "c9QPfNv2QGBQ"
      },
      "id": "c9QPfNv2QGBQ"
    },
    {
      "cell_type": "markdown",
      "source": [
        "#### 2.1.1 Download Dataset"
      ],
      "metadata": {
        "id": "ngItuNZLSsE7"
      },
      "id": "ngItuNZLSsE7"
    },
    {
      "cell_type": "code",
      "source": [
        "# Membuat direktori baru bernama kaggle\n",
        "!rm -rf ~/.kaggle && mkdir ~/.kaggle/\n",
        "\n",
        "# Menyalin berkas kaggle.json pada direktori aktif saat ini ke direktori kaggle\n",
        "!mv kaggle.json ~/.kaggle/kaggle.json\n",
        "!chmod 600 ~/.kaggle/kaggle.json\n",
        "\n",
        "# Download dataset\n",
        "!kaggle datasets download -d pavansubhasht/ibm-hr-analytics-attrition-dataset\n",
        "\n",
        "# Ekstrak berkas zip\n",
        "!unzip /content/ibm-hr-analytics-attrition-dataset.zip"
      ],
      "metadata": {
        "colab": {
          "base_uri": "https://localhost:8080/"
        },
        "id": "ZTjw38efRTq6",
        "outputId": "0864204a-a65e-461d-a35b-dd4fa3de43d3"
      },
      "id": "ZTjw38efRTq6",
      "execution_count": 74,
      "outputs": [
        {
          "output_type": "stream",
          "name": "stdout",
          "text": [
            "mv: cannot stat 'kaggle.json': No such file or directory\n",
            "chmod: cannot access '/root/.kaggle/kaggle.json': No such file or directory\n",
            "Dataset URL: https://www.kaggle.com/datasets/pavansubhasht/ibm-hr-analytics-attrition-dataset\n",
            "License(s): DbCL-1.0\n",
            "Downloading ibm-hr-analytics-attrition-dataset.zip to /content\n",
            "  0% 0.00/50.1k [00:00<?, ?B/s]\n",
            "100% 50.1k/50.1k [00:00<00:00, 64.6MB/s]\n",
            "Archive:  /content/ibm-hr-analytics-attrition-dataset.zip\n",
            "  inflating: WA_Fn-UseC_-HR-Employee-Attrition.csv  \n"
          ]
        }
      ]
    },
    {
      "cell_type": "markdown",
      "source": [
        "#### 2.1.2 Read Dataset"
      ],
      "metadata": {
        "id": "t1P-0Q3TSwcY"
      },
      "id": "t1P-0Q3TSwcY"
    },
    {
      "cell_type": "code",
      "execution_count": 75,
      "id": "71c19214",
      "metadata": {
        "execution": {
          "iopub.execute_input": "2024-05-03T15:42:02.901897Z",
          "iopub.status.busy": "2024-05-03T15:42:02.900961Z",
          "iopub.status.idle": "2024-05-03T15:42:02.937308Z",
          "shell.execute_reply": "2024-05-03T15:42:02.936047Z"
        },
        "papermill": {
          "duration": 0.064914,
          "end_time": "2024-05-03T15:42:02.939880",
          "exception": false,
          "start_time": "2024-05-03T15:42:02.874966",
          "status": "completed"
        },
        "tags": [],
        "colab": {
          "base_uri": "https://localhost:8080/",
          "height": 0
        },
        "id": "71c19214",
        "outputId": "e7e3a096-6614-4fbc-908d-82c16c988fab"
      },
      "outputs": [
        {
          "output_type": "execute_result",
          "data": {
            "text/plain": [
              "   Age Attrition     BusinessTravel  DailyRate              Department  \\\n",
              "0   41       Yes      Travel_Rarely       1102                   Sales   \n",
              "1   49        No  Travel_Frequently        279  Research & Development   \n",
              "2   37       Yes      Travel_Rarely       1373  Research & Development   \n",
              "3   33        No  Travel_Frequently       1392  Research & Development   \n",
              "4   27        No      Travel_Rarely        591  Research & Development   \n",
              "\n",
              "   DistanceFromHome  Education EducationField  EmployeeCount  EmployeeNumber  \\\n",
              "0                 1          2  Life Sciences              1               1   \n",
              "1                 8          1  Life Sciences              1               2   \n",
              "2                 2          2          Other              1               4   \n",
              "3                 3          4  Life Sciences              1               5   \n",
              "4                 2          1        Medical              1               7   \n",
              "\n",
              "   ...  RelationshipSatisfaction StandardHours  StockOptionLevel  \\\n",
              "0  ...                         1            80                 0   \n",
              "1  ...                         4            80                 1   \n",
              "2  ...                         2            80                 0   \n",
              "3  ...                         3            80                 0   \n",
              "4  ...                         4            80                 1   \n",
              "\n",
              "   TotalWorkingYears  TrainingTimesLastYear WorkLifeBalance  YearsAtCompany  \\\n",
              "0                  8                      0               1               6   \n",
              "1                 10                      3               3              10   \n",
              "2                  7                      3               3               0   \n",
              "3                  8                      3               3               8   \n",
              "4                  6                      3               3               2   \n",
              "\n",
              "  YearsInCurrentRole  YearsSinceLastPromotion  YearsWithCurrManager  \n",
              "0                  4                        0                     5  \n",
              "1                  7                        1                     7  \n",
              "2                  0                        0                     0  \n",
              "3                  7                        3                     0  \n",
              "4                  2                        2                     2  \n",
              "\n",
              "[5 rows x 35 columns]"
            ],
            "text/html": [
              "\n",
              "  <div id=\"df-9694a6a9-9c85-4a8e-af8c-f08ae214532d\" class=\"colab-df-container\">\n",
              "    <div>\n",
              "<style scoped>\n",
              "    .dataframe tbody tr th:only-of-type {\n",
              "        vertical-align: middle;\n",
              "    }\n",
              "\n",
              "    .dataframe tbody tr th {\n",
              "        vertical-align: top;\n",
              "    }\n",
              "\n",
              "    .dataframe thead th {\n",
              "        text-align: right;\n",
              "    }\n",
              "</style>\n",
              "<table border=\"1\" class=\"dataframe\">\n",
              "  <thead>\n",
              "    <tr style=\"text-align: right;\">\n",
              "      <th></th>\n",
              "      <th>Age</th>\n",
              "      <th>Attrition</th>\n",
              "      <th>BusinessTravel</th>\n",
              "      <th>DailyRate</th>\n",
              "      <th>Department</th>\n",
              "      <th>DistanceFromHome</th>\n",
              "      <th>Education</th>\n",
              "      <th>EducationField</th>\n",
              "      <th>EmployeeCount</th>\n",
              "      <th>EmployeeNumber</th>\n",
              "      <th>...</th>\n",
              "      <th>RelationshipSatisfaction</th>\n",
              "      <th>StandardHours</th>\n",
              "      <th>StockOptionLevel</th>\n",
              "      <th>TotalWorkingYears</th>\n",
              "      <th>TrainingTimesLastYear</th>\n",
              "      <th>WorkLifeBalance</th>\n",
              "      <th>YearsAtCompany</th>\n",
              "      <th>YearsInCurrentRole</th>\n",
              "      <th>YearsSinceLastPromotion</th>\n",
              "      <th>YearsWithCurrManager</th>\n",
              "    </tr>\n",
              "  </thead>\n",
              "  <tbody>\n",
              "    <tr>\n",
              "      <th>0</th>\n",
              "      <td>41</td>\n",
              "      <td>Yes</td>\n",
              "      <td>Travel_Rarely</td>\n",
              "      <td>1102</td>\n",
              "      <td>Sales</td>\n",
              "      <td>1</td>\n",
              "      <td>2</td>\n",
              "      <td>Life Sciences</td>\n",
              "      <td>1</td>\n",
              "      <td>1</td>\n",
              "      <td>...</td>\n",
              "      <td>1</td>\n",
              "      <td>80</td>\n",
              "      <td>0</td>\n",
              "      <td>8</td>\n",
              "      <td>0</td>\n",
              "      <td>1</td>\n",
              "      <td>6</td>\n",
              "      <td>4</td>\n",
              "      <td>0</td>\n",
              "      <td>5</td>\n",
              "    </tr>\n",
              "    <tr>\n",
              "      <th>1</th>\n",
              "      <td>49</td>\n",
              "      <td>No</td>\n",
              "      <td>Travel_Frequently</td>\n",
              "      <td>279</td>\n",
              "      <td>Research &amp; Development</td>\n",
              "      <td>8</td>\n",
              "      <td>1</td>\n",
              "      <td>Life Sciences</td>\n",
              "      <td>1</td>\n",
              "      <td>2</td>\n",
              "      <td>...</td>\n",
              "      <td>4</td>\n",
              "      <td>80</td>\n",
              "      <td>1</td>\n",
              "      <td>10</td>\n",
              "      <td>3</td>\n",
              "      <td>3</td>\n",
              "      <td>10</td>\n",
              "      <td>7</td>\n",
              "      <td>1</td>\n",
              "      <td>7</td>\n",
              "    </tr>\n",
              "    <tr>\n",
              "      <th>2</th>\n",
              "      <td>37</td>\n",
              "      <td>Yes</td>\n",
              "      <td>Travel_Rarely</td>\n",
              "      <td>1373</td>\n",
              "      <td>Research &amp; Development</td>\n",
              "      <td>2</td>\n",
              "      <td>2</td>\n",
              "      <td>Other</td>\n",
              "      <td>1</td>\n",
              "      <td>4</td>\n",
              "      <td>...</td>\n",
              "      <td>2</td>\n",
              "      <td>80</td>\n",
              "      <td>0</td>\n",
              "      <td>7</td>\n",
              "      <td>3</td>\n",
              "      <td>3</td>\n",
              "      <td>0</td>\n",
              "      <td>0</td>\n",
              "      <td>0</td>\n",
              "      <td>0</td>\n",
              "    </tr>\n",
              "    <tr>\n",
              "      <th>3</th>\n",
              "      <td>33</td>\n",
              "      <td>No</td>\n",
              "      <td>Travel_Frequently</td>\n",
              "      <td>1392</td>\n",
              "      <td>Research &amp; Development</td>\n",
              "      <td>3</td>\n",
              "      <td>4</td>\n",
              "      <td>Life Sciences</td>\n",
              "      <td>1</td>\n",
              "      <td>5</td>\n",
              "      <td>...</td>\n",
              "      <td>3</td>\n",
              "      <td>80</td>\n",
              "      <td>0</td>\n",
              "      <td>8</td>\n",
              "      <td>3</td>\n",
              "      <td>3</td>\n",
              "      <td>8</td>\n",
              "      <td>7</td>\n",
              "      <td>3</td>\n",
              "      <td>0</td>\n",
              "    </tr>\n",
              "    <tr>\n",
              "      <th>4</th>\n",
              "      <td>27</td>\n",
              "      <td>No</td>\n",
              "      <td>Travel_Rarely</td>\n",
              "      <td>591</td>\n",
              "      <td>Research &amp; Development</td>\n",
              "      <td>2</td>\n",
              "      <td>1</td>\n",
              "      <td>Medical</td>\n",
              "      <td>1</td>\n",
              "      <td>7</td>\n",
              "      <td>...</td>\n",
              "      <td>4</td>\n",
              "      <td>80</td>\n",
              "      <td>1</td>\n",
              "      <td>6</td>\n",
              "      <td>3</td>\n",
              "      <td>3</td>\n",
              "      <td>2</td>\n",
              "      <td>2</td>\n",
              "      <td>2</td>\n",
              "      <td>2</td>\n",
              "    </tr>\n",
              "  </tbody>\n",
              "</table>\n",
              "<p>5 rows × 35 columns</p>\n",
              "</div>\n",
              "    <div class=\"colab-df-buttons\">\n",
              "\n",
              "  <div class=\"colab-df-container\">\n",
              "    <button class=\"colab-df-convert\" onclick=\"convertToInteractive('df-9694a6a9-9c85-4a8e-af8c-f08ae214532d')\"\n",
              "            title=\"Convert this dataframe to an interactive table.\"\n",
              "            style=\"display:none;\">\n",
              "\n",
              "  <svg xmlns=\"http://www.w3.org/2000/svg\" height=\"24px\" viewBox=\"0 -960 960 960\">\n",
              "    <path d=\"M120-120v-720h720v720H120Zm60-500h600v-160H180v160Zm220 220h160v-160H400v160Zm0 220h160v-160H400v160ZM180-400h160v-160H180v160Zm440 0h160v-160H620v160ZM180-180h160v-160H180v160Zm440 0h160v-160H620v160Z\"/>\n",
              "  </svg>\n",
              "    </button>\n",
              "\n",
              "  <style>\n",
              "    .colab-df-container {\n",
              "      display:flex;\n",
              "      gap: 12px;\n",
              "    }\n",
              "\n",
              "    .colab-df-convert {\n",
              "      background-color: #E8F0FE;\n",
              "      border: none;\n",
              "      border-radius: 50%;\n",
              "      cursor: pointer;\n",
              "      display: none;\n",
              "      fill: #1967D2;\n",
              "      height: 32px;\n",
              "      padding: 0 0 0 0;\n",
              "      width: 32px;\n",
              "    }\n",
              "\n",
              "    .colab-df-convert:hover {\n",
              "      background-color: #E2EBFA;\n",
              "      box-shadow: 0px 1px 2px rgba(60, 64, 67, 0.3), 0px 1px 3px 1px rgba(60, 64, 67, 0.15);\n",
              "      fill: #174EA6;\n",
              "    }\n",
              "\n",
              "    .colab-df-buttons div {\n",
              "      margin-bottom: 4px;\n",
              "    }\n",
              "\n",
              "    [theme=dark] .colab-df-convert {\n",
              "      background-color: #3B4455;\n",
              "      fill: #D2E3FC;\n",
              "    }\n",
              "\n",
              "    [theme=dark] .colab-df-convert:hover {\n",
              "      background-color: #434B5C;\n",
              "      box-shadow: 0px 1px 3px 1px rgba(0, 0, 0, 0.15);\n",
              "      filter: drop-shadow(0px 1px 2px rgba(0, 0, 0, 0.3));\n",
              "      fill: #FFFFFF;\n",
              "    }\n",
              "  </style>\n",
              "\n",
              "    <script>\n",
              "      const buttonEl =\n",
              "        document.querySelector('#df-9694a6a9-9c85-4a8e-af8c-f08ae214532d button.colab-df-convert');\n",
              "      buttonEl.style.display =\n",
              "        google.colab.kernel.accessAllowed ? 'block' : 'none';\n",
              "\n",
              "      async function convertToInteractive(key) {\n",
              "        const element = document.querySelector('#df-9694a6a9-9c85-4a8e-af8c-f08ae214532d');\n",
              "        const dataTable =\n",
              "          await google.colab.kernel.invokeFunction('convertToInteractive',\n",
              "                                                    [key], {});\n",
              "        if (!dataTable) return;\n",
              "\n",
              "        const docLinkHtml = 'Like what you see? Visit the ' +\n",
              "          '<a target=\"_blank\" href=https://colab.research.google.com/notebooks/data_table.ipynb>data table notebook</a>'\n",
              "          + ' to learn more about interactive tables.';\n",
              "        element.innerHTML = '';\n",
              "        dataTable['output_type'] = 'display_data';\n",
              "        await google.colab.output.renderOutput(dataTable, element);\n",
              "        const docLink = document.createElement('div');\n",
              "        docLink.innerHTML = docLinkHtml;\n",
              "        element.appendChild(docLink);\n",
              "      }\n",
              "    </script>\n",
              "  </div>\n",
              "\n",
              "\n",
              "<div id=\"df-553b2848-6762-4260-9dcf-87b89e3e9d7e\">\n",
              "  <button class=\"colab-df-quickchart\" onclick=\"quickchart('df-553b2848-6762-4260-9dcf-87b89e3e9d7e')\"\n",
              "            title=\"Suggest charts\"\n",
              "            style=\"display:none;\">\n",
              "\n",
              "<svg xmlns=\"http://www.w3.org/2000/svg\" height=\"24px\"viewBox=\"0 0 24 24\"\n",
              "     width=\"24px\">\n",
              "    <g>\n",
              "        <path d=\"M19 3H5c-1.1 0-2 .9-2 2v14c0 1.1.9 2 2 2h14c1.1 0 2-.9 2-2V5c0-1.1-.9-2-2-2zM9 17H7v-7h2v7zm4 0h-2V7h2v10zm4 0h-2v-4h2v4z\"/>\n",
              "    </g>\n",
              "</svg>\n",
              "  </button>\n",
              "\n",
              "<style>\n",
              "  .colab-df-quickchart {\n",
              "      --bg-color: #E8F0FE;\n",
              "      --fill-color: #1967D2;\n",
              "      --hover-bg-color: #E2EBFA;\n",
              "      --hover-fill-color: #174EA6;\n",
              "      --disabled-fill-color: #AAA;\n",
              "      --disabled-bg-color: #DDD;\n",
              "  }\n",
              "\n",
              "  [theme=dark] .colab-df-quickchart {\n",
              "      --bg-color: #3B4455;\n",
              "      --fill-color: #D2E3FC;\n",
              "      --hover-bg-color: #434B5C;\n",
              "      --hover-fill-color: #FFFFFF;\n",
              "      --disabled-bg-color: #3B4455;\n",
              "      --disabled-fill-color: #666;\n",
              "  }\n",
              "\n",
              "  .colab-df-quickchart {\n",
              "    background-color: var(--bg-color);\n",
              "    border: none;\n",
              "    border-radius: 50%;\n",
              "    cursor: pointer;\n",
              "    display: none;\n",
              "    fill: var(--fill-color);\n",
              "    height: 32px;\n",
              "    padding: 0;\n",
              "    width: 32px;\n",
              "  }\n",
              "\n",
              "  .colab-df-quickchart:hover {\n",
              "    background-color: var(--hover-bg-color);\n",
              "    box-shadow: 0 1px 2px rgba(60, 64, 67, 0.3), 0 1px 3px 1px rgba(60, 64, 67, 0.15);\n",
              "    fill: var(--button-hover-fill-color);\n",
              "  }\n",
              "\n",
              "  .colab-df-quickchart-complete:disabled,\n",
              "  .colab-df-quickchart-complete:disabled:hover {\n",
              "    background-color: var(--disabled-bg-color);\n",
              "    fill: var(--disabled-fill-color);\n",
              "    box-shadow: none;\n",
              "  }\n",
              "\n",
              "  .colab-df-spinner {\n",
              "    border: 2px solid var(--fill-color);\n",
              "    border-color: transparent;\n",
              "    border-bottom-color: var(--fill-color);\n",
              "    animation:\n",
              "      spin 1s steps(1) infinite;\n",
              "  }\n",
              "\n",
              "  @keyframes spin {\n",
              "    0% {\n",
              "      border-color: transparent;\n",
              "      border-bottom-color: var(--fill-color);\n",
              "      border-left-color: var(--fill-color);\n",
              "    }\n",
              "    20% {\n",
              "      border-color: transparent;\n",
              "      border-left-color: var(--fill-color);\n",
              "      border-top-color: var(--fill-color);\n",
              "    }\n",
              "    30% {\n",
              "      border-color: transparent;\n",
              "      border-left-color: var(--fill-color);\n",
              "      border-top-color: var(--fill-color);\n",
              "      border-right-color: var(--fill-color);\n",
              "    }\n",
              "    40% {\n",
              "      border-color: transparent;\n",
              "      border-right-color: var(--fill-color);\n",
              "      border-top-color: var(--fill-color);\n",
              "    }\n",
              "    60% {\n",
              "      border-color: transparent;\n",
              "      border-right-color: var(--fill-color);\n",
              "    }\n",
              "    80% {\n",
              "      border-color: transparent;\n",
              "      border-right-color: var(--fill-color);\n",
              "      border-bottom-color: var(--fill-color);\n",
              "    }\n",
              "    90% {\n",
              "      border-color: transparent;\n",
              "      border-bottom-color: var(--fill-color);\n",
              "    }\n",
              "  }\n",
              "</style>\n",
              "\n",
              "  <script>\n",
              "    async function quickchart(key) {\n",
              "      const quickchartButtonEl =\n",
              "        document.querySelector('#' + key + ' button');\n",
              "      quickchartButtonEl.disabled = true;  // To prevent multiple clicks.\n",
              "      quickchartButtonEl.classList.add('colab-df-spinner');\n",
              "      try {\n",
              "        const charts = await google.colab.kernel.invokeFunction(\n",
              "            'suggestCharts', [key], {});\n",
              "      } catch (error) {\n",
              "        console.error('Error during call to suggestCharts:', error);\n",
              "      }\n",
              "      quickchartButtonEl.classList.remove('colab-df-spinner');\n",
              "      quickchartButtonEl.classList.add('colab-df-quickchart-complete');\n",
              "    }\n",
              "    (() => {\n",
              "      let quickchartButtonEl =\n",
              "        document.querySelector('#df-553b2848-6762-4260-9dcf-87b89e3e9d7e button');\n",
              "      quickchartButtonEl.style.display =\n",
              "        google.colab.kernel.accessAllowed ? 'block' : 'none';\n",
              "    })();\n",
              "  </script>\n",
              "</div>\n",
              "\n",
              "    </div>\n",
              "  </div>\n"
            ],
            "application/vnd.google.colaboratory.intrinsic+json": {
              "type": "dataframe",
              "variable_name": "df"
            }
          },
          "metadata": {},
          "execution_count": 75
        }
      ],
      "source": [
        "df = pd.read_csv(\"/content/WA_Fn-UseC_-HR-Employee-Attrition.csv\")\n",
        "df.head()"
      ]
    },
    {
      "cell_type": "markdown",
      "source": [
        "#### 2.1.3 Dimensi Dataset"
      ],
      "metadata": {
        "id": "uiBOL-xwTFBB"
      },
      "id": "uiBOL-xwTFBB"
    },
    {
      "cell_type": "code",
      "source": [
        "df.shape"
      ],
      "metadata": {
        "colab": {
          "base_uri": "https://localhost:8080/"
        },
        "id": "gwXYcIUBRz3O",
        "outputId": "a2ee2375-1888-4e58-e0c0-6a2731a3dacc"
      },
      "id": "gwXYcIUBRz3O",
      "execution_count": 76,
      "outputs": [
        {
          "output_type": "execute_result",
          "data": {
            "text/plain": [
              "(1470, 35)"
            ]
          },
          "metadata": {},
          "execution_count": 76
        }
      ]
    },
    {
      "cell_type": "markdown",
      "source": [
        "Dataset terdiri dari 1.470 entri data dengan 35 fitur"
      ],
      "metadata": {
        "id": "a4xUnG-1R1-Z"
      },
      "id": "a4xUnG-1R1-Z"
    },
    {
      "cell_type": "markdown",
      "id": "eed2200b",
      "metadata": {
        "papermill": {
          "duration": 0.026051,
          "end_time": "2024-05-03T15:42:03.277765",
          "exception": false,
          "start_time": "2024-05-03T15:42:03.251714",
          "status": "completed"
        },
        "tags": [],
        "id": "eed2200b"
      },
      "source": [
        "### 2.2 Exploratory Data Analysis (EDA)"
      ]
    },
    {
      "cell_type": "markdown",
      "source": [
        "EDA adalah tahap awal dalam analisis data yang bertujuan untuk memahami karakteristik dataset.\n",
        "mengidentifikasi pola atau hubungan antar fitur, mendeteksi anomali, seperti nilai yang hilang (missing values) atau outlier, dan memvalidasi asumsi sebelum melanjutkan ke tahapan analisis atau pemodelan.\n",
        "\n",
        "Teknik ini biasanya memanfaatkan metode statistik deskriptif dan visualisasi data untuk memberikan wawasan."
      ],
      "metadata": {
        "id": "650RBTiiTPv4"
      },
      "id": "650RBTiiTPv4"
    },
    {
      "cell_type": "code",
      "source": [
        "df.info() # menampilkan informasi dataset"
      ],
      "metadata": {
        "colab": {
          "base_uri": "https://localhost:8080/"
        },
        "id": "RQe3nEj1SWwG",
        "outputId": "7f4ed961-3153-4509-b7e1-38e7ad45297f"
      },
      "id": "RQe3nEj1SWwG",
      "execution_count": 77,
      "outputs": [
        {
          "output_type": "stream",
          "name": "stdout",
          "text": [
            "<class 'pandas.core.frame.DataFrame'>\n",
            "RangeIndex: 1470 entries, 0 to 1469\n",
            "Data columns (total 35 columns):\n",
            " #   Column                    Non-Null Count  Dtype \n",
            "---  ------                    --------------  ----- \n",
            " 0   Age                       1470 non-null   int64 \n",
            " 1   Attrition                 1470 non-null   object\n",
            " 2   BusinessTravel            1470 non-null   object\n",
            " 3   DailyRate                 1470 non-null   int64 \n",
            " 4   Department                1470 non-null   object\n",
            " 5   DistanceFromHome          1470 non-null   int64 \n",
            " 6   Education                 1470 non-null   int64 \n",
            " 7   EducationField            1470 non-null   object\n",
            " 8   EmployeeCount             1470 non-null   int64 \n",
            " 9   EmployeeNumber            1470 non-null   int64 \n",
            " 10  EnvironmentSatisfaction   1470 non-null   int64 \n",
            " 11  Gender                    1470 non-null   object\n",
            " 12  HourlyRate                1470 non-null   int64 \n",
            " 13  JobInvolvement            1470 non-null   int64 \n",
            " 14  JobLevel                  1470 non-null   int64 \n",
            " 15  JobRole                   1470 non-null   object\n",
            " 16  JobSatisfaction           1470 non-null   int64 \n",
            " 17  MaritalStatus             1470 non-null   object\n",
            " 18  MonthlyIncome             1470 non-null   int64 \n",
            " 19  MonthlyRate               1470 non-null   int64 \n",
            " 20  NumCompaniesWorked        1470 non-null   int64 \n",
            " 21  Over18                    1470 non-null   object\n",
            " 22  OverTime                  1470 non-null   object\n",
            " 23  PercentSalaryHike         1470 non-null   int64 \n",
            " 24  PerformanceRating         1470 non-null   int64 \n",
            " 25  RelationshipSatisfaction  1470 non-null   int64 \n",
            " 26  StandardHours             1470 non-null   int64 \n",
            " 27  StockOptionLevel          1470 non-null   int64 \n",
            " 28  TotalWorkingYears         1470 non-null   int64 \n",
            " 29  TrainingTimesLastYear     1470 non-null   int64 \n",
            " 30  WorkLifeBalance           1470 non-null   int64 \n",
            " 31  YearsAtCompany            1470 non-null   int64 \n",
            " 32  YearsInCurrentRole        1470 non-null   int64 \n",
            " 33  YearsSinceLastPromotion   1470 non-null   int64 \n",
            " 34  YearsWithCurrManager      1470 non-null   int64 \n",
            "dtypes: int64(26), object(9)\n",
            "memory usage: 402.1+ KB\n"
          ]
        }
      ]
    },
    {
      "cell_type": "code",
      "source": [
        "df.describe() # menampilkan deskripsi statistik data"
      ],
      "metadata": {
        "colab": {
          "base_uri": "https://localhost:8080/",
          "height": 0
        },
        "id": "fofFp1tTSk8S",
        "outputId": "c9d83cee-3a57-400f-baf2-6f31b9966bf1"
      },
      "id": "fofFp1tTSk8S",
      "execution_count": 78,
      "outputs": [
        {
          "output_type": "execute_result",
          "data": {
            "text/plain": [
              "               Age    DailyRate  DistanceFromHome    Education  EmployeeCount  \\\n",
              "count  1470.000000  1470.000000       1470.000000  1470.000000         1470.0   \n",
              "mean     36.923810   802.485714          9.192517     2.912925            1.0   \n",
              "std       9.135373   403.509100          8.106864     1.024165            0.0   \n",
              "min      18.000000   102.000000          1.000000     1.000000            1.0   \n",
              "25%      30.000000   465.000000          2.000000     2.000000            1.0   \n",
              "50%      36.000000   802.000000          7.000000     3.000000            1.0   \n",
              "75%      43.000000  1157.000000         14.000000     4.000000            1.0   \n",
              "max      60.000000  1499.000000         29.000000     5.000000            1.0   \n",
              "\n",
              "       EmployeeNumber  EnvironmentSatisfaction   HourlyRate  JobInvolvement  \\\n",
              "count     1470.000000              1470.000000  1470.000000     1470.000000   \n",
              "mean      1024.865306                 2.721769    65.891156        2.729932   \n",
              "std        602.024335                 1.093082    20.329428        0.711561   \n",
              "min          1.000000                 1.000000    30.000000        1.000000   \n",
              "25%        491.250000                 2.000000    48.000000        2.000000   \n",
              "50%       1020.500000                 3.000000    66.000000        3.000000   \n",
              "75%       1555.750000                 4.000000    83.750000        3.000000   \n",
              "max       2068.000000                 4.000000   100.000000        4.000000   \n",
              "\n",
              "          JobLevel  ...  RelationshipSatisfaction  StandardHours  \\\n",
              "count  1470.000000  ...               1470.000000         1470.0   \n",
              "mean      2.063946  ...                  2.712245           80.0   \n",
              "std       1.106940  ...                  1.081209            0.0   \n",
              "min       1.000000  ...                  1.000000           80.0   \n",
              "25%       1.000000  ...                  2.000000           80.0   \n",
              "50%       2.000000  ...                  3.000000           80.0   \n",
              "75%       3.000000  ...                  4.000000           80.0   \n",
              "max       5.000000  ...                  4.000000           80.0   \n",
              "\n",
              "       StockOptionLevel  TotalWorkingYears  TrainingTimesLastYear  \\\n",
              "count       1470.000000        1470.000000            1470.000000   \n",
              "mean           0.793878          11.279592               2.799320   \n",
              "std            0.852077           7.780782               1.289271   \n",
              "min            0.000000           0.000000               0.000000   \n",
              "25%            0.000000           6.000000               2.000000   \n",
              "50%            1.000000          10.000000               3.000000   \n",
              "75%            1.000000          15.000000               3.000000   \n",
              "max            3.000000          40.000000               6.000000   \n",
              "\n",
              "       WorkLifeBalance  YearsAtCompany  YearsInCurrentRole  \\\n",
              "count      1470.000000     1470.000000         1470.000000   \n",
              "mean          2.761224        7.008163            4.229252   \n",
              "std           0.706476        6.126525            3.623137   \n",
              "min           1.000000        0.000000            0.000000   \n",
              "25%           2.000000        3.000000            2.000000   \n",
              "50%           3.000000        5.000000            3.000000   \n",
              "75%           3.000000        9.000000            7.000000   \n",
              "max           4.000000       40.000000           18.000000   \n",
              "\n",
              "       YearsSinceLastPromotion  YearsWithCurrManager  \n",
              "count              1470.000000           1470.000000  \n",
              "mean                  2.187755              4.123129  \n",
              "std                   3.222430              3.568136  \n",
              "min                   0.000000              0.000000  \n",
              "25%                   0.000000              2.000000  \n",
              "50%                   1.000000              3.000000  \n",
              "75%                   3.000000              7.000000  \n",
              "max                  15.000000             17.000000  \n",
              "\n",
              "[8 rows x 26 columns]"
            ],
            "text/html": [
              "\n",
              "  <div id=\"df-5437e9db-852f-4c04-b441-cb5a34f320b1\" class=\"colab-df-container\">\n",
              "    <div>\n",
              "<style scoped>\n",
              "    .dataframe tbody tr th:only-of-type {\n",
              "        vertical-align: middle;\n",
              "    }\n",
              "\n",
              "    .dataframe tbody tr th {\n",
              "        vertical-align: top;\n",
              "    }\n",
              "\n",
              "    .dataframe thead th {\n",
              "        text-align: right;\n",
              "    }\n",
              "</style>\n",
              "<table border=\"1\" class=\"dataframe\">\n",
              "  <thead>\n",
              "    <tr style=\"text-align: right;\">\n",
              "      <th></th>\n",
              "      <th>Age</th>\n",
              "      <th>DailyRate</th>\n",
              "      <th>DistanceFromHome</th>\n",
              "      <th>Education</th>\n",
              "      <th>EmployeeCount</th>\n",
              "      <th>EmployeeNumber</th>\n",
              "      <th>EnvironmentSatisfaction</th>\n",
              "      <th>HourlyRate</th>\n",
              "      <th>JobInvolvement</th>\n",
              "      <th>JobLevel</th>\n",
              "      <th>...</th>\n",
              "      <th>RelationshipSatisfaction</th>\n",
              "      <th>StandardHours</th>\n",
              "      <th>StockOptionLevel</th>\n",
              "      <th>TotalWorkingYears</th>\n",
              "      <th>TrainingTimesLastYear</th>\n",
              "      <th>WorkLifeBalance</th>\n",
              "      <th>YearsAtCompany</th>\n",
              "      <th>YearsInCurrentRole</th>\n",
              "      <th>YearsSinceLastPromotion</th>\n",
              "      <th>YearsWithCurrManager</th>\n",
              "    </tr>\n",
              "  </thead>\n",
              "  <tbody>\n",
              "    <tr>\n",
              "      <th>count</th>\n",
              "      <td>1470.000000</td>\n",
              "      <td>1470.000000</td>\n",
              "      <td>1470.000000</td>\n",
              "      <td>1470.000000</td>\n",
              "      <td>1470.0</td>\n",
              "      <td>1470.000000</td>\n",
              "      <td>1470.000000</td>\n",
              "      <td>1470.000000</td>\n",
              "      <td>1470.000000</td>\n",
              "      <td>1470.000000</td>\n",
              "      <td>...</td>\n",
              "      <td>1470.000000</td>\n",
              "      <td>1470.0</td>\n",
              "      <td>1470.000000</td>\n",
              "      <td>1470.000000</td>\n",
              "      <td>1470.000000</td>\n",
              "      <td>1470.000000</td>\n",
              "      <td>1470.000000</td>\n",
              "      <td>1470.000000</td>\n",
              "      <td>1470.000000</td>\n",
              "      <td>1470.000000</td>\n",
              "    </tr>\n",
              "    <tr>\n",
              "      <th>mean</th>\n",
              "      <td>36.923810</td>\n",
              "      <td>802.485714</td>\n",
              "      <td>9.192517</td>\n",
              "      <td>2.912925</td>\n",
              "      <td>1.0</td>\n",
              "      <td>1024.865306</td>\n",
              "      <td>2.721769</td>\n",
              "      <td>65.891156</td>\n",
              "      <td>2.729932</td>\n",
              "      <td>2.063946</td>\n",
              "      <td>...</td>\n",
              "      <td>2.712245</td>\n",
              "      <td>80.0</td>\n",
              "      <td>0.793878</td>\n",
              "      <td>11.279592</td>\n",
              "      <td>2.799320</td>\n",
              "      <td>2.761224</td>\n",
              "      <td>7.008163</td>\n",
              "      <td>4.229252</td>\n",
              "      <td>2.187755</td>\n",
              "      <td>4.123129</td>\n",
              "    </tr>\n",
              "    <tr>\n",
              "      <th>std</th>\n",
              "      <td>9.135373</td>\n",
              "      <td>403.509100</td>\n",
              "      <td>8.106864</td>\n",
              "      <td>1.024165</td>\n",
              "      <td>0.0</td>\n",
              "      <td>602.024335</td>\n",
              "      <td>1.093082</td>\n",
              "      <td>20.329428</td>\n",
              "      <td>0.711561</td>\n",
              "      <td>1.106940</td>\n",
              "      <td>...</td>\n",
              "      <td>1.081209</td>\n",
              "      <td>0.0</td>\n",
              "      <td>0.852077</td>\n",
              "      <td>7.780782</td>\n",
              "      <td>1.289271</td>\n",
              "      <td>0.706476</td>\n",
              "      <td>6.126525</td>\n",
              "      <td>3.623137</td>\n",
              "      <td>3.222430</td>\n",
              "      <td>3.568136</td>\n",
              "    </tr>\n",
              "    <tr>\n",
              "      <th>min</th>\n",
              "      <td>18.000000</td>\n",
              "      <td>102.000000</td>\n",
              "      <td>1.000000</td>\n",
              "      <td>1.000000</td>\n",
              "      <td>1.0</td>\n",
              "      <td>1.000000</td>\n",
              "      <td>1.000000</td>\n",
              "      <td>30.000000</td>\n",
              "      <td>1.000000</td>\n",
              "      <td>1.000000</td>\n",
              "      <td>...</td>\n",
              "      <td>1.000000</td>\n",
              "      <td>80.0</td>\n",
              "      <td>0.000000</td>\n",
              "      <td>0.000000</td>\n",
              "      <td>0.000000</td>\n",
              "      <td>1.000000</td>\n",
              "      <td>0.000000</td>\n",
              "      <td>0.000000</td>\n",
              "      <td>0.000000</td>\n",
              "      <td>0.000000</td>\n",
              "    </tr>\n",
              "    <tr>\n",
              "      <th>25%</th>\n",
              "      <td>30.000000</td>\n",
              "      <td>465.000000</td>\n",
              "      <td>2.000000</td>\n",
              "      <td>2.000000</td>\n",
              "      <td>1.0</td>\n",
              "      <td>491.250000</td>\n",
              "      <td>2.000000</td>\n",
              "      <td>48.000000</td>\n",
              "      <td>2.000000</td>\n",
              "      <td>1.000000</td>\n",
              "      <td>...</td>\n",
              "      <td>2.000000</td>\n",
              "      <td>80.0</td>\n",
              "      <td>0.000000</td>\n",
              "      <td>6.000000</td>\n",
              "      <td>2.000000</td>\n",
              "      <td>2.000000</td>\n",
              "      <td>3.000000</td>\n",
              "      <td>2.000000</td>\n",
              "      <td>0.000000</td>\n",
              "      <td>2.000000</td>\n",
              "    </tr>\n",
              "    <tr>\n",
              "      <th>50%</th>\n",
              "      <td>36.000000</td>\n",
              "      <td>802.000000</td>\n",
              "      <td>7.000000</td>\n",
              "      <td>3.000000</td>\n",
              "      <td>1.0</td>\n",
              "      <td>1020.500000</td>\n",
              "      <td>3.000000</td>\n",
              "      <td>66.000000</td>\n",
              "      <td>3.000000</td>\n",
              "      <td>2.000000</td>\n",
              "      <td>...</td>\n",
              "      <td>3.000000</td>\n",
              "      <td>80.0</td>\n",
              "      <td>1.000000</td>\n",
              "      <td>10.000000</td>\n",
              "      <td>3.000000</td>\n",
              "      <td>3.000000</td>\n",
              "      <td>5.000000</td>\n",
              "      <td>3.000000</td>\n",
              "      <td>1.000000</td>\n",
              "      <td>3.000000</td>\n",
              "    </tr>\n",
              "    <tr>\n",
              "      <th>75%</th>\n",
              "      <td>43.000000</td>\n",
              "      <td>1157.000000</td>\n",
              "      <td>14.000000</td>\n",
              "      <td>4.000000</td>\n",
              "      <td>1.0</td>\n",
              "      <td>1555.750000</td>\n",
              "      <td>4.000000</td>\n",
              "      <td>83.750000</td>\n",
              "      <td>3.000000</td>\n",
              "      <td>3.000000</td>\n",
              "      <td>...</td>\n",
              "      <td>4.000000</td>\n",
              "      <td>80.0</td>\n",
              "      <td>1.000000</td>\n",
              "      <td>15.000000</td>\n",
              "      <td>3.000000</td>\n",
              "      <td>3.000000</td>\n",
              "      <td>9.000000</td>\n",
              "      <td>7.000000</td>\n",
              "      <td>3.000000</td>\n",
              "      <td>7.000000</td>\n",
              "    </tr>\n",
              "    <tr>\n",
              "      <th>max</th>\n",
              "      <td>60.000000</td>\n",
              "      <td>1499.000000</td>\n",
              "      <td>29.000000</td>\n",
              "      <td>5.000000</td>\n",
              "      <td>1.0</td>\n",
              "      <td>2068.000000</td>\n",
              "      <td>4.000000</td>\n",
              "      <td>100.000000</td>\n",
              "      <td>4.000000</td>\n",
              "      <td>5.000000</td>\n",
              "      <td>...</td>\n",
              "      <td>4.000000</td>\n",
              "      <td>80.0</td>\n",
              "      <td>3.000000</td>\n",
              "      <td>40.000000</td>\n",
              "      <td>6.000000</td>\n",
              "      <td>4.000000</td>\n",
              "      <td>40.000000</td>\n",
              "      <td>18.000000</td>\n",
              "      <td>15.000000</td>\n",
              "      <td>17.000000</td>\n",
              "    </tr>\n",
              "  </tbody>\n",
              "</table>\n",
              "<p>8 rows × 26 columns</p>\n",
              "</div>\n",
              "    <div class=\"colab-df-buttons\">\n",
              "\n",
              "  <div class=\"colab-df-container\">\n",
              "    <button class=\"colab-df-convert\" onclick=\"convertToInteractive('df-5437e9db-852f-4c04-b441-cb5a34f320b1')\"\n",
              "            title=\"Convert this dataframe to an interactive table.\"\n",
              "            style=\"display:none;\">\n",
              "\n",
              "  <svg xmlns=\"http://www.w3.org/2000/svg\" height=\"24px\" viewBox=\"0 -960 960 960\">\n",
              "    <path d=\"M120-120v-720h720v720H120Zm60-500h600v-160H180v160Zm220 220h160v-160H400v160Zm0 220h160v-160H400v160ZM180-400h160v-160H180v160Zm440 0h160v-160H620v160ZM180-180h160v-160H180v160Zm440 0h160v-160H620v160Z\"/>\n",
              "  </svg>\n",
              "    </button>\n",
              "\n",
              "  <style>\n",
              "    .colab-df-container {\n",
              "      display:flex;\n",
              "      gap: 12px;\n",
              "    }\n",
              "\n",
              "    .colab-df-convert {\n",
              "      background-color: #E8F0FE;\n",
              "      border: none;\n",
              "      border-radius: 50%;\n",
              "      cursor: pointer;\n",
              "      display: none;\n",
              "      fill: #1967D2;\n",
              "      height: 32px;\n",
              "      padding: 0 0 0 0;\n",
              "      width: 32px;\n",
              "    }\n",
              "\n",
              "    .colab-df-convert:hover {\n",
              "      background-color: #E2EBFA;\n",
              "      box-shadow: 0px 1px 2px rgba(60, 64, 67, 0.3), 0px 1px 3px 1px rgba(60, 64, 67, 0.15);\n",
              "      fill: #174EA6;\n",
              "    }\n",
              "\n",
              "    .colab-df-buttons div {\n",
              "      margin-bottom: 4px;\n",
              "    }\n",
              "\n",
              "    [theme=dark] .colab-df-convert {\n",
              "      background-color: #3B4455;\n",
              "      fill: #D2E3FC;\n",
              "    }\n",
              "\n",
              "    [theme=dark] .colab-df-convert:hover {\n",
              "      background-color: #434B5C;\n",
              "      box-shadow: 0px 1px 3px 1px rgba(0, 0, 0, 0.15);\n",
              "      filter: drop-shadow(0px 1px 2px rgba(0, 0, 0, 0.3));\n",
              "      fill: #FFFFFF;\n",
              "    }\n",
              "  </style>\n",
              "\n",
              "    <script>\n",
              "      const buttonEl =\n",
              "        document.querySelector('#df-5437e9db-852f-4c04-b441-cb5a34f320b1 button.colab-df-convert');\n",
              "      buttonEl.style.display =\n",
              "        google.colab.kernel.accessAllowed ? 'block' : 'none';\n",
              "\n",
              "      async function convertToInteractive(key) {\n",
              "        const element = document.querySelector('#df-5437e9db-852f-4c04-b441-cb5a34f320b1');\n",
              "        const dataTable =\n",
              "          await google.colab.kernel.invokeFunction('convertToInteractive',\n",
              "                                                    [key], {});\n",
              "        if (!dataTable) return;\n",
              "\n",
              "        const docLinkHtml = 'Like what you see? Visit the ' +\n",
              "          '<a target=\"_blank\" href=https://colab.research.google.com/notebooks/data_table.ipynb>data table notebook</a>'\n",
              "          + ' to learn more about interactive tables.';\n",
              "        element.innerHTML = '';\n",
              "        dataTable['output_type'] = 'display_data';\n",
              "        await google.colab.output.renderOutput(dataTable, element);\n",
              "        const docLink = document.createElement('div');\n",
              "        docLink.innerHTML = docLinkHtml;\n",
              "        element.appendChild(docLink);\n",
              "      }\n",
              "    </script>\n",
              "  </div>\n",
              "\n",
              "\n",
              "<div id=\"df-d6c2626f-6023-43d1-a2a2-6a3b78452022\">\n",
              "  <button class=\"colab-df-quickchart\" onclick=\"quickchart('df-d6c2626f-6023-43d1-a2a2-6a3b78452022')\"\n",
              "            title=\"Suggest charts\"\n",
              "            style=\"display:none;\">\n",
              "\n",
              "<svg xmlns=\"http://www.w3.org/2000/svg\" height=\"24px\"viewBox=\"0 0 24 24\"\n",
              "     width=\"24px\">\n",
              "    <g>\n",
              "        <path d=\"M19 3H5c-1.1 0-2 .9-2 2v14c0 1.1.9 2 2 2h14c1.1 0 2-.9 2-2V5c0-1.1-.9-2-2-2zM9 17H7v-7h2v7zm4 0h-2V7h2v10zm4 0h-2v-4h2v4z\"/>\n",
              "    </g>\n",
              "</svg>\n",
              "  </button>\n",
              "\n",
              "<style>\n",
              "  .colab-df-quickchart {\n",
              "      --bg-color: #E8F0FE;\n",
              "      --fill-color: #1967D2;\n",
              "      --hover-bg-color: #E2EBFA;\n",
              "      --hover-fill-color: #174EA6;\n",
              "      --disabled-fill-color: #AAA;\n",
              "      --disabled-bg-color: #DDD;\n",
              "  }\n",
              "\n",
              "  [theme=dark] .colab-df-quickchart {\n",
              "      --bg-color: #3B4455;\n",
              "      --fill-color: #D2E3FC;\n",
              "      --hover-bg-color: #434B5C;\n",
              "      --hover-fill-color: #FFFFFF;\n",
              "      --disabled-bg-color: #3B4455;\n",
              "      --disabled-fill-color: #666;\n",
              "  }\n",
              "\n",
              "  .colab-df-quickchart {\n",
              "    background-color: var(--bg-color);\n",
              "    border: none;\n",
              "    border-radius: 50%;\n",
              "    cursor: pointer;\n",
              "    display: none;\n",
              "    fill: var(--fill-color);\n",
              "    height: 32px;\n",
              "    padding: 0;\n",
              "    width: 32px;\n",
              "  }\n",
              "\n",
              "  .colab-df-quickchart:hover {\n",
              "    background-color: var(--hover-bg-color);\n",
              "    box-shadow: 0 1px 2px rgba(60, 64, 67, 0.3), 0 1px 3px 1px rgba(60, 64, 67, 0.15);\n",
              "    fill: var(--button-hover-fill-color);\n",
              "  }\n",
              "\n",
              "  .colab-df-quickchart-complete:disabled,\n",
              "  .colab-df-quickchart-complete:disabled:hover {\n",
              "    background-color: var(--disabled-bg-color);\n",
              "    fill: var(--disabled-fill-color);\n",
              "    box-shadow: none;\n",
              "  }\n",
              "\n",
              "  .colab-df-spinner {\n",
              "    border: 2px solid var(--fill-color);\n",
              "    border-color: transparent;\n",
              "    border-bottom-color: var(--fill-color);\n",
              "    animation:\n",
              "      spin 1s steps(1) infinite;\n",
              "  }\n",
              "\n",
              "  @keyframes spin {\n",
              "    0% {\n",
              "      border-color: transparent;\n",
              "      border-bottom-color: var(--fill-color);\n",
              "      border-left-color: var(--fill-color);\n",
              "    }\n",
              "    20% {\n",
              "      border-color: transparent;\n",
              "      border-left-color: var(--fill-color);\n",
              "      border-top-color: var(--fill-color);\n",
              "    }\n",
              "    30% {\n",
              "      border-color: transparent;\n",
              "      border-left-color: var(--fill-color);\n",
              "      border-top-color: var(--fill-color);\n",
              "      border-right-color: var(--fill-color);\n",
              "    }\n",
              "    40% {\n",
              "      border-color: transparent;\n",
              "      border-right-color: var(--fill-color);\n",
              "      border-top-color: var(--fill-color);\n",
              "    }\n",
              "    60% {\n",
              "      border-color: transparent;\n",
              "      border-right-color: var(--fill-color);\n",
              "    }\n",
              "    80% {\n",
              "      border-color: transparent;\n",
              "      border-right-color: var(--fill-color);\n",
              "      border-bottom-color: var(--fill-color);\n",
              "    }\n",
              "    90% {\n",
              "      border-color: transparent;\n",
              "      border-bottom-color: var(--fill-color);\n",
              "    }\n",
              "  }\n",
              "</style>\n",
              "\n",
              "  <script>\n",
              "    async function quickchart(key) {\n",
              "      const quickchartButtonEl =\n",
              "        document.querySelector('#' + key + ' button');\n",
              "      quickchartButtonEl.disabled = true;  // To prevent multiple clicks.\n",
              "      quickchartButtonEl.classList.add('colab-df-spinner');\n",
              "      try {\n",
              "        const charts = await google.colab.kernel.invokeFunction(\n",
              "            'suggestCharts', [key], {});\n",
              "      } catch (error) {\n",
              "        console.error('Error during call to suggestCharts:', error);\n",
              "      }\n",
              "      quickchartButtonEl.classList.remove('colab-df-spinner');\n",
              "      quickchartButtonEl.classList.add('colab-df-quickchart-complete');\n",
              "    }\n",
              "    (() => {\n",
              "      let quickchartButtonEl =\n",
              "        document.querySelector('#df-d6c2626f-6023-43d1-a2a2-6a3b78452022 button');\n",
              "      quickchartButtonEl.style.display =\n",
              "        google.colab.kernel.accessAllowed ? 'block' : 'none';\n",
              "    })();\n",
              "  </script>\n",
              "</div>\n",
              "\n",
              "    </div>\n",
              "  </div>\n"
            ],
            "application/vnd.google.colaboratory.intrinsic+json": {
              "type": "dataframe"
            }
          },
          "metadata": {},
          "execution_count": 78
        }
      ]
    },
    {
      "cell_type": "code",
      "execution_count": 79,
      "id": "8c094a30",
      "metadata": {
        "execution": {
          "iopub.execute_input": "2024-05-03T15:42:02.992508Z",
          "iopub.status.busy": "2024-05-03T15:42:02.991826Z",
          "iopub.status.idle": "2024-05-03T15:42:02.999671Z",
          "shell.execute_reply": "2024-05-03T15:42:02.998694Z"
        },
        "papermill": {
          "duration": 0.036885,
          "end_time": "2024-05-03T15:42:03.001866",
          "exception": false,
          "start_time": "2024-05-03T15:42:02.964981",
          "status": "completed"
        },
        "tags": [],
        "id": "8c094a30"
      },
      "outputs": [],
      "source": [
        "def explore(df):\n",
        "  \"\"\"\n",
        "    Fungsi ini digunakan untuk melakukan eksplorasi awal pada dataset yang diberikan dan memberikan informasi penting tentang setiap kolom dalam DataFrame, seperti:\n",
        "      - Tipe data setiap kolom.\n",
        "      - Persentase nilai yang hilang di setiap kolom.\n",
        "      - Jumlah nilai unik yang ada di setiap kolom.\n",
        "      - Daftar nilai unik dari setiap kolom.\n",
        "  \"\"\"\n",
        "  with pd.option_context(\"display.max_colwidth\", 20):\n",
        "    info = pd.DataFrame()\n",
        "    info['data type'] = df.dtypes\n",
        "    info['percentage missing'] = df.isnull().sum()*100/len(df)\n",
        "    info['number of unique'] = df.apply(lambda x: len(x.unique()))\n",
        "    info['unique values'] = df.apply(lambda x: x.unique())\n",
        "  return info.sort_values('data type')"
      ]
    },
    {
      "cell_type": "code",
      "execution_count": 80,
      "id": "82c23258",
      "metadata": {
        "execution": {
          "iopub.execute_input": "2024-05-03T15:42:03.053190Z",
          "iopub.status.busy": "2024-05-03T15:42:03.052331Z",
          "iopub.status.idle": "2024-05-03T15:42:03.142866Z",
          "shell.execute_reply": "2024-05-03T15:42:03.141086Z"
        },
        "papermill": {
          "duration": 0.120014,
          "end_time": "2024-05-03T15:42:03.146482",
          "exception": false,
          "start_time": "2024-05-03T15:42:03.026468",
          "status": "completed"
        },
        "tags": [],
        "colab": {
          "base_uri": "https://localhost:8080/",
          "height": 0
        },
        "id": "82c23258",
        "outputId": "55618029-2efb-4751-d4b8-e06bd3a0b56f"
      },
      "outputs": [
        {
          "output_type": "execute_result",
          "data": {
            "text/plain": [
              "                         data type  percentage missing  number of unique  \\\n",
              "Age                          int64                 0.0                43   \n",
              "YearsInCurrentRole           int64                 0.0                19   \n",
              "YearsAtCompany               int64                 0.0                37   \n",
              "WorkLifeBalance              int64                 0.0                 4   \n",
              "TrainingTimesLastYear        int64                 0.0                 7   \n",
              "TotalWorkingYears            int64                 0.0                40   \n",
              "StockOptionLevel             int64                 0.0                 4   \n",
              "StandardHours                int64                 0.0                 1   \n",
              "RelationshipSatisfaction     int64                 0.0                 4   \n",
              "PerformanceRating            int64                 0.0                 2   \n",
              "PercentSalaryHike            int64                 0.0                15   \n",
              "NumCompaniesWorked           int64                 0.0                10   \n",
              "MonthlyRate                  int64                 0.0              1427   \n",
              "MonthlyIncome                int64                 0.0              1349   \n",
              "YearsSinceLastPromotion      int64                 0.0                16   \n",
              "JobSatisfaction              int64                 0.0                 4   \n",
              "YearsWithCurrManager         int64                 0.0                18   \n",
              "JobLevel                     int64                 0.0                 5   \n",
              "DailyRate                    int64                 0.0               886   \n",
              "DistanceFromHome             int64                 0.0                29   \n",
              "Education                    int64                 0.0                 5   \n",
              "EmployeeNumber               int64                 0.0              1470   \n",
              "EnvironmentSatisfaction      int64                 0.0                 4   \n",
              "EmployeeCount                int64                 0.0                 1   \n",
              "HourlyRate                   int64                 0.0                71   \n",
              "JobInvolvement               int64                 0.0                 4   \n",
              "Over18                      object                 0.0                 1   \n",
              "JobRole                     object                 0.0                 9   \n",
              "EducationField              object                 0.0                 6   \n",
              "Gender                      object                 0.0                 2   \n",
              "Department                  object                 0.0                 3   \n",
              "BusinessTravel              object                 0.0                 3   \n",
              "Attrition                   object                 0.0                 2   \n",
              "OverTime                    object                 0.0                 2   \n",
              "MaritalStatus               object                 0.0                 3   \n",
              "\n",
              "                                                              unique values  \n",
              "Age                       [41, 49, 37, 33, 27, 32, 59, 30, 38, 36, 35, 2...  \n",
              "YearsInCurrentRole        [4, 7, 0, 2, 5, 9, 8, 3, 6, 13, 1, 15, 14, 16,...  \n",
              "YearsAtCompany            [6, 10, 0, 8, 2, 7, 1, 9, 5, 4, 25, 3, 12, 14,...  \n",
              "WorkLifeBalance                                                [1, 3, 2, 4]  \n",
              "TrainingTimesLastYear                                 [0, 3, 2, 5, 1, 4, 6]  \n",
              "TotalWorkingYears         [8, 10, 7, 6, 12, 1, 17, 5, 3, 31, 13, 0, 26, ...  \n",
              "StockOptionLevel                                               [0, 1, 3, 2]  \n",
              "StandardHours                                                          [80]  \n",
              "RelationshipSatisfaction                                       [1, 4, 2, 3]  \n",
              "PerformanceRating                                                    [3, 4]  \n",
              "PercentSalaryHike         [11, 23, 15, 12, 13, 20, 22, 21, 17, 14, 16, 1...  \n",
              "NumCompaniesWorked                           [8, 1, 6, 9, 0, 4, 5, 2, 7, 3]  \n",
              "MonthlyRate               [19479, 24907, 2396, 23159, 16632, 11864, 9964...  \n",
              "MonthlyIncome             [5993, 5130, 2090, 2909, 3468, 3068, 2670, 269...  \n",
              "YearsSinceLastPromotion   [0, 1, 3, 2, 7, 4, 8, 6, 5, 15, 9, 13, 12, 10,...  \n",
              "JobSatisfaction                                                [4, 2, 3, 1]  \n",
              "YearsWithCurrManager      [5, 7, 0, 2, 6, 8, 3, 11, 17, 1, 4, 12, 9, 10,...  \n",
              "JobLevel                                                    [2, 1, 3, 4, 5]  \n",
              "DailyRate                 [1102, 279, 1373, 1392, 591, 1005, 1324, 1358,...  \n",
              "DistanceFromHome          [1, 8, 2, 3, 24, 23, 27, 16, 15, 26, 19, 21, 5...  \n",
              "Education                                                   [2, 1, 4, 3, 5]  \n",
              "EmployeeNumber            [1, 2, 4, 5, 7, 8, 10, 11, 12, 13, 14, 15, 16,...  \n",
              "EnvironmentSatisfaction                                        [2, 3, 4, 1]  \n",
              "EmployeeCount                                                           [1]  \n",
              "HourlyRate                [94, 61, 92, 56, 40, 79, 81, 67, 44, 84, 49, 3...  \n",
              "JobInvolvement                                                 [3, 2, 4, 1]  \n",
              "Over18                                                                  [Y]  \n",
              "JobRole                   [Sales Executive, Research Scientist, Laborato...  \n",
              "EducationField            [Life Sciences, Other, Medical, Marketing, Tec...  \n",
              "Gender                                                       [Female, Male]  \n",
              "Department                 [Sales, Research & Development, Human Resources]  \n",
              "BusinessTravel               [Travel_Rarely, Travel_Frequently, Non-Travel]  \n",
              "Attrition                                                         [Yes, No]  \n",
              "OverTime                                                          [Yes, No]  \n",
              "MaritalStatus                                   [Single, Married, Divorced]  "
            ],
            "text/html": [
              "\n",
              "  <div id=\"df-6dc79476-2d5c-4cf4-827c-aaf219fde139\" class=\"colab-df-container\">\n",
              "    <div>\n",
              "<style scoped>\n",
              "    .dataframe tbody tr th:only-of-type {\n",
              "        vertical-align: middle;\n",
              "    }\n",
              "\n",
              "    .dataframe tbody tr th {\n",
              "        vertical-align: top;\n",
              "    }\n",
              "\n",
              "    .dataframe thead th {\n",
              "        text-align: right;\n",
              "    }\n",
              "</style>\n",
              "<table border=\"1\" class=\"dataframe\">\n",
              "  <thead>\n",
              "    <tr style=\"text-align: right;\">\n",
              "      <th></th>\n",
              "      <th>data type</th>\n",
              "      <th>percentage missing</th>\n",
              "      <th>number of unique</th>\n",
              "      <th>unique values</th>\n",
              "    </tr>\n",
              "  </thead>\n",
              "  <tbody>\n",
              "    <tr>\n",
              "      <th>Age</th>\n",
              "      <td>int64</td>\n",
              "      <td>0.0</td>\n",
              "      <td>43</td>\n",
              "      <td>[41, 49, 37, 33, 27, 32, 59, 30, 38, 36, 35, 2...</td>\n",
              "    </tr>\n",
              "    <tr>\n",
              "      <th>YearsInCurrentRole</th>\n",
              "      <td>int64</td>\n",
              "      <td>0.0</td>\n",
              "      <td>19</td>\n",
              "      <td>[4, 7, 0, 2, 5, 9, 8, 3, 6, 13, 1, 15, 14, 16,...</td>\n",
              "    </tr>\n",
              "    <tr>\n",
              "      <th>YearsAtCompany</th>\n",
              "      <td>int64</td>\n",
              "      <td>0.0</td>\n",
              "      <td>37</td>\n",
              "      <td>[6, 10, 0, 8, 2, 7, 1, 9, 5, 4, 25, 3, 12, 14,...</td>\n",
              "    </tr>\n",
              "    <tr>\n",
              "      <th>WorkLifeBalance</th>\n",
              "      <td>int64</td>\n",
              "      <td>0.0</td>\n",
              "      <td>4</td>\n",
              "      <td>[1, 3, 2, 4]</td>\n",
              "    </tr>\n",
              "    <tr>\n",
              "      <th>TrainingTimesLastYear</th>\n",
              "      <td>int64</td>\n",
              "      <td>0.0</td>\n",
              "      <td>7</td>\n",
              "      <td>[0, 3, 2, 5, 1, 4, 6]</td>\n",
              "    </tr>\n",
              "    <tr>\n",
              "      <th>TotalWorkingYears</th>\n",
              "      <td>int64</td>\n",
              "      <td>0.0</td>\n",
              "      <td>40</td>\n",
              "      <td>[8, 10, 7, 6, 12, 1, 17, 5, 3, 31, 13, 0, 26, ...</td>\n",
              "    </tr>\n",
              "    <tr>\n",
              "      <th>StockOptionLevel</th>\n",
              "      <td>int64</td>\n",
              "      <td>0.0</td>\n",
              "      <td>4</td>\n",
              "      <td>[0, 1, 3, 2]</td>\n",
              "    </tr>\n",
              "    <tr>\n",
              "      <th>StandardHours</th>\n",
              "      <td>int64</td>\n",
              "      <td>0.0</td>\n",
              "      <td>1</td>\n",
              "      <td>[80]</td>\n",
              "    </tr>\n",
              "    <tr>\n",
              "      <th>RelationshipSatisfaction</th>\n",
              "      <td>int64</td>\n",
              "      <td>0.0</td>\n",
              "      <td>4</td>\n",
              "      <td>[1, 4, 2, 3]</td>\n",
              "    </tr>\n",
              "    <tr>\n",
              "      <th>PerformanceRating</th>\n",
              "      <td>int64</td>\n",
              "      <td>0.0</td>\n",
              "      <td>2</td>\n",
              "      <td>[3, 4]</td>\n",
              "    </tr>\n",
              "    <tr>\n",
              "      <th>PercentSalaryHike</th>\n",
              "      <td>int64</td>\n",
              "      <td>0.0</td>\n",
              "      <td>15</td>\n",
              "      <td>[11, 23, 15, 12, 13, 20, 22, 21, 17, 14, 16, 1...</td>\n",
              "    </tr>\n",
              "    <tr>\n",
              "      <th>NumCompaniesWorked</th>\n",
              "      <td>int64</td>\n",
              "      <td>0.0</td>\n",
              "      <td>10</td>\n",
              "      <td>[8, 1, 6, 9, 0, 4, 5, 2, 7, 3]</td>\n",
              "    </tr>\n",
              "    <tr>\n",
              "      <th>MonthlyRate</th>\n",
              "      <td>int64</td>\n",
              "      <td>0.0</td>\n",
              "      <td>1427</td>\n",
              "      <td>[19479, 24907, 2396, 23159, 16632, 11864, 9964...</td>\n",
              "    </tr>\n",
              "    <tr>\n",
              "      <th>MonthlyIncome</th>\n",
              "      <td>int64</td>\n",
              "      <td>0.0</td>\n",
              "      <td>1349</td>\n",
              "      <td>[5993, 5130, 2090, 2909, 3468, 3068, 2670, 269...</td>\n",
              "    </tr>\n",
              "    <tr>\n",
              "      <th>YearsSinceLastPromotion</th>\n",
              "      <td>int64</td>\n",
              "      <td>0.0</td>\n",
              "      <td>16</td>\n",
              "      <td>[0, 1, 3, 2, 7, 4, 8, 6, 5, 15, 9, 13, 12, 10,...</td>\n",
              "    </tr>\n",
              "    <tr>\n",
              "      <th>JobSatisfaction</th>\n",
              "      <td>int64</td>\n",
              "      <td>0.0</td>\n",
              "      <td>4</td>\n",
              "      <td>[4, 2, 3, 1]</td>\n",
              "    </tr>\n",
              "    <tr>\n",
              "      <th>YearsWithCurrManager</th>\n",
              "      <td>int64</td>\n",
              "      <td>0.0</td>\n",
              "      <td>18</td>\n",
              "      <td>[5, 7, 0, 2, 6, 8, 3, 11, 17, 1, 4, 12, 9, 10,...</td>\n",
              "    </tr>\n",
              "    <tr>\n",
              "      <th>JobLevel</th>\n",
              "      <td>int64</td>\n",
              "      <td>0.0</td>\n",
              "      <td>5</td>\n",
              "      <td>[2, 1, 3, 4, 5]</td>\n",
              "    </tr>\n",
              "    <tr>\n",
              "      <th>DailyRate</th>\n",
              "      <td>int64</td>\n",
              "      <td>0.0</td>\n",
              "      <td>886</td>\n",
              "      <td>[1102, 279, 1373, 1392, 591, 1005, 1324, 1358,...</td>\n",
              "    </tr>\n",
              "    <tr>\n",
              "      <th>DistanceFromHome</th>\n",
              "      <td>int64</td>\n",
              "      <td>0.0</td>\n",
              "      <td>29</td>\n",
              "      <td>[1, 8, 2, 3, 24, 23, 27, 16, 15, 26, 19, 21, 5...</td>\n",
              "    </tr>\n",
              "    <tr>\n",
              "      <th>Education</th>\n",
              "      <td>int64</td>\n",
              "      <td>0.0</td>\n",
              "      <td>5</td>\n",
              "      <td>[2, 1, 4, 3, 5]</td>\n",
              "    </tr>\n",
              "    <tr>\n",
              "      <th>EmployeeNumber</th>\n",
              "      <td>int64</td>\n",
              "      <td>0.0</td>\n",
              "      <td>1470</td>\n",
              "      <td>[1, 2, 4, 5, 7, 8, 10, 11, 12, 13, 14, 15, 16,...</td>\n",
              "    </tr>\n",
              "    <tr>\n",
              "      <th>EnvironmentSatisfaction</th>\n",
              "      <td>int64</td>\n",
              "      <td>0.0</td>\n",
              "      <td>4</td>\n",
              "      <td>[2, 3, 4, 1]</td>\n",
              "    </tr>\n",
              "    <tr>\n",
              "      <th>EmployeeCount</th>\n",
              "      <td>int64</td>\n",
              "      <td>0.0</td>\n",
              "      <td>1</td>\n",
              "      <td>[1]</td>\n",
              "    </tr>\n",
              "    <tr>\n",
              "      <th>HourlyRate</th>\n",
              "      <td>int64</td>\n",
              "      <td>0.0</td>\n",
              "      <td>71</td>\n",
              "      <td>[94, 61, 92, 56, 40, 79, 81, 67, 44, 84, 49, 3...</td>\n",
              "    </tr>\n",
              "    <tr>\n",
              "      <th>JobInvolvement</th>\n",
              "      <td>int64</td>\n",
              "      <td>0.0</td>\n",
              "      <td>4</td>\n",
              "      <td>[3, 2, 4, 1]</td>\n",
              "    </tr>\n",
              "    <tr>\n",
              "      <th>Over18</th>\n",
              "      <td>object</td>\n",
              "      <td>0.0</td>\n",
              "      <td>1</td>\n",
              "      <td>[Y]</td>\n",
              "    </tr>\n",
              "    <tr>\n",
              "      <th>JobRole</th>\n",
              "      <td>object</td>\n",
              "      <td>0.0</td>\n",
              "      <td>9</td>\n",
              "      <td>[Sales Executive, Research Scientist, Laborato...</td>\n",
              "    </tr>\n",
              "    <tr>\n",
              "      <th>EducationField</th>\n",
              "      <td>object</td>\n",
              "      <td>0.0</td>\n",
              "      <td>6</td>\n",
              "      <td>[Life Sciences, Other, Medical, Marketing, Tec...</td>\n",
              "    </tr>\n",
              "    <tr>\n",
              "      <th>Gender</th>\n",
              "      <td>object</td>\n",
              "      <td>0.0</td>\n",
              "      <td>2</td>\n",
              "      <td>[Female, Male]</td>\n",
              "    </tr>\n",
              "    <tr>\n",
              "      <th>Department</th>\n",
              "      <td>object</td>\n",
              "      <td>0.0</td>\n",
              "      <td>3</td>\n",
              "      <td>[Sales, Research &amp; Development, Human Resources]</td>\n",
              "    </tr>\n",
              "    <tr>\n",
              "      <th>BusinessTravel</th>\n",
              "      <td>object</td>\n",
              "      <td>0.0</td>\n",
              "      <td>3</td>\n",
              "      <td>[Travel_Rarely, Travel_Frequently, Non-Travel]</td>\n",
              "    </tr>\n",
              "    <tr>\n",
              "      <th>Attrition</th>\n",
              "      <td>object</td>\n",
              "      <td>0.0</td>\n",
              "      <td>2</td>\n",
              "      <td>[Yes, No]</td>\n",
              "    </tr>\n",
              "    <tr>\n",
              "      <th>OverTime</th>\n",
              "      <td>object</td>\n",
              "      <td>0.0</td>\n",
              "      <td>2</td>\n",
              "      <td>[Yes, No]</td>\n",
              "    </tr>\n",
              "    <tr>\n",
              "      <th>MaritalStatus</th>\n",
              "      <td>object</td>\n",
              "      <td>0.0</td>\n",
              "      <td>3</td>\n",
              "      <td>[Single, Married, Divorced]</td>\n",
              "    </tr>\n",
              "  </tbody>\n",
              "</table>\n",
              "</div>\n",
              "    <div class=\"colab-df-buttons\">\n",
              "\n",
              "  <div class=\"colab-df-container\">\n",
              "    <button class=\"colab-df-convert\" onclick=\"convertToInteractive('df-6dc79476-2d5c-4cf4-827c-aaf219fde139')\"\n",
              "            title=\"Convert this dataframe to an interactive table.\"\n",
              "            style=\"display:none;\">\n",
              "\n",
              "  <svg xmlns=\"http://www.w3.org/2000/svg\" height=\"24px\" viewBox=\"0 -960 960 960\">\n",
              "    <path d=\"M120-120v-720h720v720H120Zm60-500h600v-160H180v160Zm220 220h160v-160H400v160Zm0 220h160v-160H400v160ZM180-400h160v-160H180v160Zm440 0h160v-160H620v160ZM180-180h160v-160H180v160Zm440 0h160v-160H620v160Z\"/>\n",
              "  </svg>\n",
              "    </button>\n",
              "\n",
              "  <style>\n",
              "    .colab-df-container {\n",
              "      display:flex;\n",
              "      gap: 12px;\n",
              "    }\n",
              "\n",
              "    .colab-df-convert {\n",
              "      background-color: #E8F0FE;\n",
              "      border: none;\n",
              "      border-radius: 50%;\n",
              "      cursor: pointer;\n",
              "      display: none;\n",
              "      fill: #1967D2;\n",
              "      height: 32px;\n",
              "      padding: 0 0 0 0;\n",
              "      width: 32px;\n",
              "    }\n",
              "\n",
              "    .colab-df-convert:hover {\n",
              "      background-color: #E2EBFA;\n",
              "      box-shadow: 0px 1px 2px rgba(60, 64, 67, 0.3), 0px 1px 3px 1px rgba(60, 64, 67, 0.15);\n",
              "      fill: #174EA6;\n",
              "    }\n",
              "\n",
              "    .colab-df-buttons div {\n",
              "      margin-bottom: 4px;\n",
              "    }\n",
              "\n",
              "    [theme=dark] .colab-df-convert {\n",
              "      background-color: #3B4455;\n",
              "      fill: #D2E3FC;\n",
              "    }\n",
              "\n",
              "    [theme=dark] .colab-df-convert:hover {\n",
              "      background-color: #434B5C;\n",
              "      box-shadow: 0px 1px 3px 1px rgba(0, 0, 0, 0.15);\n",
              "      filter: drop-shadow(0px 1px 2px rgba(0, 0, 0, 0.3));\n",
              "      fill: #FFFFFF;\n",
              "    }\n",
              "  </style>\n",
              "\n",
              "    <script>\n",
              "      const buttonEl =\n",
              "        document.querySelector('#df-6dc79476-2d5c-4cf4-827c-aaf219fde139 button.colab-df-convert');\n",
              "      buttonEl.style.display =\n",
              "        google.colab.kernel.accessAllowed ? 'block' : 'none';\n",
              "\n",
              "      async function convertToInteractive(key) {\n",
              "        const element = document.querySelector('#df-6dc79476-2d5c-4cf4-827c-aaf219fde139');\n",
              "        const dataTable =\n",
              "          await google.colab.kernel.invokeFunction('convertToInteractive',\n",
              "                                                    [key], {});\n",
              "        if (!dataTable) return;\n",
              "\n",
              "        const docLinkHtml = 'Like what you see? Visit the ' +\n",
              "          '<a target=\"_blank\" href=https://colab.research.google.com/notebooks/data_table.ipynb>data table notebook</a>'\n",
              "          + ' to learn more about interactive tables.';\n",
              "        element.innerHTML = '';\n",
              "        dataTable['output_type'] = 'display_data';\n",
              "        await google.colab.output.renderOutput(dataTable, element);\n",
              "        const docLink = document.createElement('div');\n",
              "        docLink.innerHTML = docLinkHtml;\n",
              "        element.appendChild(docLink);\n",
              "      }\n",
              "    </script>\n",
              "  </div>\n",
              "\n",
              "\n",
              "<div id=\"df-81b611c4-42a1-4e16-a094-2f3e8ea8f07d\">\n",
              "  <button class=\"colab-df-quickchart\" onclick=\"quickchart('df-81b611c4-42a1-4e16-a094-2f3e8ea8f07d')\"\n",
              "            title=\"Suggest charts\"\n",
              "            style=\"display:none;\">\n",
              "\n",
              "<svg xmlns=\"http://www.w3.org/2000/svg\" height=\"24px\"viewBox=\"0 0 24 24\"\n",
              "     width=\"24px\">\n",
              "    <g>\n",
              "        <path d=\"M19 3H5c-1.1 0-2 .9-2 2v14c0 1.1.9 2 2 2h14c1.1 0 2-.9 2-2V5c0-1.1-.9-2-2-2zM9 17H7v-7h2v7zm4 0h-2V7h2v10zm4 0h-2v-4h2v4z\"/>\n",
              "    </g>\n",
              "</svg>\n",
              "  </button>\n",
              "\n",
              "<style>\n",
              "  .colab-df-quickchart {\n",
              "      --bg-color: #E8F0FE;\n",
              "      --fill-color: #1967D2;\n",
              "      --hover-bg-color: #E2EBFA;\n",
              "      --hover-fill-color: #174EA6;\n",
              "      --disabled-fill-color: #AAA;\n",
              "      --disabled-bg-color: #DDD;\n",
              "  }\n",
              "\n",
              "  [theme=dark] .colab-df-quickchart {\n",
              "      --bg-color: #3B4455;\n",
              "      --fill-color: #D2E3FC;\n",
              "      --hover-bg-color: #434B5C;\n",
              "      --hover-fill-color: #FFFFFF;\n",
              "      --disabled-bg-color: #3B4455;\n",
              "      --disabled-fill-color: #666;\n",
              "  }\n",
              "\n",
              "  .colab-df-quickchart {\n",
              "    background-color: var(--bg-color);\n",
              "    border: none;\n",
              "    border-radius: 50%;\n",
              "    cursor: pointer;\n",
              "    display: none;\n",
              "    fill: var(--fill-color);\n",
              "    height: 32px;\n",
              "    padding: 0;\n",
              "    width: 32px;\n",
              "  }\n",
              "\n",
              "  .colab-df-quickchart:hover {\n",
              "    background-color: var(--hover-bg-color);\n",
              "    box-shadow: 0 1px 2px rgba(60, 64, 67, 0.3), 0 1px 3px 1px rgba(60, 64, 67, 0.15);\n",
              "    fill: var(--button-hover-fill-color);\n",
              "  }\n",
              "\n",
              "  .colab-df-quickchart-complete:disabled,\n",
              "  .colab-df-quickchart-complete:disabled:hover {\n",
              "    background-color: var(--disabled-bg-color);\n",
              "    fill: var(--disabled-fill-color);\n",
              "    box-shadow: none;\n",
              "  }\n",
              "\n",
              "  .colab-df-spinner {\n",
              "    border: 2px solid var(--fill-color);\n",
              "    border-color: transparent;\n",
              "    border-bottom-color: var(--fill-color);\n",
              "    animation:\n",
              "      spin 1s steps(1) infinite;\n",
              "  }\n",
              "\n",
              "  @keyframes spin {\n",
              "    0% {\n",
              "      border-color: transparent;\n",
              "      border-bottom-color: var(--fill-color);\n",
              "      border-left-color: var(--fill-color);\n",
              "    }\n",
              "    20% {\n",
              "      border-color: transparent;\n",
              "      border-left-color: var(--fill-color);\n",
              "      border-top-color: var(--fill-color);\n",
              "    }\n",
              "    30% {\n",
              "      border-color: transparent;\n",
              "      border-left-color: var(--fill-color);\n",
              "      border-top-color: var(--fill-color);\n",
              "      border-right-color: var(--fill-color);\n",
              "    }\n",
              "    40% {\n",
              "      border-color: transparent;\n",
              "      border-right-color: var(--fill-color);\n",
              "      border-top-color: var(--fill-color);\n",
              "    }\n",
              "    60% {\n",
              "      border-color: transparent;\n",
              "      border-right-color: var(--fill-color);\n",
              "    }\n",
              "    80% {\n",
              "      border-color: transparent;\n",
              "      border-right-color: var(--fill-color);\n",
              "      border-bottom-color: var(--fill-color);\n",
              "    }\n",
              "    90% {\n",
              "      border-color: transparent;\n",
              "      border-bottom-color: var(--fill-color);\n",
              "    }\n",
              "  }\n",
              "</style>\n",
              "\n",
              "  <script>\n",
              "    async function quickchart(key) {\n",
              "      const quickchartButtonEl =\n",
              "        document.querySelector('#' + key + ' button');\n",
              "      quickchartButtonEl.disabled = true;  // To prevent multiple clicks.\n",
              "      quickchartButtonEl.classList.add('colab-df-spinner');\n",
              "      try {\n",
              "        const charts = await google.colab.kernel.invokeFunction(\n",
              "            'suggestCharts', [key], {});\n",
              "      } catch (error) {\n",
              "        console.error('Error during call to suggestCharts:', error);\n",
              "      }\n",
              "      quickchartButtonEl.classList.remove('colab-df-spinner');\n",
              "      quickchartButtonEl.classList.add('colab-df-quickchart-complete');\n",
              "    }\n",
              "    (() => {\n",
              "      let quickchartButtonEl =\n",
              "        document.querySelector('#df-81b611c4-42a1-4e16-a094-2f3e8ea8f07d button');\n",
              "      quickchartButtonEl.style.display =\n",
              "        google.colab.kernel.accessAllowed ? 'block' : 'none';\n",
              "    })();\n",
              "  </script>\n",
              "</div>\n",
              "\n",
              "    </div>\n",
              "  </div>\n"
            ],
            "application/vnd.google.colaboratory.intrinsic+json": {
              "type": "dataframe",
              "summary": "{\n  \"name\": \"explore(df)\",\n  \"rows\": 35,\n  \"fields\": [\n    {\n      \"column\": \"data type\",\n      \"properties\": {\n        \"dtype\": \"category\",\n        \"num_unique_values\": 2,\n        \"samples\": [\n          \"object\",\n          \"int64\"\n        ],\n        \"semantic_type\": \"\",\n        \"description\": \"\"\n      }\n    },\n    {\n      \"column\": \"percentage missing\",\n      \"properties\": {\n        \"dtype\": \"number\",\n        \"std\": 0.0,\n        \"min\": 0.0,\n        \"max\": 0.0,\n        \"num_unique_values\": 1,\n        \"samples\": [\n          0.0\n        ],\n        \"semantic_type\": \"\",\n        \"description\": \"\"\n      }\n    },\n    {\n      \"column\": \"number of unique\",\n      \"properties\": {\n        \"dtype\": \"number\",\n        \"std\": 418,\n        \"min\": 1,\n        \"max\": 1470,\n        \"num_unique_values\": 22,\n        \"samples\": [\n          43\n        ],\n        \"semantic_type\": \"\",\n        \"description\": \"\"\n      }\n    },\n    {\n      \"column\": \"unique values\",\n      \"properties\": {\n        \"dtype\": \"object\",\n        \"semantic_type\": \"\",\n        \"description\": \"\"\n      }\n    }\n  ]\n}"
            }
          },
          "metadata": {},
          "execution_count": 80
        }
      ],
      "source": [
        "explore(df)"
      ]
    },
    {
      "cell_type": "markdown",
      "source": [
        "Dataset tidak memiliki missing value"
      ],
      "metadata": {
        "id": "CTmx-kmSWjGU"
      },
      "id": "CTmx-kmSWjGU"
    },
    {
      "cell_type": "markdown",
      "source": [
        "<center> <h2>Visualisasi Distribusi Persentase Attrition</h2> </center>"
      ],
      "metadata": {
        "id": "tvBtMwlLXn-2"
      },
      "id": "tvBtMwlLXn-2"
    },
    {
      "cell_type": "markdown",
      "source": [
        "Distribusi persentase untuk variabel target 'Attrition':\n",
        "- 'Yes' menunjukkan karyawan yang keluar.\n",
        "- 'No' menunjukkan karyawan yang tetap bertahan."
      ],
      "metadata": {
        "id": "qd8C8YmDX5wh"
      },
      "id": "qd8C8YmDX5wh"
    },
    {
      "cell_type": "code",
      "execution_count": 81,
      "id": "36058c08",
      "metadata": {
        "execution": {
          "iopub.execute_input": "2024-05-03T15:42:03.335581Z",
          "iopub.status.busy": "2024-05-03T15:42:03.335080Z",
          "iopub.status.idle": "2024-05-03T15:42:05.367912Z",
          "shell.execute_reply": "2024-05-03T15:42:05.366523Z"
        },
        "papermill": {
          "duration": 2.066936,
          "end_time": "2024-05-03T15:42:05.370991",
          "exception": false,
          "start_time": "2024-05-03T15:42:03.304055",
          "status": "completed"
        },
        "tags": [],
        "colab": {
          "base_uri": "https://localhost:8080/",
          "height": 0
        },
        "id": "36058c08",
        "outputId": "471b40cc-0669-4bc8-8b27-5f7d30b369c8"
      },
      "outputs": [
        {
          "output_type": "display_data",
          "data": {
            "text/html": [
              "<html>\n",
              "<head><meta charset=\"utf-8\" /></head>\n",
              "<body>\n",
              "    <div>            <script src=\"https://cdnjs.cloudflare.com/ajax/libs/mathjax/2.7.5/MathJax.js?config=TeX-AMS-MML_SVG\"></script><script type=\"text/javascript\">if (window.MathJax && window.MathJax.Hub && window.MathJax.Hub.Config) {window.MathJax.Hub.Config({SVG: {font: \"STIX-Web\"}});}</script>                <script type=\"text/javascript\">window.PlotlyConfig = {MathJaxConfig: 'local'};</script>\n",
              "        <script charset=\"utf-8\" src=\"https://cdn.plot.ly/plotly-2.35.2.min.js\"></script>                <div id=\"a0170b2b-6121-40fe-9bde-a1f83f576183\" class=\"plotly-graph-div\" style=\"height:400px; width:100%;\"></div>            <script type=\"text/javascript\">                                    window.PLOTLYENV=window.PLOTLYENV || {};                                    if (document.getElementById(\"a0170b2b-6121-40fe-9bde-a1f83f576183\")) {                    Plotly.newPlot(                        \"a0170b2b-6121-40fe-9bde-a1f83f576183\",                        [{\"domain\":{\"x\":[0.0,1.0],\"y\":[0.0,1.0]},\"hovertemplate\":\"Attrition Status=%{label}\\u003cbr\\u003ePercentage=%{value}\\u003cextra\\u003e\\u003c\\u002fextra\\u003e\",\"labels\":[\"No\",\"Yes\"],\"legendgroup\":\"\",\"name\":\"\",\"showlegend\":true,\"values\":[83.87755102040816,16.122448979591837],\"type\":\"pie\"}],                        {\"template\":{\"data\":{\"histogram2dcontour\":[{\"type\":\"histogram2dcontour\",\"colorbar\":{\"outlinewidth\":0,\"ticks\":\"\"},\"colorscale\":[[0.0,\"#0d0887\"],[0.1111111111111111,\"#46039f\"],[0.2222222222222222,\"#7201a8\"],[0.3333333333333333,\"#9c179e\"],[0.4444444444444444,\"#bd3786\"],[0.5555555555555556,\"#d8576b\"],[0.6666666666666666,\"#ed7953\"],[0.7777777777777778,\"#fb9f3a\"],[0.8888888888888888,\"#fdca26\"],[1.0,\"#f0f921\"]]}],\"choropleth\":[{\"type\":\"choropleth\",\"colorbar\":{\"outlinewidth\":0,\"ticks\":\"\"}}],\"histogram2d\":[{\"type\":\"histogram2d\",\"colorbar\":{\"outlinewidth\":0,\"ticks\":\"\"},\"colorscale\":[[0.0,\"#0d0887\"],[0.1111111111111111,\"#46039f\"],[0.2222222222222222,\"#7201a8\"],[0.3333333333333333,\"#9c179e\"],[0.4444444444444444,\"#bd3786\"],[0.5555555555555556,\"#d8576b\"],[0.6666666666666666,\"#ed7953\"],[0.7777777777777778,\"#fb9f3a\"],[0.8888888888888888,\"#fdca26\"],[1.0,\"#f0f921\"]]}],\"heatmap\":[{\"type\":\"heatmap\",\"colorbar\":{\"outlinewidth\":0,\"ticks\":\"\"},\"colorscale\":[[0.0,\"#0d0887\"],[0.1111111111111111,\"#46039f\"],[0.2222222222222222,\"#7201a8\"],[0.3333333333333333,\"#9c179e\"],[0.4444444444444444,\"#bd3786\"],[0.5555555555555556,\"#d8576b\"],[0.6666666666666666,\"#ed7953\"],[0.7777777777777778,\"#fb9f3a\"],[0.8888888888888888,\"#fdca26\"],[1.0,\"#f0f921\"]]}],\"heatmapgl\":[{\"type\":\"heatmapgl\",\"colorbar\":{\"outlinewidth\":0,\"ticks\":\"\"},\"colorscale\":[[0.0,\"#0d0887\"],[0.1111111111111111,\"#46039f\"],[0.2222222222222222,\"#7201a8\"],[0.3333333333333333,\"#9c179e\"],[0.4444444444444444,\"#bd3786\"],[0.5555555555555556,\"#d8576b\"],[0.6666666666666666,\"#ed7953\"],[0.7777777777777778,\"#fb9f3a\"],[0.8888888888888888,\"#fdca26\"],[1.0,\"#f0f921\"]]}],\"contourcarpet\":[{\"type\":\"contourcarpet\",\"colorbar\":{\"outlinewidth\":0,\"ticks\":\"\"}}],\"contour\":[{\"type\":\"contour\",\"colorbar\":{\"outlinewidth\":0,\"ticks\":\"\"},\"colorscale\":[[0.0,\"#0d0887\"],[0.1111111111111111,\"#46039f\"],[0.2222222222222222,\"#7201a8\"],[0.3333333333333333,\"#9c179e\"],[0.4444444444444444,\"#bd3786\"],[0.5555555555555556,\"#d8576b\"],[0.6666666666666666,\"#ed7953\"],[0.7777777777777778,\"#fb9f3a\"],[0.8888888888888888,\"#fdca26\"],[1.0,\"#f0f921\"]]}],\"surface\":[{\"type\":\"surface\",\"colorbar\":{\"outlinewidth\":0,\"ticks\":\"\"},\"colorscale\":[[0.0,\"#0d0887\"],[0.1111111111111111,\"#46039f\"],[0.2222222222222222,\"#7201a8\"],[0.3333333333333333,\"#9c179e\"],[0.4444444444444444,\"#bd3786\"],[0.5555555555555556,\"#d8576b\"],[0.6666666666666666,\"#ed7953\"],[0.7777777777777778,\"#fb9f3a\"],[0.8888888888888888,\"#fdca26\"],[1.0,\"#f0f921\"]]}],\"mesh3d\":[{\"type\":\"mesh3d\",\"colorbar\":{\"outlinewidth\":0,\"ticks\":\"\"}}],\"scatter\":[{\"fillpattern\":{\"fillmode\":\"overlay\",\"size\":10,\"solidity\":0.2},\"type\":\"scatter\"}],\"parcoords\":[{\"type\":\"parcoords\",\"line\":{\"colorbar\":{\"outlinewidth\":0,\"ticks\":\"\"}}}],\"scatterpolargl\":[{\"type\":\"scatterpolargl\",\"marker\":{\"colorbar\":{\"outlinewidth\":0,\"ticks\":\"\"}}}],\"bar\":[{\"error_x\":{\"color\":\"#2a3f5f\"},\"error_y\":{\"color\":\"#2a3f5f\"},\"marker\":{\"line\":{\"color\":\"#E5ECF6\",\"width\":0.5},\"pattern\":{\"fillmode\":\"overlay\",\"size\":10,\"solidity\":0.2}},\"type\":\"bar\"}],\"scattergeo\":[{\"type\":\"scattergeo\",\"marker\":{\"colorbar\":{\"outlinewidth\":0,\"ticks\":\"\"}}}],\"scatterpolar\":[{\"type\":\"scatterpolar\",\"marker\":{\"colorbar\":{\"outlinewidth\":0,\"ticks\":\"\"}}}],\"histogram\":[{\"marker\":{\"pattern\":{\"fillmode\":\"overlay\",\"size\":10,\"solidity\":0.2}},\"type\":\"histogram\"}],\"scattergl\":[{\"type\":\"scattergl\",\"marker\":{\"colorbar\":{\"outlinewidth\":0,\"ticks\":\"\"}}}],\"scatter3d\":[{\"type\":\"scatter3d\",\"line\":{\"colorbar\":{\"outlinewidth\":0,\"ticks\":\"\"}},\"marker\":{\"colorbar\":{\"outlinewidth\":0,\"ticks\":\"\"}}}],\"scattermapbox\":[{\"type\":\"scattermapbox\",\"marker\":{\"colorbar\":{\"outlinewidth\":0,\"ticks\":\"\"}}}],\"scatterternary\":[{\"type\":\"scatterternary\",\"marker\":{\"colorbar\":{\"outlinewidth\":0,\"ticks\":\"\"}}}],\"scattercarpet\":[{\"type\":\"scattercarpet\",\"marker\":{\"colorbar\":{\"outlinewidth\":0,\"ticks\":\"\"}}}],\"carpet\":[{\"aaxis\":{\"endlinecolor\":\"#2a3f5f\",\"gridcolor\":\"white\",\"linecolor\":\"white\",\"minorgridcolor\":\"white\",\"startlinecolor\":\"#2a3f5f\"},\"baxis\":{\"endlinecolor\":\"#2a3f5f\",\"gridcolor\":\"white\",\"linecolor\":\"white\",\"minorgridcolor\":\"white\",\"startlinecolor\":\"#2a3f5f\"},\"type\":\"carpet\"}],\"table\":[{\"cells\":{\"fill\":{\"color\":\"#EBF0F8\"},\"line\":{\"color\":\"white\"}},\"header\":{\"fill\":{\"color\":\"#C8D4E3\"},\"line\":{\"color\":\"white\"}},\"type\":\"table\"}],\"barpolar\":[{\"marker\":{\"line\":{\"color\":\"#E5ECF6\",\"width\":0.5},\"pattern\":{\"fillmode\":\"overlay\",\"size\":10,\"solidity\":0.2}},\"type\":\"barpolar\"}],\"pie\":[{\"automargin\":true,\"type\":\"pie\"}]},\"layout\":{\"autotypenumbers\":\"strict\",\"colorway\":[\"#636efa\",\"#EF553B\",\"#00cc96\",\"#ab63fa\",\"#FFA15A\",\"#19d3f3\",\"#FF6692\",\"#B6E880\",\"#FF97FF\",\"#FECB52\"],\"font\":{\"color\":\"#2a3f5f\"},\"hovermode\":\"closest\",\"hoverlabel\":{\"align\":\"left\"},\"paper_bgcolor\":\"white\",\"plot_bgcolor\":\"#E5ECF6\",\"polar\":{\"bgcolor\":\"#E5ECF6\",\"angularaxis\":{\"gridcolor\":\"white\",\"linecolor\":\"white\",\"ticks\":\"\"},\"radialaxis\":{\"gridcolor\":\"white\",\"linecolor\":\"white\",\"ticks\":\"\"}},\"ternary\":{\"bgcolor\":\"#E5ECF6\",\"aaxis\":{\"gridcolor\":\"white\",\"linecolor\":\"white\",\"ticks\":\"\"},\"baxis\":{\"gridcolor\":\"white\",\"linecolor\":\"white\",\"ticks\":\"\"},\"caxis\":{\"gridcolor\":\"white\",\"linecolor\":\"white\",\"ticks\":\"\"}},\"coloraxis\":{\"colorbar\":{\"outlinewidth\":0,\"ticks\":\"\"}},\"colorscale\":{\"sequential\":[[0.0,\"#0d0887\"],[0.1111111111111111,\"#46039f\"],[0.2222222222222222,\"#7201a8\"],[0.3333333333333333,\"#9c179e\"],[0.4444444444444444,\"#bd3786\"],[0.5555555555555556,\"#d8576b\"],[0.6666666666666666,\"#ed7953\"],[0.7777777777777778,\"#fb9f3a\"],[0.8888888888888888,\"#fdca26\"],[1.0,\"#f0f921\"]],\"sequentialminus\":[[0.0,\"#0d0887\"],[0.1111111111111111,\"#46039f\"],[0.2222222222222222,\"#7201a8\"],[0.3333333333333333,\"#9c179e\"],[0.4444444444444444,\"#bd3786\"],[0.5555555555555556,\"#d8576b\"],[0.6666666666666666,\"#ed7953\"],[0.7777777777777778,\"#fb9f3a\"],[0.8888888888888888,\"#fdca26\"],[1.0,\"#f0f921\"]],\"diverging\":[[0,\"#8e0152\"],[0.1,\"#c51b7d\"],[0.2,\"#de77ae\"],[0.3,\"#f1b6da\"],[0.4,\"#fde0ef\"],[0.5,\"#f7f7f7\"],[0.6,\"#e6f5d0\"],[0.7,\"#b8e186\"],[0.8,\"#7fbc41\"],[0.9,\"#4d9221\"],[1,\"#276419\"]]},\"xaxis\":{\"gridcolor\":\"white\",\"linecolor\":\"white\",\"ticks\":\"\",\"title\":{\"standoff\":15},\"zerolinecolor\":\"white\",\"automargin\":true,\"zerolinewidth\":2},\"yaxis\":{\"gridcolor\":\"white\",\"linecolor\":\"white\",\"ticks\":\"\",\"title\":{\"standoff\":15},\"zerolinecolor\":\"white\",\"automargin\":true,\"zerolinewidth\":2},\"scene\":{\"xaxis\":{\"backgroundcolor\":\"#E5ECF6\",\"gridcolor\":\"white\",\"linecolor\":\"white\",\"showbackground\":true,\"ticks\":\"\",\"zerolinecolor\":\"white\",\"gridwidth\":2},\"yaxis\":{\"backgroundcolor\":\"#E5ECF6\",\"gridcolor\":\"white\",\"linecolor\":\"white\",\"showbackground\":true,\"ticks\":\"\",\"zerolinecolor\":\"white\",\"gridwidth\":2},\"zaxis\":{\"backgroundcolor\":\"#E5ECF6\",\"gridcolor\":\"white\",\"linecolor\":\"white\",\"showbackground\":true,\"ticks\":\"\",\"zerolinecolor\":\"white\",\"gridwidth\":2}},\"shapedefaults\":{\"line\":{\"color\":\"#2a3f5f\"}},\"annotationdefaults\":{\"arrowcolor\":\"#2a3f5f\",\"arrowhead\":0,\"arrowwidth\":1},\"geo\":{\"bgcolor\":\"white\",\"landcolor\":\"#E5ECF6\",\"subunitcolor\":\"white\",\"showland\":true,\"showlakes\":true,\"lakecolor\":\"white\"},\"title\":{\"x\":0.05},\"mapbox\":{\"style\":\"light\"}}},\"legend\":{\"tracegroupgap\":0,\"orientation\":\"h\",\"yanchor\":\"bottom\",\"y\":-0.3,\"xanchor\":\"center\",\"x\":0.5},\"title\":{\"text\":\"\\u003cb\\u003eAttrition Distribution\\u003c\\u002fb\\u003e\",\"x\":0.5},\"piecolorway\":[\"#D4AF37\",\"#990000\"],\"height\":400},                        {\"responsive\": true}                    ).then(function(){\n",
              "                            \n",
              "var gd = document.getElementById('a0170b2b-6121-40fe-9bde-a1f83f576183');\n",
              "var x = new MutationObserver(function (mutations, observer) {{\n",
              "        var display = window.getComputedStyle(gd).display;\n",
              "        if (!display || display === 'none') {{\n",
              "            console.log([gd, 'removed!']);\n",
              "            Plotly.purge(gd);\n",
              "            observer.disconnect();\n",
              "        }}\n",
              "}});\n",
              "\n",
              "// Listen for the removal of the full notebook cells\n",
              "var notebookContainer = gd.closest('#notebook-container');\n",
              "if (notebookContainer) {{\n",
              "    x.observe(notebookContainer, {childList: true});\n",
              "}}\n",
              "\n",
              "// Listen for the clearing of the current output cell\n",
              "var outputEl = gd.closest('.output');\n",
              "if (outputEl) {{\n",
              "    x.observe(outputEl, {childList: true});\n",
              "}}\n",
              "\n",
              "                        })                };                            </script>        </div>\n",
              "</body>\n",
              "</html>"
            ]
          },
          "metadata": {}
        }
      ],
      "source": [
        "attrition_distribution = df['Attrition'].value_counts(normalize=True) * 100\n",
        "\n",
        "# pie chart\n",
        "fig = px.pie(values=attrition_distribution, names=attrition_distribution.index,\n",
        "             title='<b>Attrition Distribution</b>',\n",
        "             labels={'names': 'Attrition Status', 'values': 'Percentage'}, height=400,\n",
        "             color_discrete_sequence=['#D4AF37', '#990000'])\n",
        "\n",
        "fig.update_layout(title_x=0.5,\n",
        "                  legend=dict(orientation='h', yanchor='bottom', y=-0.3, xanchor='center', x=0.5))\n",
        "fig.show()"
      ]
    },
    {
      "cell_type": "markdown",
      "source": [
        "Berdasarkan informasi yang diberikan, **terdapat ketidakseimbangan data** yang signifikan dalam dataset. Hal ini terlihat dari fakta bahwa **84% karyawan bertahan, sedangkan hanya 16% yang keluar**. Ketidakseimbangan dapat berdampak negatif pada performa model klasifikasi yang dibangun.\n",
        "<br>\n",
        "\n",
        "**Solusi: Oversampling, Undersampling**"
      ],
      "metadata": {
        "id": "bYywADD6CA7D"
      },
      "id": "bYywADD6CA7D"
    },
    {
      "cell_type": "markdown",
      "id": "a7b75578",
      "metadata": {
        "papermill": {
          "duration": 0.025846,
          "end_time": "2024-05-03T15:42:05.422397",
          "exception": false,
          "start_time": "2024-05-03T15:42:05.396551",
          "status": "completed"
        },
        "tags": [],
        "id": "a7b75578"
      },
      "source": [
        "<center> <h2>Atrisi berdasarkan gender</h2> </center>"
      ]
    },
    {
      "cell_type": "code",
      "execution_count": 82,
      "id": "d27ae217",
      "metadata": {
        "execution": {
          "iopub.execute_input": "2024-05-03T15:42:05.476735Z",
          "iopub.status.busy": "2024-05-03T15:42:05.476341Z",
          "iopub.status.idle": "2024-05-03T15:42:05.552430Z",
          "shell.execute_reply": "2024-05-03T15:42:05.551165Z"
        },
        "papermill": {
          "duration": 0.106417,
          "end_time": "2024-05-03T15:42:05.555000",
          "exception": false,
          "start_time": "2024-05-03T15:42:05.448583",
          "status": "completed"
        },
        "tags": [],
        "colab": {
          "base_uri": "https://localhost:8080/",
          "height": 0
        },
        "id": "d27ae217",
        "outputId": "ef192c57-2385-4079-d5d0-551dfd8847fd"
      },
      "outputs": [
        {
          "output_type": "display_data",
          "data": {
            "text/html": [
              "<html>\n",
              "<head><meta charset=\"utf-8\" /></head>\n",
              "<body>\n",
              "    <div>            <script src=\"https://cdnjs.cloudflare.com/ajax/libs/mathjax/2.7.5/MathJax.js?config=TeX-AMS-MML_SVG\"></script><script type=\"text/javascript\">if (window.MathJax && window.MathJax.Hub && window.MathJax.Hub.Config) {window.MathJax.Hub.Config({SVG: {font: \"STIX-Web\"}});}</script>                <script type=\"text/javascript\">window.PlotlyConfig = {MathJaxConfig: 'local'};</script>\n",
              "        <script charset=\"utf-8\" src=\"https://cdn.plot.ly/plotly-2.35.2.min.js\"></script>                <div id=\"cac90557-6824-4845-9c0c-cf19b43d1622\" class=\"plotly-graph-div\" style=\"height:400px; width:100%;\"></div>            <script type=\"text/javascript\">                                    window.PLOTLYENV=window.PLOTLYENV || {};                                    if (document.getElementById(\"cac90557-6824-4845-9c0c-cf19b43d1622\")) {                    Plotly.newPlot(                        \"cac90557-6824-4845-9c0c-cf19b43d1622\",                        [{\"domain\":{\"x\":[0.0,1.0],\"y\":[0.0,1.0]},\"hovertemplate\":\"Gender=%{label}\\u003cbr\\u003eCount=%{value}\\u003cextra\\u003e\\u003c\\u002fextra\\u003e\",\"labels\":[\"Male\",\"Female\"],\"legendgroup\":\"\",\"name\":\"\",\"showlegend\":true,\"values\":[150,87],\"type\":\"pie\"}],                        {\"template\":{\"data\":{\"histogram2dcontour\":[{\"type\":\"histogram2dcontour\",\"colorbar\":{\"outlinewidth\":0,\"ticks\":\"\"},\"colorscale\":[[0.0,\"#0d0887\"],[0.1111111111111111,\"#46039f\"],[0.2222222222222222,\"#7201a8\"],[0.3333333333333333,\"#9c179e\"],[0.4444444444444444,\"#bd3786\"],[0.5555555555555556,\"#d8576b\"],[0.6666666666666666,\"#ed7953\"],[0.7777777777777778,\"#fb9f3a\"],[0.8888888888888888,\"#fdca26\"],[1.0,\"#f0f921\"]]}],\"choropleth\":[{\"type\":\"choropleth\",\"colorbar\":{\"outlinewidth\":0,\"ticks\":\"\"}}],\"histogram2d\":[{\"type\":\"histogram2d\",\"colorbar\":{\"outlinewidth\":0,\"ticks\":\"\"},\"colorscale\":[[0.0,\"#0d0887\"],[0.1111111111111111,\"#46039f\"],[0.2222222222222222,\"#7201a8\"],[0.3333333333333333,\"#9c179e\"],[0.4444444444444444,\"#bd3786\"],[0.5555555555555556,\"#d8576b\"],[0.6666666666666666,\"#ed7953\"],[0.7777777777777778,\"#fb9f3a\"],[0.8888888888888888,\"#fdca26\"],[1.0,\"#f0f921\"]]}],\"heatmap\":[{\"type\":\"heatmap\",\"colorbar\":{\"outlinewidth\":0,\"ticks\":\"\"},\"colorscale\":[[0.0,\"#0d0887\"],[0.1111111111111111,\"#46039f\"],[0.2222222222222222,\"#7201a8\"],[0.3333333333333333,\"#9c179e\"],[0.4444444444444444,\"#bd3786\"],[0.5555555555555556,\"#d8576b\"],[0.6666666666666666,\"#ed7953\"],[0.7777777777777778,\"#fb9f3a\"],[0.8888888888888888,\"#fdca26\"],[1.0,\"#f0f921\"]]}],\"heatmapgl\":[{\"type\":\"heatmapgl\",\"colorbar\":{\"outlinewidth\":0,\"ticks\":\"\"},\"colorscale\":[[0.0,\"#0d0887\"],[0.1111111111111111,\"#46039f\"],[0.2222222222222222,\"#7201a8\"],[0.3333333333333333,\"#9c179e\"],[0.4444444444444444,\"#bd3786\"],[0.5555555555555556,\"#d8576b\"],[0.6666666666666666,\"#ed7953\"],[0.7777777777777778,\"#fb9f3a\"],[0.8888888888888888,\"#fdca26\"],[1.0,\"#f0f921\"]]}],\"contourcarpet\":[{\"type\":\"contourcarpet\",\"colorbar\":{\"outlinewidth\":0,\"ticks\":\"\"}}],\"contour\":[{\"type\":\"contour\",\"colorbar\":{\"outlinewidth\":0,\"ticks\":\"\"},\"colorscale\":[[0.0,\"#0d0887\"],[0.1111111111111111,\"#46039f\"],[0.2222222222222222,\"#7201a8\"],[0.3333333333333333,\"#9c179e\"],[0.4444444444444444,\"#bd3786\"],[0.5555555555555556,\"#d8576b\"],[0.6666666666666666,\"#ed7953\"],[0.7777777777777778,\"#fb9f3a\"],[0.8888888888888888,\"#fdca26\"],[1.0,\"#f0f921\"]]}],\"surface\":[{\"type\":\"surface\",\"colorbar\":{\"outlinewidth\":0,\"ticks\":\"\"},\"colorscale\":[[0.0,\"#0d0887\"],[0.1111111111111111,\"#46039f\"],[0.2222222222222222,\"#7201a8\"],[0.3333333333333333,\"#9c179e\"],[0.4444444444444444,\"#bd3786\"],[0.5555555555555556,\"#d8576b\"],[0.6666666666666666,\"#ed7953\"],[0.7777777777777778,\"#fb9f3a\"],[0.8888888888888888,\"#fdca26\"],[1.0,\"#f0f921\"]]}],\"mesh3d\":[{\"type\":\"mesh3d\",\"colorbar\":{\"outlinewidth\":0,\"ticks\":\"\"}}],\"scatter\":[{\"fillpattern\":{\"fillmode\":\"overlay\",\"size\":10,\"solidity\":0.2},\"type\":\"scatter\"}],\"parcoords\":[{\"type\":\"parcoords\",\"line\":{\"colorbar\":{\"outlinewidth\":0,\"ticks\":\"\"}}}],\"scatterpolargl\":[{\"type\":\"scatterpolargl\",\"marker\":{\"colorbar\":{\"outlinewidth\":0,\"ticks\":\"\"}}}],\"bar\":[{\"error_x\":{\"color\":\"#2a3f5f\"},\"error_y\":{\"color\":\"#2a3f5f\"},\"marker\":{\"line\":{\"color\":\"#E5ECF6\",\"width\":0.5},\"pattern\":{\"fillmode\":\"overlay\",\"size\":10,\"solidity\":0.2}},\"type\":\"bar\"}],\"scattergeo\":[{\"type\":\"scattergeo\",\"marker\":{\"colorbar\":{\"outlinewidth\":0,\"ticks\":\"\"}}}],\"scatterpolar\":[{\"type\":\"scatterpolar\",\"marker\":{\"colorbar\":{\"outlinewidth\":0,\"ticks\":\"\"}}}],\"histogram\":[{\"marker\":{\"pattern\":{\"fillmode\":\"overlay\",\"size\":10,\"solidity\":0.2}},\"type\":\"histogram\"}],\"scattergl\":[{\"type\":\"scattergl\",\"marker\":{\"colorbar\":{\"outlinewidth\":0,\"ticks\":\"\"}}}],\"scatter3d\":[{\"type\":\"scatter3d\",\"line\":{\"colorbar\":{\"outlinewidth\":0,\"ticks\":\"\"}},\"marker\":{\"colorbar\":{\"outlinewidth\":0,\"ticks\":\"\"}}}],\"scattermapbox\":[{\"type\":\"scattermapbox\",\"marker\":{\"colorbar\":{\"outlinewidth\":0,\"ticks\":\"\"}}}],\"scatterternary\":[{\"type\":\"scatterternary\",\"marker\":{\"colorbar\":{\"outlinewidth\":0,\"ticks\":\"\"}}}],\"scattercarpet\":[{\"type\":\"scattercarpet\",\"marker\":{\"colorbar\":{\"outlinewidth\":0,\"ticks\":\"\"}}}],\"carpet\":[{\"aaxis\":{\"endlinecolor\":\"#2a3f5f\",\"gridcolor\":\"white\",\"linecolor\":\"white\",\"minorgridcolor\":\"white\",\"startlinecolor\":\"#2a3f5f\"},\"baxis\":{\"endlinecolor\":\"#2a3f5f\",\"gridcolor\":\"white\",\"linecolor\":\"white\",\"minorgridcolor\":\"white\",\"startlinecolor\":\"#2a3f5f\"},\"type\":\"carpet\"}],\"table\":[{\"cells\":{\"fill\":{\"color\":\"#EBF0F8\"},\"line\":{\"color\":\"white\"}},\"header\":{\"fill\":{\"color\":\"#C8D4E3\"},\"line\":{\"color\":\"white\"}},\"type\":\"table\"}],\"barpolar\":[{\"marker\":{\"line\":{\"color\":\"#E5ECF6\",\"width\":0.5},\"pattern\":{\"fillmode\":\"overlay\",\"size\":10,\"solidity\":0.2}},\"type\":\"barpolar\"}],\"pie\":[{\"automargin\":true,\"type\":\"pie\"}]},\"layout\":{\"autotypenumbers\":\"strict\",\"colorway\":[\"#636efa\",\"#EF553B\",\"#00cc96\",\"#ab63fa\",\"#FFA15A\",\"#19d3f3\",\"#FF6692\",\"#B6E880\",\"#FF97FF\",\"#FECB52\"],\"font\":{\"color\":\"#2a3f5f\"},\"hovermode\":\"closest\",\"hoverlabel\":{\"align\":\"left\"},\"paper_bgcolor\":\"white\",\"plot_bgcolor\":\"#E5ECF6\",\"polar\":{\"bgcolor\":\"#E5ECF6\",\"angularaxis\":{\"gridcolor\":\"white\",\"linecolor\":\"white\",\"ticks\":\"\"},\"radialaxis\":{\"gridcolor\":\"white\",\"linecolor\":\"white\",\"ticks\":\"\"}},\"ternary\":{\"bgcolor\":\"#E5ECF6\",\"aaxis\":{\"gridcolor\":\"white\",\"linecolor\":\"white\",\"ticks\":\"\"},\"baxis\":{\"gridcolor\":\"white\",\"linecolor\":\"white\",\"ticks\":\"\"},\"caxis\":{\"gridcolor\":\"white\",\"linecolor\":\"white\",\"ticks\":\"\"}},\"coloraxis\":{\"colorbar\":{\"outlinewidth\":0,\"ticks\":\"\"}},\"colorscale\":{\"sequential\":[[0.0,\"#0d0887\"],[0.1111111111111111,\"#46039f\"],[0.2222222222222222,\"#7201a8\"],[0.3333333333333333,\"#9c179e\"],[0.4444444444444444,\"#bd3786\"],[0.5555555555555556,\"#d8576b\"],[0.6666666666666666,\"#ed7953\"],[0.7777777777777778,\"#fb9f3a\"],[0.8888888888888888,\"#fdca26\"],[1.0,\"#f0f921\"]],\"sequentialminus\":[[0.0,\"#0d0887\"],[0.1111111111111111,\"#46039f\"],[0.2222222222222222,\"#7201a8\"],[0.3333333333333333,\"#9c179e\"],[0.4444444444444444,\"#bd3786\"],[0.5555555555555556,\"#d8576b\"],[0.6666666666666666,\"#ed7953\"],[0.7777777777777778,\"#fb9f3a\"],[0.8888888888888888,\"#fdca26\"],[1.0,\"#f0f921\"]],\"diverging\":[[0,\"#8e0152\"],[0.1,\"#c51b7d\"],[0.2,\"#de77ae\"],[0.3,\"#f1b6da\"],[0.4,\"#fde0ef\"],[0.5,\"#f7f7f7\"],[0.6,\"#e6f5d0\"],[0.7,\"#b8e186\"],[0.8,\"#7fbc41\"],[0.9,\"#4d9221\"],[1,\"#276419\"]]},\"xaxis\":{\"gridcolor\":\"white\",\"linecolor\":\"white\",\"ticks\":\"\",\"title\":{\"standoff\":15},\"zerolinecolor\":\"white\",\"automargin\":true,\"zerolinewidth\":2},\"yaxis\":{\"gridcolor\":\"white\",\"linecolor\":\"white\",\"ticks\":\"\",\"title\":{\"standoff\":15},\"zerolinecolor\":\"white\",\"automargin\":true,\"zerolinewidth\":2},\"scene\":{\"xaxis\":{\"backgroundcolor\":\"#E5ECF6\",\"gridcolor\":\"white\",\"linecolor\":\"white\",\"showbackground\":true,\"ticks\":\"\",\"zerolinecolor\":\"white\",\"gridwidth\":2},\"yaxis\":{\"backgroundcolor\":\"#E5ECF6\",\"gridcolor\":\"white\",\"linecolor\":\"white\",\"showbackground\":true,\"ticks\":\"\",\"zerolinecolor\":\"white\",\"gridwidth\":2},\"zaxis\":{\"backgroundcolor\":\"#E5ECF6\",\"gridcolor\":\"white\",\"linecolor\":\"white\",\"showbackground\":true,\"ticks\":\"\",\"zerolinecolor\":\"white\",\"gridwidth\":2}},\"shapedefaults\":{\"line\":{\"color\":\"#2a3f5f\"}},\"annotationdefaults\":{\"arrowcolor\":\"#2a3f5f\",\"arrowhead\":0,\"arrowwidth\":1},\"geo\":{\"bgcolor\":\"white\",\"landcolor\":\"#E5ECF6\",\"subunitcolor\":\"white\",\"showland\":true,\"showlakes\":true,\"lakecolor\":\"white\"},\"title\":{\"x\":0.05},\"mapbox\":{\"style\":\"light\"}}},\"legend\":{\"tracegroupgap\":0,\"orientation\":\"h\",\"yanchor\":\"bottom\",\"y\":-0.3,\"xanchor\":\"center\",\"x\":0.5},\"title\":{\"text\":\"\\u003cb\\u003eAttrition \\\"Yes\\\" by Gender\\u003c\\u002fb\\u003e\",\"x\":0.5},\"piecolorway\":[\"#2e4c82\",\"#BF3F3C\"],\"height\":400},                        {\"responsive\": true}                    ).then(function(){\n",
              "                            \n",
              "var gd = document.getElementById('cac90557-6824-4845-9c0c-cf19b43d1622');\n",
              "var x = new MutationObserver(function (mutations, observer) {{\n",
              "        var display = window.getComputedStyle(gd).display;\n",
              "        if (!display || display === 'none') {{\n",
              "            console.log([gd, 'removed!']);\n",
              "            Plotly.purge(gd);\n",
              "            observer.disconnect();\n",
              "        }}\n",
              "}});\n",
              "\n",
              "// Listen for the removal of the full notebook cells\n",
              "var notebookContainer = gd.closest('#notebook-container');\n",
              "if (notebookContainer) {{\n",
              "    x.observe(notebookContainer, {childList: true});\n",
              "}}\n",
              "\n",
              "// Listen for the clearing of the current output cell\n",
              "var outputEl = gd.closest('.output');\n",
              "if (outputEl) {{\n",
              "    x.observe(outputEl, {childList: true});\n",
              "}}\n",
              "\n",
              "                        })                };                            </script>        </div>\n",
              "</body>\n",
              "</html>"
            ]
          },
          "metadata": {}
        }
      ],
      "source": [
        "attrition_yes = df[df['Attrition'] == 'Yes']\n",
        "attrition_gender_counts = attrition_yes['Gender'].value_counts()\n",
        "\n",
        "fig = px.pie(values=attrition_gender_counts, names=attrition_gender_counts.index,\n",
        "             title='<b>Attrition \\\"Yes\" by Gender</b>',\n",
        "             labels={'names': 'Gender', 'values': 'Count'}, height=400,\n",
        "             color_discrete_sequence=['#2e4c82', '#BF3F3C'])\n",
        "\n",
        "fig.update_layout(title_x=0.5,\n",
        "                  legend=dict(orientation='h', yanchor='bottom', y=-0.3, xanchor='center', x=0.5))\n",
        "fig.show()"
      ]
    },
    {
      "cell_type": "markdown",
      "id": "684128fc",
      "metadata": {
        "papermill": {
          "duration": 0.025312,
          "end_time": "2024-05-03T15:42:05.605754",
          "exception": false,
          "start_time": "2024-05-03T15:42:05.580442",
          "status": "completed"
        },
        "tags": [],
        "id": "684128fc"
      },
      "source": [
        "Data menunjukkan tingkat **atrisi sebesar 36.7% untuk wanita dan 63.3% untuk pria**. Hal ini mengindikasikan **tingkat atrisi yang lebih tinggi di kalangan pria dibandingkan wanita**, yang kemungkinan dipengaruhi oleh berbagai faktor seperti job satisfaction, career opportunities, and workplace environment."
      ]
    },
    {
      "cell_type": "markdown",
      "id": "ab7e85a0",
      "metadata": {
        "papermill": {
          "duration": 0.026019,
          "end_time": "2024-05-03T15:42:05.657464",
          "exception": false,
          "start_time": "2024-05-03T15:42:05.631445",
          "status": "completed"
        },
        "tags": [],
        "id": "ab7e85a0"
      },
      "source": [
        "<center> <h2>Hubungan antara atrisi dan usia</h2></center>\n"
      ]
    },
    {
      "cell_type": "code",
      "execution_count": 83,
      "id": "b4d72184",
      "metadata": {
        "execution": {
          "iopub.execute_input": "2024-05-03T15:42:05.711885Z",
          "iopub.status.busy": "2024-05-03T15:42:05.711469Z",
          "iopub.status.idle": "2024-05-03T15:42:05.915427Z",
          "shell.execute_reply": "2024-05-03T15:42:05.914253Z"
        },
        "papermill": {
          "duration": 0.234827,
          "end_time": "2024-05-03T15:42:05.917801",
          "exception": false,
          "start_time": "2024-05-03T15:42:05.682974",
          "status": "completed"
        },
        "tags": [],
        "colab": {
          "base_uri": "https://localhost:8080/",
          "height": 0
        },
        "id": "b4d72184",
        "outputId": "56de8922-72ed-4bdc-bf07-6ae9bd44899a"
      },
      "outputs": [
        {
          "output_type": "display_data",
          "data": {
            "text/html": [
              "<html>\n",
              "<head><meta charset=\"utf-8\" /></head>\n",
              "<body>\n",
              "    <div>            <script src=\"https://cdnjs.cloudflare.com/ajax/libs/mathjax/2.7.5/MathJax.js?config=TeX-AMS-MML_SVG\"></script><script type=\"text/javascript\">if (window.MathJax && window.MathJax.Hub && window.MathJax.Hub.Config) {window.MathJax.Hub.Config({SVG: {font: \"STIX-Web\"}});}</script>                <script type=\"text/javascript\">window.PlotlyConfig = {MathJaxConfig: 'local'};</script>\n",
              "        <script charset=\"utf-8\" src=\"https://cdn.plot.ly/plotly-2.35.2.min.js\"></script>                <div id=\"524b804f-b81c-4452-9751-d9e68991f87e\" class=\"plotly-graph-div\" style=\"height:500px; width:100%;\"></div>            <script type=\"text/javascript\">                                    window.PLOTLYENV=window.PLOTLYENV || {};                                    if (document.getElementById(\"524b804f-b81c-4452-9751-d9e68991f87e\")) {                    Plotly.newPlot(                        \"524b804f-b81c-4452-9751-d9e68991f87e\",                        [{\"hovertemplate\":\"Attrition=Yes\\u003cbr\\u003eAge=%{x}\\u003cbr\\u003eCounts=%{y}\\u003cextra\\u003e\\u003c\\u002fextra\\u003e\",\"legendgroup\":\"Yes\",\"line\":{\"color\":\"#990000\",\"dash\":\"solid\"},\"marker\":{\"symbol\":\"circle\",\"line\":{\"color\":\"#28221D\",\"width\":1}},\"mode\":\"lines\",\"name\":\"Yes\",\"orientation\":\"v\",\"showlegend\":true,\"x\":[18,19,20,21,22,23,24,25,26,27,28,29,30,31,32,33,34,35,36,37,38,39,40,41,42,43,44,45,46,47,48,49,50,51,52,53,55,56,58],\"xaxis\":\"x\",\"y\":[4,6,6,6,5,4,7,6,12,3,14,18,9,18,11,12,9,10,6,6,2,6,5,6,2,2,6,2,4,3,2,2,5,2,3,2,3,3,5],\"yaxis\":\"y\",\"type\":\"scatter\",\"textfont\":{\"color\":\"black\",\"size\":14},\"textposition\":\"top center\",\"texttemplate\":\"%{text:.2f}%\"}],                        {\"template\":{\"data\":{\"histogram2dcontour\":[{\"type\":\"histogram2dcontour\",\"colorbar\":{\"outlinewidth\":0,\"ticks\":\"\"},\"colorscale\":[[0.0,\"#0d0887\"],[0.1111111111111111,\"#46039f\"],[0.2222222222222222,\"#7201a8\"],[0.3333333333333333,\"#9c179e\"],[0.4444444444444444,\"#bd3786\"],[0.5555555555555556,\"#d8576b\"],[0.6666666666666666,\"#ed7953\"],[0.7777777777777778,\"#fb9f3a\"],[0.8888888888888888,\"#fdca26\"],[1.0,\"#f0f921\"]]}],\"choropleth\":[{\"type\":\"choropleth\",\"colorbar\":{\"outlinewidth\":0,\"ticks\":\"\"}}],\"histogram2d\":[{\"type\":\"histogram2d\",\"colorbar\":{\"outlinewidth\":0,\"ticks\":\"\"},\"colorscale\":[[0.0,\"#0d0887\"],[0.1111111111111111,\"#46039f\"],[0.2222222222222222,\"#7201a8\"],[0.3333333333333333,\"#9c179e\"],[0.4444444444444444,\"#bd3786\"],[0.5555555555555556,\"#d8576b\"],[0.6666666666666666,\"#ed7953\"],[0.7777777777777778,\"#fb9f3a\"],[0.8888888888888888,\"#fdca26\"],[1.0,\"#f0f921\"]]}],\"heatmap\":[{\"type\":\"heatmap\",\"colorbar\":{\"outlinewidth\":0,\"ticks\":\"\"},\"colorscale\":[[0.0,\"#0d0887\"],[0.1111111111111111,\"#46039f\"],[0.2222222222222222,\"#7201a8\"],[0.3333333333333333,\"#9c179e\"],[0.4444444444444444,\"#bd3786\"],[0.5555555555555556,\"#d8576b\"],[0.6666666666666666,\"#ed7953\"],[0.7777777777777778,\"#fb9f3a\"],[0.8888888888888888,\"#fdca26\"],[1.0,\"#f0f921\"]]}],\"heatmapgl\":[{\"type\":\"heatmapgl\",\"colorbar\":{\"outlinewidth\":0,\"ticks\":\"\"},\"colorscale\":[[0.0,\"#0d0887\"],[0.1111111111111111,\"#46039f\"],[0.2222222222222222,\"#7201a8\"],[0.3333333333333333,\"#9c179e\"],[0.4444444444444444,\"#bd3786\"],[0.5555555555555556,\"#d8576b\"],[0.6666666666666666,\"#ed7953\"],[0.7777777777777778,\"#fb9f3a\"],[0.8888888888888888,\"#fdca26\"],[1.0,\"#f0f921\"]]}],\"contourcarpet\":[{\"type\":\"contourcarpet\",\"colorbar\":{\"outlinewidth\":0,\"ticks\":\"\"}}],\"contour\":[{\"type\":\"contour\",\"colorbar\":{\"outlinewidth\":0,\"ticks\":\"\"},\"colorscale\":[[0.0,\"#0d0887\"],[0.1111111111111111,\"#46039f\"],[0.2222222222222222,\"#7201a8\"],[0.3333333333333333,\"#9c179e\"],[0.4444444444444444,\"#bd3786\"],[0.5555555555555556,\"#d8576b\"],[0.6666666666666666,\"#ed7953\"],[0.7777777777777778,\"#fb9f3a\"],[0.8888888888888888,\"#fdca26\"],[1.0,\"#f0f921\"]]}],\"surface\":[{\"type\":\"surface\",\"colorbar\":{\"outlinewidth\":0,\"ticks\":\"\"},\"colorscale\":[[0.0,\"#0d0887\"],[0.1111111111111111,\"#46039f\"],[0.2222222222222222,\"#7201a8\"],[0.3333333333333333,\"#9c179e\"],[0.4444444444444444,\"#bd3786\"],[0.5555555555555556,\"#d8576b\"],[0.6666666666666666,\"#ed7953\"],[0.7777777777777778,\"#fb9f3a\"],[0.8888888888888888,\"#fdca26\"],[1.0,\"#f0f921\"]]}],\"mesh3d\":[{\"type\":\"mesh3d\",\"colorbar\":{\"outlinewidth\":0,\"ticks\":\"\"}}],\"scatter\":[{\"fillpattern\":{\"fillmode\":\"overlay\",\"size\":10,\"solidity\":0.2},\"type\":\"scatter\"}],\"parcoords\":[{\"type\":\"parcoords\",\"line\":{\"colorbar\":{\"outlinewidth\":0,\"ticks\":\"\"}}}],\"scatterpolargl\":[{\"type\":\"scatterpolargl\",\"marker\":{\"colorbar\":{\"outlinewidth\":0,\"ticks\":\"\"}}}],\"bar\":[{\"error_x\":{\"color\":\"#2a3f5f\"},\"error_y\":{\"color\":\"#2a3f5f\"},\"marker\":{\"line\":{\"color\":\"#E5ECF6\",\"width\":0.5},\"pattern\":{\"fillmode\":\"overlay\",\"size\":10,\"solidity\":0.2}},\"type\":\"bar\"}],\"scattergeo\":[{\"type\":\"scattergeo\",\"marker\":{\"colorbar\":{\"outlinewidth\":0,\"ticks\":\"\"}}}],\"scatterpolar\":[{\"type\":\"scatterpolar\",\"marker\":{\"colorbar\":{\"outlinewidth\":0,\"ticks\":\"\"}}}],\"histogram\":[{\"marker\":{\"pattern\":{\"fillmode\":\"overlay\",\"size\":10,\"solidity\":0.2}},\"type\":\"histogram\"}],\"scattergl\":[{\"type\":\"scattergl\",\"marker\":{\"colorbar\":{\"outlinewidth\":0,\"ticks\":\"\"}}}],\"scatter3d\":[{\"type\":\"scatter3d\",\"line\":{\"colorbar\":{\"outlinewidth\":0,\"ticks\":\"\"}},\"marker\":{\"colorbar\":{\"outlinewidth\":0,\"ticks\":\"\"}}}],\"scattermapbox\":[{\"type\":\"scattermapbox\",\"marker\":{\"colorbar\":{\"outlinewidth\":0,\"ticks\":\"\"}}}],\"scatterternary\":[{\"type\":\"scatterternary\",\"marker\":{\"colorbar\":{\"outlinewidth\":0,\"ticks\":\"\"}}}],\"scattercarpet\":[{\"type\":\"scattercarpet\",\"marker\":{\"colorbar\":{\"outlinewidth\":0,\"ticks\":\"\"}}}],\"carpet\":[{\"aaxis\":{\"endlinecolor\":\"#2a3f5f\",\"gridcolor\":\"white\",\"linecolor\":\"white\",\"minorgridcolor\":\"white\",\"startlinecolor\":\"#2a3f5f\"},\"baxis\":{\"endlinecolor\":\"#2a3f5f\",\"gridcolor\":\"white\",\"linecolor\":\"white\",\"minorgridcolor\":\"white\",\"startlinecolor\":\"#2a3f5f\"},\"type\":\"carpet\"}],\"table\":[{\"cells\":{\"fill\":{\"color\":\"#EBF0F8\"},\"line\":{\"color\":\"white\"}},\"header\":{\"fill\":{\"color\":\"#C8D4E3\"},\"line\":{\"color\":\"white\"}},\"type\":\"table\"}],\"barpolar\":[{\"marker\":{\"line\":{\"color\":\"#E5ECF6\",\"width\":0.5},\"pattern\":{\"fillmode\":\"overlay\",\"size\":10,\"solidity\":0.2}},\"type\":\"barpolar\"}],\"pie\":[{\"automargin\":true,\"type\":\"pie\"}]},\"layout\":{\"autotypenumbers\":\"strict\",\"colorway\":[\"#636efa\",\"#EF553B\",\"#00cc96\",\"#ab63fa\",\"#FFA15A\",\"#19d3f3\",\"#FF6692\",\"#B6E880\",\"#FF97FF\",\"#FECB52\"],\"font\":{\"color\":\"#2a3f5f\"},\"hovermode\":\"closest\",\"hoverlabel\":{\"align\":\"left\"},\"paper_bgcolor\":\"white\",\"plot_bgcolor\":\"#E5ECF6\",\"polar\":{\"bgcolor\":\"#E5ECF6\",\"angularaxis\":{\"gridcolor\":\"white\",\"linecolor\":\"white\",\"ticks\":\"\"},\"radialaxis\":{\"gridcolor\":\"white\",\"linecolor\":\"white\",\"ticks\":\"\"}},\"ternary\":{\"bgcolor\":\"#E5ECF6\",\"aaxis\":{\"gridcolor\":\"white\",\"linecolor\":\"white\",\"ticks\":\"\"},\"baxis\":{\"gridcolor\":\"white\",\"linecolor\":\"white\",\"ticks\":\"\"},\"caxis\":{\"gridcolor\":\"white\",\"linecolor\":\"white\",\"ticks\":\"\"}},\"coloraxis\":{\"colorbar\":{\"outlinewidth\":0,\"ticks\":\"\"}},\"colorscale\":{\"sequential\":[[0.0,\"#0d0887\"],[0.1111111111111111,\"#46039f\"],[0.2222222222222222,\"#7201a8\"],[0.3333333333333333,\"#9c179e\"],[0.4444444444444444,\"#bd3786\"],[0.5555555555555556,\"#d8576b\"],[0.6666666666666666,\"#ed7953\"],[0.7777777777777778,\"#fb9f3a\"],[0.8888888888888888,\"#fdca26\"],[1.0,\"#f0f921\"]],\"sequentialminus\":[[0.0,\"#0d0887\"],[0.1111111111111111,\"#46039f\"],[0.2222222222222222,\"#7201a8\"],[0.3333333333333333,\"#9c179e\"],[0.4444444444444444,\"#bd3786\"],[0.5555555555555556,\"#d8576b\"],[0.6666666666666666,\"#ed7953\"],[0.7777777777777778,\"#fb9f3a\"],[0.8888888888888888,\"#fdca26\"],[1.0,\"#f0f921\"]],\"diverging\":[[0,\"#8e0152\"],[0.1,\"#c51b7d\"],[0.2,\"#de77ae\"],[0.3,\"#f1b6da\"],[0.4,\"#fde0ef\"],[0.5,\"#f7f7f7\"],[0.6,\"#e6f5d0\"],[0.7,\"#b8e186\"],[0.8,\"#7fbc41\"],[0.9,\"#4d9221\"],[1,\"#276419\"]]},\"xaxis\":{\"gridcolor\":\"white\",\"linecolor\":\"white\",\"ticks\":\"\",\"title\":{\"standoff\":15},\"zerolinecolor\":\"white\",\"automargin\":true,\"zerolinewidth\":2},\"yaxis\":{\"gridcolor\":\"white\",\"linecolor\":\"white\",\"ticks\":\"\",\"title\":{\"standoff\":15},\"zerolinecolor\":\"white\",\"automargin\":true,\"zerolinewidth\":2},\"scene\":{\"xaxis\":{\"backgroundcolor\":\"#E5ECF6\",\"gridcolor\":\"white\",\"linecolor\":\"white\",\"showbackground\":true,\"ticks\":\"\",\"zerolinecolor\":\"white\",\"gridwidth\":2},\"yaxis\":{\"backgroundcolor\":\"#E5ECF6\",\"gridcolor\":\"white\",\"linecolor\":\"white\",\"showbackground\":true,\"ticks\":\"\",\"zerolinecolor\":\"white\",\"gridwidth\":2},\"zaxis\":{\"backgroundcolor\":\"#E5ECF6\",\"gridcolor\":\"white\",\"linecolor\":\"white\",\"showbackground\":true,\"ticks\":\"\",\"zerolinecolor\":\"white\",\"gridwidth\":2}},\"shapedefaults\":{\"line\":{\"color\":\"#2a3f5f\"}},\"annotationdefaults\":{\"arrowcolor\":\"#2a3f5f\",\"arrowhead\":0,\"arrowwidth\":1},\"geo\":{\"bgcolor\":\"white\",\"landcolor\":\"#E5ECF6\",\"subunitcolor\":\"white\",\"showland\":true,\"showlakes\":true,\"lakecolor\":\"white\"},\"title\":{\"x\":0.05},\"mapbox\":{\"style\":\"light\"}}},\"xaxis\":{\"anchor\":\"y\",\"domain\":[0.0,1.0],\"title\":{\"text\":\"Age\"}},\"yaxis\":{\"anchor\":\"x\",\"domain\":[0.0,1.0],\"title\":{\"text\":\"Counts\"}},\"legend\":{\"title\":{\"text\":\"Attrition\"},\"tracegroupgap\":0,\"orientation\":\"h\",\"yanchor\":\"bottom\",\"y\":-0.3,\"xanchor\":\"center\",\"x\":0.5},\"title\":{\"text\":\"\\u003cb\\u003eAge Distribution within Organization with Attrition\\u003c\\u002fb\\u003e\",\"x\":0.5},\"height\":500,\"font\":{\"color\":\"#28221D\"},\"plot_bgcolor\":\"#FFF4E5\"},                        {\"responsive\": true}                    ).then(function(){\n",
              "                            \n",
              "var gd = document.getElementById('524b804f-b81c-4452-9751-d9e68991f87e');\n",
              "var x = new MutationObserver(function (mutations, observer) {{\n",
              "        var display = window.getComputedStyle(gd).display;\n",
              "        if (!display || display === 'none') {{\n",
              "            console.log([gd, 'removed!']);\n",
              "            Plotly.purge(gd);\n",
              "            observer.disconnect();\n",
              "        }}\n",
              "}});\n",
              "\n",
              "// Listen for the removal of the full notebook cells\n",
              "var notebookContainer = gd.closest('#notebook-container');\n",
              "if (notebookContainer) {{\n",
              "    x.observe(notebookContainer, {childList: true});\n",
              "}}\n",
              "\n",
              "// Listen for the clearing of the current output cell\n",
              "var outputEl = gd.closest('.output');\n",
              "if (outputEl) {{\n",
              "    x.observe(outputEl, {childList: true});\n",
              "}}\n",
              "\n",
              "                        })                };                            </script>        </div>\n",
              "</body>\n",
              "</html>"
            ]
          },
          "metadata": {}
        }
      ],
      "source": [
        "# Mengelompokkan berdasarkan age dan atrisi, menghitung daily rate, dan mengatur ulang indeks\n",
        "age_att = df[df['Attrition'] == 'Yes'].groupby(['Age', 'Attrition']).apply(lambda x: x['DailyRate'].count()).reset_index(name='Counts')\n",
        "\n",
        "# Membuat grafik garis untuk distribusi usia dalam organisasi dengan atrisi\n",
        "line_chart = px.line(age_att, x='Age', y='Counts', color='Attrition',\n",
        "                     title='<b>Age Distribution within Organization with Attrition</b>', height=500,\n",
        "                     color_discrete_map={'Yes': '#990000', 'No': '#FFF4E5'})\n",
        "\n",
        "line_chart.update_traces(texttemplate='%{text:.2f}%',\n",
        "                  textposition='top center',\n",
        "                  textfont_size=14,\n",
        "                  textfont_color='black',\n",
        "                  marker=dict(line=dict(color='#28221D', width=1)))\n",
        "\n",
        "line_chart.update_layout(title_x=0.5,\n",
        "                  legend=dict(orientation='h', yanchor='bottom', y=-0.3, xanchor='center', x=0.5),\n",
        "                  font_color='#28221D',\n",
        "                  plot_bgcolor='#FFF4E5')\n",
        "\n",
        "line_chart.show()\n"
      ]
    },
    {
      "cell_type": "markdown",
      "id": "7242ca28",
      "metadata": {
        "papermill": {
          "duration": 0.025667,
          "end_time": "2024-05-03T15:42:05.969298",
          "exception": false,
          "start_time": "2024-05-03T15:42:05.943631",
          "status": "completed"
        },
        "tags": [],
        "id": "7242ca28"
      },
      "source": [
        "\n",
        "*   Usia muda: Tingkat pengunduran diri mungkin lebih tinggi pada karyawan muda (sebelah kiri grafik). Hal ini bisa terjadi karena tahap awal karier individu masih mencari kecocokan dalam karier, menjelajahi berbagai peluang. Pola ini mencapai titik balik sekitar usia 21 tahun.\n",
        "*   Usia pertengahan: Tingkat pengunduran diri mencapai titik tertinggi pada usia tertentu (bagian tengah grafik), sekitar usia 28-32 tahun. Fase ini menjadi masa dimana karyawan mungkin mengevaluasi kembali jalur karier.\n",
        "*   Usia tua: Tingkat pengunduran diri kemungkinan menurun pada karyawan yang lebih tua (sebelah kanan grafik). Hal ini bisa disebabkan oleh meningkatnya kepentingan akan stabilitas kerja dan komitmen jangka panjang.\n",
        "\n"
      ]
    },
    {
      "cell_type": "markdown",
      "id": "c64e63e9",
      "metadata": {
        "papermill": {
          "duration": 0.025457,
          "end_time": "2024-05-03T15:42:06.023410",
          "exception": false,
          "start_time": "2024-05-03T15:42:05.997953",
          "status": "completed"
        },
        "tags": [],
        "id": "c64e63e9"
      },
      "source": [
        "<center><h2>Pengaruh Pendapatan terhadap Attrition Rates</h2></center>"
      ]
    },
    {
      "cell_type": "code",
      "execution_count": 84,
      "id": "c199ae28",
      "metadata": {
        "execution": {
          "iopub.execute_input": "2024-05-03T15:42:06.078982Z",
          "iopub.status.busy": "2024-05-03T15:42:06.078572Z",
          "iopub.status.idle": "2024-05-03T15:42:06.183456Z",
          "shell.execute_reply": "2024-05-03T15:42:06.182046Z"
        },
        "papermill": {
          "duration": 0.136256,
          "end_time": "2024-05-03T15:42:06.185819",
          "exception": false,
          "start_time": "2024-05-03T15:42:06.049563",
          "status": "completed"
        },
        "tags": [],
        "colab": {
          "base_uri": "https://localhost:8080/",
          "height": 0
        },
        "id": "c199ae28",
        "outputId": "4aa32497-157b-4046-a54d-dc4b1a9da29c"
      },
      "outputs": [
        {
          "output_type": "display_data",
          "data": {
            "text/html": [
              "<html>\n",
              "<head><meta charset=\"utf-8\" /></head>\n",
              "<body>\n",
              "    <div>            <script src=\"https://cdnjs.cloudflare.com/ajax/libs/mathjax/2.7.5/MathJax.js?config=TeX-AMS-MML_SVG\"></script><script type=\"text/javascript\">if (window.MathJax && window.MathJax.Hub && window.MathJax.Hub.Config) {window.MathJax.Hub.Config({SVG: {font: \"STIX-Web\"}});}</script>                <script type=\"text/javascript\">window.PlotlyConfig = {MathJaxConfig: 'local'};</script>\n",
              "        <script charset=\"utf-8\" src=\"https://cdn.plot.ly/plotly-2.35.2.min.js\"></script>                <div id=\"29270064-63b7-4776-95ad-395561e97b89\" class=\"plotly-graph-div\" style=\"height:500px; width:100%;\"></div>            <script type=\"text/javascript\">                                    window.PLOTLYENV=window.PLOTLYENV || {};                                    if (document.getElementById(\"29270064-63b7-4776-95ad-395561e97b89\")) {                    Plotly.newPlot(                        \"29270064-63b7-4776-95ad-395561e97b89\",                        [{\"hovertemplate\":\"Attrition=No\\u003cbr\\u003eMonthlyIncome=%{x}\\u003cbr\\u003eCounts=%{y}\\u003cextra\\u003e\\u003c\\u002fextra\\u003e\",\"legendgroup\":\"No\",\"line\":{\"color\":\"#D4AF37\",\"dash\":\"solid\"},\"marker\":{\"symbol\":\"circle\",\"line\":{\"color\":\"#28221D\",\"width\":1}},\"mode\":\"lines\",\"name\":\"No\",\"orientation\":\"v\",\"showlegend\":true,\"x\":[1000,2000,3000,4000,5000,6000,7000,8000,9000,10000,11000,12000,13000,14000,15000,16000,17000,18000,19000,20000],\"xaxis\":\"x\",\"y\":[9,122,178,150,162,98,73,44,36,52,36,17,23,25,8,14,33,20,34,21],\"yaxis\":\"y\",\"type\":\"scatter\",\"textfont\":{\"color\":\"black\",\"size\":14},\"textposition\":\"top center\",\"texttemplate\":\"%{text:.2f}%\"},{\"hovertemplate\":\"Attrition=Yes\\u003cbr\\u003eMonthlyIncome=%{x}\\u003cbr\\u003eCounts=%{y}\\u003cextra\\u003e\\u003c\\u002fextra\\u003e\",\"legendgroup\":\"Yes\",\"line\":{\"color\":\"#990000\",\"dash\":\"solid\"},\"marker\":{\"symbol\":\"circle\",\"line\":{\"color\":\"#28221D\",\"width\":1}},\"mode\":\"lines\",\"name\":\"Yes\",\"orientation\":\"v\",\"showlegend\":true,\"x\":[1000,2000,3000,4000,5000,6000,7000,8000,9000,10000,11000,12000,13000,14000,19000,20000],\"xaxis\":\"x\",\"y\":[10,64,51,19,24,13,8,7,5,17,3,2,2,3,2,3],\"yaxis\":\"y\",\"type\":\"scatter\",\"textfont\":{\"color\":\"black\",\"size\":14},\"textposition\":\"top center\",\"texttemplate\":\"%{text:.2f}%\"}],                        {\"template\":{\"data\":{\"histogram2dcontour\":[{\"type\":\"histogram2dcontour\",\"colorbar\":{\"outlinewidth\":0,\"ticks\":\"\"},\"colorscale\":[[0.0,\"#0d0887\"],[0.1111111111111111,\"#46039f\"],[0.2222222222222222,\"#7201a8\"],[0.3333333333333333,\"#9c179e\"],[0.4444444444444444,\"#bd3786\"],[0.5555555555555556,\"#d8576b\"],[0.6666666666666666,\"#ed7953\"],[0.7777777777777778,\"#fb9f3a\"],[0.8888888888888888,\"#fdca26\"],[1.0,\"#f0f921\"]]}],\"choropleth\":[{\"type\":\"choropleth\",\"colorbar\":{\"outlinewidth\":0,\"ticks\":\"\"}}],\"histogram2d\":[{\"type\":\"histogram2d\",\"colorbar\":{\"outlinewidth\":0,\"ticks\":\"\"},\"colorscale\":[[0.0,\"#0d0887\"],[0.1111111111111111,\"#46039f\"],[0.2222222222222222,\"#7201a8\"],[0.3333333333333333,\"#9c179e\"],[0.4444444444444444,\"#bd3786\"],[0.5555555555555556,\"#d8576b\"],[0.6666666666666666,\"#ed7953\"],[0.7777777777777778,\"#fb9f3a\"],[0.8888888888888888,\"#fdca26\"],[1.0,\"#f0f921\"]]}],\"heatmap\":[{\"type\":\"heatmap\",\"colorbar\":{\"outlinewidth\":0,\"ticks\":\"\"},\"colorscale\":[[0.0,\"#0d0887\"],[0.1111111111111111,\"#46039f\"],[0.2222222222222222,\"#7201a8\"],[0.3333333333333333,\"#9c179e\"],[0.4444444444444444,\"#bd3786\"],[0.5555555555555556,\"#d8576b\"],[0.6666666666666666,\"#ed7953\"],[0.7777777777777778,\"#fb9f3a\"],[0.8888888888888888,\"#fdca26\"],[1.0,\"#f0f921\"]]}],\"heatmapgl\":[{\"type\":\"heatmapgl\",\"colorbar\":{\"outlinewidth\":0,\"ticks\":\"\"},\"colorscale\":[[0.0,\"#0d0887\"],[0.1111111111111111,\"#46039f\"],[0.2222222222222222,\"#7201a8\"],[0.3333333333333333,\"#9c179e\"],[0.4444444444444444,\"#bd3786\"],[0.5555555555555556,\"#d8576b\"],[0.6666666666666666,\"#ed7953\"],[0.7777777777777778,\"#fb9f3a\"],[0.8888888888888888,\"#fdca26\"],[1.0,\"#f0f921\"]]}],\"contourcarpet\":[{\"type\":\"contourcarpet\",\"colorbar\":{\"outlinewidth\":0,\"ticks\":\"\"}}],\"contour\":[{\"type\":\"contour\",\"colorbar\":{\"outlinewidth\":0,\"ticks\":\"\"},\"colorscale\":[[0.0,\"#0d0887\"],[0.1111111111111111,\"#46039f\"],[0.2222222222222222,\"#7201a8\"],[0.3333333333333333,\"#9c179e\"],[0.4444444444444444,\"#bd3786\"],[0.5555555555555556,\"#d8576b\"],[0.6666666666666666,\"#ed7953\"],[0.7777777777777778,\"#fb9f3a\"],[0.8888888888888888,\"#fdca26\"],[1.0,\"#f0f921\"]]}],\"surface\":[{\"type\":\"surface\",\"colorbar\":{\"outlinewidth\":0,\"ticks\":\"\"},\"colorscale\":[[0.0,\"#0d0887\"],[0.1111111111111111,\"#46039f\"],[0.2222222222222222,\"#7201a8\"],[0.3333333333333333,\"#9c179e\"],[0.4444444444444444,\"#bd3786\"],[0.5555555555555556,\"#d8576b\"],[0.6666666666666666,\"#ed7953\"],[0.7777777777777778,\"#fb9f3a\"],[0.8888888888888888,\"#fdca26\"],[1.0,\"#f0f921\"]]}],\"mesh3d\":[{\"type\":\"mesh3d\",\"colorbar\":{\"outlinewidth\":0,\"ticks\":\"\"}}],\"scatter\":[{\"fillpattern\":{\"fillmode\":\"overlay\",\"size\":10,\"solidity\":0.2},\"type\":\"scatter\"}],\"parcoords\":[{\"type\":\"parcoords\",\"line\":{\"colorbar\":{\"outlinewidth\":0,\"ticks\":\"\"}}}],\"scatterpolargl\":[{\"type\":\"scatterpolargl\",\"marker\":{\"colorbar\":{\"outlinewidth\":0,\"ticks\":\"\"}}}],\"bar\":[{\"error_x\":{\"color\":\"#2a3f5f\"},\"error_y\":{\"color\":\"#2a3f5f\"},\"marker\":{\"line\":{\"color\":\"#E5ECF6\",\"width\":0.5},\"pattern\":{\"fillmode\":\"overlay\",\"size\":10,\"solidity\":0.2}},\"type\":\"bar\"}],\"scattergeo\":[{\"type\":\"scattergeo\",\"marker\":{\"colorbar\":{\"outlinewidth\":0,\"ticks\":\"\"}}}],\"scatterpolar\":[{\"type\":\"scatterpolar\",\"marker\":{\"colorbar\":{\"outlinewidth\":0,\"ticks\":\"\"}}}],\"histogram\":[{\"marker\":{\"pattern\":{\"fillmode\":\"overlay\",\"size\":10,\"solidity\":0.2}},\"type\":\"histogram\"}],\"scattergl\":[{\"type\":\"scattergl\",\"marker\":{\"colorbar\":{\"outlinewidth\":0,\"ticks\":\"\"}}}],\"scatter3d\":[{\"type\":\"scatter3d\",\"line\":{\"colorbar\":{\"outlinewidth\":0,\"ticks\":\"\"}},\"marker\":{\"colorbar\":{\"outlinewidth\":0,\"ticks\":\"\"}}}],\"scattermapbox\":[{\"type\":\"scattermapbox\",\"marker\":{\"colorbar\":{\"outlinewidth\":0,\"ticks\":\"\"}}}],\"scatterternary\":[{\"type\":\"scatterternary\",\"marker\":{\"colorbar\":{\"outlinewidth\":0,\"ticks\":\"\"}}}],\"scattercarpet\":[{\"type\":\"scattercarpet\",\"marker\":{\"colorbar\":{\"outlinewidth\":0,\"ticks\":\"\"}}}],\"carpet\":[{\"aaxis\":{\"endlinecolor\":\"#2a3f5f\",\"gridcolor\":\"white\",\"linecolor\":\"white\",\"minorgridcolor\":\"white\",\"startlinecolor\":\"#2a3f5f\"},\"baxis\":{\"endlinecolor\":\"#2a3f5f\",\"gridcolor\":\"white\",\"linecolor\":\"white\",\"minorgridcolor\":\"white\",\"startlinecolor\":\"#2a3f5f\"},\"type\":\"carpet\"}],\"table\":[{\"cells\":{\"fill\":{\"color\":\"#EBF0F8\"},\"line\":{\"color\":\"white\"}},\"header\":{\"fill\":{\"color\":\"#C8D4E3\"},\"line\":{\"color\":\"white\"}},\"type\":\"table\"}],\"barpolar\":[{\"marker\":{\"line\":{\"color\":\"#E5ECF6\",\"width\":0.5},\"pattern\":{\"fillmode\":\"overlay\",\"size\":10,\"solidity\":0.2}},\"type\":\"barpolar\"}],\"pie\":[{\"automargin\":true,\"type\":\"pie\"}]},\"layout\":{\"autotypenumbers\":\"strict\",\"colorway\":[\"#636efa\",\"#EF553B\",\"#00cc96\",\"#ab63fa\",\"#FFA15A\",\"#19d3f3\",\"#FF6692\",\"#B6E880\",\"#FF97FF\",\"#FECB52\"],\"font\":{\"color\":\"#2a3f5f\"},\"hovermode\":\"closest\",\"hoverlabel\":{\"align\":\"left\"},\"paper_bgcolor\":\"white\",\"plot_bgcolor\":\"#E5ECF6\",\"polar\":{\"bgcolor\":\"#E5ECF6\",\"angularaxis\":{\"gridcolor\":\"white\",\"linecolor\":\"white\",\"ticks\":\"\"},\"radialaxis\":{\"gridcolor\":\"white\",\"linecolor\":\"white\",\"ticks\":\"\"}},\"ternary\":{\"bgcolor\":\"#E5ECF6\",\"aaxis\":{\"gridcolor\":\"white\",\"linecolor\":\"white\",\"ticks\":\"\"},\"baxis\":{\"gridcolor\":\"white\",\"linecolor\":\"white\",\"ticks\":\"\"},\"caxis\":{\"gridcolor\":\"white\",\"linecolor\":\"white\",\"ticks\":\"\"}},\"coloraxis\":{\"colorbar\":{\"outlinewidth\":0,\"ticks\":\"\"}},\"colorscale\":{\"sequential\":[[0.0,\"#0d0887\"],[0.1111111111111111,\"#46039f\"],[0.2222222222222222,\"#7201a8\"],[0.3333333333333333,\"#9c179e\"],[0.4444444444444444,\"#bd3786\"],[0.5555555555555556,\"#d8576b\"],[0.6666666666666666,\"#ed7953\"],[0.7777777777777778,\"#fb9f3a\"],[0.8888888888888888,\"#fdca26\"],[1.0,\"#f0f921\"]],\"sequentialminus\":[[0.0,\"#0d0887\"],[0.1111111111111111,\"#46039f\"],[0.2222222222222222,\"#7201a8\"],[0.3333333333333333,\"#9c179e\"],[0.4444444444444444,\"#bd3786\"],[0.5555555555555556,\"#d8576b\"],[0.6666666666666666,\"#ed7953\"],[0.7777777777777778,\"#fb9f3a\"],[0.8888888888888888,\"#fdca26\"],[1.0,\"#f0f921\"]],\"diverging\":[[0,\"#8e0152\"],[0.1,\"#c51b7d\"],[0.2,\"#de77ae\"],[0.3,\"#f1b6da\"],[0.4,\"#fde0ef\"],[0.5,\"#f7f7f7\"],[0.6,\"#e6f5d0\"],[0.7,\"#b8e186\"],[0.8,\"#7fbc41\"],[0.9,\"#4d9221\"],[1,\"#276419\"]]},\"xaxis\":{\"gridcolor\":\"white\",\"linecolor\":\"white\",\"ticks\":\"\",\"title\":{\"standoff\":15},\"zerolinecolor\":\"white\",\"automargin\":true,\"zerolinewidth\":2},\"yaxis\":{\"gridcolor\":\"white\",\"linecolor\":\"white\",\"ticks\":\"\",\"title\":{\"standoff\":15},\"zerolinecolor\":\"white\",\"automargin\":true,\"zerolinewidth\":2},\"scene\":{\"xaxis\":{\"backgroundcolor\":\"#E5ECF6\",\"gridcolor\":\"white\",\"linecolor\":\"white\",\"showbackground\":true,\"ticks\":\"\",\"zerolinecolor\":\"white\",\"gridwidth\":2},\"yaxis\":{\"backgroundcolor\":\"#E5ECF6\",\"gridcolor\":\"white\",\"linecolor\":\"white\",\"showbackground\":true,\"ticks\":\"\",\"zerolinecolor\":\"white\",\"gridwidth\":2},\"zaxis\":{\"backgroundcolor\":\"#E5ECF6\",\"gridcolor\":\"white\",\"linecolor\":\"white\",\"showbackground\":true,\"ticks\":\"\",\"zerolinecolor\":\"white\",\"gridwidth\":2}},\"shapedefaults\":{\"line\":{\"color\":\"#2a3f5f\"}},\"annotationdefaults\":{\"arrowcolor\":\"#2a3f5f\",\"arrowhead\":0,\"arrowwidth\":1},\"geo\":{\"bgcolor\":\"white\",\"landcolor\":\"#E5ECF6\",\"subunitcolor\":\"white\",\"showland\":true,\"showlakes\":true,\"lakecolor\":\"white\"},\"title\":{\"x\":0.05},\"mapbox\":{\"style\":\"light\"}}},\"xaxis\":{\"anchor\":\"y\",\"domain\":[0.0,1.0],\"title\":{\"text\":\"MonthlyIncome\"}},\"yaxis\":{\"anchor\":\"x\",\"domain\":[0.0,1.0],\"title\":{\"text\":\"Counts\"}},\"legend\":{\"title\":{\"text\":\"Attrition\"},\"tracegroupgap\":0,\"orientation\":\"h\",\"yanchor\":\"bottom\",\"y\":-0.2,\"xanchor\":\"center\",\"x\":0.5},\"title\":{\"text\":\"\\u003cb\\u003eMonthly Income-based Counts of People in an Organization\\u003c\\u002fb\\u003e\",\"x\":0.5},\"height\":500,\"font\":{\"color\":\"#28221D\"},\"plot_bgcolor\":\"#FFF4E5\"},                        {\"responsive\": true}                    ).then(function(){\n",
              "                            \n",
              "var gd = document.getElementById('29270064-63b7-4776-95ad-395561e97b89');\n",
              "var x = new MutationObserver(function (mutations, observer) {{\n",
              "        var display = window.getComputedStyle(gd).display;\n",
              "        if (!display || display === 'none') {{\n",
              "            console.log([gd, 'removed!']);\n",
              "            Plotly.purge(gd);\n",
              "            observer.disconnect();\n",
              "        }}\n",
              "}});\n",
              "\n",
              "// Listen for the removal of the full notebook cells\n",
              "var notebookContainer = gd.closest('#notebook-container');\n",
              "if (notebookContainer) {{\n",
              "    x.observe(notebookContainer, {childList: true});\n",
              "}}\n",
              "\n",
              "// Listen for the clearing of the current output cell\n",
              "var outputEl = gd.closest('.output');\n",
              "if (outputEl) {{\n",
              "    x.observe(outputEl, {childList: true});\n",
              "}}\n",
              "\n",
              "                        })                };                            </script>        </div>\n",
              "</body>\n",
              "</html>"
            ]
          },
          "metadata": {}
        }
      ],
      "source": [
        "# Mengelompokkan berdasarkan monthly income dan attrition status\n",
        "rate_att = df.groupby(['MonthlyIncome', 'Attrition']).size().reset_index(name='Counts')\n",
        "rate_att['MonthlyIncome'] = round(rate_att['MonthlyIncome'], -3)\n",
        "rate_att = rate_att.groupby(['MonthlyIncome', 'Attrition']).size().reset_index(name='Counts')\n",
        "\n",
        "line_chart = px.line(rate_att, x='MonthlyIncome', y='Counts', color='Attrition',\n",
        "                     title='<b>Monthly Income-based Counts of People in an Organization</b>', height=500,\n",
        "                     color_discrete_map={'Yes': '#990000', 'No': '#D4AF37'})\n",
        "\n",
        "line_chart.update_traces(texttemplate='%{text:.2f}%',\n",
        "                  textposition='top center',\n",
        "                  textfont_size=14,\n",
        "                  textfont_color='black',\n",
        "                  marker=dict(line=dict(color='#28221D', width=1)))\n",
        "\n",
        "line_chart.update_layout(title_x=0.5,\n",
        "                  legend=dict(orientation='h', yanchor='bottom', y=-0.2, xanchor='center', x=0.5),\n",
        "                  font_color='#28221D',\n",
        "                  plot_bgcolor='#FFF4E5')\n",
        "line_chart.show()"
      ]
    },
    {
      "cell_type": "markdown",
      "id": "55847737",
      "metadata": {
        "papermill": {
          "duration": 0.026871,
          "end_time": "2024-05-03T15:42:06.301956",
          "exception": false,
          "start_time": "2024-05-03T15:42:06.275085",
          "status": "completed"
        },
        "tags": [],
        "id": "55847737"
      },
      "source": [
        "Grafik menunjukkan adanya peningkatan yang signifikan dalam tingkat atrisi pada pendapatan yang sangat rendah, khususnya di bawah 5.000 per bulan. <br> <br>\n",
        "Tren ini berangsur-angsur menurun, dengan sedikit peningkatan yang terlihat di sekitar angka 10.000, yang mengindikasikan pencaharian kelas menengah.\n",
        "Individu dalam kelompok pendapatan ini sering kali bercita-cita untuk meningkatkan standar hidup yang mendorong mereka untuk mencari peluang kerja baru. <br> <br>\n",
        "Sebaliknya, ketika pendapatan bulanan mencapai tingkat yang lebih nyaman, kemungkinan pergantian karyawan berkurang, sebagaimana dibuktikan oleh garis datar yang stabil."
      ]
    },
    {
      "cell_type": "markdown",
      "id": "a5842c33",
      "metadata": {
        "papermill": {
          "duration": 0.02682,
          "end_time": "2024-05-03T15:42:06.355293",
          "exception": false,
          "start_time": "2024-05-03T15:42:06.328473",
          "status": "completed"
        },
        "tags": [],
        "id": "a5842c33"
      },
      "source": [
        "<center> <h2>Dampak Kepuasan Kerja terhadap Attraksi dengan Rata-rata Gaji Bulanan</h2> </center>"
      ]
    },
    {
      "cell_type": "code",
      "execution_count": 85,
      "id": "072da91e",
      "metadata": {
        "execution": {
          "iopub.execute_input": "2024-05-03T15:42:06.409988Z",
          "iopub.status.busy": "2024-05-03T15:42:06.409597Z",
          "iopub.status.idle": "2024-05-03T15:42:06.596618Z",
          "shell.execute_reply": "2024-05-03T15:42:06.595200Z"
        },
        "papermill": {
          "duration": 0.21802,
          "end_time": "2024-05-03T15:42:06.599554",
          "exception": false,
          "start_time": "2024-05-03T15:42:06.381534",
          "status": "completed"
        },
        "tags": [],
        "colab": {
          "base_uri": "https://localhost:8080/",
          "height": 0
        },
        "id": "072da91e",
        "outputId": "f0248458-5ab4-4a60-9714-90a46d5b0a75"
      },
      "outputs": [
        {
          "output_type": "display_data",
          "data": {
            "text/html": [
              "<html>\n",
              "<head><meta charset=\"utf-8\" /></head>\n",
              "<body>\n",
              "    <div>            <script src=\"https://cdnjs.cloudflare.com/ajax/libs/mathjax/2.7.5/MathJax.js?config=TeX-AMS-MML_SVG\"></script><script type=\"text/javascript\">if (window.MathJax && window.MathJax.Hub && window.MathJax.Hub.Config) {window.MathJax.Hub.Config({SVG: {font: \"STIX-Web\"}});}</script>                <script type=\"text/javascript\">window.PlotlyConfig = {MathJaxConfig: 'local'};</script>\n",
              "        <script charset=\"utf-8\" src=\"https://cdn.plot.ly/plotly-2.35.2.min.js\"></script>                <div id=\"e7b6bce4-faa0-4120-88f6-f420dfc67c55\" class=\"plotly-graph-div\" style=\"height:500px; width:100%;\"></div>            <script type=\"text/javascript\">                                    window.PLOTLYENV=window.PLOTLYENV || {};                                    if (document.getElementById(\"e7b6bce4-faa0-4120-88f6-f420dfc67c55\")) {                    Plotly.newPlot(                        \"e7b6bce4-faa0-4120-88f6-f420dfc67c55\",                        [{\"alignmentgroup\":\"True\",\"hovertemplate\":\"Attrition=No\\u003cbr\\u003eLevel of Job Satisfaction=%{x}\\u003cbr\\u003eAverage Monthly Income=%{y}\\u003cextra\\u003e\\u003c\\u002fextra\\u003e\",\"legendgroup\":\"No\",\"marker\":{\"color\":\"#D4AF37\",\"pattern\":{\"shape\":\"\"},\"line\":{\"color\":\"#28221D\",\"width\":1}},\"name\":\"No\",\"offsetgroup\":\"No\",\"orientation\":\"v\",\"showlegend\":true,\"textposition\":\"outside\",\"x\":[\"High\",\"Low\",\"Medium\",\"Very High\"],\"xaxis\":\"x\",\"y\":[6853.3116531165315,7096.90134529148,6834.893162393162,6668.113022113022],\"yaxis\":\"y\",\"type\":\"bar\",\"textfont\":{\"color\":\"black\",\"size\":14}},{\"alignmentgroup\":\"True\",\"hovertemplate\":\"Attrition=Yes\\u003cbr\\u003eLevel of Job Satisfaction=%{x}\\u003cbr\\u003eAverage Monthly Income=%{y}\\u003cextra\\u003e\\u003c\\u002fextra\\u003e\",\"legendgroup\":\"Yes\",\"marker\":{\"color\":\"#990000\",\"pattern\":{\"shape\":\"\"},\"line\":{\"color\":\"#28221D\",\"width\":1}},\"name\":\"Yes\",\"offsetgroup\":\"Yes\",\"orientation\":\"v\",\"showlegend\":true,\"textposition\":\"outside\",\"x\":[\"High\",\"Low\",\"Medium\",\"Very High\"],\"xaxis\":\"x\",\"y\":[4595.986301369863,4752.80303030303,4962.760869565217,4943.5],\"yaxis\":\"y\",\"type\":\"bar\",\"textfont\":{\"color\":\"black\",\"size\":14}}],                        {\"template\":{\"data\":{\"histogram2dcontour\":[{\"type\":\"histogram2dcontour\",\"colorbar\":{\"outlinewidth\":0,\"ticks\":\"\"},\"colorscale\":[[0.0,\"#0d0887\"],[0.1111111111111111,\"#46039f\"],[0.2222222222222222,\"#7201a8\"],[0.3333333333333333,\"#9c179e\"],[0.4444444444444444,\"#bd3786\"],[0.5555555555555556,\"#d8576b\"],[0.6666666666666666,\"#ed7953\"],[0.7777777777777778,\"#fb9f3a\"],[0.8888888888888888,\"#fdca26\"],[1.0,\"#f0f921\"]]}],\"choropleth\":[{\"type\":\"choropleth\",\"colorbar\":{\"outlinewidth\":0,\"ticks\":\"\"}}],\"histogram2d\":[{\"type\":\"histogram2d\",\"colorbar\":{\"outlinewidth\":0,\"ticks\":\"\"},\"colorscale\":[[0.0,\"#0d0887\"],[0.1111111111111111,\"#46039f\"],[0.2222222222222222,\"#7201a8\"],[0.3333333333333333,\"#9c179e\"],[0.4444444444444444,\"#bd3786\"],[0.5555555555555556,\"#d8576b\"],[0.6666666666666666,\"#ed7953\"],[0.7777777777777778,\"#fb9f3a\"],[0.8888888888888888,\"#fdca26\"],[1.0,\"#f0f921\"]]}],\"heatmap\":[{\"type\":\"heatmap\",\"colorbar\":{\"outlinewidth\":0,\"ticks\":\"\"},\"colorscale\":[[0.0,\"#0d0887\"],[0.1111111111111111,\"#46039f\"],[0.2222222222222222,\"#7201a8\"],[0.3333333333333333,\"#9c179e\"],[0.4444444444444444,\"#bd3786\"],[0.5555555555555556,\"#d8576b\"],[0.6666666666666666,\"#ed7953\"],[0.7777777777777778,\"#fb9f3a\"],[0.8888888888888888,\"#fdca26\"],[1.0,\"#f0f921\"]]}],\"heatmapgl\":[{\"type\":\"heatmapgl\",\"colorbar\":{\"outlinewidth\":0,\"ticks\":\"\"},\"colorscale\":[[0.0,\"#0d0887\"],[0.1111111111111111,\"#46039f\"],[0.2222222222222222,\"#7201a8\"],[0.3333333333333333,\"#9c179e\"],[0.4444444444444444,\"#bd3786\"],[0.5555555555555556,\"#d8576b\"],[0.6666666666666666,\"#ed7953\"],[0.7777777777777778,\"#fb9f3a\"],[0.8888888888888888,\"#fdca26\"],[1.0,\"#f0f921\"]]}],\"contourcarpet\":[{\"type\":\"contourcarpet\",\"colorbar\":{\"outlinewidth\":0,\"ticks\":\"\"}}],\"contour\":[{\"type\":\"contour\",\"colorbar\":{\"outlinewidth\":0,\"ticks\":\"\"},\"colorscale\":[[0.0,\"#0d0887\"],[0.1111111111111111,\"#46039f\"],[0.2222222222222222,\"#7201a8\"],[0.3333333333333333,\"#9c179e\"],[0.4444444444444444,\"#bd3786\"],[0.5555555555555556,\"#d8576b\"],[0.6666666666666666,\"#ed7953\"],[0.7777777777777778,\"#fb9f3a\"],[0.8888888888888888,\"#fdca26\"],[1.0,\"#f0f921\"]]}],\"surface\":[{\"type\":\"surface\",\"colorbar\":{\"outlinewidth\":0,\"ticks\":\"\"},\"colorscale\":[[0.0,\"#0d0887\"],[0.1111111111111111,\"#46039f\"],[0.2222222222222222,\"#7201a8\"],[0.3333333333333333,\"#9c179e\"],[0.4444444444444444,\"#bd3786\"],[0.5555555555555556,\"#d8576b\"],[0.6666666666666666,\"#ed7953\"],[0.7777777777777778,\"#fb9f3a\"],[0.8888888888888888,\"#fdca26\"],[1.0,\"#f0f921\"]]}],\"mesh3d\":[{\"type\":\"mesh3d\",\"colorbar\":{\"outlinewidth\":0,\"ticks\":\"\"}}],\"scatter\":[{\"fillpattern\":{\"fillmode\":\"overlay\",\"size\":10,\"solidity\":0.2},\"type\":\"scatter\"}],\"parcoords\":[{\"type\":\"parcoords\",\"line\":{\"colorbar\":{\"outlinewidth\":0,\"ticks\":\"\"}}}],\"scatterpolargl\":[{\"type\":\"scatterpolargl\",\"marker\":{\"colorbar\":{\"outlinewidth\":0,\"ticks\":\"\"}}}],\"bar\":[{\"error_x\":{\"color\":\"#2a3f5f\"},\"error_y\":{\"color\":\"#2a3f5f\"},\"marker\":{\"line\":{\"color\":\"#E5ECF6\",\"width\":0.5},\"pattern\":{\"fillmode\":\"overlay\",\"size\":10,\"solidity\":0.2}},\"type\":\"bar\"}],\"scattergeo\":[{\"type\":\"scattergeo\",\"marker\":{\"colorbar\":{\"outlinewidth\":0,\"ticks\":\"\"}}}],\"scatterpolar\":[{\"type\":\"scatterpolar\",\"marker\":{\"colorbar\":{\"outlinewidth\":0,\"ticks\":\"\"}}}],\"histogram\":[{\"marker\":{\"pattern\":{\"fillmode\":\"overlay\",\"size\":10,\"solidity\":0.2}},\"type\":\"histogram\"}],\"scattergl\":[{\"type\":\"scattergl\",\"marker\":{\"colorbar\":{\"outlinewidth\":0,\"ticks\":\"\"}}}],\"scatter3d\":[{\"type\":\"scatter3d\",\"line\":{\"colorbar\":{\"outlinewidth\":0,\"ticks\":\"\"}},\"marker\":{\"colorbar\":{\"outlinewidth\":0,\"ticks\":\"\"}}}],\"scattermapbox\":[{\"type\":\"scattermapbox\",\"marker\":{\"colorbar\":{\"outlinewidth\":0,\"ticks\":\"\"}}}],\"scatterternary\":[{\"type\":\"scatterternary\",\"marker\":{\"colorbar\":{\"outlinewidth\":0,\"ticks\":\"\"}}}],\"scattercarpet\":[{\"type\":\"scattercarpet\",\"marker\":{\"colorbar\":{\"outlinewidth\":0,\"ticks\":\"\"}}}],\"carpet\":[{\"aaxis\":{\"endlinecolor\":\"#2a3f5f\",\"gridcolor\":\"white\",\"linecolor\":\"white\",\"minorgridcolor\":\"white\",\"startlinecolor\":\"#2a3f5f\"},\"baxis\":{\"endlinecolor\":\"#2a3f5f\",\"gridcolor\":\"white\",\"linecolor\":\"white\",\"minorgridcolor\":\"white\",\"startlinecolor\":\"#2a3f5f\"},\"type\":\"carpet\"}],\"table\":[{\"cells\":{\"fill\":{\"color\":\"#EBF0F8\"},\"line\":{\"color\":\"white\"}},\"header\":{\"fill\":{\"color\":\"#C8D4E3\"},\"line\":{\"color\":\"white\"}},\"type\":\"table\"}],\"barpolar\":[{\"marker\":{\"line\":{\"color\":\"#E5ECF6\",\"width\":0.5},\"pattern\":{\"fillmode\":\"overlay\",\"size\":10,\"solidity\":0.2}},\"type\":\"barpolar\"}],\"pie\":[{\"automargin\":true,\"type\":\"pie\"}]},\"layout\":{\"autotypenumbers\":\"strict\",\"colorway\":[\"#636efa\",\"#EF553B\",\"#00cc96\",\"#ab63fa\",\"#FFA15A\",\"#19d3f3\",\"#FF6692\",\"#B6E880\",\"#FF97FF\",\"#FECB52\"],\"font\":{\"color\":\"#2a3f5f\"},\"hovermode\":\"closest\",\"hoverlabel\":{\"align\":\"left\"},\"paper_bgcolor\":\"white\",\"plot_bgcolor\":\"#E5ECF6\",\"polar\":{\"bgcolor\":\"#E5ECF6\",\"angularaxis\":{\"gridcolor\":\"white\",\"linecolor\":\"white\",\"ticks\":\"\"},\"radialaxis\":{\"gridcolor\":\"white\",\"linecolor\":\"white\",\"ticks\":\"\"}},\"ternary\":{\"bgcolor\":\"#E5ECF6\",\"aaxis\":{\"gridcolor\":\"white\",\"linecolor\":\"white\",\"ticks\":\"\"},\"baxis\":{\"gridcolor\":\"white\",\"linecolor\":\"white\",\"ticks\":\"\"},\"caxis\":{\"gridcolor\":\"white\",\"linecolor\":\"white\",\"ticks\":\"\"}},\"coloraxis\":{\"colorbar\":{\"outlinewidth\":0,\"ticks\":\"\"}},\"colorscale\":{\"sequential\":[[0.0,\"#0d0887\"],[0.1111111111111111,\"#46039f\"],[0.2222222222222222,\"#7201a8\"],[0.3333333333333333,\"#9c179e\"],[0.4444444444444444,\"#bd3786\"],[0.5555555555555556,\"#d8576b\"],[0.6666666666666666,\"#ed7953\"],[0.7777777777777778,\"#fb9f3a\"],[0.8888888888888888,\"#fdca26\"],[1.0,\"#f0f921\"]],\"sequentialminus\":[[0.0,\"#0d0887\"],[0.1111111111111111,\"#46039f\"],[0.2222222222222222,\"#7201a8\"],[0.3333333333333333,\"#9c179e\"],[0.4444444444444444,\"#bd3786\"],[0.5555555555555556,\"#d8576b\"],[0.6666666666666666,\"#ed7953\"],[0.7777777777777778,\"#fb9f3a\"],[0.8888888888888888,\"#fdca26\"],[1.0,\"#f0f921\"]],\"diverging\":[[0,\"#8e0152\"],[0.1,\"#c51b7d\"],[0.2,\"#de77ae\"],[0.3,\"#f1b6da\"],[0.4,\"#fde0ef\"],[0.5,\"#f7f7f7\"],[0.6,\"#e6f5d0\"],[0.7,\"#b8e186\"],[0.8,\"#7fbc41\"],[0.9,\"#4d9221\"],[1,\"#276419\"]]},\"xaxis\":{\"gridcolor\":\"white\",\"linecolor\":\"white\",\"ticks\":\"\",\"title\":{\"standoff\":15},\"zerolinecolor\":\"white\",\"automargin\":true,\"zerolinewidth\":2},\"yaxis\":{\"gridcolor\":\"white\",\"linecolor\":\"white\",\"ticks\":\"\",\"title\":{\"standoff\":15},\"zerolinecolor\":\"white\",\"automargin\":true,\"zerolinewidth\":2},\"scene\":{\"xaxis\":{\"backgroundcolor\":\"#E5ECF6\",\"gridcolor\":\"white\",\"linecolor\":\"white\",\"showbackground\":true,\"ticks\":\"\",\"zerolinecolor\":\"white\",\"gridwidth\":2},\"yaxis\":{\"backgroundcolor\":\"#E5ECF6\",\"gridcolor\":\"white\",\"linecolor\":\"white\",\"showbackground\":true,\"ticks\":\"\",\"zerolinecolor\":\"white\",\"gridwidth\":2},\"zaxis\":{\"backgroundcolor\":\"#E5ECF6\",\"gridcolor\":\"white\",\"linecolor\":\"white\",\"showbackground\":true,\"ticks\":\"\",\"zerolinecolor\":\"white\",\"gridwidth\":2}},\"shapedefaults\":{\"line\":{\"color\":\"#2a3f5f\"}},\"annotationdefaults\":{\"arrowcolor\":\"#2a3f5f\",\"arrowhead\":0,\"arrowwidth\":1},\"geo\":{\"bgcolor\":\"white\",\"landcolor\":\"#E5ECF6\",\"subunitcolor\":\"white\",\"showland\":true,\"showlakes\":true,\"lakecolor\":\"white\"},\"title\":{\"x\":0.05},\"mapbox\":{\"style\":\"light\"}}},\"xaxis\":{\"anchor\":\"y\",\"domain\":[0.0,1.0],\"title\":{\"text\":\"Level of Job Satisfaction\"},\"categoryorder\":\"array\",\"categoryarray\":[\"High\",\"Low\",\"Medium\",\"Very High\"]},\"yaxis\":{\"anchor\":\"x\",\"domain\":[0.0,1.0],\"title\":{\"text\":\"Average Monthly Income\"}},\"legend\":{\"title\":{\"text\":\"Attrition\"},\"tracegroupgap\":0,\"orientation\":\"h\",\"yanchor\":\"bottom\",\"y\":-0.2,\"xanchor\":\"center\",\"x\":0.49},\"title\":{\"text\":\"\\u003cb\\u003eAverage Income and Job Satisfaction by Attrition Status\\u003c\\u002fb\\u003e\",\"x\":0.5},\"barmode\":\"group\",\"height\":500,\"annotations\":[{\"font\":{\"color\":\"black\",\"size\":12},\"showarrow\":false,\"text\":\"6853.31\",\"x\":\"High\",\"xshift\":-45,\"y\":6853.3116531165315,\"yshift\":10},{\"font\":{\"color\":\"black\",\"size\":12},\"showarrow\":false,\"text\":\"7096.9\",\"x\":\"Low\",\"xshift\":-45,\"y\":7096.90134529148,\"yshift\":10},{\"font\":{\"color\":\"black\",\"size\":12},\"showarrow\":false,\"text\":\"6834.89\",\"x\":\"Medium\",\"xshift\":-45,\"y\":6834.893162393162,\"yshift\":10},{\"font\":{\"color\":\"black\",\"size\":12},\"showarrow\":false,\"text\":\"6668.11\",\"x\":\"Very High\",\"xshift\":-45,\"y\":6668.113022113022,\"yshift\":10},{\"font\":{\"color\":\"black\",\"size\":12},\"showarrow\":false,\"text\":\"4595.99\",\"x\":\"High\",\"xshift\":45,\"y\":4595.986301369863,\"yshift\":10},{\"font\":{\"color\":\"black\",\"size\":12},\"showarrow\":false,\"text\":\"4752.8\",\"x\":\"Low\",\"xshift\":45,\"y\":4752.80303030303,\"yshift\":10},{\"font\":{\"color\":\"black\",\"size\":12},\"showarrow\":false,\"text\":\"4962.76\",\"x\":\"Medium\",\"xshift\":45,\"y\":4962.760869565217,\"yshift\":10},{\"font\":{\"color\":\"black\",\"size\":12},\"showarrow\":false,\"text\":\"4943.5\",\"x\":\"Very High\",\"xshift\":45,\"y\":4943.5,\"yshift\":10}],\"font\":{\"color\":\"#28221D\"},\"plot_bgcolor\":\"#FFFFFF\"},                        {\"responsive\": true}                    ).then(function(){\n",
              "                            \n",
              "var gd = document.getElementById('e7b6bce4-faa0-4120-88f6-f420dfc67c55');\n",
              "var x = new MutationObserver(function (mutations, observer) {{\n",
              "        var display = window.getComputedStyle(gd).display;\n",
              "        if (!display || display === 'none') {{\n",
              "            console.log([gd, 'removed!']);\n",
              "            Plotly.purge(gd);\n",
              "            observer.disconnect();\n",
              "        }}\n",
              "}});\n",
              "\n",
              "// Listen for the removal of the full notebook cells\n",
              "var notebookContainer = gd.closest('#notebook-container');\n",
              "if (notebookContainer) {{\n",
              "    x.observe(notebookContainer, {childList: true});\n",
              "}}\n",
              "\n",
              "// Listen for the clearing of the current output cell\n",
              "var outputEl = gd.closest('.output');\n",
              "if (outputEl) {{\n",
              "    x.observe(outputEl, {childList: true});\n",
              "}}\n",
              "\n",
              "                        })                };                            </script>        </div>\n",
              "</body>\n",
              "</html>"
            ]
          },
          "metadata": {}
        }
      ],
      "source": [
        "# Mapping job satisfaction level\n",
        "job_satisfaction_labels = {\n",
        "    1: 'Low',\n",
        "    2: 'Medium',\n",
        "    3: 'High',\n",
        "    4: 'Very High'\n",
        "}\n",
        "\n",
        "# Convert 'JobSatisfaction' ke text labels\n",
        "df['JobSatisfaction'] = df['JobSatisfaction'].map(job_satisfaction_labels)\n",
        "\n",
        "# Pengelompokkan data by 'JobSatisfaction' dan 'Attrition', calculate average monthly income\n",
        "avg_inc = df.groupby(['JobSatisfaction', 'Attrition'])['MonthlyIncome'].mean().reset_index()\n",
        "\n",
        "# Create plot\n",
        "fig = px.bar(avg_inc, x='JobSatisfaction', y='MonthlyIncome', color='Attrition', barmode='group',\n",
        "             title='<b>Average Income and Job Satisfaction by Attrition Status</b>',\n",
        "             labels={'JobSatisfaction': 'Level of Job Satisfaction', 'MonthlyIncome': 'Average Monthly Income'},\n",
        "             category_orders={'JobSatisfaction': sorted(df['JobSatisfaction'].unique())}, height=500,\n",
        "            color_discrete_map={'Yes': '#990000', 'No': '#D4AF37'})  #\n",
        "\n",
        "# Add data labels with adjusted positions\n",
        "for trace in fig.data:\n",
        "    if trace.name == 'Yes':\n",
        "        for i, label in enumerate(trace.y):\n",
        "            fig.add_annotation(x=trace.x[i], y=label, text=str(round(label, 2)),\n",
        "                               showarrow=False, font=dict(color='black', size=12), yshift=10, xshift=45)\n",
        "    else:\n",
        "        for i, label in enumerate(trace.y):\n",
        "            fig.add_annotation(x=trace.x[i], y=label, text=str(round(label, 2)),\n",
        "                               showarrow=False, font=dict(color='black', size=12), yshift=10, xshift=-45)\n",
        "\n",
        "# Add percentage labels to the bars\n",
        "fig.update_traces(textposition='outside',\n",
        "                  textfont_size=14,\n",
        "                  textfont_color='black',\n",
        "                  marker=dict(line=dict(color='#28221D', width=1)))\n",
        "\n",
        "fig.update_layout(title_x=0.5,\n",
        "                  legend=dict(orientation='h', yanchor='bottom', y=-0.2, xanchor='center', x=0.49),\n",
        "                  font_color='#28221D',\n",
        "                  plot_bgcolor='#FFFFFF')\n",
        "\n",
        "fig.show()"
      ]
    },
    {
      "cell_type": "markdown",
      "id": "fcfcaf4e",
      "metadata": {
        "papermill": {
          "duration": 0.027349,
          "end_time": "2024-05-03T15:42:06.654612",
          "exception": false,
          "start_time": "2024-05-03T15:42:06.627263",
          "status": "completed"
        },
        "tags": [],
        "id": "fcfcaf4e"
      },
      "source": [
        "Individu dengan tingkat kepuasan kerja yang lebih rendah lebih cenderung melakukan atrisi. Tren ini terutama terlihat di antara mereka yang mendapatkan gaji bulanan rata-rata $4596, yang mengindikasikan bahwa ketidakpuasan dapat mendorong perputaran karyawan.\n",
        "\n",
        "Sebaliknya, individu dengan tingkat kepuasan yang lebih tinggi, terutama mereka yang mendapatkan gaji bulanan rata-rata $6853, lebih cenderung untuk tetap bersama perusahaan. Hal ini menunjukkan bahwa kepuasan kerja memainkan peran penting dalam retensi karyawan, dengan tingkat kepuasan yang lebih tinggi dapat mengurangi risiko atrisi."
      ]
    },
    {
      "cell_type": "markdown",
      "id": "37fe1ca4",
      "metadata": {
        "papermill": {
          "duration": 0.026346,
          "end_time": "2024-05-03T15:42:06.708559",
          "exception": false,
          "start_time": "2024-05-03T15:42:06.682213",
          "status": "completed"
        },
        "tags": [],
        "id": "37fe1ca4"
      },
      "source": [
        "<center> <h2>Analisis Attrition Rates di Seluruh Departements</h2> </center>"
      ]
    },
    {
      "cell_type": "code",
      "execution_count": 86,
      "id": "28d2f407",
      "metadata": {
        "execution": {
          "iopub.execute_input": "2024-05-03T15:42:06.765687Z",
          "iopub.status.busy": "2024-05-03T15:42:06.764519Z",
          "iopub.status.idle": "2024-05-03T15:42:06.877434Z",
          "shell.execute_reply": "2024-05-03T15:42:06.876163Z"
        },
        "papermill": {
          "duration": 0.144361,
          "end_time": "2024-05-03T15:42:06.879853",
          "exception": false,
          "start_time": "2024-05-03T15:42:06.735492",
          "status": "completed"
        },
        "tags": [],
        "colab": {
          "base_uri": "https://localhost:8080/",
          "height": 0
        },
        "id": "28d2f407",
        "outputId": "b271d188-350e-48f3-879d-f3e13aeae4e4"
      },
      "outputs": [
        {
          "output_type": "display_data",
          "data": {
            "text/html": [
              "<html>\n",
              "<head><meta charset=\"utf-8\" /></head>\n",
              "<body>\n",
              "    <div>            <script src=\"https://cdnjs.cloudflare.com/ajax/libs/mathjax/2.7.5/MathJax.js?config=TeX-AMS-MML_SVG\"></script><script type=\"text/javascript\">if (window.MathJax && window.MathJax.Hub && window.MathJax.Hub.Config) {window.MathJax.Hub.Config({SVG: {font: \"STIX-Web\"}});}</script>                <script type=\"text/javascript\">window.PlotlyConfig = {MathJaxConfig: 'local'};</script>\n",
              "        <script charset=\"utf-8\" src=\"https://cdn.plot.ly/plotly-2.35.2.min.js\"></script>                <div id=\"03b72f3c-4ad8-4a62-8bcd-c5760c6fb1a5\" class=\"plotly-graph-div\" style=\"height:500px; width:100%;\"></div>            <script type=\"text/javascript\">                                    window.PLOTLYENV=window.PLOTLYENV || {};                                    if (document.getElementById(\"03b72f3c-4ad8-4a62-8bcd-c5760c6fb1a5\")) {                    Plotly.newPlot(                        \"03b72f3c-4ad8-4a62-8bcd-c5760c6fb1a5\",                        [{\"alignmentgroup\":\"True\",\"hovertemplate\":\"Attrition=Yes\\u003cbr\\u003eDepartment=%{x}\\u003cbr\\u003eCount=%{text}\\u003cextra\\u003e\\u003c\\u002fextra\\u003e\",\"legendgroup\":\"Yes\",\"marker\":{\"color\":\"#990000\",\"pattern\":{\"shape\":\"\"},\"line\":{\"color\":\"#28221D\",\"width\":1}},\"name\":\"Yes\",\"offsetgroup\":\"Yes\",\"orientation\":\"v\",\"showlegend\":true,\"text\":[12.0,133.0,92.0],\"textposition\":\"outside\",\"x\":[\"Human Resources\",\"Research & Development\",\"Sales\"],\"xaxis\":\"x\",\"y\":[12,133,92],\"yaxis\":\"y\",\"type\":\"bar\",\"textfont\":{\"color\":\"black\",\"size\":14},\"texttemplate\":\"%{text:}\"}],                        {\"template\":{\"data\":{\"histogram2dcontour\":[{\"type\":\"histogram2dcontour\",\"colorbar\":{\"outlinewidth\":0,\"ticks\":\"\"},\"colorscale\":[[0.0,\"#0d0887\"],[0.1111111111111111,\"#46039f\"],[0.2222222222222222,\"#7201a8\"],[0.3333333333333333,\"#9c179e\"],[0.4444444444444444,\"#bd3786\"],[0.5555555555555556,\"#d8576b\"],[0.6666666666666666,\"#ed7953\"],[0.7777777777777778,\"#fb9f3a\"],[0.8888888888888888,\"#fdca26\"],[1.0,\"#f0f921\"]]}],\"choropleth\":[{\"type\":\"choropleth\",\"colorbar\":{\"outlinewidth\":0,\"ticks\":\"\"}}],\"histogram2d\":[{\"type\":\"histogram2d\",\"colorbar\":{\"outlinewidth\":0,\"ticks\":\"\"},\"colorscale\":[[0.0,\"#0d0887\"],[0.1111111111111111,\"#46039f\"],[0.2222222222222222,\"#7201a8\"],[0.3333333333333333,\"#9c179e\"],[0.4444444444444444,\"#bd3786\"],[0.5555555555555556,\"#d8576b\"],[0.6666666666666666,\"#ed7953\"],[0.7777777777777778,\"#fb9f3a\"],[0.8888888888888888,\"#fdca26\"],[1.0,\"#f0f921\"]]}],\"heatmap\":[{\"type\":\"heatmap\",\"colorbar\":{\"outlinewidth\":0,\"ticks\":\"\"},\"colorscale\":[[0.0,\"#0d0887\"],[0.1111111111111111,\"#46039f\"],[0.2222222222222222,\"#7201a8\"],[0.3333333333333333,\"#9c179e\"],[0.4444444444444444,\"#bd3786\"],[0.5555555555555556,\"#d8576b\"],[0.6666666666666666,\"#ed7953\"],[0.7777777777777778,\"#fb9f3a\"],[0.8888888888888888,\"#fdca26\"],[1.0,\"#f0f921\"]]}],\"heatmapgl\":[{\"type\":\"heatmapgl\",\"colorbar\":{\"outlinewidth\":0,\"ticks\":\"\"},\"colorscale\":[[0.0,\"#0d0887\"],[0.1111111111111111,\"#46039f\"],[0.2222222222222222,\"#7201a8\"],[0.3333333333333333,\"#9c179e\"],[0.4444444444444444,\"#bd3786\"],[0.5555555555555556,\"#d8576b\"],[0.6666666666666666,\"#ed7953\"],[0.7777777777777778,\"#fb9f3a\"],[0.8888888888888888,\"#fdca26\"],[1.0,\"#f0f921\"]]}],\"contourcarpet\":[{\"type\":\"contourcarpet\",\"colorbar\":{\"outlinewidth\":0,\"ticks\":\"\"}}],\"contour\":[{\"type\":\"contour\",\"colorbar\":{\"outlinewidth\":0,\"ticks\":\"\"},\"colorscale\":[[0.0,\"#0d0887\"],[0.1111111111111111,\"#46039f\"],[0.2222222222222222,\"#7201a8\"],[0.3333333333333333,\"#9c179e\"],[0.4444444444444444,\"#bd3786\"],[0.5555555555555556,\"#d8576b\"],[0.6666666666666666,\"#ed7953\"],[0.7777777777777778,\"#fb9f3a\"],[0.8888888888888888,\"#fdca26\"],[1.0,\"#f0f921\"]]}],\"surface\":[{\"type\":\"surface\",\"colorbar\":{\"outlinewidth\":0,\"ticks\":\"\"},\"colorscale\":[[0.0,\"#0d0887\"],[0.1111111111111111,\"#46039f\"],[0.2222222222222222,\"#7201a8\"],[0.3333333333333333,\"#9c179e\"],[0.4444444444444444,\"#bd3786\"],[0.5555555555555556,\"#d8576b\"],[0.6666666666666666,\"#ed7953\"],[0.7777777777777778,\"#fb9f3a\"],[0.8888888888888888,\"#fdca26\"],[1.0,\"#f0f921\"]]}],\"mesh3d\":[{\"type\":\"mesh3d\",\"colorbar\":{\"outlinewidth\":0,\"ticks\":\"\"}}],\"scatter\":[{\"fillpattern\":{\"fillmode\":\"overlay\",\"size\":10,\"solidity\":0.2},\"type\":\"scatter\"}],\"parcoords\":[{\"type\":\"parcoords\",\"line\":{\"colorbar\":{\"outlinewidth\":0,\"ticks\":\"\"}}}],\"scatterpolargl\":[{\"type\":\"scatterpolargl\",\"marker\":{\"colorbar\":{\"outlinewidth\":0,\"ticks\":\"\"}}}],\"bar\":[{\"error_x\":{\"color\":\"#2a3f5f\"},\"error_y\":{\"color\":\"#2a3f5f\"},\"marker\":{\"line\":{\"color\":\"#E5ECF6\",\"width\":0.5},\"pattern\":{\"fillmode\":\"overlay\",\"size\":10,\"solidity\":0.2}},\"type\":\"bar\"}],\"scattergeo\":[{\"type\":\"scattergeo\",\"marker\":{\"colorbar\":{\"outlinewidth\":0,\"ticks\":\"\"}}}],\"scatterpolar\":[{\"type\":\"scatterpolar\",\"marker\":{\"colorbar\":{\"outlinewidth\":0,\"ticks\":\"\"}}}],\"histogram\":[{\"marker\":{\"pattern\":{\"fillmode\":\"overlay\",\"size\":10,\"solidity\":0.2}},\"type\":\"histogram\"}],\"scattergl\":[{\"type\":\"scattergl\",\"marker\":{\"colorbar\":{\"outlinewidth\":0,\"ticks\":\"\"}}}],\"scatter3d\":[{\"type\":\"scatter3d\",\"line\":{\"colorbar\":{\"outlinewidth\":0,\"ticks\":\"\"}},\"marker\":{\"colorbar\":{\"outlinewidth\":0,\"ticks\":\"\"}}}],\"scattermapbox\":[{\"type\":\"scattermapbox\",\"marker\":{\"colorbar\":{\"outlinewidth\":0,\"ticks\":\"\"}}}],\"scatterternary\":[{\"type\":\"scatterternary\",\"marker\":{\"colorbar\":{\"outlinewidth\":0,\"ticks\":\"\"}}}],\"scattercarpet\":[{\"type\":\"scattercarpet\",\"marker\":{\"colorbar\":{\"outlinewidth\":0,\"ticks\":\"\"}}}],\"carpet\":[{\"aaxis\":{\"endlinecolor\":\"#2a3f5f\",\"gridcolor\":\"white\",\"linecolor\":\"white\",\"minorgridcolor\":\"white\",\"startlinecolor\":\"#2a3f5f\"},\"baxis\":{\"endlinecolor\":\"#2a3f5f\",\"gridcolor\":\"white\",\"linecolor\":\"white\",\"minorgridcolor\":\"white\",\"startlinecolor\":\"#2a3f5f\"},\"type\":\"carpet\"}],\"table\":[{\"cells\":{\"fill\":{\"color\":\"#EBF0F8\"},\"line\":{\"color\":\"white\"}},\"header\":{\"fill\":{\"color\":\"#C8D4E3\"},\"line\":{\"color\":\"white\"}},\"type\":\"table\"}],\"barpolar\":[{\"marker\":{\"line\":{\"color\":\"#E5ECF6\",\"width\":0.5},\"pattern\":{\"fillmode\":\"overlay\",\"size\":10,\"solidity\":0.2}},\"type\":\"barpolar\"}],\"pie\":[{\"automargin\":true,\"type\":\"pie\"}]},\"layout\":{\"autotypenumbers\":\"strict\",\"colorway\":[\"#636efa\",\"#EF553B\",\"#00cc96\",\"#ab63fa\",\"#FFA15A\",\"#19d3f3\",\"#FF6692\",\"#B6E880\",\"#FF97FF\",\"#FECB52\"],\"font\":{\"color\":\"#2a3f5f\"},\"hovermode\":\"closest\",\"hoverlabel\":{\"align\":\"left\"},\"paper_bgcolor\":\"white\",\"plot_bgcolor\":\"#E5ECF6\",\"polar\":{\"bgcolor\":\"#E5ECF6\",\"angularaxis\":{\"gridcolor\":\"white\",\"linecolor\":\"white\",\"ticks\":\"\"},\"radialaxis\":{\"gridcolor\":\"white\",\"linecolor\":\"white\",\"ticks\":\"\"}},\"ternary\":{\"bgcolor\":\"#E5ECF6\",\"aaxis\":{\"gridcolor\":\"white\",\"linecolor\":\"white\",\"ticks\":\"\"},\"baxis\":{\"gridcolor\":\"white\",\"linecolor\":\"white\",\"ticks\":\"\"},\"caxis\":{\"gridcolor\":\"white\",\"linecolor\":\"white\",\"ticks\":\"\"}},\"coloraxis\":{\"colorbar\":{\"outlinewidth\":0,\"ticks\":\"\"}},\"colorscale\":{\"sequential\":[[0.0,\"#0d0887\"],[0.1111111111111111,\"#46039f\"],[0.2222222222222222,\"#7201a8\"],[0.3333333333333333,\"#9c179e\"],[0.4444444444444444,\"#bd3786\"],[0.5555555555555556,\"#d8576b\"],[0.6666666666666666,\"#ed7953\"],[0.7777777777777778,\"#fb9f3a\"],[0.8888888888888888,\"#fdca26\"],[1.0,\"#f0f921\"]],\"sequentialminus\":[[0.0,\"#0d0887\"],[0.1111111111111111,\"#46039f\"],[0.2222222222222222,\"#7201a8\"],[0.3333333333333333,\"#9c179e\"],[0.4444444444444444,\"#bd3786\"],[0.5555555555555556,\"#d8576b\"],[0.6666666666666666,\"#ed7953\"],[0.7777777777777778,\"#fb9f3a\"],[0.8888888888888888,\"#fdca26\"],[1.0,\"#f0f921\"]],\"diverging\":[[0,\"#8e0152\"],[0.1,\"#c51b7d\"],[0.2,\"#de77ae\"],[0.3,\"#f1b6da\"],[0.4,\"#fde0ef\"],[0.5,\"#f7f7f7\"],[0.6,\"#e6f5d0\"],[0.7,\"#b8e186\"],[0.8,\"#7fbc41\"],[0.9,\"#4d9221\"],[1,\"#276419\"]]},\"xaxis\":{\"gridcolor\":\"white\",\"linecolor\":\"white\",\"ticks\":\"\",\"title\":{\"standoff\":15},\"zerolinecolor\":\"white\",\"automargin\":true,\"zerolinewidth\":2},\"yaxis\":{\"gridcolor\":\"white\",\"linecolor\":\"white\",\"ticks\":\"\",\"title\":{\"standoff\":15},\"zerolinecolor\":\"white\",\"automargin\":true,\"zerolinewidth\":2},\"scene\":{\"xaxis\":{\"backgroundcolor\":\"#E5ECF6\",\"gridcolor\":\"white\",\"linecolor\":\"white\",\"showbackground\":true,\"ticks\":\"\",\"zerolinecolor\":\"white\",\"gridwidth\":2},\"yaxis\":{\"backgroundcolor\":\"#E5ECF6\",\"gridcolor\":\"white\",\"linecolor\":\"white\",\"showbackground\":true,\"ticks\":\"\",\"zerolinecolor\":\"white\",\"gridwidth\":2},\"zaxis\":{\"backgroundcolor\":\"#E5ECF6\",\"gridcolor\":\"white\",\"linecolor\":\"white\",\"showbackground\":true,\"ticks\":\"\",\"zerolinecolor\":\"white\",\"gridwidth\":2}},\"shapedefaults\":{\"line\":{\"color\":\"#2a3f5f\"}},\"annotationdefaults\":{\"arrowcolor\":\"#2a3f5f\",\"arrowhead\":0,\"arrowwidth\":1},\"geo\":{\"bgcolor\":\"white\",\"landcolor\":\"#E5ECF6\",\"subunitcolor\":\"white\",\"showland\":true,\"showlakes\":true,\"lakecolor\":\"white\"},\"title\":{\"x\":0.05},\"mapbox\":{\"style\":\"light\"}}},\"xaxis\":{\"anchor\":\"y\",\"domain\":[0.0,1.0],\"title\":{\"text\":\"Department\"}},\"yaxis\":{\"anchor\":\"x\",\"domain\":[0.0,1.0],\"title\":{\"text\":\"Count\"}},\"legend\":{\"title\":{\"text\":\"Attrition\"},\"tracegroupgap\":0,\"orientation\":\"h\",\"yanchor\":\"bottom\",\"y\":-0.2,\"xanchor\":\"center\",\"x\":0.49},\"title\":{\"text\":\"\\u003cb\\u003eDepartment-wise Distribution of Employees by Attrition Status\\u003c\\u002fb\\u003e\",\"x\":0.5},\"barmode\":\"relative\",\"height\":500,\"font\":{\"color\":\"#28221D\"},\"paper_bgcolor\":\"#FFFFFF\",\"plot_bgcolor\":\"#FFFFFF\"},                        {\"responsive\": true}                    ).then(function(){\n",
              "                            \n",
              "var gd = document.getElementById('03b72f3c-4ad8-4a62-8bcd-c5760c6fb1a5');\n",
              "var x = new MutationObserver(function (mutations, observer) {{\n",
              "        var display = window.getComputedStyle(gd).display;\n",
              "        if (!display || display === 'none') {{\n",
              "            console.log([gd, 'removed!']);\n",
              "            Plotly.purge(gd);\n",
              "            observer.disconnect();\n",
              "        }}\n",
              "}});\n",
              "\n",
              "// Listen for the removal of the full notebook cells\n",
              "var notebookContainer = gd.closest('#notebook-container');\n",
              "if (notebookContainer) {{\n",
              "    x.observe(notebookContainer, {childList: true});\n",
              "}}\n",
              "\n",
              "// Listen for the clearing of the current output cell\n",
              "var outputEl = gd.closest('.output');\n",
              "if (outputEl) {{\n",
              "    x.observe(outputEl, {childList: true});\n",
              "}}\n",
              "\n",
              "                        })                };                            </script>        </div>\n",
              "</body>\n",
              "</html>"
            ]
          },
          "metadata": {}
        }
      ],
      "source": [
        "# Filter data for attrition \"Yes\" only\n",
        "df_yes = df[df['Attrition'] == 'Yes']\n",
        "\n",
        "# Group data by Department and Attrition, count occurrences, and reset index\n",
        "dept_att = df_yes.groupby(['Department', 'Attrition']).size().reset_index(name='Counts')\n",
        "\n",
        "# Calculate total counts per department\n",
        "dept_total_counts = dept_att.groupby('Department')['Counts'].transform('sum')\n",
        "\n",
        "# Calculate percentage within each department\n",
        "dept_att['Percentage'] = (dept_att['Counts'] / dept_total_counts) * 100\n",
        "\n",
        "# Create a bar plot\n",
        "fig = px.bar(dept_att, x='Department', y='Counts', color='Attrition',\n",
        "             title='<b>Department-wise Distribution of Employees by Attrition Status</b>',\n",
        "             text='Counts',\n",
        "             labels={'Counts': 'Count'}, height = 500,\n",
        "             color_discrete_map={'Yes': '#990000'})\n",
        "\n",
        "# Add percentage labels to the bars\n",
        "fig.update_traces(texttemplate='%{text:}',\n",
        "                  textposition='outside',\n",
        "                  textfont_size=14,\n",
        "                  textfont_color='black',\n",
        "                  marker=dict(line=dict(color='#28221D', width=1)))\n",
        "\n",
        "fig.update_layout(title_x=0.5,\n",
        "                  legend=dict(orientation='h', yanchor='bottom', y=-0.2, xanchor='center', x=0.49),\n",
        "                  font_color='#28221D',\n",
        "                  paper_bgcolor='#FFFFFF',\n",
        "                  plot_bgcolor='#FFFFFF')\n",
        "\n",
        "fig.show()\n"
      ]
    },
    {
      "cell_type": "markdown",
      "id": "7ee453b8",
      "metadata": {
        "papermill": {
          "duration": 0.026899,
          "end_time": "2024-05-03T15:42:06.935128",
          "exception": false,
          "start_time": "2024-05-03T15:42:06.908229",
          "status": "completed"
        },
        "tags": [],
        "id": "7ee453b8"
      },
      "source": [
        "Kumpulan data ini mencakup tiga departemen. Departemen Sales menunjukkan tingkat atrisi tertinggi sebesar 20,63%, diikuti oleh Departemen HR sebesar 19,05%. Sebaliknya, departemen Penelitian dan Pengembangan menunjukkan tingkat atrisi terendah, yang mengindikasikan stabilitas dan kepuasan di dalam departemen, seperti yang digambarkan dalam grafik (13,84%)."
      ]
    },
    {
      "cell_type": "markdown",
      "id": "821a7221",
      "metadata": {
        "papermill": {
          "duration": 0.027525,
          "end_time": "2024-05-03T15:42:06.990024",
          "exception": false,
          "start_time": "2024-05-03T15:42:06.962499",
          "status": "completed"
        },
        "tags": [],
        "id": "821a7221"
      },
      "source": [
        "<center> <h2>Attrition Rates Across Job Roles: A Hierarchy of Stability</h2> </center>"
      ]
    },
    {
      "cell_type": "code",
      "execution_count": 87,
      "id": "11cecfe8",
      "metadata": {
        "execution": {
          "iopub.execute_input": "2024-05-03T15:42:07.047422Z",
          "iopub.status.busy": "2024-05-03T15:42:07.046684Z",
          "iopub.status.idle": "2024-05-03T15:42:07.085523Z",
          "shell.execute_reply": "2024-05-03T15:42:07.084190Z"
        },
        "papermill": {
          "duration": 0.070167,
          "end_time": "2024-05-03T15:42:07.088348",
          "exception": false,
          "start_time": "2024-05-03T15:42:07.018181",
          "status": "completed"
        },
        "tags": [],
        "colab": {
          "base_uri": "https://localhost:8080/",
          "height": 0
        },
        "id": "11cecfe8",
        "outputId": "b9fb5042-f27f-45f4-cde0-3fc6caad2acd"
      },
      "outputs": [
        {
          "output_type": "display_data",
          "data": {
            "text/html": [
              "<html>\n",
              "<head><meta charset=\"utf-8\" /></head>\n",
              "<body>\n",
              "    <div>            <script src=\"https://cdnjs.cloudflare.com/ajax/libs/mathjax/2.7.5/MathJax.js?config=TeX-AMS-MML_SVG\"></script><script type=\"text/javascript\">if (window.MathJax && window.MathJax.Hub && window.MathJax.Hub.Config) {window.MathJax.Hub.Config({SVG: {font: \"STIX-Web\"}});}</script>                <script type=\"text/javascript\">window.PlotlyConfig = {MathJaxConfig: 'local'};</script>\n",
              "        <script charset=\"utf-8\" src=\"https://cdn.plot.ly/plotly-2.35.2.min.js\"></script>                <div id=\"5ed34273-c705-412d-9392-5053a4f87199\" class=\"plotly-graph-div\" style=\"height:500px; width:100%;\"></div>            <script type=\"text/javascript\">                                    window.PLOTLYENV=window.PLOTLYENV || {};                                    if (document.getElementById(\"5ed34273-c705-412d-9392-5053a4f87199\")) {                    Plotly.newPlot(                        \"5ed34273-c705-412d-9392-5053a4f87199\",                        [{\"marker\":{\"color\":\"#990000\"},\"name\":\"Attrition: Yes\",\"orientation\":\"h\",\"x\":[2.5,4.901960784313726,6.870229007633588,6.896551724137931,16.095890410958905,17.484662576687114,23.076923076923077,23.93822393822394,39.75903614457831],\"y\":[\"Research Director\",\"Manager\",\"Healthcare Representative\",\"Manufacturing Director\",\"Research Scientist\",\"Sales Executive\",\"Human Resources\",\"Laboratory Technician\",\"Sales Representative\"],\"type\":\"bar\"},{\"marker\":{\"color\":\"#D4AF37\"},\"name\":\"Attrition: No\",\"orientation\":\"h\",\"x\":[97.5,95.09803921568627,93.12977099236642,93.10344827586206,83.9041095890411,82.51533742331289,76.92307692307692,76.06177606177606,60.24096385542169],\"y\":[\"Research Director\",\"Manager\",\"Healthcare Representative\",\"Manufacturing Director\",\"Research Scientist\",\"Sales Executive\",\"Human Resources\",\"Laboratory Technician\",\"Sales Representative\"],\"type\":\"bar\"}],                        {\"template\":{\"data\":{\"histogram2dcontour\":[{\"type\":\"histogram2dcontour\",\"colorbar\":{\"outlinewidth\":0,\"ticks\":\"\"},\"colorscale\":[[0.0,\"#0d0887\"],[0.1111111111111111,\"#46039f\"],[0.2222222222222222,\"#7201a8\"],[0.3333333333333333,\"#9c179e\"],[0.4444444444444444,\"#bd3786\"],[0.5555555555555556,\"#d8576b\"],[0.6666666666666666,\"#ed7953\"],[0.7777777777777778,\"#fb9f3a\"],[0.8888888888888888,\"#fdca26\"],[1.0,\"#f0f921\"]]}],\"choropleth\":[{\"type\":\"choropleth\",\"colorbar\":{\"outlinewidth\":0,\"ticks\":\"\"}}],\"histogram2d\":[{\"type\":\"histogram2d\",\"colorbar\":{\"outlinewidth\":0,\"ticks\":\"\"},\"colorscale\":[[0.0,\"#0d0887\"],[0.1111111111111111,\"#46039f\"],[0.2222222222222222,\"#7201a8\"],[0.3333333333333333,\"#9c179e\"],[0.4444444444444444,\"#bd3786\"],[0.5555555555555556,\"#d8576b\"],[0.6666666666666666,\"#ed7953\"],[0.7777777777777778,\"#fb9f3a\"],[0.8888888888888888,\"#fdca26\"],[1.0,\"#f0f921\"]]}],\"heatmap\":[{\"type\":\"heatmap\",\"colorbar\":{\"outlinewidth\":0,\"ticks\":\"\"},\"colorscale\":[[0.0,\"#0d0887\"],[0.1111111111111111,\"#46039f\"],[0.2222222222222222,\"#7201a8\"],[0.3333333333333333,\"#9c179e\"],[0.4444444444444444,\"#bd3786\"],[0.5555555555555556,\"#d8576b\"],[0.6666666666666666,\"#ed7953\"],[0.7777777777777778,\"#fb9f3a\"],[0.8888888888888888,\"#fdca26\"],[1.0,\"#f0f921\"]]}],\"heatmapgl\":[{\"type\":\"heatmapgl\",\"colorbar\":{\"outlinewidth\":0,\"ticks\":\"\"},\"colorscale\":[[0.0,\"#0d0887\"],[0.1111111111111111,\"#46039f\"],[0.2222222222222222,\"#7201a8\"],[0.3333333333333333,\"#9c179e\"],[0.4444444444444444,\"#bd3786\"],[0.5555555555555556,\"#d8576b\"],[0.6666666666666666,\"#ed7953\"],[0.7777777777777778,\"#fb9f3a\"],[0.8888888888888888,\"#fdca26\"],[1.0,\"#f0f921\"]]}],\"contourcarpet\":[{\"type\":\"contourcarpet\",\"colorbar\":{\"outlinewidth\":0,\"ticks\":\"\"}}],\"contour\":[{\"type\":\"contour\",\"colorbar\":{\"outlinewidth\":0,\"ticks\":\"\"},\"colorscale\":[[0.0,\"#0d0887\"],[0.1111111111111111,\"#46039f\"],[0.2222222222222222,\"#7201a8\"],[0.3333333333333333,\"#9c179e\"],[0.4444444444444444,\"#bd3786\"],[0.5555555555555556,\"#d8576b\"],[0.6666666666666666,\"#ed7953\"],[0.7777777777777778,\"#fb9f3a\"],[0.8888888888888888,\"#fdca26\"],[1.0,\"#f0f921\"]]}],\"surface\":[{\"type\":\"surface\",\"colorbar\":{\"outlinewidth\":0,\"ticks\":\"\"},\"colorscale\":[[0.0,\"#0d0887\"],[0.1111111111111111,\"#46039f\"],[0.2222222222222222,\"#7201a8\"],[0.3333333333333333,\"#9c179e\"],[0.4444444444444444,\"#bd3786\"],[0.5555555555555556,\"#d8576b\"],[0.6666666666666666,\"#ed7953\"],[0.7777777777777778,\"#fb9f3a\"],[0.8888888888888888,\"#fdca26\"],[1.0,\"#f0f921\"]]}],\"mesh3d\":[{\"type\":\"mesh3d\",\"colorbar\":{\"outlinewidth\":0,\"ticks\":\"\"}}],\"scatter\":[{\"fillpattern\":{\"fillmode\":\"overlay\",\"size\":10,\"solidity\":0.2},\"type\":\"scatter\"}],\"parcoords\":[{\"type\":\"parcoords\",\"line\":{\"colorbar\":{\"outlinewidth\":0,\"ticks\":\"\"}}}],\"scatterpolargl\":[{\"type\":\"scatterpolargl\",\"marker\":{\"colorbar\":{\"outlinewidth\":0,\"ticks\":\"\"}}}],\"bar\":[{\"error_x\":{\"color\":\"#2a3f5f\"},\"error_y\":{\"color\":\"#2a3f5f\"},\"marker\":{\"line\":{\"color\":\"#E5ECF6\",\"width\":0.5},\"pattern\":{\"fillmode\":\"overlay\",\"size\":10,\"solidity\":0.2}},\"type\":\"bar\"}],\"scattergeo\":[{\"type\":\"scattergeo\",\"marker\":{\"colorbar\":{\"outlinewidth\":0,\"ticks\":\"\"}}}],\"scatterpolar\":[{\"type\":\"scatterpolar\",\"marker\":{\"colorbar\":{\"outlinewidth\":0,\"ticks\":\"\"}}}],\"histogram\":[{\"marker\":{\"pattern\":{\"fillmode\":\"overlay\",\"size\":10,\"solidity\":0.2}},\"type\":\"histogram\"}],\"scattergl\":[{\"type\":\"scattergl\",\"marker\":{\"colorbar\":{\"outlinewidth\":0,\"ticks\":\"\"}}}],\"scatter3d\":[{\"type\":\"scatter3d\",\"line\":{\"colorbar\":{\"outlinewidth\":0,\"ticks\":\"\"}},\"marker\":{\"colorbar\":{\"outlinewidth\":0,\"ticks\":\"\"}}}],\"scattermapbox\":[{\"type\":\"scattermapbox\",\"marker\":{\"colorbar\":{\"outlinewidth\":0,\"ticks\":\"\"}}}],\"scatterternary\":[{\"type\":\"scatterternary\",\"marker\":{\"colorbar\":{\"outlinewidth\":0,\"ticks\":\"\"}}}],\"scattercarpet\":[{\"type\":\"scattercarpet\",\"marker\":{\"colorbar\":{\"outlinewidth\":0,\"ticks\":\"\"}}}],\"carpet\":[{\"aaxis\":{\"endlinecolor\":\"#2a3f5f\",\"gridcolor\":\"white\",\"linecolor\":\"white\",\"minorgridcolor\":\"white\",\"startlinecolor\":\"#2a3f5f\"},\"baxis\":{\"endlinecolor\":\"#2a3f5f\",\"gridcolor\":\"white\",\"linecolor\":\"white\",\"minorgridcolor\":\"white\",\"startlinecolor\":\"#2a3f5f\"},\"type\":\"carpet\"}],\"table\":[{\"cells\":{\"fill\":{\"color\":\"#EBF0F8\"},\"line\":{\"color\":\"white\"}},\"header\":{\"fill\":{\"color\":\"#C8D4E3\"},\"line\":{\"color\":\"white\"}},\"type\":\"table\"}],\"barpolar\":[{\"marker\":{\"line\":{\"color\":\"#E5ECF6\",\"width\":0.5},\"pattern\":{\"fillmode\":\"overlay\",\"size\":10,\"solidity\":0.2}},\"type\":\"barpolar\"}],\"pie\":[{\"automargin\":true,\"type\":\"pie\"}]},\"layout\":{\"autotypenumbers\":\"strict\",\"colorway\":[\"#636efa\",\"#EF553B\",\"#00cc96\",\"#ab63fa\",\"#FFA15A\",\"#19d3f3\",\"#FF6692\",\"#B6E880\",\"#FF97FF\",\"#FECB52\"],\"font\":{\"color\":\"#2a3f5f\"},\"hovermode\":\"closest\",\"hoverlabel\":{\"align\":\"left\"},\"paper_bgcolor\":\"white\",\"plot_bgcolor\":\"#E5ECF6\",\"polar\":{\"bgcolor\":\"#E5ECF6\",\"angularaxis\":{\"gridcolor\":\"white\",\"linecolor\":\"white\",\"ticks\":\"\"},\"radialaxis\":{\"gridcolor\":\"white\",\"linecolor\":\"white\",\"ticks\":\"\"}},\"ternary\":{\"bgcolor\":\"#E5ECF6\",\"aaxis\":{\"gridcolor\":\"white\",\"linecolor\":\"white\",\"ticks\":\"\"},\"baxis\":{\"gridcolor\":\"white\",\"linecolor\":\"white\",\"ticks\":\"\"},\"caxis\":{\"gridcolor\":\"white\",\"linecolor\":\"white\",\"ticks\":\"\"}},\"coloraxis\":{\"colorbar\":{\"outlinewidth\":0,\"ticks\":\"\"}},\"colorscale\":{\"sequential\":[[0.0,\"#0d0887\"],[0.1111111111111111,\"#46039f\"],[0.2222222222222222,\"#7201a8\"],[0.3333333333333333,\"#9c179e\"],[0.4444444444444444,\"#bd3786\"],[0.5555555555555556,\"#d8576b\"],[0.6666666666666666,\"#ed7953\"],[0.7777777777777778,\"#fb9f3a\"],[0.8888888888888888,\"#fdca26\"],[1.0,\"#f0f921\"]],\"sequentialminus\":[[0.0,\"#0d0887\"],[0.1111111111111111,\"#46039f\"],[0.2222222222222222,\"#7201a8\"],[0.3333333333333333,\"#9c179e\"],[0.4444444444444444,\"#bd3786\"],[0.5555555555555556,\"#d8576b\"],[0.6666666666666666,\"#ed7953\"],[0.7777777777777778,\"#fb9f3a\"],[0.8888888888888888,\"#fdca26\"],[1.0,\"#f0f921\"]],\"diverging\":[[0,\"#8e0152\"],[0.1,\"#c51b7d\"],[0.2,\"#de77ae\"],[0.3,\"#f1b6da\"],[0.4,\"#fde0ef\"],[0.5,\"#f7f7f7\"],[0.6,\"#e6f5d0\"],[0.7,\"#b8e186\"],[0.8,\"#7fbc41\"],[0.9,\"#4d9221\"],[1,\"#276419\"]]},\"xaxis\":{\"gridcolor\":\"white\",\"linecolor\":\"white\",\"ticks\":\"\",\"title\":{\"standoff\":15},\"zerolinecolor\":\"white\",\"automargin\":true,\"zerolinewidth\":2},\"yaxis\":{\"gridcolor\":\"white\",\"linecolor\":\"white\",\"ticks\":\"\",\"title\":{\"standoff\":15},\"zerolinecolor\":\"white\",\"automargin\":true,\"zerolinewidth\":2},\"scene\":{\"xaxis\":{\"backgroundcolor\":\"#E5ECF6\",\"gridcolor\":\"white\",\"linecolor\":\"white\",\"showbackground\":true,\"ticks\":\"\",\"zerolinecolor\":\"white\",\"gridwidth\":2},\"yaxis\":{\"backgroundcolor\":\"#E5ECF6\",\"gridcolor\":\"white\",\"linecolor\":\"white\",\"showbackground\":true,\"ticks\":\"\",\"zerolinecolor\":\"white\",\"gridwidth\":2},\"zaxis\":{\"backgroundcolor\":\"#E5ECF6\",\"gridcolor\":\"white\",\"linecolor\":\"white\",\"showbackground\":true,\"ticks\":\"\",\"zerolinecolor\":\"white\",\"gridwidth\":2}},\"shapedefaults\":{\"line\":{\"color\":\"#2a3f5f\"}},\"annotationdefaults\":{\"arrowcolor\":\"#2a3f5f\",\"arrowhead\":0,\"arrowwidth\":1},\"geo\":{\"bgcolor\":\"white\",\"landcolor\":\"#E5ECF6\",\"subunitcolor\":\"white\",\"showland\":true,\"showlakes\":true,\"lakecolor\":\"white\"},\"title\":{\"x\":0.05},\"mapbox\":{\"style\":\"light\"}}},\"title\":{\"text\":\"\\u003cb\\u003eAttrition by Job Role\\u003c\\u002fb\\u003e\",\"x\":0.5},\"legend\":{\"orientation\":\"h\",\"yanchor\":\"bottom\",\"y\":-0.2,\"xanchor\":\"center\",\"x\":0.5},\"font\":{\"color\":\"#28221D\"},\"xaxis\":{\"title\":{\"text\":\"Attrition Rate (%)\"}},\"yaxis\":{\"title\":{\"text\":\"Job Role\"}},\"barmode\":\"relative\",\"bargap\":0.1,\"height\":500,\"paper_bgcolor\":\"#FFFFFF\",\"plot_bgcolor\":\"#FFFFFF\"},                        {\"responsive\": true}                    ).then(function(){\n",
              "                            \n",
              "var gd = document.getElementById('5ed34273-c705-412d-9392-5053a4f87199');\n",
              "var x = new MutationObserver(function (mutations, observer) {{\n",
              "        var display = window.getComputedStyle(gd).display;\n",
              "        if (!display || display === 'none') {{\n",
              "            console.log([gd, 'removed!']);\n",
              "            Plotly.purge(gd);\n",
              "            observer.disconnect();\n",
              "        }}\n",
              "}});\n",
              "\n",
              "// Listen for the removal of the full notebook cells\n",
              "var notebookContainer = gd.closest('#notebook-container');\n",
              "if (notebookContainer) {{\n",
              "    x.observe(notebookContainer, {childList: true});\n",
              "}}\n",
              "\n",
              "// Listen for the clearing of the current output cell\n",
              "var outputEl = gd.closest('.output');\n",
              "if (outputEl) {{\n",
              "    x.observe(outputEl, {childList: true});\n",
              "}}\n",
              "\n",
              "                        })                };                            </script>        </div>\n",
              "</body>\n",
              "</html>"
            ]
          },
          "metadata": {}
        }
      ],
      "source": [
        "# Group data by JobRole and Attrition, calculate count and percentage\n",
        "attr_job = df.groupby(['JobRole', 'Attrition']).size().unstack(fill_value=0)\n",
        "attr_job['Total'] = attr_job.sum(axis=1)\n",
        "attr_job['Attrition_Rate'] = attr_job['Yes'] / attr_job['Total'] * 100\n",
        "\n",
        "attr_job = attr_job.sort_values('Attrition_Rate')\n",
        "\n",
        "fig = go.Figure()\n",
        "\n",
        "# Add 'Yes' Attrition bars\n",
        "fig.add_trace(go.Bar(y=attr_job.index,\n",
        "                     x=attr_job['Attrition_Rate'],\n",
        "                     name='Attrition: Yes',\n",
        "                     orientation='h',\n",
        "                     marker_color='#990000'))\n",
        "\n",
        "# Add 'No' Attrition bars\n",
        "fig.add_trace(go.Bar(y=attr_job.index,\n",
        "                     x=100 - attr_job['Attrition_Rate'],\n",
        "                     name='Attrition: No',\n",
        "                     orientation='h',\n",
        "                     marker_color='#D4AF37'))\n",
        "\n",
        "fig.update_layout(\n",
        "    title='<b>Attrition by Job Role</b>',\n",
        "    title_x=0.5,\n",
        "    xaxis_title='Attrition Rate (%)',\n",
        "    yaxis_title='Job Role',\n",
        "    barmode='relative',\n",
        "    bargap=0.1,\n",
        "    legend=dict(orientation='h', yanchor='bottom', y=-0.2, xanchor='center',  x=0.50),\n",
        "    height=500,\n",
        "    font_color='#28221D',\n",
        "    paper_bgcolor='#FFFFFF',\n",
        "    plot_bgcolor='#FFFFFF'\n",
        ")\n",
        "\n",
        "fig.show()"
      ]
    },
    {
      "cell_type": "markdown",
      "id": "1dc71deb",
      "metadata": {
        "papermill": {
          "duration": 0.026972,
          "end_time": "2024-05-03T15:42:07.143590",
          "exception": false,
          "start_time": "2024-05-03T15:42:07.116618",
          "status": "completed"
        },
        "tags": [],
        "id": "1dc71deb"
      },
      "source": [
        "Analisis menunjukkan bahwa peran pekerjaan yang lebih tinggi di dalam organisasi menunjukkan tingkat atrisi yang lebih rendah dibandingkan dengan peran yang lebih rendah. Posisi seperti manufacturing directors, healthcare representatives, managers, and research directors menunjukkan tingkat atrisi yang lebih rendah, yang mengindikasikan bahwa individu yang menduduki posisi tersebut memiliki kemungkinan lebih kecil untuk meninggalkan perusahaan.\n",
        "\n",
        "Sebaliknya, peran di tingkat organisasi yang lebih rendah, seperti sales representatives, laboratory technicians, and human resources personnel, menunjukkan tingkat atrisi yang lebih tinggi. Ini berarti individu dalam peran pekerjaan di tingkat yang lebih tinggi cenderung bertahan di perusahaan secara lebih konsisten, sehingga berkontribusi pada tenaga kerja yang lebih stabil."
      ]
    },
    {
      "cell_type": "markdown",
      "id": "f4cbc041",
      "metadata": {
        "papermill": {
          "duration": 0.027188,
          "end_time": "2024-05-03T15:42:07.198628",
          "exception": false,
          "start_time": "2024-05-03T15:42:07.171440",
          "status": "completed"
        },
        "tags": [],
        "id": "f4cbc041"
      },
      "source": [
        "<center> <h2>Dampak Kenaikan Gaji terhadap Retensi Karyawan</h2> </center>"
      ]
    },
    {
      "cell_type": "code",
      "execution_count": 88,
      "id": "772865af",
      "metadata": {
        "execution": {
          "iopub.execute_input": "2024-05-03T15:42:07.255423Z",
          "iopub.status.busy": "2024-05-03T15:42:07.254674Z",
          "iopub.status.idle": "2024-05-03T15:42:07.359385Z",
          "shell.execute_reply": "2024-05-03T15:42:07.358472Z"
        },
        "papermill": {
          "duration": 0.135944,
          "end_time": "2024-05-03T15:42:07.361853",
          "exception": false,
          "start_time": "2024-05-03T15:42:07.225909",
          "status": "completed"
        },
        "tags": [],
        "colab": {
          "base_uri": "https://localhost:8080/",
          "height": 0
        },
        "id": "772865af",
        "outputId": "42540ed8-0b5f-46cb-b118-b3b99bddd382"
      },
      "outputs": [
        {
          "output_type": "display_data",
          "data": {
            "text/html": [
              "<html>\n",
              "<head><meta charset=\"utf-8\" /></head>\n",
              "<body>\n",
              "    <div>            <script src=\"https://cdnjs.cloudflare.com/ajax/libs/mathjax/2.7.5/MathJax.js?config=TeX-AMS-MML_SVG\"></script><script type=\"text/javascript\">if (window.MathJax && window.MathJax.Hub && window.MathJax.Hub.Config) {window.MathJax.Hub.Config({SVG: {font: \"STIX-Web\"}});}</script>                <script type=\"text/javascript\">window.PlotlyConfig = {MathJaxConfig: 'local'};</script>\n",
              "        <script charset=\"utf-8\" src=\"https://cdn.plot.ly/plotly-2.35.2.min.js\"></script>                <div id=\"ff6ee222-ee41-47b7-9d1e-2fee427add23\" class=\"plotly-graph-div\" style=\"height:500px; width:100%;\"></div>            <script type=\"text/javascript\">                                    window.PLOTLYENV=window.PLOTLYENV || {};                                    if (document.getElementById(\"ff6ee222-ee41-47b7-9d1e-2fee427add23\")) {                    Plotly.newPlot(                        \"ff6ee222-ee41-47b7-9d1e-2fee427add23\",                        [{\"hovertemplate\":\"Attrition=No\\u003cbr\\u003ePercentSalaryHike=%{x}\\u003cbr\\u003eCounts=%{y}\\u003cextra\\u003e\\u003c\\u002fextra\\u003e\",\"legendgroup\":\"No\",\"line\":{\"color\":\"#D4AF37\",\"dash\":\"solid\"},\"marker\":{\"symbol\":\"circle\",\"line\":{\"color\":\"#28221D\",\"width\":1}},\"mode\":\"lines\",\"name\":\"No\",\"orientation\":\"v\",\"showlegend\":true,\"x\":[11,12,13,14,15,16,17,18,19,20,21,22,23,24,25],\"xaxis\":\"x\",\"y\":[169,165,175,177,83,64,68,76,67,48,43,44,22,15,17],\"yaxis\":\"y\",\"type\":\"scatter\",\"textfont\":{\"color\":\"black\",\"size\":14},\"textposition\":\"top center\",\"texttemplate\":\"%{text:.2f}%\"},{\"hovertemplate\":\"Attrition=Yes\\u003cbr\\u003ePercentSalaryHike=%{x}\\u003cbr\\u003eCounts=%{y}\\u003cextra\\u003e\\u003c\\u002fextra\\u003e\",\"legendgroup\":\"Yes\",\"line\":{\"color\":\"#990000\",\"dash\":\"solid\"},\"marker\":{\"symbol\":\"circle\",\"line\":{\"color\":\"#28221D\",\"width\":1}},\"mode\":\"lines\",\"name\":\"Yes\",\"orientation\":\"v\",\"showlegend\":true,\"x\":[11,12,13,14,15,16,17,18,19,20,21,22,23,24,25],\"xaxis\":\"x\",\"y\":[41,33,34,24,18,14,14,13,9,7,5,12,6,6,1],\"yaxis\":\"y\",\"type\":\"scatter\",\"textfont\":{\"color\":\"black\",\"size\":14},\"textposition\":\"top center\",\"texttemplate\":\"%{text:.2f}%\"}],                        {\"template\":{\"data\":{\"histogram2dcontour\":[{\"type\":\"histogram2dcontour\",\"colorbar\":{\"outlinewidth\":0,\"ticks\":\"\"},\"colorscale\":[[0.0,\"#0d0887\"],[0.1111111111111111,\"#46039f\"],[0.2222222222222222,\"#7201a8\"],[0.3333333333333333,\"#9c179e\"],[0.4444444444444444,\"#bd3786\"],[0.5555555555555556,\"#d8576b\"],[0.6666666666666666,\"#ed7953\"],[0.7777777777777778,\"#fb9f3a\"],[0.8888888888888888,\"#fdca26\"],[1.0,\"#f0f921\"]]}],\"choropleth\":[{\"type\":\"choropleth\",\"colorbar\":{\"outlinewidth\":0,\"ticks\":\"\"}}],\"histogram2d\":[{\"type\":\"histogram2d\",\"colorbar\":{\"outlinewidth\":0,\"ticks\":\"\"},\"colorscale\":[[0.0,\"#0d0887\"],[0.1111111111111111,\"#46039f\"],[0.2222222222222222,\"#7201a8\"],[0.3333333333333333,\"#9c179e\"],[0.4444444444444444,\"#bd3786\"],[0.5555555555555556,\"#d8576b\"],[0.6666666666666666,\"#ed7953\"],[0.7777777777777778,\"#fb9f3a\"],[0.8888888888888888,\"#fdca26\"],[1.0,\"#f0f921\"]]}],\"heatmap\":[{\"type\":\"heatmap\",\"colorbar\":{\"outlinewidth\":0,\"ticks\":\"\"},\"colorscale\":[[0.0,\"#0d0887\"],[0.1111111111111111,\"#46039f\"],[0.2222222222222222,\"#7201a8\"],[0.3333333333333333,\"#9c179e\"],[0.4444444444444444,\"#bd3786\"],[0.5555555555555556,\"#d8576b\"],[0.6666666666666666,\"#ed7953\"],[0.7777777777777778,\"#fb9f3a\"],[0.8888888888888888,\"#fdca26\"],[1.0,\"#f0f921\"]]}],\"heatmapgl\":[{\"type\":\"heatmapgl\",\"colorbar\":{\"outlinewidth\":0,\"ticks\":\"\"},\"colorscale\":[[0.0,\"#0d0887\"],[0.1111111111111111,\"#46039f\"],[0.2222222222222222,\"#7201a8\"],[0.3333333333333333,\"#9c179e\"],[0.4444444444444444,\"#bd3786\"],[0.5555555555555556,\"#d8576b\"],[0.6666666666666666,\"#ed7953\"],[0.7777777777777778,\"#fb9f3a\"],[0.8888888888888888,\"#fdca26\"],[1.0,\"#f0f921\"]]}],\"contourcarpet\":[{\"type\":\"contourcarpet\",\"colorbar\":{\"outlinewidth\":0,\"ticks\":\"\"}}],\"contour\":[{\"type\":\"contour\",\"colorbar\":{\"outlinewidth\":0,\"ticks\":\"\"},\"colorscale\":[[0.0,\"#0d0887\"],[0.1111111111111111,\"#46039f\"],[0.2222222222222222,\"#7201a8\"],[0.3333333333333333,\"#9c179e\"],[0.4444444444444444,\"#bd3786\"],[0.5555555555555556,\"#d8576b\"],[0.6666666666666666,\"#ed7953\"],[0.7777777777777778,\"#fb9f3a\"],[0.8888888888888888,\"#fdca26\"],[1.0,\"#f0f921\"]]}],\"surface\":[{\"type\":\"surface\",\"colorbar\":{\"outlinewidth\":0,\"ticks\":\"\"},\"colorscale\":[[0.0,\"#0d0887\"],[0.1111111111111111,\"#46039f\"],[0.2222222222222222,\"#7201a8\"],[0.3333333333333333,\"#9c179e\"],[0.4444444444444444,\"#bd3786\"],[0.5555555555555556,\"#d8576b\"],[0.6666666666666666,\"#ed7953\"],[0.7777777777777778,\"#fb9f3a\"],[0.8888888888888888,\"#fdca26\"],[1.0,\"#f0f921\"]]}],\"mesh3d\":[{\"type\":\"mesh3d\",\"colorbar\":{\"outlinewidth\":0,\"ticks\":\"\"}}],\"scatter\":[{\"fillpattern\":{\"fillmode\":\"overlay\",\"size\":10,\"solidity\":0.2},\"type\":\"scatter\"}],\"parcoords\":[{\"type\":\"parcoords\",\"line\":{\"colorbar\":{\"outlinewidth\":0,\"ticks\":\"\"}}}],\"scatterpolargl\":[{\"type\":\"scatterpolargl\",\"marker\":{\"colorbar\":{\"outlinewidth\":0,\"ticks\":\"\"}}}],\"bar\":[{\"error_x\":{\"color\":\"#2a3f5f\"},\"error_y\":{\"color\":\"#2a3f5f\"},\"marker\":{\"line\":{\"color\":\"#E5ECF6\",\"width\":0.5},\"pattern\":{\"fillmode\":\"overlay\",\"size\":10,\"solidity\":0.2}},\"type\":\"bar\"}],\"scattergeo\":[{\"type\":\"scattergeo\",\"marker\":{\"colorbar\":{\"outlinewidth\":0,\"ticks\":\"\"}}}],\"scatterpolar\":[{\"type\":\"scatterpolar\",\"marker\":{\"colorbar\":{\"outlinewidth\":0,\"ticks\":\"\"}}}],\"histogram\":[{\"marker\":{\"pattern\":{\"fillmode\":\"overlay\",\"size\":10,\"solidity\":0.2}},\"type\":\"histogram\"}],\"scattergl\":[{\"type\":\"scattergl\",\"marker\":{\"colorbar\":{\"outlinewidth\":0,\"ticks\":\"\"}}}],\"scatter3d\":[{\"type\":\"scatter3d\",\"line\":{\"colorbar\":{\"outlinewidth\":0,\"ticks\":\"\"}},\"marker\":{\"colorbar\":{\"outlinewidth\":0,\"ticks\":\"\"}}}],\"scattermapbox\":[{\"type\":\"scattermapbox\",\"marker\":{\"colorbar\":{\"outlinewidth\":0,\"ticks\":\"\"}}}],\"scatterternary\":[{\"type\":\"scatterternary\",\"marker\":{\"colorbar\":{\"outlinewidth\":0,\"ticks\":\"\"}}}],\"scattercarpet\":[{\"type\":\"scattercarpet\",\"marker\":{\"colorbar\":{\"outlinewidth\":0,\"ticks\":\"\"}}}],\"carpet\":[{\"aaxis\":{\"endlinecolor\":\"#2a3f5f\",\"gridcolor\":\"white\",\"linecolor\":\"white\",\"minorgridcolor\":\"white\",\"startlinecolor\":\"#2a3f5f\"},\"baxis\":{\"endlinecolor\":\"#2a3f5f\",\"gridcolor\":\"white\",\"linecolor\":\"white\",\"minorgridcolor\":\"white\",\"startlinecolor\":\"#2a3f5f\"},\"type\":\"carpet\"}],\"table\":[{\"cells\":{\"fill\":{\"color\":\"#EBF0F8\"},\"line\":{\"color\":\"white\"}},\"header\":{\"fill\":{\"color\":\"#C8D4E3\"},\"line\":{\"color\":\"white\"}},\"type\":\"table\"}],\"barpolar\":[{\"marker\":{\"line\":{\"color\":\"#E5ECF6\",\"width\":0.5},\"pattern\":{\"fillmode\":\"overlay\",\"size\":10,\"solidity\":0.2}},\"type\":\"barpolar\"}],\"pie\":[{\"automargin\":true,\"type\":\"pie\"}]},\"layout\":{\"autotypenumbers\":\"strict\",\"colorway\":[\"#636efa\",\"#EF553B\",\"#00cc96\",\"#ab63fa\",\"#FFA15A\",\"#19d3f3\",\"#FF6692\",\"#B6E880\",\"#FF97FF\",\"#FECB52\"],\"font\":{\"color\":\"#2a3f5f\"},\"hovermode\":\"closest\",\"hoverlabel\":{\"align\":\"left\"},\"paper_bgcolor\":\"white\",\"plot_bgcolor\":\"#E5ECF6\",\"polar\":{\"bgcolor\":\"#E5ECF6\",\"angularaxis\":{\"gridcolor\":\"white\",\"linecolor\":\"white\",\"ticks\":\"\"},\"radialaxis\":{\"gridcolor\":\"white\",\"linecolor\":\"white\",\"ticks\":\"\"}},\"ternary\":{\"bgcolor\":\"#E5ECF6\",\"aaxis\":{\"gridcolor\":\"white\",\"linecolor\":\"white\",\"ticks\":\"\"},\"baxis\":{\"gridcolor\":\"white\",\"linecolor\":\"white\",\"ticks\":\"\"},\"caxis\":{\"gridcolor\":\"white\",\"linecolor\":\"white\",\"ticks\":\"\"}},\"coloraxis\":{\"colorbar\":{\"outlinewidth\":0,\"ticks\":\"\"}},\"colorscale\":{\"sequential\":[[0.0,\"#0d0887\"],[0.1111111111111111,\"#46039f\"],[0.2222222222222222,\"#7201a8\"],[0.3333333333333333,\"#9c179e\"],[0.4444444444444444,\"#bd3786\"],[0.5555555555555556,\"#d8576b\"],[0.6666666666666666,\"#ed7953\"],[0.7777777777777778,\"#fb9f3a\"],[0.8888888888888888,\"#fdca26\"],[1.0,\"#f0f921\"]],\"sequentialminus\":[[0.0,\"#0d0887\"],[0.1111111111111111,\"#46039f\"],[0.2222222222222222,\"#7201a8\"],[0.3333333333333333,\"#9c179e\"],[0.4444444444444444,\"#bd3786\"],[0.5555555555555556,\"#d8576b\"],[0.6666666666666666,\"#ed7953\"],[0.7777777777777778,\"#fb9f3a\"],[0.8888888888888888,\"#fdca26\"],[1.0,\"#f0f921\"]],\"diverging\":[[0,\"#8e0152\"],[0.1,\"#c51b7d\"],[0.2,\"#de77ae\"],[0.3,\"#f1b6da\"],[0.4,\"#fde0ef\"],[0.5,\"#f7f7f7\"],[0.6,\"#e6f5d0\"],[0.7,\"#b8e186\"],[0.8,\"#7fbc41\"],[0.9,\"#4d9221\"],[1,\"#276419\"]]},\"xaxis\":{\"gridcolor\":\"white\",\"linecolor\":\"white\",\"ticks\":\"\",\"title\":{\"standoff\":15},\"zerolinecolor\":\"white\",\"automargin\":true,\"zerolinewidth\":2},\"yaxis\":{\"gridcolor\":\"white\",\"linecolor\":\"white\",\"ticks\":\"\",\"title\":{\"standoff\":15},\"zerolinecolor\":\"white\",\"automargin\":true,\"zerolinewidth\":2},\"scene\":{\"xaxis\":{\"backgroundcolor\":\"#E5ECF6\",\"gridcolor\":\"white\",\"linecolor\":\"white\",\"showbackground\":true,\"ticks\":\"\",\"zerolinecolor\":\"white\",\"gridwidth\":2},\"yaxis\":{\"backgroundcolor\":\"#E5ECF6\",\"gridcolor\":\"white\",\"linecolor\":\"white\",\"showbackground\":true,\"ticks\":\"\",\"zerolinecolor\":\"white\",\"gridwidth\":2},\"zaxis\":{\"backgroundcolor\":\"#E5ECF6\",\"gridcolor\":\"white\",\"linecolor\":\"white\",\"showbackground\":true,\"ticks\":\"\",\"zerolinecolor\":\"white\",\"gridwidth\":2}},\"shapedefaults\":{\"line\":{\"color\":\"#2a3f5f\"}},\"annotationdefaults\":{\"arrowcolor\":\"#2a3f5f\",\"arrowhead\":0,\"arrowwidth\":1},\"geo\":{\"bgcolor\":\"white\",\"landcolor\":\"#E5ECF6\",\"subunitcolor\":\"white\",\"showland\":true,\"showlakes\":true,\"lakecolor\":\"white\"},\"title\":{\"x\":0.05},\"mapbox\":{\"style\":\"light\"}}},\"xaxis\":{\"anchor\":\"y\",\"domain\":[0.0,1.0],\"title\":{\"text\":\"PercentSalaryHike\"}},\"yaxis\":{\"anchor\":\"x\",\"domain\":[0.0,1.0],\"title\":{\"text\":\"Counts\"}},\"legend\":{\"title\":{\"text\":\"Attrition\"},\"tracegroupgap\":0,\"orientation\":\"h\",\"yanchor\":\"bottom\",\"y\":-0.2,\"xanchor\":\"center\",\"x\":0.5},\"title\":{\"text\":\"\\u003cb\\u003eDistribution of Salary Hike Percentages Among Employees\\u003c\\u002fb\\u003e\",\"x\":0.5},\"height\":500,\"font\":{\"color\":\"#28221D\"},\"plot_bgcolor\":\"#FFF4E5\"},                        {\"responsive\": true}                    ).then(function(){\n",
              "                            \n",
              "var gd = document.getElementById('ff6ee222-ee41-47b7-9d1e-2fee427add23');\n",
              "var x = new MutationObserver(function (mutations, observer) {{\n",
              "        var display = window.getComputedStyle(gd).display;\n",
              "        if (!display || display === 'none') {{\n",
              "            console.log([gd, 'removed!']);\n",
              "            Plotly.purge(gd);\n",
              "            observer.disconnect();\n",
              "        }}\n",
              "}});\n",
              "\n",
              "// Listen for the removal of the full notebook cells\n",
              "var notebookContainer = gd.closest('#notebook-container');\n",
              "if (notebookContainer) {{\n",
              "    x.observe(notebookContainer, {childList: true});\n",
              "}}\n",
              "\n",
              "// Listen for the clearing of the current output cell\n",
              "var outputEl = gd.closest('.output');\n",
              "if (outputEl) {{\n",
              "    x.observe(outputEl, {childList: true});\n",
              "}}\n",
              "\n",
              "                        })                };                            </script>        </div>\n",
              "</body>\n",
              "</html>"
            ]
          },
          "metadata": {}
        }
      ],
      "source": [
        "hike_att = df.groupby(['PercentSalaryHike', 'Attrition']).apply(lambda x: x['DailyRate'].count()).reset_index(name='Counts')\n",
        "\n",
        "line_plot = px.line(hike_att, x='PercentSalaryHike', y='Counts', color='Attrition',\n",
        "                    title='<b>Distribution of Salary Hike Percentages Among Employees</b>', height=500,\n",
        "                    color_discrete_map={'Yes': '#990000', 'No': '#D4AF37'})\n",
        "\n",
        "line_plot.update_traces(texttemplate='%{text:.2f}%',\n",
        "                  textposition='top center',\n",
        "                  textfont_size=14,\n",
        "                  textfont_color='black',\n",
        "                  marker=dict(line=dict(color='#28221D', width=1)))\n",
        "\n",
        "line_plot.update_layout(title_x=0.5,\n",
        "                  legend=dict(orientation='h', yanchor='bottom', y=-0.2, xanchor='center', x=0.5),\n",
        "                  font_color='#28221D',\n",
        "                  plot_bgcolor='#FFF4E5')\n",
        "\n",
        "line_plot.show()"
      ]
    },
    {
      "cell_type": "markdown",
      "id": "dbe96958",
      "metadata": {
        "papermill": {
          "duration": 0.027364,
          "end_time": "2024-05-03T15:42:07.417487",
          "exception": false,
          "start_time": "2024-05-03T15:42:07.390123",
          "status": "completed"
        },
        "tags": [],
        "id": "dbe96958"
      },
      "source": [
        "Kenaikan gaji yang lebih tinggi berfungsi sebagai insentif signifikan bagi karyawan, hal ini mendorong peningkatan kinerja dan mendorong retensi dalam organisasi. Kemungkinan seorang karyawan keluar dari organisasi yang menawarkan kenaikan gaji yang lebih rendah jauh lebih tinggi dibandingkan dengan organisasi yang memberikan kenaikan gaji yang substansial.\n",
        "\n",
        "\n",
        "\n"
      ]
    },
    {
      "cell_type": "markdown",
      "id": "dee5963f",
      "metadata": {
        "papermill": {
          "duration": 0.027723,
          "end_time": "2024-05-03T15:42:07.473570",
          "exception": false,
          "start_time": "2024-05-03T15:42:07.445847",
          "status": "completed"
        },
        "tags": [],
        "id": "dee5963f"
      },
      "source": [
        ":<center> <h2>Analisa Keragaman Pengalaman Kerja di Antara Karyawan</h2> </center>"
      ]
    },
    {
      "cell_type": "code",
      "execution_count": 89,
      "id": "744bd881",
      "metadata": {
        "execution": {
          "iopub.execute_input": "2024-05-03T15:42:07.531436Z",
          "iopub.status.busy": "2024-05-03T15:42:07.530672Z",
          "iopub.status.idle": "2024-05-03T15:42:07.640705Z",
          "shell.execute_reply": "2024-05-03T15:42:07.639491Z"
        },
        "papermill": {
          "duration": 0.142311,
          "end_time": "2024-05-03T15:42:07.643520",
          "exception": false,
          "start_time": "2024-05-03T15:42:07.501209",
          "status": "completed"
        },
        "tags": [],
        "colab": {
          "base_uri": "https://localhost:8080/",
          "height": 0
        },
        "id": "744bd881",
        "outputId": "49635ed7-fa34-49a2-bb6f-d50d108bad8d"
      },
      "outputs": [
        {
          "output_type": "display_data",
          "data": {
            "text/html": [
              "<html>\n",
              "<head><meta charset=\"utf-8\" /></head>\n",
              "<body>\n",
              "    <div>            <script src=\"https://cdnjs.cloudflare.com/ajax/libs/mathjax/2.7.5/MathJax.js?config=TeX-AMS-MML_SVG\"></script><script type=\"text/javascript\">if (window.MathJax && window.MathJax.Hub && window.MathJax.Hub.Config) {window.MathJax.Hub.Config({SVG: {font: \"STIX-Web\"}});}</script>                <script type=\"text/javascript\">window.PlotlyConfig = {MathJaxConfig: 'local'};</script>\n",
              "        <script charset=\"utf-8\" src=\"https://cdn.plot.ly/plotly-2.35.2.min.js\"></script>                <div id=\"d747414f-1c3e-4377-a2d5-8573d76c7188\" class=\"plotly-graph-div\" style=\"height:500px; width:100%;\"></div>            <script type=\"text/javascript\">                                    window.PLOTLYENV=window.PLOTLYENV || {};                                    if (document.getElementById(\"d747414f-1c3e-4377-a2d5-8573d76c7188\")) {                    Plotly.newPlot(                        \"d747414f-1c3e-4377-a2d5-8573d76c7188\",                        [{\"fillpattern\":{\"shape\":\"\"},\"hovertemplate\":\"Attrition=No\\u003cbr\\u003eNumCompaniesWorked=%{x}\\u003cbr\\u003eCounts=%{y}\\u003cextra\\u003e\\u003c\\u002fextra\\u003e\",\"legendgroup\":\"No\",\"line\":{\"color\":\"#D4AF37\",\"shape\":\"spline\"},\"marker\":{\"symbol\":\"circle\",\"line\":{\"color\":\"#28221D\",\"width\":1}},\"mode\":\"lines\",\"name\":\"No\",\"orientation\":\"v\",\"showlegend\":true,\"stackgroup\":\"1\",\"x\":[0,1,2,3,4,5,6,7,8,9],\"xaxis\":\"x\",\"y\":[174,423,130,143,122,47,54,57,43,40],\"yaxis\":\"y\",\"type\":\"scatter\",\"textfont\":{\"color\":\"black\",\"size\":14},\"textposition\":\"top center\",\"texttemplate\":\"%{text:.2f}%\"},{\"fillpattern\":{\"shape\":\"\"},\"hovertemplate\":\"Attrition=Yes\\u003cbr\\u003eNumCompaniesWorked=%{x}\\u003cbr\\u003eCounts=%{y}\\u003cextra\\u003e\\u003c\\u002fextra\\u003e\",\"legendgroup\":\"Yes\",\"line\":{\"color\":\"#990000\",\"shape\":\"spline\"},\"marker\":{\"symbol\":\"circle\",\"line\":{\"color\":\"#28221D\",\"width\":1}},\"mode\":\"lines\",\"name\":\"Yes\",\"orientation\":\"v\",\"showlegend\":true,\"stackgroup\":\"1\",\"x\":[0,1,2,3,4,5,6,7,8,9],\"xaxis\":\"x\",\"y\":[23,98,16,16,17,16,16,17,6,12],\"yaxis\":\"y\",\"type\":\"scatter\",\"textfont\":{\"color\":\"black\",\"size\":14},\"textposition\":\"top center\",\"texttemplate\":\"%{text:.2f}%\"}],                        {\"template\":{\"data\":{\"histogram2dcontour\":[{\"type\":\"histogram2dcontour\",\"colorbar\":{\"outlinewidth\":0,\"ticks\":\"\"},\"colorscale\":[[0.0,\"#0d0887\"],[0.1111111111111111,\"#46039f\"],[0.2222222222222222,\"#7201a8\"],[0.3333333333333333,\"#9c179e\"],[0.4444444444444444,\"#bd3786\"],[0.5555555555555556,\"#d8576b\"],[0.6666666666666666,\"#ed7953\"],[0.7777777777777778,\"#fb9f3a\"],[0.8888888888888888,\"#fdca26\"],[1.0,\"#f0f921\"]]}],\"choropleth\":[{\"type\":\"choropleth\",\"colorbar\":{\"outlinewidth\":0,\"ticks\":\"\"}}],\"histogram2d\":[{\"type\":\"histogram2d\",\"colorbar\":{\"outlinewidth\":0,\"ticks\":\"\"},\"colorscale\":[[0.0,\"#0d0887\"],[0.1111111111111111,\"#46039f\"],[0.2222222222222222,\"#7201a8\"],[0.3333333333333333,\"#9c179e\"],[0.4444444444444444,\"#bd3786\"],[0.5555555555555556,\"#d8576b\"],[0.6666666666666666,\"#ed7953\"],[0.7777777777777778,\"#fb9f3a\"],[0.8888888888888888,\"#fdca26\"],[1.0,\"#f0f921\"]]}],\"heatmap\":[{\"type\":\"heatmap\",\"colorbar\":{\"outlinewidth\":0,\"ticks\":\"\"},\"colorscale\":[[0.0,\"#0d0887\"],[0.1111111111111111,\"#46039f\"],[0.2222222222222222,\"#7201a8\"],[0.3333333333333333,\"#9c179e\"],[0.4444444444444444,\"#bd3786\"],[0.5555555555555556,\"#d8576b\"],[0.6666666666666666,\"#ed7953\"],[0.7777777777777778,\"#fb9f3a\"],[0.8888888888888888,\"#fdca26\"],[1.0,\"#f0f921\"]]}],\"heatmapgl\":[{\"type\":\"heatmapgl\",\"colorbar\":{\"outlinewidth\":0,\"ticks\":\"\"},\"colorscale\":[[0.0,\"#0d0887\"],[0.1111111111111111,\"#46039f\"],[0.2222222222222222,\"#7201a8\"],[0.3333333333333333,\"#9c179e\"],[0.4444444444444444,\"#bd3786\"],[0.5555555555555556,\"#d8576b\"],[0.6666666666666666,\"#ed7953\"],[0.7777777777777778,\"#fb9f3a\"],[0.8888888888888888,\"#fdca26\"],[1.0,\"#f0f921\"]]}],\"contourcarpet\":[{\"type\":\"contourcarpet\",\"colorbar\":{\"outlinewidth\":0,\"ticks\":\"\"}}],\"contour\":[{\"type\":\"contour\",\"colorbar\":{\"outlinewidth\":0,\"ticks\":\"\"},\"colorscale\":[[0.0,\"#0d0887\"],[0.1111111111111111,\"#46039f\"],[0.2222222222222222,\"#7201a8\"],[0.3333333333333333,\"#9c179e\"],[0.4444444444444444,\"#bd3786\"],[0.5555555555555556,\"#d8576b\"],[0.6666666666666666,\"#ed7953\"],[0.7777777777777778,\"#fb9f3a\"],[0.8888888888888888,\"#fdca26\"],[1.0,\"#f0f921\"]]}],\"surface\":[{\"type\":\"surface\",\"colorbar\":{\"outlinewidth\":0,\"ticks\":\"\"},\"colorscale\":[[0.0,\"#0d0887\"],[0.1111111111111111,\"#46039f\"],[0.2222222222222222,\"#7201a8\"],[0.3333333333333333,\"#9c179e\"],[0.4444444444444444,\"#bd3786\"],[0.5555555555555556,\"#d8576b\"],[0.6666666666666666,\"#ed7953\"],[0.7777777777777778,\"#fb9f3a\"],[0.8888888888888888,\"#fdca26\"],[1.0,\"#f0f921\"]]}],\"mesh3d\":[{\"type\":\"mesh3d\",\"colorbar\":{\"outlinewidth\":0,\"ticks\":\"\"}}],\"scatter\":[{\"fillpattern\":{\"fillmode\":\"overlay\",\"size\":10,\"solidity\":0.2},\"type\":\"scatter\"}],\"parcoords\":[{\"type\":\"parcoords\",\"line\":{\"colorbar\":{\"outlinewidth\":0,\"ticks\":\"\"}}}],\"scatterpolargl\":[{\"type\":\"scatterpolargl\",\"marker\":{\"colorbar\":{\"outlinewidth\":0,\"ticks\":\"\"}}}],\"bar\":[{\"error_x\":{\"color\":\"#2a3f5f\"},\"error_y\":{\"color\":\"#2a3f5f\"},\"marker\":{\"line\":{\"color\":\"#E5ECF6\",\"width\":0.5},\"pattern\":{\"fillmode\":\"overlay\",\"size\":10,\"solidity\":0.2}},\"type\":\"bar\"}],\"scattergeo\":[{\"type\":\"scattergeo\",\"marker\":{\"colorbar\":{\"outlinewidth\":0,\"ticks\":\"\"}}}],\"scatterpolar\":[{\"type\":\"scatterpolar\",\"marker\":{\"colorbar\":{\"outlinewidth\":0,\"ticks\":\"\"}}}],\"histogram\":[{\"marker\":{\"pattern\":{\"fillmode\":\"overlay\",\"size\":10,\"solidity\":0.2}},\"type\":\"histogram\"}],\"scattergl\":[{\"type\":\"scattergl\",\"marker\":{\"colorbar\":{\"outlinewidth\":0,\"ticks\":\"\"}}}],\"scatter3d\":[{\"type\":\"scatter3d\",\"line\":{\"colorbar\":{\"outlinewidth\":0,\"ticks\":\"\"}},\"marker\":{\"colorbar\":{\"outlinewidth\":0,\"ticks\":\"\"}}}],\"scattermapbox\":[{\"type\":\"scattermapbox\",\"marker\":{\"colorbar\":{\"outlinewidth\":0,\"ticks\":\"\"}}}],\"scatterternary\":[{\"type\":\"scatterternary\",\"marker\":{\"colorbar\":{\"outlinewidth\":0,\"ticks\":\"\"}}}],\"scattercarpet\":[{\"type\":\"scattercarpet\",\"marker\":{\"colorbar\":{\"outlinewidth\":0,\"ticks\":\"\"}}}],\"carpet\":[{\"aaxis\":{\"endlinecolor\":\"#2a3f5f\",\"gridcolor\":\"white\",\"linecolor\":\"white\",\"minorgridcolor\":\"white\",\"startlinecolor\":\"#2a3f5f\"},\"baxis\":{\"endlinecolor\":\"#2a3f5f\",\"gridcolor\":\"white\",\"linecolor\":\"white\",\"minorgridcolor\":\"white\",\"startlinecolor\":\"#2a3f5f\"},\"type\":\"carpet\"}],\"table\":[{\"cells\":{\"fill\":{\"color\":\"#EBF0F8\"},\"line\":{\"color\":\"white\"}},\"header\":{\"fill\":{\"color\":\"#C8D4E3\"},\"line\":{\"color\":\"white\"}},\"type\":\"table\"}],\"barpolar\":[{\"marker\":{\"line\":{\"color\":\"#E5ECF6\",\"width\":0.5},\"pattern\":{\"fillmode\":\"overlay\",\"size\":10,\"solidity\":0.2}},\"type\":\"barpolar\"}],\"pie\":[{\"automargin\":true,\"type\":\"pie\"}]},\"layout\":{\"autotypenumbers\":\"strict\",\"colorway\":[\"#636efa\",\"#EF553B\",\"#00cc96\",\"#ab63fa\",\"#FFA15A\",\"#19d3f3\",\"#FF6692\",\"#B6E880\",\"#FF97FF\",\"#FECB52\"],\"font\":{\"color\":\"#2a3f5f\"},\"hovermode\":\"closest\",\"hoverlabel\":{\"align\":\"left\"},\"paper_bgcolor\":\"white\",\"plot_bgcolor\":\"#E5ECF6\",\"polar\":{\"bgcolor\":\"#E5ECF6\",\"angularaxis\":{\"gridcolor\":\"white\",\"linecolor\":\"white\",\"ticks\":\"\"},\"radialaxis\":{\"gridcolor\":\"white\",\"linecolor\":\"white\",\"ticks\":\"\"}},\"ternary\":{\"bgcolor\":\"#E5ECF6\",\"aaxis\":{\"gridcolor\":\"white\",\"linecolor\":\"white\",\"ticks\":\"\"},\"baxis\":{\"gridcolor\":\"white\",\"linecolor\":\"white\",\"ticks\":\"\"},\"caxis\":{\"gridcolor\":\"white\",\"linecolor\":\"white\",\"ticks\":\"\"}},\"coloraxis\":{\"colorbar\":{\"outlinewidth\":0,\"ticks\":\"\"}},\"colorscale\":{\"sequential\":[[0.0,\"#0d0887\"],[0.1111111111111111,\"#46039f\"],[0.2222222222222222,\"#7201a8\"],[0.3333333333333333,\"#9c179e\"],[0.4444444444444444,\"#bd3786\"],[0.5555555555555556,\"#d8576b\"],[0.6666666666666666,\"#ed7953\"],[0.7777777777777778,\"#fb9f3a\"],[0.8888888888888888,\"#fdca26\"],[1.0,\"#f0f921\"]],\"sequentialminus\":[[0.0,\"#0d0887\"],[0.1111111111111111,\"#46039f\"],[0.2222222222222222,\"#7201a8\"],[0.3333333333333333,\"#9c179e\"],[0.4444444444444444,\"#bd3786\"],[0.5555555555555556,\"#d8576b\"],[0.6666666666666666,\"#ed7953\"],[0.7777777777777778,\"#fb9f3a\"],[0.8888888888888888,\"#fdca26\"],[1.0,\"#f0f921\"]],\"diverging\":[[0,\"#8e0152\"],[0.1,\"#c51b7d\"],[0.2,\"#de77ae\"],[0.3,\"#f1b6da\"],[0.4,\"#fde0ef\"],[0.5,\"#f7f7f7\"],[0.6,\"#e6f5d0\"],[0.7,\"#b8e186\"],[0.8,\"#7fbc41\"],[0.9,\"#4d9221\"],[1,\"#276419\"]]},\"xaxis\":{\"gridcolor\":\"white\",\"linecolor\":\"white\",\"ticks\":\"\",\"title\":{\"standoff\":15},\"zerolinecolor\":\"white\",\"automargin\":true,\"zerolinewidth\":2},\"yaxis\":{\"gridcolor\":\"white\",\"linecolor\":\"white\",\"ticks\":\"\",\"title\":{\"standoff\":15},\"zerolinecolor\":\"white\",\"automargin\":true,\"zerolinewidth\":2},\"scene\":{\"xaxis\":{\"backgroundcolor\":\"#E5ECF6\",\"gridcolor\":\"white\",\"linecolor\":\"white\",\"showbackground\":true,\"ticks\":\"\",\"zerolinecolor\":\"white\",\"gridwidth\":2},\"yaxis\":{\"backgroundcolor\":\"#E5ECF6\",\"gridcolor\":\"white\",\"linecolor\":\"white\",\"showbackground\":true,\"ticks\":\"\",\"zerolinecolor\":\"white\",\"gridwidth\":2},\"zaxis\":{\"backgroundcolor\":\"#E5ECF6\",\"gridcolor\":\"white\",\"linecolor\":\"white\",\"showbackground\":true,\"ticks\":\"\",\"zerolinecolor\":\"white\",\"gridwidth\":2}},\"shapedefaults\":{\"line\":{\"color\":\"#2a3f5f\"}},\"annotationdefaults\":{\"arrowcolor\":\"#2a3f5f\",\"arrowhead\":0,\"arrowwidth\":1},\"geo\":{\"bgcolor\":\"white\",\"landcolor\":\"#E5ECF6\",\"subunitcolor\":\"white\",\"showland\":true,\"showlakes\":true,\"lakecolor\":\"white\"},\"title\":{\"x\":0.05},\"mapbox\":{\"style\":\"light\"}}},\"xaxis\":{\"anchor\":\"y\",\"domain\":[0.0,1.0],\"title\":{\"text\":\"NumCompaniesWorked\"}},\"yaxis\":{\"anchor\":\"x\",\"domain\":[0.0,1.0],\"title\":{\"text\":\"Counts\"}},\"legend\":{\"title\":{\"text\":\"Attrition\"},\"tracegroupgap\":0,\"orientation\":\"h\",\"yanchor\":\"bottom\",\"y\":-0.2,\"xanchor\":\"center\",\"x\":0.5},\"title\":{\"text\":\"\\u003cb\\u003eDistribution of Work Experience Levels Among Employees\\u003c\\u002fb\\u003e\",\"x\":0.5},\"height\":500,\"font\":{\"color\":\"#28221D\"},\"plot_bgcolor\":\"#FFFFFF\"},                        {\"responsive\": true}                    ).then(function(){\n",
              "                            \n",
              "var gd = document.getElementById('d747414f-1c3e-4377-a2d5-8573d76c7188');\n",
              "var x = new MutationObserver(function (mutations, observer) {{\n",
              "        var display = window.getComputedStyle(gd).display;\n",
              "        if (!display || display === 'none') {{\n",
              "            console.log([gd, 'removed!']);\n",
              "            Plotly.purge(gd);\n",
              "            observer.disconnect();\n",
              "        }}\n",
              "}});\n",
              "\n",
              "// Listen for the removal of the full notebook cells\n",
              "var notebookContainer = gd.closest('#notebook-container');\n",
              "if (notebookContainer) {{\n",
              "    x.observe(notebookContainer, {childList: true});\n",
              "}}\n",
              "\n",
              "// Listen for the clearing of the current output cell\n",
              "var outputEl = gd.closest('.output');\n",
              "if (outputEl) {{\n",
              "    x.observe(outputEl, {childList: true});\n",
              "}}\n",
              "\n",
              "                        })                };                            </script>        </div>\n",
              "</body>\n",
              "</html>"
            ]
          },
          "metadata": {}
        }
      ],
      "source": [
        "exp_att = df.groupby(['NumCompaniesWorked', 'Attrition']).size().reset_index(name='Counts')\n",
        "\n",
        "area_plot = px.area(exp_att, x='NumCompaniesWorked', y='Counts', color='Attrition',\n",
        "                    title='<b>Distribution of Work Experience Levels Among Employees</b>', line_shape='spline', height=500,\n",
        "                    color_discrete_map={'Yes': '#990000', 'No': '#D4AF37'})\n",
        "\n",
        "area_plot.update_traces(texttemplate='%{text:.2f}%',\n",
        "                  textposition='top center',\n",
        "                  textfont_size=14,\n",
        "                  textfont_color='black',\n",
        "                  marker=dict(line=dict(color='#28221D', width=1)))\n",
        "\n",
        "area_plot.update_layout(title_x=0.5,\n",
        "                  legend=dict(orientation='h', yanchor='bottom', y=-0.4, xanchor='center', x=0.5),\n",
        "                  font_color='#28221D',\n",
        "                  plot_bgcolor='#FFFFFF')\n",
        "\n",
        "area_plot.update_layout(title_x=0.5, legend=dict(orientation='h', yanchor='bottom', y=-0.2, xanchor='center', x=0.5))\n",
        "\n",
        "area_plot.show()"
      ]
    },
    {
      "cell_type": "markdown",
      "id": "1714d729",
      "metadata": {
        "papermill": {
          "duration": 0.028081,
          "end_time": "2024-05-03T15:42:07.700429",
          "exception": false,
          "start_time": "2024-05-03T15:42:07.672348",
          "status": "completed"
        },
        "tags": [],
        "id": "1714d729"
      },
      "source": [
        "Grafik tersebut menggambarkan tren yang penting: individu yang memulai karier mereka dengan perusahaan atau beralih ke perusahaan tersebut sejak dini cenderung mencari peluang di tempat lain. Sebaliknya, mereka yang memiliki pengalaman yang luas di berbagai perusahaan cenderung menunjukkan kesetiaan yang lebih besar kepada perusahaan mereka saat ini."
      ]
    },
    {
      "cell_type": "markdown",
      "id": "6c0b8927",
      "metadata": {
        "papermill": {
          "duration": 0.027578,
          "end_time": "2024-05-03T15:42:07.756520",
          "exception": false,
          "start_time": "2024-05-03T15:42:07.728942",
          "status": "completed"
        },
        "tags": [],
        "id": "6c0b8927"
      },
      "source": [
        "<center> <h2>Pengaruh Kenaikan Gaji terhadap Retensi dan Motivasi Karyawan</h2> </center>"
      ]
    },
    {
      "cell_type": "code",
      "execution_count": 90,
      "id": "fba4b444",
      "metadata": {
        "execution": {
          "iopub.execute_input": "2024-05-03T15:42:07.815485Z",
          "iopub.status.busy": "2024-05-03T15:42:07.815058Z",
          "iopub.status.idle": "2024-05-03T15:42:07.918928Z",
          "shell.execute_reply": "2024-05-03T15:42:07.917702Z"
        },
        "papermill": {
          "duration": 0.135795,
          "end_time": "2024-05-03T15:42:07.921180",
          "exception": false,
          "start_time": "2024-05-03T15:42:07.785385",
          "status": "completed"
        },
        "tags": [],
        "colab": {
          "base_uri": "https://localhost:8080/",
          "height": 0
        },
        "id": "fba4b444",
        "outputId": "c6fef75e-4aec-4101-db5d-21f640ec5782"
      },
      "outputs": [
        {
          "output_type": "display_data",
          "data": {
            "text/html": [
              "<html>\n",
              "<head><meta charset=\"utf-8\" /></head>\n",
              "<body>\n",
              "    <div>            <script src=\"https://cdnjs.cloudflare.com/ajax/libs/mathjax/2.7.5/MathJax.js?config=TeX-AMS-MML_SVG\"></script><script type=\"text/javascript\">if (window.MathJax && window.MathJax.Hub && window.MathJax.Hub.Config) {window.MathJax.Hub.Config({SVG: {font: \"STIX-Web\"}});}</script>                <script type=\"text/javascript\">window.PlotlyConfig = {MathJaxConfig: 'local'};</script>\n",
              "        <script charset=\"utf-8\" src=\"https://cdn.plot.ly/plotly-2.35.2.min.js\"></script>                <div id=\"d34c894d-02d9-4344-b73a-f49c0cffd701\" class=\"plotly-graph-div\" style=\"height:500px; width:100%;\"></div>            <script type=\"text/javascript\">                                    window.PLOTLYENV=window.PLOTLYENV || {};                                    if (document.getElementById(\"d34c894d-02d9-4344-b73a-f49c0cffd701\")) {                    Plotly.newPlot(                        \"d34c894d-02d9-4344-b73a-f49c0cffd701\",                        [{\"hovertemplate\":\"Attrition=No\\u003cbr\\u003ePercentSalaryHike=%{x}\\u003cbr\\u003eCounts=%{y}\\u003cextra\\u003e\\u003c\\u002fextra\\u003e\",\"legendgroup\":\"No\",\"line\":{\"color\":\"#D4AF37\",\"dash\":\"solid\"},\"marker\":{\"symbol\":\"circle\",\"line\":{\"color\":\"#28221D\",\"width\":1}},\"mode\":\"lines\",\"name\":\"No\",\"orientation\":\"v\",\"showlegend\":true,\"x\":[11,12,13,14,15,16,17,18,19,20,21,22,23,24,25],\"xaxis\":\"x\",\"y\":[169,165,175,177,83,64,68,76,67,48,43,44,22,15,17],\"yaxis\":\"y\",\"type\":\"scatter\",\"textfont\":{\"color\":\"black\",\"size\":14},\"textposition\":\"top center\",\"texttemplate\":\"%{text:.2f}%\"},{\"hovertemplate\":\"Attrition=Yes\\u003cbr\\u003ePercentSalaryHike=%{x}\\u003cbr\\u003eCounts=%{y}\\u003cextra\\u003e\\u003c\\u002fextra\\u003e\",\"legendgroup\":\"Yes\",\"line\":{\"color\":\"#990000\",\"dash\":\"solid\"},\"marker\":{\"symbol\":\"circle\",\"line\":{\"color\":\"#28221D\",\"width\":1}},\"mode\":\"lines\",\"name\":\"Yes\",\"orientation\":\"v\",\"showlegend\":true,\"x\":[11,12,13,14,15,16,17,18,19,20,21,22,23,24,25],\"xaxis\":\"x\",\"y\":[41,33,34,24,18,14,14,13,9,7,5,12,6,6,1],\"yaxis\":\"y\",\"type\":\"scatter\",\"textfont\":{\"color\":\"black\",\"size\":14},\"textposition\":\"top center\",\"texttemplate\":\"%{text:.2f}%\"}],                        {\"template\":{\"data\":{\"histogram2dcontour\":[{\"type\":\"histogram2dcontour\",\"colorbar\":{\"outlinewidth\":0,\"ticks\":\"\"},\"colorscale\":[[0.0,\"#0d0887\"],[0.1111111111111111,\"#46039f\"],[0.2222222222222222,\"#7201a8\"],[0.3333333333333333,\"#9c179e\"],[0.4444444444444444,\"#bd3786\"],[0.5555555555555556,\"#d8576b\"],[0.6666666666666666,\"#ed7953\"],[0.7777777777777778,\"#fb9f3a\"],[0.8888888888888888,\"#fdca26\"],[1.0,\"#f0f921\"]]}],\"choropleth\":[{\"type\":\"choropleth\",\"colorbar\":{\"outlinewidth\":0,\"ticks\":\"\"}}],\"histogram2d\":[{\"type\":\"histogram2d\",\"colorbar\":{\"outlinewidth\":0,\"ticks\":\"\"},\"colorscale\":[[0.0,\"#0d0887\"],[0.1111111111111111,\"#46039f\"],[0.2222222222222222,\"#7201a8\"],[0.3333333333333333,\"#9c179e\"],[0.4444444444444444,\"#bd3786\"],[0.5555555555555556,\"#d8576b\"],[0.6666666666666666,\"#ed7953\"],[0.7777777777777778,\"#fb9f3a\"],[0.8888888888888888,\"#fdca26\"],[1.0,\"#f0f921\"]]}],\"heatmap\":[{\"type\":\"heatmap\",\"colorbar\":{\"outlinewidth\":0,\"ticks\":\"\"},\"colorscale\":[[0.0,\"#0d0887\"],[0.1111111111111111,\"#46039f\"],[0.2222222222222222,\"#7201a8\"],[0.3333333333333333,\"#9c179e\"],[0.4444444444444444,\"#bd3786\"],[0.5555555555555556,\"#d8576b\"],[0.6666666666666666,\"#ed7953\"],[0.7777777777777778,\"#fb9f3a\"],[0.8888888888888888,\"#fdca26\"],[1.0,\"#f0f921\"]]}],\"heatmapgl\":[{\"type\":\"heatmapgl\",\"colorbar\":{\"outlinewidth\":0,\"ticks\":\"\"},\"colorscale\":[[0.0,\"#0d0887\"],[0.1111111111111111,\"#46039f\"],[0.2222222222222222,\"#7201a8\"],[0.3333333333333333,\"#9c179e\"],[0.4444444444444444,\"#bd3786\"],[0.5555555555555556,\"#d8576b\"],[0.6666666666666666,\"#ed7953\"],[0.7777777777777778,\"#fb9f3a\"],[0.8888888888888888,\"#fdca26\"],[1.0,\"#f0f921\"]]}],\"contourcarpet\":[{\"type\":\"contourcarpet\",\"colorbar\":{\"outlinewidth\":0,\"ticks\":\"\"}}],\"contour\":[{\"type\":\"contour\",\"colorbar\":{\"outlinewidth\":0,\"ticks\":\"\"},\"colorscale\":[[0.0,\"#0d0887\"],[0.1111111111111111,\"#46039f\"],[0.2222222222222222,\"#7201a8\"],[0.3333333333333333,\"#9c179e\"],[0.4444444444444444,\"#bd3786\"],[0.5555555555555556,\"#d8576b\"],[0.6666666666666666,\"#ed7953\"],[0.7777777777777778,\"#fb9f3a\"],[0.8888888888888888,\"#fdca26\"],[1.0,\"#f0f921\"]]}],\"surface\":[{\"type\":\"surface\",\"colorbar\":{\"outlinewidth\":0,\"ticks\":\"\"},\"colorscale\":[[0.0,\"#0d0887\"],[0.1111111111111111,\"#46039f\"],[0.2222222222222222,\"#7201a8\"],[0.3333333333333333,\"#9c179e\"],[0.4444444444444444,\"#bd3786\"],[0.5555555555555556,\"#d8576b\"],[0.6666666666666666,\"#ed7953\"],[0.7777777777777778,\"#fb9f3a\"],[0.8888888888888888,\"#fdca26\"],[1.0,\"#f0f921\"]]}],\"mesh3d\":[{\"type\":\"mesh3d\",\"colorbar\":{\"outlinewidth\":0,\"ticks\":\"\"}}],\"scatter\":[{\"fillpattern\":{\"fillmode\":\"overlay\",\"size\":10,\"solidity\":0.2},\"type\":\"scatter\"}],\"parcoords\":[{\"type\":\"parcoords\",\"line\":{\"colorbar\":{\"outlinewidth\":0,\"ticks\":\"\"}}}],\"scatterpolargl\":[{\"type\":\"scatterpolargl\",\"marker\":{\"colorbar\":{\"outlinewidth\":0,\"ticks\":\"\"}}}],\"bar\":[{\"error_x\":{\"color\":\"#2a3f5f\"},\"error_y\":{\"color\":\"#2a3f5f\"},\"marker\":{\"line\":{\"color\":\"#E5ECF6\",\"width\":0.5},\"pattern\":{\"fillmode\":\"overlay\",\"size\":10,\"solidity\":0.2}},\"type\":\"bar\"}],\"scattergeo\":[{\"type\":\"scattergeo\",\"marker\":{\"colorbar\":{\"outlinewidth\":0,\"ticks\":\"\"}}}],\"scatterpolar\":[{\"type\":\"scatterpolar\",\"marker\":{\"colorbar\":{\"outlinewidth\":0,\"ticks\":\"\"}}}],\"histogram\":[{\"marker\":{\"pattern\":{\"fillmode\":\"overlay\",\"size\":10,\"solidity\":0.2}},\"type\":\"histogram\"}],\"scattergl\":[{\"type\":\"scattergl\",\"marker\":{\"colorbar\":{\"outlinewidth\":0,\"ticks\":\"\"}}}],\"scatter3d\":[{\"type\":\"scatter3d\",\"line\":{\"colorbar\":{\"outlinewidth\":0,\"ticks\":\"\"}},\"marker\":{\"colorbar\":{\"outlinewidth\":0,\"ticks\":\"\"}}}],\"scattermapbox\":[{\"type\":\"scattermapbox\",\"marker\":{\"colorbar\":{\"outlinewidth\":0,\"ticks\":\"\"}}}],\"scatterternary\":[{\"type\":\"scatterternary\",\"marker\":{\"colorbar\":{\"outlinewidth\":0,\"ticks\":\"\"}}}],\"scattercarpet\":[{\"type\":\"scattercarpet\",\"marker\":{\"colorbar\":{\"outlinewidth\":0,\"ticks\":\"\"}}}],\"carpet\":[{\"aaxis\":{\"endlinecolor\":\"#2a3f5f\",\"gridcolor\":\"white\",\"linecolor\":\"white\",\"minorgridcolor\":\"white\",\"startlinecolor\":\"#2a3f5f\"},\"baxis\":{\"endlinecolor\":\"#2a3f5f\",\"gridcolor\":\"white\",\"linecolor\":\"white\",\"minorgridcolor\":\"white\",\"startlinecolor\":\"#2a3f5f\"},\"type\":\"carpet\"}],\"table\":[{\"cells\":{\"fill\":{\"color\":\"#EBF0F8\"},\"line\":{\"color\":\"white\"}},\"header\":{\"fill\":{\"color\":\"#C8D4E3\"},\"line\":{\"color\":\"white\"}},\"type\":\"table\"}],\"barpolar\":[{\"marker\":{\"line\":{\"color\":\"#E5ECF6\",\"width\":0.5},\"pattern\":{\"fillmode\":\"overlay\",\"size\":10,\"solidity\":0.2}},\"type\":\"barpolar\"}],\"pie\":[{\"automargin\":true,\"type\":\"pie\"}]},\"layout\":{\"autotypenumbers\":\"strict\",\"colorway\":[\"#636efa\",\"#EF553B\",\"#00cc96\",\"#ab63fa\",\"#FFA15A\",\"#19d3f3\",\"#FF6692\",\"#B6E880\",\"#FF97FF\",\"#FECB52\"],\"font\":{\"color\":\"#2a3f5f\"},\"hovermode\":\"closest\",\"hoverlabel\":{\"align\":\"left\"},\"paper_bgcolor\":\"white\",\"plot_bgcolor\":\"#E5ECF6\",\"polar\":{\"bgcolor\":\"#E5ECF6\",\"angularaxis\":{\"gridcolor\":\"white\",\"linecolor\":\"white\",\"ticks\":\"\"},\"radialaxis\":{\"gridcolor\":\"white\",\"linecolor\":\"white\",\"ticks\":\"\"}},\"ternary\":{\"bgcolor\":\"#E5ECF6\",\"aaxis\":{\"gridcolor\":\"white\",\"linecolor\":\"white\",\"ticks\":\"\"},\"baxis\":{\"gridcolor\":\"white\",\"linecolor\":\"white\",\"ticks\":\"\"},\"caxis\":{\"gridcolor\":\"white\",\"linecolor\":\"white\",\"ticks\":\"\"}},\"coloraxis\":{\"colorbar\":{\"outlinewidth\":0,\"ticks\":\"\"}},\"colorscale\":{\"sequential\":[[0.0,\"#0d0887\"],[0.1111111111111111,\"#46039f\"],[0.2222222222222222,\"#7201a8\"],[0.3333333333333333,\"#9c179e\"],[0.4444444444444444,\"#bd3786\"],[0.5555555555555556,\"#d8576b\"],[0.6666666666666666,\"#ed7953\"],[0.7777777777777778,\"#fb9f3a\"],[0.8888888888888888,\"#fdca26\"],[1.0,\"#f0f921\"]],\"sequentialminus\":[[0.0,\"#0d0887\"],[0.1111111111111111,\"#46039f\"],[0.2222222222222222,\"#7201a8\"],[0.3333333333333333,\"#9c179e\"],[0.4444444444444444,\"#bd3786\"],[0.5555555555555556,\"#d8576b\"],[0.6666666666666666,\"#ed7953\"],[0.7777777777777778,\"#fb9f3a\"],[0.8888888888888888,\"#fdca26\"],[1.0,\"#f0f921\"]],\"diverging\":[[0,\"#8e0152\"],[0.1,\"#c51b7d\"],[0.2,\"#de77ae\"],[0.3,\"#f1b6da\"],[0.4,\"#fde0ef\"],[0.5,\"#f7f7f7\"],[0.6,\"#e6f5d0\"],[0.7,\"#b8e186\"],[0.8,\"#7fbc41\"],[0.9,\"#4d9221\"],[1,\"#276419\"]]},\"xaxis\":{\"gridcolor\":\"white\",\"linecolor\":\"white\",\"ticks\":\"\",\"title\":{\"standoff\":15},\"zerolinecolor\":\"white\",\"automargin\":true,\"zerolinewidth\":2},\"yaxis\":{\"gridcolor\":\"white\",\"linecolor\":\"white\",\"ticks\":\"\",\"title\":{\"standoff\":15},\"zerolinecolor\":\"white\",\"automargin\":true,\"zerolinewidth\":2},\"scene\":{\"xaxis\":{\"backgroundcolor\":\"#E5ECF6\",\"gridcolor\":\"white\",\"linecolor\":\"white\",\"showbackground\":true,\"ticks\":\"\",\"zerolinecolor\":\"white\",\"gridwidth\":2},\"yaxis\":{\"backgroundcolor\":\"#E5ECF6\",\"gridcolor\":\"white\",\"linecolor\":\"white\",\"showbackground\":true,\"ticks\":\"\",\"zerolinecolor\":\"white\",\"gridwidth\":2},\"zaxis\":{\"backgroundcolor\":\"#E5ECF6\",\"gridcolor\":\"white\",\"linecolor\":\"white\",\"showbackground\":true,\"ticks\":\"\",\"zerolinecolor\":\"white\",\"gridwidth\":2}},\"shapedefaults\":{\"line\":{\"color\":\"#2a3f5f\"}},\"annotationdefaults\":{\"arrowcolor\":\"#2a3f5f\",\"arrowhead\":0,\"arrowwidth\":1},\"geo\":{\"bgcolor\":\"white\",\"landcolor\":\"#E5ECF6\",\"subunitcolor\":\"white\",\"showland\":true,\"showlakes\":true,\"lakecolor\":\"white\"},\"title\":{\"x\":0.05},\"mapbox\":{\"style\":\"light\"}}},\"xaxis\":{\"anchor\":\"y\",\"domain\":[0.0,1.0],\"title\":{\"text\":\"PercentSalaryHike\"}},\"yaxis\":{\"anchor\":\"x\",\"domain\":[0.0,1.0],\"title\":{\"text\":\"Counts\"}},\"legend\":{\"title\":{\"text\":\"Attrition\"},\"tracegroupgap\":0,\"orientation\":\"h\",\"yanchor\":\"bottom\",\"y\":-0.2,\"xanchor\":\"center\",\"x\":0.5},\"title\":{\"text\":\"\\u003cb\\u003ePercent Salary Hike of Employees in the Organization\\u003c\\u002fb\\u003e\",\"x\":0.5},\"height\":500,\"font\":{\"color\":\"#28221D\"},\"plot_bgcolor\":\"#FFF4E5\"},                        {\"responsive\": true}                    ).then(function(){\n",
              "                            \n",
              "var gd = document.getElementById('d34c894d-02d9-4344-b73a-f49c0cffd701');\n",
              "var x = new MutationObserver(function (mutations, observer) {{\n",
              "        var display = window.getComputedStyle(gd).display;\n",
              "        if (!display || display === 'none') {{\n",
              "            console.log([gd, 'removed!']);\n",
              "            Plotly.purge(gd);\n",
              "            observer.disconnect();\n",
              "        }}\n",
              "}});\n",
              "\n",
              "// Listen for the removal of the full notebook cells\n",
              "var notebookContainer = gd.closest('#notebook-container');\n",
              "if (notebookContainer) {{\n",
              "    x.observe(notebookContainer, {childList: true});\n",
              "}}\n",
              "\n",
              "// Listen for the clearing of the current output cell\n",
              "var outputEl = gd.closest('.output');\n",
              "if (outputEl) {{\n",
              "    x.observe(outputEl, {childList: true});\n",
              "}}\n",
              "\n",
              "                        })                };                            </script>        </div>\n",
              "</body>\n",
              "</html>"
            ]
          },
          "metadata": {}
        }
      ],
      "source": [
        "promotion_att = df.groupby(['PercentSalaryHike', 'Attrition']).apply(lambda x: x['DailyRate'].count()).reset_index(name='Counts')\n",
        "\n",
        "fig = px.line(promotion_att, x='PercentSalaryHike', y='Counts', color='Attrition',\n",
        "              title='<b>Percent Salary Hike of Employees in the Organization</b>', height=500,\n",
        "              color_discrete_map={'Yes': '#990000', 'No': '#D4AF37'})  # Specify line colors here\n",
        "\n",
        "fig.update_traces(texttemplate='%{text:.2f}%',\n",
        "                  textposition='top center',\n",
        "                  textfont_size=14,\n",
        "                  textfont_color='black',\n",
        "                  marker=dict(line=dict(color='#28221D', width=1)))\n",
        "\n",
        "fig.update_layout(title_x=0.5,\n",
        "                  legend=dict(orientation='h', yanchor='bottom', y=-0.2, xanchor='center', x=0.5),\n",
        "                  font_color='#28221D',\n",
        "                  plot_bgcolor='#FFF4E5')\n",
        "\n",
        "fig.show()\n"
      ]
    },
    {
      "cell_type": "markdown",
      "id": "0e5f959f",
      "metadata": {
        "papermill": {
          "duration": 0.028546,
          "end_time": "2024-05-03T15:42:07.979460",
          "exception": false,
          "start_time": "2024-05-03T15:42:07.950914",
          "status": "completed"
        },
        "tags": [],
        "id": "0e5f959f"
      },
      "source": [
        "Kenaikan gaji yang lebih tinggi menginspirasi individu untuk bekerja lebih efektif dan tetap berkomitmen pada organisasi. Oleh karena itu, kami mengamati bahwa kemungkinan seorang karyawan untuk keluar dari perusahaan yang menawarkan kenaikan gaji yang lebih rendah jauh lebih tinggi dibandingkan dengan perusahaan yang menawarkan kenaikan gaji yang besar."
      ]
    },
    {
      "cell_type": "markdown",
      "id": "3d737e2d",
      "metadata": {
        "papermill": {
          "duration": 0.029349,
          "end_time": "2024-05-03T15:42:08.038935",
          "exception": false,
          "start_time": "2024-05-03T15:42:08.009586",
          "status": "completed"
        },
        "tags": [],
        "id": "3d737e2d"
      },
      "source": [
        "<center><h2>Attrition Rates Across Education Levels</h2></center>"
      ]
    },
    {
      "cell_type": "code",
      "execution_count": 91,
      "id": "3d03565f",
      "metadata": {
        "execution": {
          "iopub.execute_input": "2024-05-03T15:42:08.098859Z",
          "iopub.status.busy": "2024-05-03T15:42:08.098074Z",
          "iopub.status.idle": "2024-05-03T15:42:08.202998Z",
          "shell.execute_reply": "2024-05-03T15:42:08.201724Z"
        },
        "papermill": {
          "duration": 0.138457,
          "end_time": "2024-05-03T15:42:08.205934",
          "exception": false,
          "start_time": "2024-05-03T15:42:08.067477",
          "status": "completed"
        },
        "tags": [],
        "colab": {
          "base_uri": "https://localhost:8080/",
          "height": 0
        },
        "id": "3d03565f",
        "outputId": "3c7daba1-e4fe-439a-b60d-9fd08091ae04"
      },
      "outputs": [
        {
          "output_type": "display_data",
          "data": {
            "text/html": [
              "<html>\n",
              "<head><meta charset=\"utf-8\" /></head>\n",
              "<body>\n",
              "    <div>            <script src=\"https://cdnjs.cloudflare.com/ajax/libs/mathjax/2.7.5/MathJax.js?config=TeX-AMS-MML_SVG\"></script><script type=\"text/javascript\">if (window.MathJax && window.MathJax.Hub && window.MathJax.Hub.Config) {window.MathJax.Hub.Config({SVG: {font: \"STIX-Web\"}});}</script>                <script type=\"text/javascript\">window.PlotlyConfig = {MathJaxConfig: 'local'};</script>\n",
              "        <script charset=\"utf-8\" src=\"https://cdn.plot.ly/plotly-2.35.2.min.js\"></script>                <div id=\"6e06f731-c8b5-4bd9-87ef-6dacad9cd16d\" class=\"plotly-graph-div\" style=\"height:550px; width:100%;\"></div>            <script type=\"text/javascript\">                                    window.PLOTLYENV=window.PLOTLYENV || {};                                    if (document.getElementById(\"6e06f731-c8b5-4bd9-87ef-6dacad9cd16d\")) {                    Plotly.newPlot(                        \"6e06f731-c8b5-4bd9-87ef-6dacad9cd16d\",                        [{\"alignmentgroup\":\"True\",\"hovertemplate\":\"Attrition=No\\u003cbr\\u003eEducation=%{x}\\u003cbr\\u003eCount=%{y}\\u003cbr\\u003ePercentage=%{text}\\u003cextra\\u003e\\u003c\\u002fextra\\u003e\",\"legendgroup\":\"No\",\"marker\":{\"color\":\"#D4AF37\",\"pattern\":{\"shape\":\"\"},\"line\":{\"color\":\"#28221D\",\"width\":1}},\"name\":\"No\",\"offsetgroup\":\"No\",\"orientation\":\"v\",\"showlegend\":true,\"text\":[81.76470588235294,84.39716312056737,82.6923076923077,85.42713567839196,89.58333333333334],\"textposition\":\"outside\",\"x\":[\"Below College\",\"College\",\"Bachelor\",\"Master\",\"Doctor\"],\"xaxis\":\"x\",\"y\":[139,238,473,340,43],\"yaxis\":\"y\",\"type\":\"bar\",\"textfont\":{\"color\":\"black\",\"size\":14},\"texttemplate\":\"%{text:.2f}%\"},{\"alignmentgroup\":\"True\",\"hovertemplate\":\"Attrition=Yes\\u003cbr\\u003eEducation=%{x}\\u003cbr\\u003eCount=%{y}\\u003cbr\\u003ePercentage=%{text}\\u003cextra\\u003e\\u003c\\u002fextra\\u003e\",\"legendgroup\":\"Yes\",\"marker\":{\"color\":\"#990000\",\"pattern\":{\"shape\":\"\"},\"line\":{\"color\":\"#28221D\",\"width\":1}},\"name\":\"Yes\",\"offsetgroup\":\"Yes\",\"orientation\":\"v\",\"showlegend\":true,\"text\":[18.235294117647058,15.602836879432624,17.307692307692307,14.572864321608039,10.416666666666668],\"textposition\":\"outside\",\"x\":[\"Below College\",\"College\",\"Bachelor\",\"Master\",\"Doctor\"],\"xaxis\":\"x\",\"y\":[31,44,99,58,5],\"yaxis\":\"y\",\"type\":\"bar\",\"textfont\":{\"color\":\"black\",\"size\":14},\"texttemplate\":\"%{text:.2f}%\"}],                        {\"template\":{\"data\":{\"histogram2dcontour\":[{\"type\":\"histogram2dcontour\",\"colorbar\":{\"outlinewidth\":0,\"ticks\":\"\"},\"colorscale\":[[0.0,\"#0d0887\"],[0.1111111111111111,\"#46039f\"],[0.2222222222222222,\"#7201a8\"],[0.3333333333333333,\"#9c179e\"],[0.4444444444444444,\"#bd3786\"],[0.5555555555555556,\"#d8576b\"],[0.6666666666666666,\"#ed7953\"],[0.7777777777777778,\"#fb9f3a\"],[0.8888888888888888,\"#fdca26\"],[1.0,\"#f0f921\"]]}],\"choropleth\":[{\"type\":\"choropleth\",\"colorbar\":{\"outlinewidth\":0,\"ticks\":\"\"}}],\"histogram2d\":[{\"type\":\"histogram2d\",\"colorbar\":{\"outlinewidth\":0,\"ticks\":\"\"},\"colorscale\":[[0.0,\"#0d0887\"],[0.1111111111111111,\"#46039f\"],[0.2222222222222222,\"#7201a8\"],[0.3333333333333333,\"#9c179e\"],[0.4444444444444444,\"#bd3786\"],[0.5555555555555556,\"#d8576b\"],[0.6666666666666666,\"#ed7953\"],[0.7777777777777778,\"#fb9f3a\"],[0.8888888888888888,\"#fdca26\"],[1.0,\"#f0f921\"]]}],\"heatmap\":[{\"type\":\"heatmap\",\"colorbar\":{\"outlinewidth\":0,\"ticks\":\"\"},\"colorscale\":[[0.0,\"#0d0887\"],[0.1111111111111111,\"#46039f\"],[0.2222222222222222,\"#7201a8\"],[0.3333333333333333,\"#9c179e\"],[0.4444444444444444,\"#bd3786\"],[0.5555555555555556,\"#d8576b\"],[0.6666666666666666,\"#ed7953\"],[0.7777777777777778,\"#fb9f3a\"],[0.8888888888888888,\"#fdca26\"],[1.0,\"#f0f921\"]]}],\"heatmapgl\":[{\"type\":\"heatmapgl\",\"colorbar\":{\"outlinewidth\":0,\"ticks\":\"\"},\"colorscale\":[[0.0,\"#0d0887\"],[0.1111111111111111,\"#46039f\"],[0.2222222222222222,\"#7201a8\"],[0.3333333333333333,\"#9c179e\"],[0.4444444444444444,\"#bd3786\"],[0.5555555555555556,\"#d8576b\"],[0.6666666666666666,\"#ed7953\"],[0.7777777777777778,\"#fb9f3a\"],[0.8888888888888888,\"#fdca26\"],[1.0,\"#f0f921\"]]}],\"contourcarpet\":[{\"type\":\"contourcarpet\",\"colorbar\":{\"outlinewidth\":0,\"ticks\":\"\"}}],\"contour\":[{\"type\":\"contour\",\"colorbar\":{\"outlinewidth\":0,\"ticks\":\"\"},\"colorscale\":[[0.0,\"#0d0887\"],[0.1111111111111111,\"#46039f\"],[0.2222222222222222,\"#7201a8\"],[0.3333333333333333,\"#9c179e\"],[0.4444444444444444,\"#bd3786\"],[0.5555555555555556,\"#d8576b\"],[0.6666666666666666,\"#ed7953\"],[0.7777777777777778,\"#fb9f3a\"],[0.8888888888888888,\"#fdca26\"],[1.0,\"#f0f921\"]]}],\"surface\":[{\"type\":\"surface\",\"colorbar\":{\"outlinewidth\":0,\"ticks\":\"\"},\"colorscale\":[[0.0,\"#0d0887\"],[0.1111111111111111,\"#46039f\"],[0.2222222222222222,\"#7201a8\"],[0.3333333333333333,\"#9c179e\"],[0.4444444444444444,\"#bd3786\"],[0.5555555555555556,\"#d8576b\"],[0.6666666666666666,\"#ed7953\"],[0.7777777777777778,\"#fb9f3a\"],[0.8888888888888888,\"#fdca26\"],[1.0,\"#f0f921\"]]}],\"mesh3d\":[{\"type\":\"mesh3d\",\"colorbar\":{\"outlinewidth\":0,\"ticks\":\"\"}}],\"scatter\":[{\"fillpattern\":{\"fillmode\":\"overlay\",\"size\":10,\"solidity\":0.2},\"type\":\"scatter\"}],\"parcoords\":[{\"type\":\"parcoords\",\"line\":{\"colorbar\":{\"outlinewidth\":0,\"ticks\":\"\"}}}],\"scatterpolargl\":[{\"type\":\"scatterpolargl\",\"marker\":{\"colorbar\":{\"outlinewidth\":0,\"ticks\":\"\"}}}],\"bar\":[{\"error_x\":{\"color\":\"#2a3f5f\"},\"error_y\":{\"color\":\"#2a3f5f\"},\"marker\":{\"line\":{\"color\":\"#E5ECF6\",\"width\":0.5},\"pattern\":{\"fillmode\":\"overlay\",\"size\":10,\"solidity\":0.2}},\"type\":\"bar\"}],\"scattergeo\":[{\"type\":\"scattergeo\",\"marker\":{\"colorbar\":{\"outlinewidth\":0,\"ticks\":\"\"}}}],\"scatterpolar\":[{\"type\":\"scatterpolar\",\"marker\":{\"colorbar\":{\"outlinewidth\":0,\"ticks\":\"\"}}}],\"histogram\":[{\"marker\":{\"pattern\":{\"fillmode\":\"overlay\",\"size\":10,\"solidity\":0.2}},\"type\":\"histogram\"}],\"scattergl\":[{\"type\":\"scattergl\",\"marker\":{\"colorbar\":{\"outlinewidth\":0,\"ticks\":\"\"}}}],\"scatter3d\":[{\"type\":\"scatter3d\",\"line\":{\"colorbar\":{\"outlinewidth\":0,\"ticks\":\"\"}},\"marker\":{\"colorbar\":{\"outlinewidth\":0,\"ticks\":\"\"}}}],\"scattermapbox\":[{\"type\":\"scattermapbox\",\"marker\":{\"colorbar\":{\"outlinewidth\":0,\"ticks\":\"\"}}}],\"scatterternary\":[{\"type\":\"scatterternary\",\"marker\":{\"colorbar\":{\"outlinewidth\":0,\"ticks\":\"\"}}}],\"scattercarpet\":[{\"type\":\"scattercarpet\",\"marker\":{\"colorbar\":{\"outlinewidth\":0,\"ticks\":\"\"}}}],\"carpet\":[{\"aaxis\":{\"endlinecolor\":\"#2a3f5f\",\"gridcolor\":\"white\",\"linecolor\":\"white\",\"minorgridcolor\":\"white\",\"startlinecolor\":\"#2a3f5f\"},\"baxis\":{\"endlinecolor\":\"#2a3f5f\",\"gridcolor\":\"white\",\"linecolor\":\"white\",\"minorgridcolor\":\"white\",\"startlinecolor\":\"#2a3f5f\"},\"type\":\"carpet\"}],\"table\":[{\"cells\":{\"fill\":{\"color\":\"#EBF0F8\"},\"line\":{\"color\":\"white\"}},\"header\":{\"fill\":{\"color\":\"#C8D4E3\"},\"line\":{\"color\":\"white\"}},\"type\":\"table\"}],\"barpolar\":[{\"marker\":{\"line\":{\"color\":\"#E5ECF6\",\"width\":0.5},\"pattern\":{\"fillmode\":\"overlay\",\"size\":10,\"solidity\":0.2}},\"type\":\"barpolar\"}],\"pie\":[{\"automargin\":true,\"type\":\"pie\"}]},\"layout\":{\"autotypenumbers\":\"strict\",\"colorway\":[\"#636efa\",\"#EF553B\",\"#00cc96\",\"#ab63fa\",\"#FFA15A\",\"#19d3f3\",\"#FF6692\",\"#B6E880\",\"#FF97FF\",\"#FECB52\"],\"font\":{\"color\":\"#2a3f5f\"},\"hovermode\":\"closest\",\"hoverlabel\":{\"align\":\"left\"},\"paper_bgcolor\":\"white\",\"plot_bgcolor\":\"#E5ECF6\",\"polar\":{\"bgcolor\":\"#E5ECF6\",\"angularaxis\":{\"gridcolor\":\"white\",\"linecolor\":\"white\",\"ticks\":\"\"},\"radialaxis\":{\"gridcolor\":\"white\",\"linecolor\":\"white\",\"ticks\":\"\"}},\"ternary\":{\"bgcolor\":\"#E5ECF6\",\"aaxis\":{\"gridcolor\":\"white\",\"linecolor\":\"white\",\"ticks\":\"\"},\"baxis\":{\"gridcolor\":\"white\",\"linecolor\":\"white\",\"ticks\":\"\"},\"caxis\":{\"gridcolor\":\"white\",\"linecolor\":\"white\",\"ticks\":\"\"}},\"coloraxis\":{\"colorbar\":{\"outlinewidth\":0,\"ticks\":\"\"}},\"colorscale\":{\"sequential\":[[0.0,\"#0d0887\"],[0.1111111111111111,\"#46039f\"],[0.2222222222222222,\"#7201a8\"],[0.3333333333333333,\"#9c179e\"],[0.4444444444444444,\"#bd3786\"],[0.5555555555555556,\"#d8576b\"],[0.6666666666666666,\"#ed7953\"],[0.7777777777777778,\"#fb9f3a\"],[0.8888888888888888,\"#fdca26\"],[1.0,\"#f0f921\"]],\"sequentialminus\":[[0.0,\"#0d0887\"],[0.1111111111111111,\"#46039f\"],[0.2222222222222222,\"#7201a8\"],[0.3333333333333333,\"#9c179e\"],[0.4444444444444444,\"#bd3786\"],[0.5555555555555556,\"#d8576b\"],[0.6666666666666666,\"#ed7953\"],[0.7777777777777778,\"#fb9f3a\"],[0.8888888888888888,\"#fdca26\"],[1.0,\"#f0f921\"]],\"diverging\":[[0,\"#8e0152\"],[0.1,\"#c51b7d\"],[0.2,\"#de77ae\"],[0.3,\"#f1b6da\"],[0.4,\"#fde0ef\"],[0.5,\"#f7f7f7\"],[0.6,\"#e6f5d0\"],[0.7,\"#b8e186\"],[0.8,\"#7fbc41\"],[0.9,\"#4d9221\"],[1,\"#276419\"]]},\"xaxis\":{\"gridcolor\":\"white\",\"linecolor\":\"white\",\"ticks\":\"\",\"title\":{\"standoff\":15},\"zerolinecolor\":\"white\",\"automargin\":true,\"zerolinewidth\":2},\"yaxis\":{\"gridcolor\":\"white\",\"linecolor\":\"white\",\"ticks\":\"\",\"title\":{\"standoff\":15},\"zerolinecolor\":\"white\",\"automargin\":true,\"zerolinewidth\":2},\"scene\":{\"xaxis\":{\"backgroundcolor\":\"#E5ECF6\",\"gridcolor\":\"white\",\"linecolor\":\"white\",\"showbackground\":true,\"ticks\":\"\",\"zerolinecolor\":\"white\",\"gridwidth\":2},\"yaxis\":{\"backgroundcolor\":\"#E5ECF6\",\"gridcolor\":\"white\",\"linecolor\":\"white\",\"showbackground\":true,\"ticks\":\"\",\"zerolinecolor\":\"white\",\"gridwidth\":2},\"zaxis\":{\"backgroundcolor\":\"#E5ECF6\",\"gridcolor\":\"white\",\"linecolor\":\"white\",\"showbackground\":true,\"ticks\":\"\",\"zerolinecolor\":\"white\",\"gridwidth\":2}},\"shapedefaults\":{\"line\":{\"color\":\"#2a3f5f\"}},\"annotationdefaults\":{\"arrowcolor\":\"#2a3f5f\",\"arrowhead\":0,\"arrowwidth\":1},\"geo\":{\"bgcolor\":\"white\",\"landcolor\":\"#E5ECF6\",\"subunitcolor\":\"white\",\"showland\":true,\"showlakes\":true,\"lakecolor\":\"white\"},\"title\":{\"x\":0.05},\"mapbox\":{\"style\":\"light\"}}},\"xaxis\":{\"anchor\":\"y\",\"domain\":[0.0,1.0],\"title\":{\"text\":\"Education\"}},\"yaxis\":{\"anchor\":\"x\",\"domain\":[0.0,1.0],\"title\":{\"text\":\"Count\"}},\"legend\":{\"title\":{\"text\":\"Attrition\"},\"tracegroupgap\":0,\"orientation\":\"h\",\"yanchor\":\"bottom\",\"y\":-0.2,\"xanchor\":\"center\",\"x\":0.49},\"title\":{\"text\":\"\\u003cb\\u003eEducation-wise Distribution of Employees by Attrition Status\\u003c\\u002fb\\u003e\",\"x\":0.5},\"barmode\":\"relative\",\"height\":550,\"font\":{\"color\":\"#28221D\"},\"paper_bgcolor\":\"#FFFFFF\",\"plot_bgcolor\":\"#FFFFFF\"},                        {\"responsive\": true}                    ).then(function(){\n",
              "                            \n",
              "var gd = document.getElementById('6e06f731-c8b5-4bd9-87ef-6dacad9cd16d');\n",
              "var x = new MutationObserver(function (mutations, observer) {{\n",
              "        var display = window.getComputedStyle(gd).display;\n",
              "        if (!display || display === 'none') {{\n",
              "            console.log([gd, 'removed!']);\n",
              "            Plotly.purge(gd);\n",
              "            observer.disconnect();\n",
              "        }}\n",
              "}});\n",
              "\n",
              "// Listen for the removal of the full notebook cells\n",
              "var notebookContainer = gd.closest('#notebook-container');\n",
              "if (notebookContainer) {{\n",
              "    x.observe(notebookContainer, {childList: true});\n",
              "}}\n",
              "\n",
              "// Listen for the clearing of the current output cell\n",
              "var outputEl = gd.closest('.output');\n",
              "if (outputEl) {{\n",
              "    x.observe(outputEl, {childList: true});\n",
              "}}\n",
              "\n",
              "                        })                };                            </script>        </div>\n",
              "</body>\n",
              "</html>"
            ]
          },
          "metadata": {}
        }
      ],
      "source": [
        "import plotly.express as px\n",
        "\n",
        "education_labels = {\n",
        "    1: 'Below College',\n",
        "    2: 'College',\n",
        "    3: 'Bachelor',\n",
        "    4: 'Master',\n",
        "    5: 'Doctor'\n",
        "}\n",
        "\n",
        "# Group data by Education and Attrition, count occurrences, and reset index\n",
        "dept_att = df.groupby(['Education', 'Attrition']).size().reset_index(name='Counts')\n",
        "\n",
        "# Calculate total counts per Education\n",
        "dept_total_counts = dept_att.groupby('Education')['Counts'].transform('sum')\n",
        "\n",
        "# Calculate percentage within each Education\n",
        "dept_att['Percentage'] = (dept_att['Counts'] / dept_total_counts) * 100\n",
        "\n",
        "# Replace education codes with labels\n",
        "dept_att['Education'] = dept_att['Education'].map(education_labels)\n",
        "\n",
        "# Create a bar plot\n",
        "fig = px.bar(dept_att, x='Education', y='Counts', color='Attrition',\n",
        "             title='<b>Education-wise Distribution of Employees by Attrition Status</b>',\n",
        "             text='Percentage', # Use 'Percentage' column as text\n",
        "             labels={'Counts': 'Count', 'Percentage': 'Percentage'}, height=550, # Update axis labels\n",
        "             color_discrete_map={'Yes': '#990000', 'No': '#D4AF37'})  # Specify custom colors\n",
        "\n",
        "# Add percentage labels to the bars\n",
        "fig.update_traces(texttemplate='%{text:.2f}%',\n",
        "                  textposition='outside',\n",
        "                  textfont_size=14,\n",
        "                  textfont_color='black',\n",
        "                  marker=dict(line=dict(color='#28221D', width=1)))\n",
        "\n",
        "fig.update_layout(title_x=0.5,\n",
        "                  legend=dict(orientation='h', yanchor='bottom', y=-0.2, xanchor='center', x=0.49),\n",
        "                  font_color='#28221D',\n",
        "                  paper_bgcolor='#FFFFFF',\n",
        "                  plot_bgcolor='#FFFFFF')\n",
        "\n",
        "fig.show()\n"
      ]
    },
    {
      "cell_type": "markdown",
      "id": "9b3fa47c",
      "metadata": {
        "papermill": {
          "duration": 0.029847,
          "end_time": "2024-05-03T15:42:08.265307",
          "exception": false,
          "start_time": "2024-05-03T15:42:08.235460",
          "status": "completed"
        },
        "tags": [],
        "id": "9b3fa47c"
      },
      "source": [
        " <br> <br> Karyawan dengan pendidikan di bawah perguruan tinggi memiliki tingkat hengkang tertinggi (18,24%). Hal ini mungkin karena mereka memiliki kesempatan terbatas untuk mengembangkan karier atau merasa tidak puas dengan peran yang tidak sesuai dengan latar belakang pendidikan mereka.\n",
        "<br> <br> Tingkat atrisi kemudian menurun untuk karyawan dengan gelar sarjana (17,31%), diploma perguruan tinggi (15,60%), dan master (14,57%).  Mereka mungkin memiliki aspirasi karier yang lebih tinggi, mencari kompensasi yang lebih baik, atau terpengaruh faktor eksternal.\n",
        "<br> <br> Namun, karyawan dengan gelar doktor memiliki tingkat hengkang terendah (10,42%). Keahlian khusus dan kualifikasi tingkat lanjut membuat mereka berharga bagi perusahaan dan memiliki kepuasan kerja yang tinggi.  Selain itu, posisi yang sesuai dengan keahlian mereka juga terbatas di pasaran."
      ]
    },
    {
      "cell_type": "markdown",
      "id": "1ae49432",
      "metadata": {
        "papermill": {
          "duration": 0.029652,
          "end_time": "2024-05-03T15:42:08.324444",
          "exception": false,
          "start_time": "2024-05-03T15:42:08.294792",
          "status": "completed"
        },
        "tags": [],
        "id": "1ae49432"
      },
      "source": [
        "## 3. Data Preparation"
      ]
    },
    {
      "cell_type": "markdown",
      "source": [
        "Tahapan mempersiapkan data sebelum masuk ke tahapan training model"
      ],
      "metadata": {
        "id": "kirHJUUZaJ5U"
      },
      "id": "kirHJUUZaJ5U"
    },
    {
      "cell_type": "markdown",
      "source": [
        "#### 3.1 Menghapus kolom/fitur yang tidak diperlukan"
      ],
      "metadata": {
        "id": "3MyZarg9gIof"
      },
      "id": "3MyZarg9gIof"
    },
    {
      "cell_type": "markdown",
      "source": [
        "\n",
        "\n",
        "*   `EmployeeCount`, `StandardHours`, dan `Over18`: memiliki satu nilai yang konstan untuk semua karyawan. Hal ini berarti, tidak ada variasi data.\n",
        "*   `EmployeeNumber`: merupakan ID unik untuk setiap karyawan. Meskipun ini adalah informasi penting untuk mengidentifikasi setiap karyawan secara unik, namun fitur ini tidak relevan untuk analisis atrisi karyawan karena ID tidak memberikan informasi tentang karakteristik atau perilaku karyawan yang dapat membantu dalam memprediksi apakah mereka akan meninggalkan perusahaan.\n",
        "\n",
        "Dengan demikian, penghapusan keempat fitur tersebut dilakuakan untuk mencegah model pembelajaran mesin mempelajari pola yang tidak berguna."
      ],
      "metadata": {
        "id": "P8JheKc_gOaj"
      },
      "id": "P8JheKc_gOaj"
    },
    {
      "cell_type": "code",
      "source": [
        "# menghapus kolom yang tidak penting (unnecessary)\n",
        "df = df.drop(['EmployeeCount', 'EmployeeNumber', 'StandardHours', 'Over18'], axis=1)"
      ],
      "metadata": {
        "id": "SnGhz5dmfuK9"
      },
      "id": "SnGhz5dmfuK9",
      "execution_count": 92,
      "outputs": []
    },
    {
      "cell_type": "markdown",
      "source": [
        "#### 3.2 Memisahkan Categorical dan Numerical Features"
      ],
      "metadata": {
        "id": "Zqm8BlbPf53v"
      },
      "id": "Zqm8BlbPf53v"
    },
    {
      "cell_type": "code",
      "execution_count": 93,
      "id": "dc69865a",
      "metadata": {
        "execution": {
          "iopub.execute_input": "2024-05-03T15:42:08.387338Z",
          "iopub.status.busy": "2024-05-03T15:42:08.386859Z",
          "iopub.status.idle": "2024-05-03T15:42:08.398806Z",
          "shell.execute_reply": "2024-05-03T15:42:08.397303Z"
        },
        "papermill": {
          "duration": 0.046641,
          "end_time": "2024-05-03T15:42:08.401827",
          "exception": false,
          "start_time": "2024-05-03T15:42:08.355186",
          "status": "completed"
        },
        "tags": [],
        "colab": {
          "base_uri": "https://localhost:8080/"
        },
        "id": "dc69865a",
        "outputId": "ed5c3985-494e-4d54-f801-a515cf8334d4"
      },
      "outputs": [
        {
          "output_type": "stream",
          "name": "stdout",
          "text": [
            "Numerical Features: ['Age', 'DailyRate', 'DistanceFromHome', 'Education', 'EnvironmentSatisfaction', 'HourlyRate', 'JobInvolvement', 'JobLevel', 'MonthlyIncome', 'MonthlyRate', 'NumCompaniesWorked', 'PercentSalaryHike', 'PerformanceRating', 'RelationshipSatisfaction', 'StockOptionLevel', 'TotalWorkingYears', 'TrainingTimesLastYear', 'WorkLifeBalance', 'YearsAtCompany', 'YearsInCurrentRole', 'YearsSinceLastPromotion', 'YearsWithCurrManager']\n",
            "Categorical Features: ['Attrition', 'BusinessTravel', 'Department', 'EducationField', 'Gender', 'JobRole', 'JobSatisfaction', 'MaritalStatus', 'OverTime']\n"
          ]
        }
      ],
      "source": [
        "def get_feature_types(df):\n",
        "    numerical_features = df.select_dtypes(include=['number']).columns.tolist()\n",
        "    categorical_features = df.select_dtypes(include=['object', 'category']).columns.tolist()\n",
        "    return numerical_features, categorical_features\n",
        "\n",
        "numerical_features, categorical_features = get_feature_types(df)\n",
        "\n",
        "print(\"Numerical Features:\", numerical_features)\n",
        "print(\"Categorical Features:\", categorical_features)"
      ]
    },
    {
      "cell_type": "code",
      "execution_count": 94,
      "id": "cb62bfc5",
      "metadata": {
        "execution": {
          "iopub.execute_input": "2024-05-03T15:42:08.463185Z",
          "iopub.status.busy": "2024-05-03T15:42:08.462057Z",
          "iopub.status.idle": "2024-05-03T15:42:08.468112Z",
          "shell.execute_reply": "2024-05-03T15:42:08.467216Z"
        },
        "papermill": {
          "duration": 0.039721,
          "end_time": "2024-05-03T15:42:08.470775",
          "exception": false,
          "start_time": "2024-05-03T15:42:08.431054",
          "status": "completed"
        },
        "tags": [],
        "id": "cb62bfc5"
      },
      "outputs": [],
      "source": [
        "df_hr = df.copy()"
      ]
    },
    {
      "cell_type": "code",
      "source": [
        "df_hr.head()"
      ],
      "metadata": {
        "colab": {
          "base_uri": "https://localhost:8080/",
          "height": 325
        },
        "id": "jg5_V7cDVY9n",
        "outputId": "f386dc0c-9af3-4580-e94b-fac7b97d2955"
      },
      "id": "jg5_V7cDVY9n",
      "execution_count": 95,
      "outputs": [
        {
          "output_type": "execute_result",
          "data": {
            "text/plain": [
              "   Age Attrition     BusinessTravel  DailyRate              Department  \\\n",
              "0   41       Yes      Travel_Rarely       1102                   Sales   \n",
              "1   49        No  Travel_Frequently        279  Research & Development   \n",
              "2   37       Yes      Travel_Rarely       1373  Research & Development   \n",
              "3   33        No  Travel_Frequently       1392  Research & Development   \n",
              "4   27        No      Travel_Rarely        591  Research & Development   \n",
              "\n",
              "   DistanceFromHome  Education EducationField  EnvironmentSatisfaction  \\\n",
              "0                 1          2  Life Sciences                        2   \n",
              "1                 8          1  Life Sciences                        3   \n",
              "2                 2          2          Other                        4   \n",
              "3                 3          4  Life Sciences                        4   \n",
              "4                 2          1        Medical                        1   \n",
              "\n",
              "   Gender  ...  PerformanceRating  RelationshipSatisfaction  StockOptionLevel  \\\n",
              "0  Female  ...                  3                         1                 0   \n",
              "1    Male  ...                  4                         4                 1   \n",
              "2    Male  ...                  3                         2                 0   \n",
              "3  Female  ...                  3                         3                 0   \n",
              "4    Male  ...                  3                         4                 1   \n",
              "\n",
              "  TotalWorkingYears TrainingTimesLastYear WorkLifeBalance  YearsAtCompany  \\\n",
              "0                 8                     0               1               6   \n",
              "1                10                     3               3              10   \n",
              "2                 7                     3               3               0   \n",
              "3                 8                     3               3               8   \n",
              "4                 6                     3               3               2   \n",
              "\n",
              "   YearsInCurrentRole  YearsSinceLastPromotion YearsWithCurrManager  \n",
              "0                   4                        0                    5  \n",
              "1                   7                        1                    7  \n",
              "2                   0                        0                    0  \n",
              "3                   7                        3                    0  \n",
              "4                   2                        2                    2  \n",
              "\n",
              "[5 rows x 31 columns]"
            ],
            "text/html": [
              "\n",
              "  <div id=\"df-0e75ac5b-7bc5-448b-83dc-6e3045a89143\" class=\"colab-df-container\">\n",
              "    <div>\n",
              "<style scoped>\n",
              "    .dataframe tbody tr th:only-of-type {\n",
              "        vertical-align: middle;\n",
              "    }\n",
              "\n",
              "    .dataframe tbody tr th {\n",
              "        vertical-align: top;\n",
              "    }\n",
              "\n",
              "    .dataframe thead th {\n",
              "        text-align: right;\n",
              "    }\n",
              "</style>\n",
              "<table border=\"1\" class=\"dataframe\">\n",
              "  <thead>\n",
              "    <tr style=\"text-align: right;\">\n",
              "      <th></th>\n",
              "      <th>Age</th>\n",
              "      <th>Attrition</th>\n",
              "      <th>BusinessTravel</th>\n",
              "      <th>DailyRate</th>\n",
              "      <th>Department</th>\n",
              "      <th>DistanceFromHome</th>\n",
              "      <th>Education</th>\n",
              "      <th>EducationField</th>\n",
              "      <th>EnvironmentSatisfaction</th>\n",
              "      <th>Gender</th>\n",
              "      <th>...</th>\n",
              "      <th>PerformanceRating</th>\n",
              "      <th>RelationshipSatisfaction</th>\n",
              "      <th>StockOptionLevel</th>\n",
              "      <th>TotalWorkingYears</th>\n",
              "      <th>TrainingTimesLastYear</th>\n",
              "      <th>WorkLifeBalance</th>\n",
              "      <th>YearsAtCompany</th>\n",
              "      <th>YearsInCurrentRole</th>\n",
              "      <th>YearsSinceLastPromotion</th>\n",
              "      <th>YearsWithCurrManager</th>\n",
              "    </tr>\n",
              "  </thead>\n",
              "  <tbody>\n",
              "    <tr>\n",
              "      <th>0</th>\n",
              "      <td>41</td>\n",
              "      <td>Yes</td>\n",
              "      <td>Travel_Rarely</td>\n",
              "      <td>1102</td>\n",
              "      <td>Sales</td>\n",
              "      <td>1</td>\n",
              "      <td>2</td>\n",
              "      <td>Life Sciences</td>\n",
              "      <td>2</td>\n",
              "      <td>Female</td>\n",
              "      <td>...</td>\n",
              "      <td>3</td>\n",
              "      <td>1</td>\n",
              "      <td>0</td>\n",
              "      <td>8</td>\n",
              "      <td>0</td>\n",
              "      <td>1</td>\n",
              "      <td>6</td>\n",
              "      <td>4</td>\n",
              "      <td>0</td>\n",
              "      <td>5</td>\n",
              "    </tr>\n",
              "    <tr>\n",
              "      <th>1</th>\n",
              "      <td>49</td>\n",
              "      <td>No</td>\n",
              "      <td>Travel_Frequently</td>\n",
              "      <td>279</td>\n",
              "      <td>Research &amp; Development</td>\n",
              "      <td>8</td>\n",
              "      <td>1</td>\n",
              "      <td>Life Sciences</td>\n",
              "      <td>3</td>\n",
              "      <td>Male</td>\n",
              "      <td>...</td>\n",
              "      <td>4</td>\n",
              "      <td>4</td>\n",
              "      <td>1</td>\n",
              "      <td>10</td>\n",
              "      <td>3</td>\n",
              "      <td>3</td>\n",
              "      <td>10</td>\n",
              "      <td>7</td>\n",
              "      <td>1</td>\n",
              "      <td>7</td>\n",
              "    </tr>\n",
              "    <tr>\n",
              "      <th>2</th>\n",
              "      <td>37</td>\n",
              "      <td>Yes</td>\n",
              "      <td>Travel_Rarely</td>\n",
              "      <td>1373</td>\n",
              "      <td>Research &amp; Development</td>\n",
              "      <td>2</td>\n",
              "      <td>2</td>\n",
              "      <td>Other</td>\n",
              "      <td>4</td>\n",
              "      <td>Male</td>\n",
              "      <td>...</td>\n",
              "      <td>3</td>\n",
              "      <td>2</td>\n",
              "      <td>0</td>\n",
              "      <td>7</td>\n",
              "      <td>3</td>\n",
              "      <td>3</td>\n",
              "      <td>0</td>\n",
              "      <td>0</td>\n",
              "      <td>0</td>\n",
              "      <td>0</td>\n",
              "    </tr>\n",
              "    <tr>\n",
              "      <th>3</th>\n",
              "      <td>33</td>\n",
              "      <td>No</td>\n",
              "      <td>Travel_Frequently</td>\n",
              "      <td>1392</td>\n",
              "      <td>Research &amp; Development</td>\n",
              "      <td>3</td>\n",
              "      <td>4</td>\n",
              "      <td>Life Sciences</td>\n",
              "      <td>4</td>\n",
              "      <td>Female</td>\n",
              "      <td>...</td>\n",
              "      <td>3</td>\n",
              "      <td>3</td>\n",
              "      <td>0</td>\n",
              "      <td>8</td>\n",
              "      <td>3</td>\n",
              "      <td>3</td>\n",
              "      <td>8</td>\n",
              "      <td>7</td>\n",
              "      <td>3</td>\n",
              "      <td>0</td>\n",
              "    </tr>\n",
              "    <tr>\n",
              "      <th>4</th>\n",
              "      <td>27</td>\n",
              "      <td>No</td>\n",
              "      <td>Travel_Rarely</td>\n",
              "      <td>591</td>\n",
              "      <td>Research &amp; Development</td>\n",
              "      <td>2</td>\n",
              "      <td>1</td>\n",
              "      <td>Medical</td>\n",
              "      <td>1</td>\n",
              "      <td>Male</td>\n",
              "      <td>...</td>\n",
              "      <td>3</td>\n",
              "      <td>4</td>\n",
              "      <td>1</td>\n",
              "      <td>6</td>\n",
              "      <td>3</td>\n",
              "      <td>3</td>\n",
              "      <td>2</td>\n",
              "      <td>2</td>\n",
              "      <td>2</td>\n",
              "      <td>2</td>\n",
              "    </tr>\n",
              "  </tbody>\n",
              "</table>\n",
              "<p>5 rows × 31 columns</p>\n",
              "</div>\n",
              "    <div class=\"colab-df-buttons\">\n",
              "\n",
              "  <div class=\"colab-df-container\">\n",
              "    <button class=\"colab-df-convert\" onclick=\"convertToInteractive('df-0e75ac5b-7bc5-448b-83dc-6e3045a89143')\"\n",
              "            title=\"Convert this dataframe to an interactive table.\"\n",
              "            style=\"display:none;\">\n",
              "\n",
              "  <svg xmlns=\"http://www.w3.org/2000/svg\" height=\"24px\" viewBox=\"0 -960 960 960\">\n",
              "    <path d=\"M120-120v-720h720v720H120Zm60-500h600v-160H180v160Zm220 220h160v-160H400v160Zm0 220h160v-160H400v160ZM180-400h160v-160H180v160Zm440 0h160v-160H620v160ZM180-180h160v-160H180v160Zm440 0h160v-160H620v160Z\"/>\n",
              "  </svg>\n",
              "    </button>\n",
              "\n",
              "  <style>\n",
              "    .colab-df-container {\n",
              "      display:flex;\n",
              "      gap: 12px;\n",
              "    }\n",
              "\n",
              "    .colab-df-convert {\n",
              "      background-color: #E8F0FE;\n",
              "      border: none;\n",
              "      border-radius: 50%;\n",
              "      cursor: pointer;\n",
              "      display: none;\n",
              "      fill: #1967D2;\n",
              "      height: 32px;\n",
              "      padding: 0 0 0 0;\n",
              "      width: 32px;\n",
              "    }\n",
              "\n",
              "    .colab-df-convert:hover {\n",
              "      background-color: #E2EBFA;\n",
              "      box-shadow: 0px 1px 2px rgba(60, 64, 67, 0.3), 0px 1px 3px 1px rgba(60, 64, 67, 0.15);\n",
              "      fill: #174EA6;\n",
              "    }\n",
              "\n",
              "    .colab-df-buttons div {\n",
              "      margin-bottom: 4px;\n",
              "    }\n",
              "\n",
              "    [theme=dark] .colab-df-convert {\n",
              "      background-color: #3B4455;\n",
              "      fill: #D2E3FC;\n",
              "    }\n",
              "\n",
              "    [theme=dark] .colab-df-convert:hover {\n",
              "      background-color: #434B5C;\n",
              "      box-shadow: 0px 1px 3px 1px rgba(0, 0, 0, 0.15);\n",
              "      filter: drop-shadow(0px 1px 2px rgba(0, 0, 0, 0.3));\n",
              "      fill: #FFFFFF;\n",
              "    }\n",
              "  </style>\n",
              "\n",
              "    <script>\n",
              "      const buttonEl =\n",
              "        document.querySelector('#df-0e75ac5b-7bc5-448b-83dc-6e3045a89143 button.colab-df-convert');\n",
              "      buttonEl.style.display =\n",
              "        google.colab.kernel.accessAllowed ? 'block' : 'none';\n",
              "\n",
              "      async function convertToInteractive(key) {\n",
              "        const element = document.querySelector('#df-0e75ac5b-7bc5-448b-83dc-6e3045a89143');\n",
              "        const dataTable =\n",
              "          await google.colab.kernel.invokeFunction('convertToInteractive',\n",
              "                                                    [key], {});\n",
              "        if (!dataTable) return;\n",
              "\n",
              "        const docLinkHtml = 'Like what you see? Visit the ' +\n",
              "          '<a target=\"_blank\" href=https://colab.research.google.com/notebooks/data_table.ipynb>data table notebook</a>'\n",
              "          + ' to learn more about interactive tables.';\n",
              "        element.innerHTML = '';\n",
              "        dataTable['output_type'] = 'display_data';\n",
              "        await google.colab.output.renderOutput(dataTable, element);\n",
              "        const docLink = document.createElement('div');\n",
              "        docLink.innerHTML = docLinkHtml;\n",
              "        element.appendChild(docLink);\n",
              "      }\n",
              "    </script>\n",
              "  </div>\n",
              "\n",
              "\n",
              "<div id=\"df-a656fd4e-4a78-4a8a-ae7d-4ab4689f8d0f\">\n",
              "  <button class=\"colab-df-quickchart\" onclick=\"quickchart('df-a656fd4e-4a78-4a8a-ae7d-4ab4689f8d0f')\"\n",
              "            title=\"Suggest charts\"\n",
              "            style=\"display:none;\">\n",
              "\n",
              "<svg xmlns=\"http://www.w3.org/2000/svg\" height=\"24px\"viewBox=\"0 0 24 24\"\n",
              "     width=\"24px\">\n",
              "    <g>\n",
              "        <path d=\"M19 3H5c-1.1 0-2 .9-2 2v14c0 1.1.9 2 2 2h14c1.1 0 2-.9 2-2V5c0-1.1-.9-2-2-2zM9 17H7v-7h2v7zm4 0h-2V7h2v10zm4 0h-2v-4h2v4z\"/>\n",
              "    </g>\n",
              "</svg>\n",
              "  </button>\n",
              "\n",
              "<style>\n",
              "  .colab-df-quickchart {\n",
              "      --bg-color: #E8F0FE;\n",
              "      --fill-color: #1967D2;\n",
              "      --hover-bg-color: #E2EBFA;\n",
              "      --hover-fill-color: #174EA6;\n",
              "      --disabled-fill-color: #AAA;\n",
              "      --disabled-bg-color: #DDD;\n",
              "  }\n",
              "\n",
              "  [theme=dark] .colab-df-quickchart {\n",
              "      --bg-color: #3B4455;\n",
              "      --fill-color: #D2E3FC;\n",
              "      --hover-bg-color: #434B5C;\n",
              "      --hover-fill-color: #FFFFFF;\n",
              "      --disabled-bg-color: #3B4455;\n",
              "      --disabled-fill-color: #666;\n",
              "  }\n",
              "\n",
              "  .colab-df-quickchart {\n",
              "    background-color: var(--bg-color);\n",
              "    border: none;\n",
              "    border-radius: 50%;\n",
              "    cursor: pointer;\n",
              "    display: none;\n",
              "    fill: var(--fill-color);\n",
              "    height: 32px;\n",
              "    padding: 0;\n",
              "    width: 32px;\n",
              "  }\n",
              "\n",
              "  .colab-df-quickchart:hover {\n",
              "    background-color: var(--hover-bg-color);\n",
              "    box-shadow: 0 1px 2px rgba(60, 64, 67, 0.3), 0 1px 3px 1px rgba(60, 64, 67, 0.15);\n",
              "    fill: var(--button-hover-fill-color);\n",
              "  }\n",
              "\n",
              "  .colab-df-quickchart-complete:disabled,\n",
              "  .colab-df-quickchart-complete:disabled:hover {\n",
              "    background-color: var(--disabled-bg-color);\n",
              "    fill: var(--disabled-fill-color);\n",
              "    box-shadow: none;\n",
              "  }\n",
              "\n",
              "  .colab-df-spinner {\n",
              "    border: 2px solid var(--fill-color);\n",
              "    border-color: transparent;\n",
              "    border-bottom-color: var(--fill-color);\n",
              "    animation:\n",
              "      spin 1s steps(1) infinite;\n",
              "  }\n",
              "\n",
              "  @keyframes spin {\n",
              "    0% {\n",
              "      border-color: transparent;\n",
              "      border-bottom-color: var(--fill-color);\n",
              "      border-left-color: var(--fill-color);\n",
              "    }\n",
              "    20% {\n",
              "      border-color: transparent;\n",
              "      border-left-color: var(--fill-color);\n",
              "      border-top-color: var(--fill-color);\n",
              "    }\n",
              "    30% {\n",
              "      border-color: transparent;\n",
              "      border-left-color: var(--fill-color);\n",
              "      border-top-color: var(--fill-color);\n",
              "      border-right-color: var(--fill-color);\n",
              "    }\n",
              "    40% {\n",
              "      border-color: transparent;\n",
              "      border-right-color: var(--fill-color);\n",
              "      border-top-color: var(--fill-color);\n",
              "    }\n",
              "    60% {\n",
              "      border-color: transparent;\n",
              "      border-right-color: var(--fill-color);\n",
              "    }\n",
              "    80% {\n",
              "      border-color: transparent;\n",
              "      border-right-color: var(--fill-color);\n",
              "      border-bottom-color: var(--fill-color);\n",
              "    }\n",
              "    90% {\n",
              "      border-color: transparent;\n",
              "      border-bottom-color: var(--fill-color);\n",
              "    }\n",
              "  }\n",
              "</style>\n",
              "\n",
              "  <script>\n",
              "    async function quickchart(key) {\n",
              "      const quickchartButtonEl =\n",
              "        document.querySelector('#' + key + ' button');\n",
              "      quickchartButtonEl.disabled = true;  // To prevent multiple clicks.\n",
              "      quickchartButtonEl.classList.add('colab-df-spinner');\n",
              "      try {\n",
              "        const charts = await google.colab.kernel.invokeFunction(\n",
              "            'suggestCharts', [key], {});\n",
              "      } catch (error) {\n",
              "        console.error('Error during call to suggestCharts:', error);\n",
              "      }\n",
              "      quickchartButtonEl.classList.remove('colab-df-spinner');\n",
              "      quickchartButtonEl.classList.add('colab-df-quickchart-complete');\n",
              "    }\n",
              "    (() => {\n",
              "      let quickchartButtonEl =\n",
              "        document.querySelector('#df-a656fd4e-4a78-4a8a-ae7d-4ab4689f8d0f button');\n",
              "      quickchartButtonEl.style.display =\n",
              "        google.colab.kernel.accessAllowed ? 'block' : 'none';\n",
              "    })();\n",
              "  </script>\n",
              "</div>\n",
              "\n",
              "    </div>\n",
              "  </div>\n"
            ],
            "application/vnd.google.colaboratory.intrinsic+json": {
              "type": "dataframe",
              "variable_name": "df_hr"
            }
          },
          "metadata": {},
          "execution_count": 95
        }
      ]
    },
    {
      "cell_type": "code",
      "source": [
        "df_hr.shape"
      ],
      "metadata": {
        "colab": {
          "base_uri": "https://localhost:8080/"
        },
        "id": "ONzYBn_7VeiA",
        "outputId": "5dd63c37-6f8e-46f6-9612-cdb2ba3fd459"
      },
      "id": "ONzYBn_7VeiA",
      "execution_count": 96,
      "outputs": [
        {
          "output_type": "execute_result",
          "data": {
            "text/plain": [
              "(1470, 31)"
            ]
          },
          "metadata": {},
          "execution_count": 96
        }
      ]
    },
    {
      "cell_type": "markdown",
      "id": "a7b5f150",
      "metadata": {
        "papermill": {
          "duration": 0.03043,
          "end_time": "2024-05-03T15:42:08.531145",
          "exception": false,
          "start_time": "2024-05-03T15:42:08.500715",
          "status": "completed"
        },
        "tags": [],
        "id": "a7b5f150"
      },
      "source": [
        "#### 3.3 Menerapkan Label Encoding pada Categorical Features"
      ]
    },
    {
      "cell_type": "code",
      "execution_count": 97,
      "id": "d584fa1d",
      "metadata": {
        "execution": {
          "iopub.execute_input": "2024-05-03T15:42:08.591962Z",
          "iopub.status.busy": "2024-05-03T15:42:08.591224Z",
          "iopub.status.idle": "2024-05-03T15:42:08.624387Z",
          "shell.execute_reply": "2024-05-03T15:42:08.623090Z"
        },
        "papermill": {
          "duration": 0.066274,
          "end_time": "2024-05-03T15:42:08.626650",
          "exception": false,
          "start_time": "2024-05-03T15:42:08.560376",
          "status": "completed"
        },
        "tags": [],
        "colab": {
          "base_uri": "https://localhost:8080/"
        },
        "id": "d584fa1d",
        "outputId": "7c0a4f96-fc9d-45d5-bb4b-b1c1ee20c6a2"
      },
      "outputs": [
        {
          "output_type": "stream",
          "name": "stdout",
          "text": [
            "Label Encoder Transformation\n"
          ]
        },
        {
          "output_type": "stream",
          "name": "stderr",
          "text": [
            "100%|██████████| 9/9 [00:00<00:00, 238.51it/s]"
          ]
        },
        {
          "output_type": "stream",
          "name": "stdout",
          "text": [
            "Attrition  :  [1 0]  =  ['Yes' 'No']\n",
            "BusinessTravel  :  [2 1 0]  =  ['Travel_Rarely' 'Travel_Frequently' 'Non-Travel']\n",
            "Department  :  [2 1 0]  =  ['Sales' 'Research & Development' 'Human Resources']\n",
            "EducationField  :  [1 4 3 2 5 0]  =  ['Life Sciences' 'Other' 'Medical' 'Marketing' 'Technical Degree'\n",
            " 'Human Resources']\n",
            "Gender  :  [0 1]  =  ['Female' 'Male']\n",
            "JobRole  :  [7 6 2 4 0 3 8 5 1]  =  ['Sales Executive' 'Research Scientist' 'Laboratory Technician'\n",
            " 'Manufacturing Director' 'Healthcare Representative' 'Manager'\n",
            " 'Sales Representative' 'Research Director' 'Human Resources']\n",
            "JobSatisfaction  :  [3 2 0 1]  =  ['Very High' 'Medium' 'High' 'Low']\n",
            "MaritalStatus  :  [2 1 0]  =  ['Single' 'Married' 'Divorced']\n",
            "OverTime  :  [1 0]  =  ['Yes' 'No']\n"
          ]
        },
        {
          "output_type": "stream",
          "name": "stderr",
          "text": [
            "\n"
          ]
        }
      ],
      "source": [
        "le = LabelEncoder()\n",
        "l1 = []\n",
        "l2 = []\n",
        "text_categorical_features = []\n",
        "\n",
        "print('Label Encoder Transformation')\n",
        "for i in tqdm(categorical_features):\n",
        "    if type(df_hr[i][0]) == str:\n",
        "        text_categorical_features.append(i)\n",
        "        df_hr[i] = le.fit_transform(df_hr[i])\n",
        "        l1.append(list(df_hr[i].unique()))\n",
        "        l2.append(list(le.inverse_transform(df_hr[i].unique())))\n",
        "        print(i,' : ',df_hr[i].unique(),' = ',le.inverse_transform(df_hr[i].unique()))"
      ]
    },
    {
      "cell_type": "code",
      "source": [
        "df_hr.head()"
      ],
      "metadata": {
        "colab": {
          "base_uri": "https://localhost:8080/",
          "height": 256
        },
        "id": "EFbLr1v5Vmyl",
        "outputId": "bf3297f2-241f-490b-aad0-2fb6bb1c05a9"
      },
      "id": "EFbLr1v5Vmyl",
      "execution_count": 98,
      "outputs": [
        {
          "output_type": "execute_result",
          "data": {
            "text/plain": [
              "   Age  Attrition  BusinessTravel  DailyRate  Department  DistanceFromHome  \\\n",
              "0   41          1               2       1102           2                 1   \n",
              "1   49          0               1        279           1                 8   \n",
              "2   37          1               2       1373           1                 2   \n",
              "3   33          0               1       1392           1                 3   \n",
              "4   27          0               2        591           1                 2   \n",
              "\n",
              "   Education  EducationField  EnvironmentSatisfaction  Gender  ...  \\\n",
              "0          2               1                        2       0  ...   \n",
              "1          1               1                        3       1  ...   \n",
              "2          2               4                        4       1  ...   \n",
              "3          4               1                        4       0  ...   \n",
              "4          1               3                        1       1  ...   \n",
              "\n",
              "   PerformanceRating  RelationshipSatisfaction  StockOptionLevel  \\\n",
              "0                  3                         1                 0   \n",
              "1                  4                         4                 1   \n",
              "2                  3                         2                 0   \n",
              "3                  3                         3                 0   \n",
              "4                  3                         4                 1   \n",
              "\n",
              "   TotalWorkingYears  TrainingTimesLastYear  WorkLifeBalance  YearsAtCompany  \\\n",
              "0                  8                      0                1               6   \n",
              "1                 10                      3                3              10   \n",
              "2                  7                      3                3               0   \n",
              "3                  8                      3                3               8   \n",
              "4                  6                      3                3               2   \n",
              "\n",
              "   YearsInCurrentRole  YearsSinceLastPromotion  YearsWithCurrManager  \n",
              "0                   4                        0                     5  \n",
              "1                   7                        1                     7  \n",
              "2                   0                        0                     0  \n",
              "3                   7                        3                     0  \n",
              "4                   2                        2                     2  \n",
              "\n",
              "[5 rows x 31 columns]"
            ],
            "text/html": [
              "\n",
              "  <div id=\"df-9525e84d-8df0-4bdc-9019-69cd7a6d7773\" class=\"colab-df-container\">\n",
              "    <div>\n",
              "<style scoped>\n",
              "    .dataframe tbody tr th:only-of-type {\n",
              "        vertical-align: middle;\n",
              "    }\n",
              "\n",
              "    .dataframe tbody tr th {\n",
              "        vertical-align: top;\n",
              "    }\n",
              "\n",
              "    .dataframe thead th {\n",
              "        text-align: right;\n",
              "    }\n",
              "</style>\n",
              "<table border=\"1\" class=\"dataframe\">\n",
              "  <thead>\n",
              "    <tr style=\"text-align: right;\">\n",
              "      <th></th>\n",
              "      <th>Age</th>\n",
              "      <th>Attrition</th>\n",
              "      <th>BusinessTravel</th>\n",
              "      <th>DailyRate</th>\n",
              "      <th>Department</th>\n",
              "      <th>DistanceFromHome</th>\n",
              "      <th>Education</th>\n",
              "      <th>EducationField</th>\n",
              "      <th>EnvironmentSatisfaction</th>\n",
              "      <th>Gender</th>\n",
              "      <th>...</th>\n",
              "      <th>PerformanceRating</th>\n",
              "      <th>RelationshipSatisfaction</th>\n",
              "      <th>StockOptionLevel</th>\n",
              "      <th>TotalWorkingYears</th>\n",
              "      <th>TrainingTimesLastYear</th>\n",
              "      <th>WorkLifeBalance</th>\n",
              "      <th>YearsAtCompany</th>\n",
              "      <th>YearsInCurrentRole</th>\n",
              "      <th>YearsSinceLastPromotion</th>\n",
              "      <th>YearsWithCurrManager</th>\n",
              "    </tr>\n",
              "  </thead>\n",
              "  <tbody>\n",
              "    <tr>\n",
              "      <th>0</th>\n",
              "      <td>41</td>\n",
              "      <td>1</td>\n",
              "      <td>2</td>\n",
              "      <td>1102</td>\n",
              "      <td>2</td>\n",
              "      <td>1</td>\n",
              "      <td>2</td>\n",
              "      <td>1</td>\n",
              "      <td>2</td>\n",
              "      <td>0</td>\n",
              "      <td>...</td>\n",
              "      <td>3</td>\n",
              "      <td>1</td>\n",
              "      <td>0</td>\n",
              "      <td>8</td>\n",
              "      <td>0</td>\n",
              "      <td>1</td>\n",
              "      <td>6</td>\n",
              "      <td>4</td>\n",
              "      <td>0</td>\n",
              "      <td>5</td>\n",
              "    </tr>\n",
              "    <tr>\n",
              "      <th>1</th>\n",
              "      <td>49</td>\n",
              "      <td>0</td>\n",
              "      <td>1</td>\n",
              "      <td>279</td>\n",
              "      <td>1</td>\n",
              "      <td>8</td>\n",
              "      <td>1</td>\n",
              "      <td>1</td>\n",
              "      <td>3</td>\n",
              "      <td>1</td>\n",
              "      <td>...</td>\n",
              "      <td>4</td>\n",
              "      <td>4</td>\n",
              "      <td>1</td>\n",
              "      <td>10</td>\n",
              "      <td>3</td>\n",
              "      <td>3</td>\n",
              "      <td>10</td>\n",
              "      <td>7</td>\n",
              "      <td>1</td>\n",
              "      <td>7</td>\n",
              "    </tr>\n",
              "    <tr>\n",
              "      <th>2</th>\n",
              "      <td>37</td>\n",
              "      <td>1</td>\n",
              "      <td>2</td>\n",
              "      <td>1373</td>\n",
              "      <td>1</td>\n",
              "      <td>2</td>\n",
              "      <td>2</td>\n",
              "      <td>4</td>\n",
              "      <td>4</td>\n",
              "      <td>1</td>\n",
              "      <td>...</td>\n",
              "      <td>3</td>\n",
              "      <td>2</td>\n",
              "      <td>0</td>\n",
              "      <td>7</td>\n",
              "      <td>3</td>\n",
              "      <td>3</td>\n",
              "      <td>0</td>\n",
              "      <td>0</td>\n",
              "      <td>0</td>\n",
              "      <td>0</td>\n",
              "    </tr>\n",
              "    <tr>\n",
              "      <th>3</th>\n",
              "      <td>33</td>\n",
              "      <td>0</td>\n",
              "      <td>1</td>\n",
              "      <td>1392</td>\n",
              "      <td>1</td>\n",
              "      <td>3</td>\n",
              "      <td>4</td>\n",
              "      <td>1</td>\n",
              "      <td>4</td>\n",
              "      <td>0</td>\n",
              "      <td>...</td>\n",
              "      <td>3</td>\n",
              "      <td>3</td>\n",
              "      <td>0</td>\n",
              "      <td>8</td>\n",
              "      <td>3</td>\n",
              "      <td>3</td>\n",
              "      <td>8</td>\n",
              "      <td>7</td>\n",
              "      <td>3</td>\n",
              "      <td>0</td>\n",
              "    </tr>\n",
              "    <tr>\n",
              "      <th>4</th>\n",
              "      <td>27</td>\n",
              "      <td>0</td>\n",
              "      <td>2</td>\n",
              "      <td>591</td>\n",
              "      <td>1</td>\n",
              "      <td>2</td>\n",
              "      <td>1</td>\n",
              "      <td>3</td>\n",
              "      <td>1</td>\n",
              "      <td>1</td>\n",
              "      <td>...</td>\n",
              "      <td>3</td>\n",
              "      <td>4</td>\n",
              "      <td>1</td>\n",
              "      <td>6</td>\n",
              "      <td>3</td>\n",
              "      <td>3</td>\n",
              "      <td>2</td>\n",
              "      <td>2</td>\n",
              "      <td>2</td>\n",
              "      <td>2</td>\n",
              "    </tr>\n",
              "  </tbody>\n",
              "</table>\n",
              "<p>5 rows × 31 columns</p>\n",
              "</div>\n",
              "    <div class=\"colab-df-buttons\">\n",
              "\n",
              "  <div class=\"colab-df-container\">\n",
              "    <button class=\"colab-df-convert\" onclick=\"convertToInteractive('df-9525e84d-8df0-4bdc-9019-69cd7a6d7773')\"\n",
              "            title=\"Convert this dataframe to an interactive table.\"\n",
              "            style=\"display:none;\">\n",
              "\n",
              "  <svg xmlns=\"http://www.w3.org/2000/svg\" height=\"24px\" viewBox=\"0 -960 960 960\">\n",
              "    <path d=\"M120-120v-720h720v720H120Zm60-500h600v-160H180v160Zm220 220h160v-160H400v160Zm0 220h160v-160H400v160ZM180-400h160v-160H180v160Zm440 0h160v-160H620v160ZM180-180h160v-160H180v160Zm440 0h160v-160H620v160Z\"/>\n",
              "  </svg>\n",
              "    </button>\n",
              "\n",
              "  <style>\n",
              "    .colab-df-container {\n",
              "      display:flex;\n",
              "      gap: 12px;\n",
              "    }\n",
              "\n",
              "    .colab-df-convert {\n",
              "      background-color: #E8F0FE;\n",
              "      border: none;\n",
              "      border-radius: 50%;\n",
              "      cursor: pointer;\n",
              "      display: none;\n",
              "      fill: #1967D2;\n",
              "      height: 32px;\n",
              "      padding: 0 0 0 0;\n",
              "      width: 32px;\n",
              "    }\n",
              "\n",
              "    .colab-df-convert:hover {\n",
              "      background-color: #E2EBFA;\n",
              "      box-shadow: 0px 1px 2px rgba(60, 64, 67, 0.3), 0px 1px 3px 1px rgba(60, 64, 67, 0.15);\n",
              "      fill: #174EA6;\n",
              "    }\n",
              "\n",
              "    .colab-df-buttons div {\n",
              "      margin-bottom: 4px;\n",
              "    }\n",
              "\n",
              "    [theme=dark] .colab-df-convert {\n",
              "      background-color: #3B4455;\n",
              "      fill: #D2E3FC;\n",
              "    }\n",
              "\n",
              "    [theme=dark] .colab-df-convert:hover {\n",
              "      background-color: #434B5C;\n",
              "      box-shadow: 0px 1px 3px 1px rgba(0, 0, 0, 0.15);\n",
              "      filter: drop-shadow(0px 1px 2px rgba(0, 0, 0, 0.3));\n",
              "      fill: #FFFFFF;\n",
              "    }\n",
              "  </style>\n",
              "\n",
              "    <script>\n",
              "      const buttonEl =\n",
              "        document.querySelector('#df-9525e84d-8df0-4bdc-9019-69cd7a6d7773 button.colab-df-convert');\n",
              "      buttonEl.style.display =\n",
              "        google.colab.kernel.accessAllowed ? 'block' : 'none';\n",
              "\n",
              "      async function convertToInteractive(key) {\n",
              "        const element = document.querySelector('#df-9525e84d-8df0-4bdc-9019-69cd7a6d7773');\n",
              "        const dataTable =\n",
              "          await google.colab.kernel.invokeFunction('convertToInteractive',\n",
              "                                                    [key], {});\n",
              "        if (!dataTable) return;\n",
              "\n",
              "        const docLinkHtml = 'Like what you see? Visit the ' +\n",
              "          '<a target=\"_blank\" href=https://colab.research.google.com/notebooks/data_table.ipynb>data table notebook</a>'\n",
              "          + ' to learn more about interactive tables.';\n",
              "        element.innerHTML = '';\n",
              "        dataTable['output_type'] = 'display_data';\n",
              "        await google.colab.output.renderOutput(dataTable, element);\n",
              "        const docLink = document.createElement('div');\n",
              "        docLink.innerHTML = docLinkHtml;\n",
              "        element.appendChild(docLink);\n",
              "      }\n",
              "    </script>\n",
              "  </div>\n",
              "\n",
              "\n",
              "<div id=\"df-ebb206f2-b336-4a8b-a51d-5390b400ee08\">\n",
              "  <button class=\"colab-df-quickchart\" onclick=\"quickchart('df-ebb206f2-b336-4a8b-a51d-5390b400ee08')\"\n",
              "            title=\"Suggest charts\"\n",
              "            style=\"display:none;\">\n",
              "\n",
              "<svg xmlns=\"http://www.w3.org/2000/svg\" height=\"24px\"viewBox=\"0 0 24 24\"\n",
              "     width=\"24px\">\n",
              "    <g>\n",
              "        <path d=\"M19 3H5c-1.1 0-2 .9-2 2v14c0 1.1.9 2 2 2h14c1.1 0 2-.9 2-2V5c0-1.1-.9-2-2-2zM9 17H7v-7h2v7zm4 0h-2V7h2v10zm4 0h-2v-4h2v4z\"/>\n",
              "    </g>\n",
              "</svg>\n",
              "  </button>\n",
              "\n",
              "<style>\n",
              "  .colab-df-quickchart {\n",
              "      --bg-color: #E8F0FE;\n",
              "      --fill-color: #1967D2;\n",
              "      --hover-bg-color: #E2EBFA;\n",
              "      --hover-fill-color: #174EA6;\n",
              "      --disabled-fill-color: #AAA;\n",
              "      --disabled-bg-color: #DDD;\n",
              "  }\n",
              "\n",
              "  [theme=dark] .colab-df-quickchart {\n",
              "      --bg-color: #3B4455;\n",
              "      --fill-color: #D2E3FC;\n",
              "      --hover-bg-color: #434B5C;\n",
              "      --hover-fill-color: #FFFFFF;\n",
              "      --disabled-bg-color: #3B4455;\n",
              "      --disabled-fill-color: #666;\n",
              "  }\n",
              "\n",
              "  .colab-df-quickchart {\n",
              "    background-color: var(--bg-color);\n",
              "    border: none;\n",
              "    border-radius: 50%;\n",
              "    cursor: pointer;\n",
              "    display: none;\n",
              "    fill: var(--fill-color);\n",
              "    height: 32px;\n",
              "    padding: 0;\n",
              "    width: 32px;\n",
              "  }\n",
              "\n",
              "  .colab-df-quickchart:hover {\n",
              "    background-color: var(--hover-bg-color);\n",
              "    box-shadow: 0 1px 2px rgba(60, 64, 67, 0.3), 0 1px 3px 1px rgba(60, 64, 67, 0.15);\n",
              "    fill: var(--button-hover-fill-color);\n",
              "  }\n",
              "\n",
              "  .colab-df-quickchart-complete:disabled,\n",
              "  .colab-df-quickchart-complete:disabled:hover {\n",
              "    background-color: var(--disabled-bg-color);\n",
              "    fill: var(--disabled-fill-color);\n",
              "    box-shadow: none;\n",
              "  }\n",
              "\n",
              "  .colab-df-spinner {\n",
              "    border: 2px solid var(--fill-color);\n",
              "    border-color: transparent;\n",
              "    border-bottom-color: var(--fill-color);\n",
              "    animation:\n",
              "      spin 1s steps(1) infinite;\n",
              "  }\n",
              "\n",
              "  @keyframes spin {\n",
              "    0% {\n",
              "      border-color: transparent;\n",
              "      border-bottom-color: var(--fill-color);\n",
              "      border-left-color: var(--fill-color);\n",
              "    }\n",
              "    20% {\n",
              "      border-color: transparent;\n",
              "      border-left-color: var(--fill-color);\n",
              "      border-top-color: var(--fill-color);\n",
              "    }\n",
              "    30% {\n",
              "      border-color: transparent;\n",
              "      border-left-color: var(--fill-color);\n",
              "      border-top-color: var(--fill-color);\n",
              "      border-right-color: var(--fill-color);\n",
              "    }\n",
              "    40% {\n",
              "      border-color: transparent;\n",
              "      border-right-color: var(--fill-color);\n",
              "      border-top-color: var(--fill-color);\n",
              "    }\n",
              "    60% {\n",
              "      border-color: transparent;\n",
              "      border-right-color: var(--fill-color);\n",
              "    }\n",
              "    80% {\n",
              "      border-color: transparent;\n",
              "      border-right-color: var(--fill-color);\n",
              "      border-bottom-color: var(--fill-color);\n",
              "    }\n",
              "    90% {\n",
              "      border-color: transparent;\n",
              "      border-bottom-color: var(--fill-color);\n",
              "    }\n",
              "  }\n",
              "</style>\n",
              "\n",
              "  <script>\n",
              "    async function quickchart(key) {\n",
              "      const quickchartButtonEl =\n",
              "        document.querySelector('#' + key + ' button');\n",
              "      quickchartButtonEl.disabled = true;  // To prevent multiple clicks.\n",
              "      quickchartButtonEl.classList.add('colab-df-spinner');\n",
              "      try {\n",
              "        const charts = await google.colab.kernel.invokeFunction(\n",
              "            'suggestCharts', [key], {});\n",
              "      } catch (error) {\n",
              "        console.error('Error during call to suggestCharts:', error);\n",
              "      }\n",
              "      quickchartButtonEl.classList.remove('colab-df-spinner');\n",
              "      quickchartButtonEl.classList.add('colab-df-quickchart-complete');\n",
              "    }\n",
              "    (() => {\n",
              "      let quickchartButtonEl =\n",
              "        document.querySelector('#df-ebb206f2-b336-4a8b-a51d-5390b400ee08 button');\n",
              "      quickchartButtonEl.style.display =\n",
              "        google.colab.kernel.accessAllowed ? 'block' : 'none';\n",
              "    })();\n",
              "  </script>\n",
              "</div>\n",
              "\n",
              "    </div>\n",
              "  </div>\n"
            ],
            "application/vnd.google.colaboratory.intrinsic+json": {
              "type": "dataframe",
              "variable_name": "df_hr"
            }
          },
          "metadata": {},
          "execution_count": 98
        }
      ]
    },
    {
      "cell_type": "markdown",
      "source": [
        "#### 3.4 Matriks korelasi fitur"
      ],
      "metadata": {
        "id": "yGnyM4nHbXE9"
      },
      "id": "yGnyM4nHbXE9"
    },
    {
      "cell_type": "code",
      "execution_count": 99,
      "id": "863a6039",
      "metadata": {
        "execution": {
          "iopub.execute_input": "2024-05-03T15:42:08.687116Z",
          "iopub.status.busy": "2024-05-03T15:42:08.686690Z",
          "iopub.status.idle": "2024-05-03T15:42:09.040540Z",
          "shell.execute_reply": "2024-05-03T15:42:09.039366Z"
        },
        "papermill": {
          "duration": 0.389698,
          "end_time": "2024-05-03T15:42:09.045797",
          "exception": false,
          "start_time": "2024-05-03T15:42:08.656099",
          "status": "completed"
        },
        "tags": [],
        "colab": {
          "base_uri": "https://localhost:8080/",
          "height": 0
        },
        "id": "863a6039",
        "outputId": "3ab09d76-3f39-4821-b0d4-1325289916f6"
      },
      "outputs": [
        {
          "output_type": "display_data",
          "data": {
            "text/html": [
              "<html>\n",
              "<head><meta charset=\"utf-8\" /></head>\n",
              "<body>\n",
              "    <div>            <script src=\"https://cdnjs.cloudflare.com/ajax/libs/mathjax/2.7.5/MathJax.js?config=TeX-AMS-MML_SVG\"></script><script type=\"text/javascript\">if (window.MathJax && window.MathJax.Hub && window.MathJax.Hub.Config) {window.MathJax.Hub.Config({SVG: {font: \"STIX-Web\"}});}</script>                <script type=\"text/javascript\">window.PlotlyConfig = {MathJaxConfig: 'local'};</script>\n",
              "        <script charset=\"utf-8\" src=\"https://cdn.plot.ly/plotly-2.35.2.min.js\"></script>                <div id=\"128f1171-dc20-4656-9947-fc47c8e1139f\" class=\"plotly-graph-div\" style=\"height:800px; width:100%;\"></div>            <script type=\"text/javascript\">                                    window.PLOTLYENV=window.PLOTLYENV || {};                                    if (document.getElementById(\"128f1171-dc20-4656-9947-fc47c8e1139f\")) {                    Plotly.newPlot(                        \"128f1171-dc20-4656-9947-fc47c8e1139f\",                        [{\"colorscale\":[[0.0,\"rgb(255,247,236)\"],[0.125,\"rgb(254,232,200)\"],[0.25,\"rgb(253,212,158)\"],[0.375,\"rgb(253,187,132)\"],[0.5,\"rgb(252,141,89)\"],[0.625,\"rgb(239,101,72)\"],[0.75,\"rgb(215,48,31)\"],[0.875,\"rgb(179,0,0)\"],[1.0,\"rgb(127,0,0)\"]],\"hovertemplate\":\"Correlation between %{x} and %{y} = %{z}\",\"x\":[\"Age\",\"Attrition\",\"BusinessTravel\",\"DailyRate\",\"Department\",\"DistanceFromHome\",\"Education\",\"EducationField\",\"EnvironmentSatisfaction\",\"Gender\",\"HourlyRate\",\"JobInvolvement\",\"JobLevel\",\"JobRole\",\"JobSatisfaction\",\"MaritalStatus\",\"MonthlyIncome\",\"MonthlyRate\",\"NumCompaniesWorked\",\"OverTime\",\"PercentSalaryHike\",\"PerformanceRating\",\"RelationshipSatisfaction\",\"StockOptionLevel\",\"TotalWorkingYears\",\"TrainingTimesLastYear\",\"WorkLifeBalance\",\"YearsAtCompany\",\"YearsInCurrentRole\",\"YearsSinceLastPromotion\",\"YearsWithCurrManager\"],\"y\":[\"Age\",\"Attrition\",\"BusinessTravel\",\"DailyRate\",\"Department\",\"DistanceFromHome\",\"Education\",\"EducationField\",\"EnvironmentSatisfaction\",\"Gender\",\"HourlyRate\",\"JobInvolvement\",\"JobLevel\",\"JobRole\",\"JobSatisfaction\",\"MaritalStatus\",\"MonthlyIncome\",\"MonthlyRate\",\"NumCompaniesWorked\",\"OverTime\",\"PercentSalaryHike\",\"PerformanceRating\",\"RelationshipSatisfaction\",\"StockOptionLevel\",\"TotalWorkingYears\",\"TrainingTimesLastYear\",\"WorkLifeBalance\",\"YearsAtCompany\",\"YearsInCurrentRole\",\"YearsSinceLastPromotion\",\"YearsWithCurrManager\"],\"z\":[[1.0,-0.16,0.02,0.01,-0.03,-0.0,0.21,-0.04,0.01,-0.04,0.02,0.03,0.51,-0.12,-0.01,-0.1,0.5,0.03,0.3,0.03,0.0,0.0,0.05,0.04,0.68,-0.02,-0.02,0.31,0.21,0.22,0.2],[-0.16,1.0,0.0,-0.06,0.06,0.08,-0.03,0.03,-0.1,0.03,-0.01,-0.13,-0.17,0.07,-0.07,0.16,-0.16,0.02,0.04,0.25,-0.01,0.0,-0.05,-0.14,-0.17,-0.06,-0.06,-0.13,-0.16,-0.03,-0.16],[0.02,0.0,1.0,-0.0,-0.01,-0.02,0.0,0.02,0.0,-0.03,0.03,0.04,0.02,0.0,0.02,0.02,0.03,-0.01,0.02,0.02,-0.03,-0.03,-0.04,-0.02,0.03,0.02,-0.01,-0.01,-0.01,-0.03,-0.02],[0.01,-0.06,-0.0,1.0,0.01,-0.0,-0.02,0.04,0.02,-0.01,0.02,0.05,0.0,-0.01,-0.03,-0.07,0.01,-0.03,0.04,0.01,0.02,0.0,0.01,0.04,0.01,0.0,-0.04,-0.03,0.01,-0.03,-0.03],[-0.03,0.06,-0.01,0.01,1.0,0.02,0.01,0.01,-0.02,-0.04,-0.0,-0.02,0.1,0.66,0.02,0.06,0.05,0.02,-0.04,0.01,-0.01,-0.02,-0.02,-0.01,-0.02,0.04,0.03,0.02,0.06,0.04,0.03],[-0.0,0.08,-0.02,-0.0,0.02,1.0,0.02,0.0,-0.02,-0.0,0.03,0.01,0.01,-0.0,-0.02,-0.01,-0.02,0.03,-0.03,0.03,0.04,0.03,0.01,0.04,0.0,-0.04,-0.03,0.01,0.02,0.01,0.01],[0.21,-0.03,0.0,-0.02,0.01,0.02,1.0,-0.04,-0.03,-0.02,0.02,0.04,0.1,0.0,-0.01,0.0,0.09,-0.03,0.13,-0.02,-0.01,-0.02,-0.01,0.02,0.15,-0.03,0.01,0.07,0.06,0.05,0.07],[-0.04,0.03,0.02,0.04,0.01,0.0,-0.04,1.0,0.04,-0.0,-0.02,-0.0,-0.04,0.02,-0.03,0.01,-0.04,-0.03,-0.01,0.0,-0.01,-0.01,-0.0,-0.02,-0.03,0.05,0.04,-0.02,-0.01,0.0,-0.0],[0.01,-0.1,0.0,0.02,-0.02,-0.02,-0.03,0.04,1.0,0.0,-0.05,-0.01,0.0,-0.02,0.04,-0.0,-0.01,0.04,0.01,0.07,-0.03,-0.03,0.01,0.0,-0.0,-0.02,0.03,0.0,0.02,0.02,-0.0],[-0.04,0.03,-0.03,-0.01,-0.04,-0.0,-0.02,-0.0,0.0,1.0,-0.0,0.02,-0.04,-0.04,0.03,-0.05,-0.03,-0.04,-0.04,-0.04,0.0,-0.01,0.02,0.01,-0.05,-0.04,-0.0,-0.03,-0.04,-0.03,-0.03],[0.02,-0.01,0.03,0.02,-0.0,0.03,0.02,-0.02,-0.05,-0.0,1.0,0.04,-0.03,-0.02,-0.01,-0.02,-0.02,-0.02,0.02,-0.01,-0.01,-0.0,0.0,0.05,-0.0,-0.01,-0.0,-0.02,-0.02,-0.03,-0.02],[0.03,-0.13,0.04,0.05,-0.02,0.01,0.04,-0.0,-0.01,0.02,0.04,1.0,-0.01,0.01,-0.01,-0.04,-0.02,-0.02,0.02,-0.0,-0.02,-0.03,0.03,0.02,-0.01,-0.02,-0.01,-0.02,0.01,-0.02,0.03],[0.51,-0.17,0.02,0.0,0.1,0.01,0.1,-0.04,0.0,-0.04,-0.03,-0.01,1.0,-0.09,-0.01,-0.08,0.95,0.04,0.14,0.0,-0.03,-0.02,0.02,0.01,0.78,-0.02,0.04,0.53,0.39,0.35,0.38],[-0.12,0.07,0.0,-0.01,0.66,-0.0,0.0,0.02,-0.02,-0.04,-0.02,0.01,-0.09,1.0,0.01,0.07,-0.09,0.01,-0.06,0.04,-0.0,-0.02,-0.02,-0.02,-0.15,0.0,0.03,-0.08,-0.03,-0.05,-0.04],[-0.01,-0.07,0.02,-0.03,0.02,-0.02,-0.01,-0.03,0.04,0.03,-0.01,-0.01,-0.01,0.01,1.0,0.02,-0.0,-0.02,-0.02,0.02,0.04,0.04,0.0,0.03,0.0,0.02,-0.03,-0.0,-0.01,-0.0,-0.0],[-0.1,0.16,0.02,-0.07,0.06,-0.01,0.0,0.01,-0.0,-0.05,-0.02,-0.04,-0.08,0.07,0.02,1.0,-0.08,0.02,-0.04,-0.02,0.01,0.01,0.02,-0.66,-0.08,0.01,0.01,-0.06,-0.07,-0.03,-0.04],[0.5,-0.16,0.03,0.01,0.05,-0.02,0.09,-0.04,-0.01,-0.03,-0.02,-0.02,0.95,-0.09,-0.0,-0.08,1.0,0.03,0.15,0.01,-0.03,-0.02,0.03,0.01,0.77,-0.02,0.03,0.51,0.36,0.34,0.34],[0.03,0.02,-0.01,-0.03,0.02,0.03,-0.03,-0.03,0.04,-0.04,-0.02,-0.02,0.04,0.01,-0.02,0.02,0.03,1.0,0.02,0.02,-0.01,-0.01,-0.0,-0.03,0.03,0.0,0.01,-0.02,-0.01,0.0,-0.04],[0.3,0.04,0.02,0.04,-0.04,-0.03,0.13,-0.01,0.01,-0.04,0.02,0.02,0.14,-0.06,-0.02,-0.04,0.15,0.02,1.0,-0.02,-0.01,-0.01,0.05,0.03,0.24,-0.07,-0.01,-0.12,-0.09,-0.04,-0.11],[0.03,0.25,0.02,0.01,0.01,0.03,-0.02,0.0,0.07,-0.04,-0.01,-0.0,0.0,0.04,0.02,-0.02,0.01,0.02,-0.02,1.0,-0.01,0.0,0.05,-0.0,0.01,-0.08,-0.03,-0.01,-0.03,-0.01,-0.04],[0.0,-0.01,-0.03,0.02,-0.01,0.04,-0.01,-0.01,-0.03,0.0,-0.01,-0.02,-0.03,-0.0,0.04,0.01,-0.03,-0.01,-0.01,-0.01,1.0,0.77,-0.04,0.01,-0.02,-0.01,-0.0,-0.04,-0.0,-0.02,-0.01],[0.0,0.0,-0.03,0.0,-0.02,0.03,-0.02,-0.01,-0.03,-0.01,-0.0,-0.03,-0.02,-0.02,0.04,0.01,-0.02,-0.01,-0.01,0.0,0.77,1.0,-0.03,0.0,0.01,-0.02,0.0,0.0,0.03,0.02,0.02],[0.05,-0.05,-0.04,0.01,-0.02,0.01,-0.01,-0.0,0.01,0.02,0.0,0.03,0.02,-0.02,0.0,0.02,0.03,-0.0,0.05,0.05,-0.04,-0.03,1.0,-0.05,0.02,0.0,0.02,0.02,-0.02,0.03,-0.0],[0.04,-0.14,-0.02,0.04,-0.01,0.04,0.02,-0.02,0.0,0.01,0.05,0.02,0.01,-0.02,0.03,-0.66,0.01,-0.03,0.03,-0.0,0.01,0.0,-0.05,1.0,0.01,0.01,0.0,0.02,0.05,0.01,0.02],[0.68,-0.17,0.03,0.01,-0.02,0.0,0.15,-0.03,-0.0,-0.05,-0.0,-0.01,0.78,-0.15,0.0,-0.08,0.77,0.03,0.24,0.01,-0.02,0.01,0.02,0.01,1.0,-0.04,0.0,0.63,0.46,0.4,0.46],[-0.02,-0.06,0.02,0.0,0.04,-0.04,-0.03,0.05,-0.02,-0.04,-0.01,-0.02,-0.02,0.0,0.02,0.01,-0.02,0.0,-0.07,-0.08,-0.01,-0.02,0.0,0.01,-0.04,1.0,0.03,0.0,-0.01,-0.0,-0.0],[-0.02,-0.06,-0.01,-0.04,0.03,-0.03,0.01,0.04,0.03,-0.0,-0.0,-0.01,0.04,0.03,-0.03,0.01,0.03,0.01,-0.01,-0.03,-0.0,0.0,0.02,0.0,0.0,0.03,1.0,0.01,0.05,0.01,0.0],[0.31,-0.13,-0.01,-0.03,0.02,0.01,0.07,-0.02,0.0,-0.03,-0.02,-0.02,0.53,-0.08,-0.0,-0.06,0.51,-0.02,-0.12,-0.01,-0.04,0.0,0.02,0.02,0.63,0.0,0.01,1.0,0.76,0.62,0.77],[0.21,-0.16,-0.01,0.01,0.06,0.02,0.06,-0.01,0.02,-0.04,-0.02,0.01,0.39,-0.03,-0.01,-0.07,0.36,-0.01,-0.09,-0.03,-0.0,0.03,-0.02,0.05,0.46,-0.01,0.05,0.76,1.0,0.55,0.71],[0.22,-0.03,-0.03,-0.03,0.04,0.01,0.05,0.0,0.02,-0.03,-0.03,-0.02,0.35,-0.05,-0.0,-0.03,0.34,0.0,-0.04,-0.01,-0.02,0.02,0.03,0.01,0.4,-0.0,0.01,0.62,0.55,1.0,0.51],[0.2,-0.16,-0.02,-0.03,0.03,0.01,0.07,-0.0,-0.0,-0.03,-0.02,0.03,0.38,-0.04,-0.0,-0.04,0.34,-0.04,-0.11,-0.04,-0.01,0.02,-0.0,0.02,0.46,-0.0,0.0,0.77,0.71,0.51,1.0]],\"type\":\"heatmap\"}],                        {\"template\":{\"data\":{\"histogram2dcontour\":[{\"type\":\"histogram2dcontour\",\"colorbar\":{\"outlinewidth\":0,\"ticks\":\"\"},\"colorscale\":[[0.0,\"#0d0887\"],[0.1111111111111111,\"#46039f\"],[0.2222222222222222,\"#7201a8\"],[0.3333333333333333,\"#9c179e\"],[0.4444444444444444,\"#bd3786\"],[0.5555555555555556,\"#d8576b\"],[0.6666666666666666,\"#ed7953\"],[0.7777777777777778,\"#fb9f3a\"],[0.8888888888888888,\"#fdca26\"],[1.0,\"#f0f921\"]]}],\"choropleth\":[{\"type\":\"choropleth\",\"colorbar\":{\"outlinewidth\":0,\"ticks\":\"\"}}],\"histogram2d\":[{\"type\":\"histogram2d\",\"colorbar\":{\"outlinewidth\":0,\"ticks\":\"\"},\"colorscale\":[[0.0,\"#0d0887\"],[0.1111111111111111,\"#46039f\"],[0.2222222222222222,\"#7201a8\"],[0.3333333333333333,\"#9c179e\"],[0.4444444444444444,\"#bd3786\"],[0.5555555555555556,\"#d8576b\"],[0.6666666666666666,\"#ed7953\"],[0.7777777777777778,\"#fb9f3a\"],[0.8888888888888888,\"#fdca26\"],[1.0,\"#f0f921\"]]}],\"heatmap\":[{\"type\":\"heatmap\",\"colorbar\":{\"outlinewidth\":0,\"ticks\":\"\"},\"colorscale\":[[0.0,\"#0d0887\"],[0.1111111111111111,\"#46039f\"],[0.2222222222222222,\"#7201a8\"],[0.3333333333333333,\"#9c179e\"],[0.4444444444444444,\"#bd3786\"],[0.5555555555555556,\"#d8576b\"],[0.6666666666666666,\"#ed7953\"],[0.7777777777777778,\"#fb9f3a\"],[0.8888888888888888,\"#fdca26\"],[1.0,\"#f0f921\"]]}],\"heatmapgl\":[{\"type\":\"heatmapgl\",\"colorbar\":{\"outlinewidth\":0,\"ticks\":\"\"},\"colorscale\":[[0.0,\"#0d0887\"],[0.1111111111111111,\"#46039f\"],[0.2222222222222222,\"#7201a8\"],[0.3333333333333333,\"#9c179e\"],[0.4444444444444444,\"#bd3786\"],[0.5555555555555556,\"#d8576b\"],[0.6666666666666666,\"#ed7953\"],[0.7777777777777778,\"#fb9f3a\"],[0.8888888888888888,\"#fdca26\"],[1.0,\"#f0f921\"]]}],\"contourcarpet\":[{\"type\":\"contourcarpet\",\"colorbar\":{\"outlinewidth\":0,\"ticks\":\"\"}}],\"contour\":[{\"type\":\"contour\",\"colorbar\":{\"outlinewidth\":0,\"ticks\":\"\"},\"colorscale\":[[0.0,\"#0d0887\"],[0.1111111111111111,\"#46039f\"],[0.2222222222222222,\"#7201a8\"],[0.3333333333333333,\"#9c179e\"],[0.4444444444444444,\"#bd3786\"],[0.5555555555555556,\"#d8576b\"],[0.6666666666666666,\"#ed7953\"],[0.7777777777777778,\"#fb9f3a\"],[0.8888888888888888,\"#fdca26\"],[1.0,\"#f0f921\"]]}],\"surface\":[{\"type\":\"surface\",\"colorbar\":{\"outlinewidth\":0,\"ticks\":\"\"},\"colorscale\":[[0.0,\"#0d0887\"],[0.1111111111111111,\"#46039f\"],[0.2222222222222222,\"#7201a8\"],[0.3333333333333333,\"#9c179e\"],[0.4444444444444444,\"#bd3786\"],[0.5555555555555556,\"#d8576b\"],[0.6666666666666666,\"#ed7953\"],[0.7777777777777778,\"#fb9f3a\"],[0.8888888888888888,\"#fdca26\"],[1.0,\"#f0f921\"]]}],\"mesh3d\":[{\"type\":\"mesh3d\",\"colorbar\":{\"outlinewidth\":0,\"ticks\":\"\"}}],\"scatter\":[{\"fillpattern\":{\"fillmode\":\"overlay\",\"size\":10,\"solidity\":0.2},\"type\":\"scatter\"}],\"parcoords\":[{\"type\":\"parcoords\",\"line\":{\"colorbar\":{\"outlinewidth\":0,\"ticks\":\"\"}}}],\"scatterpolargl\":[{\"type\":\"scatterpolargl\",\"marker\":{\"colorbar\":{\"outlinewidth\":0,\"ticks\":\"\"}}}],\"bar\":[{\"error_x\":{\"color\":\"#2a3f5f\"},\"error_y\":{\"color\":\"#2a3f5f\"},\"marker\":{\"line\":{\"color\":\"#E5ECF6\",\"width\":0.5},\"pattern\":{\"fillmode\":\"overlay\",\"size\":10,\"solidity\":0.2}},\"type\":\"bar\"}],\"scattergeo\":[{\"type\":\"scattergeo\",\"marker\":{\"colorbar\":{\"outlinewidth\":0,\"ticks\":\"\"}}}],\"scatterpolar\":[{\"type\":\"scatterpolar\",\"marker\":{\"colorbar\":{\"outlinewidth\":0,\"ticks\":\"\"}}}],\"histogram\":[{\"marker\":{\"pattern\":{\"fillmode\":\"overlay\",\"size\":10,\"solidity\":0.2}},\"type\":\"histogram\"}],\"scattergl\":[{\"type\":\"scattergl\",\"marker\":{\"colorbar\":{\"outlinewidth\":0,\"ticks\":\"\"}}}],\"scatter3d\":[{\"type\":\"scatter3d\",\"line\":{\"colorbar\":{\"outlinewidth\":0,\"ticks\":\"\"}},\"marker\":{\"colorbar\":{\"outlinewidth\":0,\"ticks\":\"\"}}}],\"scattermapbox\":[{\"type\":\"scattermapbox\",\"marker\":{\"colorbar\":{\"outlinewidth\":0,\"ticks\":\"\"}}}],\"scatterternary\":[{\"type\":\"scatterternary\",\"marker\":{\"colorbar\":{\"outlinewidth\":0,\"ticks\":\"\"}}}],\"scattercarpet\":[{\"type\":\"scattercarpet\",\"marker\":{\"colorbar\":{\"outlinewidth\":0,\"ticks\":\"\"}}}],\"carpet\":[{\"aaxis\":{\"endlinecolor\":\"#2a3f5f\",\"gridcolor\":\"white\",\"linecolor\":\"white\",\"minorgridcolor\":\"white\",\"startlinecolor\":\"#2a3f5f\"},\"baxis\":{\"endlinecolor\":\"#2a3f5f\",\"gridcolor\":\"white\",\"linecolor\":\"white\",\"minorgridcolor\":\"white\",\"startlinecolor\":\"#2a3f5f\"},\"type\":\"carpet\"}],\"table\":[{\"cells\":{\"fill\":{\"color\":\"#EBF0F8\"},\"line\":{\"color\":\"white\"}},\"header\":{\"fill\":{\"color\":\"#C8D4E3\"},\"line\":{\"color\":\"white\"}},\"type\":\"table\"}],\"barpolar\":[{\"marker\":{\"line\":{\"color\":\"#E5ECF6\",\"width\":0.5},\"pattern\":{\"fillmode\":\"overlay\",\"size\":10,\"solidity\":0.2}},\"type\":\"barpolar\"}],\"pie\":[{\"automargin\":true,\"type\":\"pie\"}]},\"layout\":{\"autotypenumbers\":\"strict\",\"colorway\":[\"#636efa\",\"#EF553B\",\"#00cc96\",\"#ab63fa\",\"#FFA15A\",\"#19d3f3\",\"#FF6692\",\"#B6E880\",\"#FF97FF\",\"#FECB52\"],\"font\":{\"color\":\"#2a3f5f\"},\"hovermode\":\"closest\",\"hoverlabel\":{\"align\":\"left\"},\"paper_bgcolor\":\"white\",\"plot_bgcolor\":\"#E5ECF6\",\"polar\":{\"bgcolor\":\"#E5ECF6\",\"angularaxis\":{\"gridcolor\":\"white\",\"linecolor\":\"white\",\"ticks\":\"\"},\"radialaxis\":{\"gridcolor\":\"white\",\"linecolor\":\"white\",\"ticks\":\"\"}},\"ternary\":{\"bgcolor\":\"#E5ECF6\",\"aaxis\":{\"gridcolor\":\"white\",\"linecolor\":\"white\",\"ticks\":\"\"},\"baxis\":{\"gridcolor\":\"white\",\"linecolor\":\"white\",\"ticks\":\"\"},\"caxis\":{\"gridcolor\":\"white\",\"linecolor\":\"white\",\"ticks\":\"\"}},\"coloraxis\":{\"colorbar\":{\"outlinewidth\":0,\"ticks\":\"\"}},\"colorscale\":{\"sequential\":[[0.0,\"#0d0887\"],[0.1111111111111111,\"#46039f\"],[0.2222222222222222,\"#7201a8\"],[0.3333333333333333,\"#9c179e\"],[0.4444444444444444,\"#bd3786\"],[0.5555555555555556,\"#d8576b\"],[0.6666666666666666,\"#ed7953\"],[0.7777777777777778,\"#fb9f3a\"],[0.8888888888888888,\"#fdca26\"],[1.0,\"#f0f921\"]],\"sequentialminus\":[[0.0,\"#0d0887\"],[0.1111111111111111,\"#46039f\"],[0.2222222222222222,\"#7201a8\"],[0.3333333333333333,\"#9c179e\"],[0.4444444444444444,\"#bd3786\"],[0.5555555555555556,\"#d8576b\"],[0.6666666666666666,\"#ed7953\"],[0.7777777777777778,\"#fb9f3a\"],[0.8888888888888888,\"#fdca26\"],[1.0,\"#f0f921\"]],\"diverging\":[[0,\"#8e0152\"],[0.1,\"#c51b7d\"],[0.2,\"#de77ae\"],[0.3,\"#f1b6da\"],[0.4,\"#fde0ef\"],[0.5,\"#f7f7f7\"],[0.6,\"#e6f5d0\"],[0.7,\"#b8e186\"],[0.8,\"#7fbc41\"],[0.9,\"#4d9221\"],[1,\"#276419\"]]},\"xaxis\":{\"gridcolor\":\"white\",\"linecolor\":\"white\",\"ticks\":\"\",\"title\":{\"standoff\":15},\"zerolinecolor\":\"white\",\"automargin\":true,\"zerolinewidth\":2},\"yaxis\":{\"gridcolor\":\"white\",\"linecolor\":\"white\",\"ticks\":\"\",\"title\":{\"standoff\":15},\"zerolinecolor\":\"white\",\"automargin\":true,\"zerolinewidth\":2},\"scene\":{\"xaxis\":{\"backgroundcolor\":\"#E5ECF6\",\"gridcolor\":\"white\",\"linecolor\":\"white\",\"showbackground\":true,\"ticks\":\"\",\"zerolinecolor\":\"white\",\"gridwidth\":2},\"yaxis\":{\"backgroundcolor\":\"#E5ECF6\",\"gridcolor\":\"white\",\"linecolor\":\"white\",\"showbackground\":true,\"ticks\":\"\",\"zerolinecolor\":\"white\",\"gridwidth\":2},\"zaxis\":{\"backgroundcolor\":\"#E5ECF6\",\"gridcolor\":\"white\",\"linecolor\":\"white\",\"showbackground\":true,\"ticks\":\"\",\"zerolinecolor\":\"white\",\"gridwidth\":2}},\"shapedefaults\":{\"line\":{\"color\":\"#2a3f5f\"}},\"annotationdefaults\":{\"arrowcolor\":\"#2a3f5f\",\"arrowhead\":0,\"arrowwidth\":1},\"geo\":{\"bgcolor\":\"white\",\"landcolor\":\"#E5ECF6\",\"subunitcolor\":\"white\",\"showland\":true,\"showlakes\":true,\"lakecolor\":\"white\"},\"title\":{\"x\":0.05},\"mapbox\":{\"style\":\"light\"}}},\"annotations\":[{\"font\":{\"color\":\"white\"},\"showarrow\":false,\"text\":\"1.0\",\"x\":\"Age\",\"xref\":\"x\",\"y\":\"Age\",\"yref\":\"y\"},{\"font\":{\"color\":\"black\"},\"showarrow\":false,\"text\":\"-0.16\",\"x\":\"Attrition\",\"xref\":\"x\",\"y\":\"Age\",\"yref\":\"y\"},{\"font\":{\"color\":\"black\"},\"showarrow\":false,\"text\":\"0.02\",\"x\":\"BusinessTravel\",\"xref\":\"x\",\"y\":\"Age\",\"yref\":\"y\"},{\"font\":{\"color\":\"black\"},\"showarrow\":false,\"text\":\"0.01\",\"x\":\"DailyRate\",\"xref\":\"x\",\"y\":\"Age\",\"yref\":\"y\"},{\"font\":{\"color\":\"black\"},\"showarrow\":false,\"text\":\"-0.03\",\"x\":\"Department\",\"xref\":\"x\",\"y\":\"Age\",\"yref\":\"y\"},{\"font\":{\"color\":\"black\"},\"showarrow\":false,\"text\":\"-0.0\",\"x\":\"DistanceFromHome\",\"xref\":\"x\",\"y\":\"Age\",\"yref\":\"y\"},{\"font\":{\"color\":\"black\"},\"showarrow\":false,\"text\":\"0.21\",\"x\":\"Education\",\"xref\":\"x\",\"y\":\"Age\",\"yref\":\"y\"},{\"font\":{\"color\":\"black\"},\"showarrow\":false,\"text\":\"-0.04\",\"x\":\"EducationField\",\"xref\":\"x\",\"y\":\"Age\",\"yref\":\"y\"},{\"font\":{\"color\":\"black\"},\"showarrow\":false,\"text\":\"0.01\",\"x\":\"EnvironmentSatisfaction\",\"xref\":\"x\",\"y\":\"Age\",\"yref\":\"y\"},{\"font\":{\"color\":\"black\"},\"showarrow\":false,\"text\":\"-0.04\",\"x\":\"Gender\",\"xref\":\"x\",\"y\":\"Age\",\"yref\":\"y\"},{\"font\":{\"color\":\"black\"},\"showarrow\":false,\"text\":\"0.02\",\"x\":\"HourlyRate\",\"xref\":\"x\",\"y\":\"Age\",\"yref\":\"y\"},{\"font\":{\"color\":\"black\"},\"showarrow\":false,\"text\":\"0.03\",\"x\":\"JobInvolvement\",\"xref\":\"x\",\"y\":\"Age\",\"yref\":\"y\"},{\"font\":{\"color\":\"white\"},\"showarrow\":false,\"text\":\"0.51\",\"x\":\"JobLevel\",\"xref\":\"x\",\"y\":\"Age\",\"yref\":\"y\"},{\"font\":{\"color\":\"black\"},\"showarrow\":false,\"text\":\"-0.12\",\"x\":\"JobRole\",\"xref\":\"x\",\"y\":\"Age\",\"yref\":\"y\"},{\"font\":{\"color\":\"black\"},\"showarrow\":false,\"text\":\"-0.01\",\"x\":\"JobSatisfaction\",\"xref\":\"x\",\"y\":\"Age\",\"yref\":\"y\"},{\"font\":{\"color\":\"black\"},\"showarrow\":false,\"text\":\"-0.1\",\"x\":\"MaritalStatus\",\"xref\":\"x\",\"y\":\"Age\",\"yref\":\"y\"},{\"font\":{\"color\":\"black\"},\"showarrow\":false,\"text\":\"0.5\",\"x\":\"MonthlyIncome\",\"xref\":\"x\",\"y\":\"Age\",\"yref\":\"y\"},{\"font\":{\"color\":\"black\"},\"showarrow\":false,\"text\":\"0.03\",\"x\":\"MonthlyRate\",\"xref\":\"x\",\"y\":\"Age\",\"yref\":\"y\"},{\"font\":{\"color\":\"black\"},\"showarrow\":false,\"text\":\"0.3\",\"x\":\"NumCompaniesWorked\",\"xref\":\"x\",\"y\":\"Age\",\"yref\":\"y\"},{\"font\":{\"color\":\"black\"},\"showarrow\":false,\"text\":\"0.03\",\"x\":\"OverTime\",\"xref\":\"x\",\"y\":\"Age\",\"yref\":\"y\"},{\"font\":{\"color\":\"black\"},\"showarrow\":false,\"text\":\"0.0\",\"x\":\"PercentSalaryHike\",\"xref\":\"x\",\"y\":\"Age\",\"yref\":\"y\"},{\"font\":{\"color\":\"black\"},\"showarrow\":false,\"text\":\"0.0\",\"x\":\"PerformanceRating\",\"xref\":\"x\",\"y\":\"Age\",\"yref\":\"y\"},{\"font\":{\"color\":\"black\"},\"showarrow\":false,\"text\":\"0.05\",\"x\":\"RelationshipSatisfaction\",\"xref\":\"x\",\"y\":\"Age\",\"yref\":\"y\"},{\"font\":{\"color\":\"black\"},\"showarrow\":false,\"text\":\"0.04\",\"x\":\"StockOptionLevel\",\"xref\":\"x\",\"y\":\"Age\",\"yref\":\"y\"},{\"font\":{\"color\":\"white\"},\"showarrow\":false,\"text\":\"0.68\",\"x\":\"TotalWorkingYears\",\"xref\":\"x\",\"y\":\"Age\",\"yref\":\"y\"},{\"font\":{\"color\":\"black\"},\"showarrow\":false,\"text\":\"-0.02\",\"x\":\"TrainingTimesLastYear\",\"xref\":\"x\",\"y\":\"Age\",\"yref\":\"y\"},{\"font\":{\"color\":\"black\"},\"showarrow\":false,\"text\":\"-0.02\",\"x\":\"WorkLifeBalance\",\"xref\":\"x\",\"y\":\"Age\",\"yref\":\"y\"},{\"font\":{\"color\":\"black\"},\"showarrow\":false,\"text\":\"0.31\",\"x\":\"YearsAtCompany\",\"xref\":\"x\",\"y\":\"Age\",\"yref\":\"y\"},{\"font\":{\"color\":\"black\"},\"showarrow\":false,\"text\":\"0.21\",\"x\":\"YearsInCurrentRole\",\"xref\":\"x\",\"y\":\"Age\",\"yref\":\"y\"},{\"font\":{\"color\":\"black\"},\"showarrow\":false,\"text\":\"0.22\",\"x\":\"YearsSinceLastPromotion\",\"xref\":\"x\",\"y\":\"Age\",\"yref\":\"y\"},{\"font\":{\"color\":\"black\"},\"showarrow\":false,\"text\":\"0.2\",\"x\":\"YearsWithCurrManager\",\"xref\":\"x\",\"y\":\"Age\",\"yref\":\"y\"},{\"font\":{\"color\":\"black\"},\"showarrow\":false,\"text\":\"-0.16\",\"x\":\"Age\",\"xref\":\"x\",\"y\":\"Attrition\",\"yref\":\"y\"},{\"font\":{\"color\":\"white\"},\"showarrow\":false,\"text\":\"1.0\",\"x\":\"Attrition\",\"xref\":\"x\",\"y\":\"Attrition\",\"yref\":\"y\"},{\"font\":{\"color\":\"black\"},\"showarrow\":false,\"text\":\"0.0\",\"x\":\"BusinessTravel\",\"xref\":\"x\",\"y\":\"Attrition\",\"yref\":\"y\"},{\"font\":{\"color\":\"black\"},\"showarrow\":false,\"text\":\"-0.06\",\"x\":\"DailyRate\",\"xref\":\"x\",\"y\":\"Attrition\",\"yref\":\"y\"},{\"font\":{\"color\":\"black\"},\"showarrow\":false,\"text\":\"0.06\",\"x\":\"Department\",\"xref\":\"x\",\"y\":\"Attrition\",\"yref\":\"y\"},{\"font\":{\"color\":\"black\"},\"showarrow\":false,\"text\":\"0.08\",\"x\":\"DistanceFromHome\",\"xref\":\"x\",\"y\":\"Attrition\",\"yref\":\"y\"},{\"font\":{\"color\":\"black\"},\"showarrow\":false,\"text\":\"-0.03\",\"x\":\"Education\",\"xref\":\"x\",\"y\":\"Attrition\",\"yref\":\"y\"},{\"font\":{\"color\":\"black\"},\"showarrow\":false,\"text\":\"0.03\",\"x\":\"EducationField\",\"xref\":\"x\",\"y\":\"Attrition\",\"yref\":\"y\"},{\"font\":{\"color\":\"black\"},\"showarrow\":false,\"text\":\"-0.1\",\"x\":\"EnvironmentSatisfaction\",\"xref\":\"x\",\"y\":\"Attrition\",\"yref\":\"y\"},{\"font\":{\"color\":\"black\"},\"showarrow\":false,\"text\":\"0.03\",\"x\":\"Gender\",\"xref\":\"x\",\"y\":\"Attrition\",\"yref\":\"y\"},{\"font\":{\"color\":\"black\"},\"showarrow\":false,\"text\":\"-0.01\",\"x\":\"HourlyRate\",\"xref\":\"x\",\"y\":\"Attrition\",\"yref\":\"y\"},{\"font\":{\"color\":\"black\"},\"showarrow\":false,\"text\":\"-0.13\",\"x\":\"JobInvolvement\",\"xref\":\"x\",\"y\":\"Attrition\",\"yref\":\"y\"},{\"font\":{\"color\":\"black\"},\"showarrow\":false,\"text\":\"-0.17\",\"x\":\"JobLevel\",\"xref\":\"x\",\"y\":\"Attrition\",\"yref\":\"y\"},{\"font\":{\"color\":\"black\"},\"showarrow\":false,\"text\":\"0.07\",\"x\":\"JobRole\",\"xref\":\"x\",\"y\":\"Attrition\",\"yref\":\"y\"},{\"font\":{\"color\":\"black\"},\"showarrow\":false,\"text\":\"-0.07\",\"x\":\"JobSatisfaction\",\"xref\":\"x\",\"y\":\"Attrition\",\"yref\":\"y\"},{\"font\":{\"color\":\"black\"},\"showarrow\":false,\"text\":\"0.16\",\"x\":\"MaritalStatus\",\"xref\":\"x\",\"y\":\"Attrition\",\"yref\":\"y\"},{\"font\":{\"color\":\"black\"},\"showarrow\":false,\"text\":\"-0.16\",\"x\":\"MonthlyIncome\",\"xref\":\"x\",\"y\":\"Attrition\",\"yref\":\"y\"},{\"font\":{\"color\":\"black\"},\"showarrow\":false,\"text\":\"0.02\",\"x\":\"MonthlyRate\",\"xref\":\"x\",\"y\":\"Attrition\",\"yref\":\"y\"},{\"font\":{\"color\":\"black\"},\"showarrow\":false,\"text\":\"0.04\",\"x\":\"NumCompaniesWorked\",\"xref\":\"x\",\"y\":\"Attrition\",\"yref\":\"y\"},{\"font\":{\"color\":\"black\"},\"showarrow\":false,\"text\":\"0.25\",\"x\":\"OverTime\",\"xref\":\"x\",\"y\":\"Attrition\",\"yref\":\"y\"},{\"font\":{\"color\":\"black\"},\"showarrow\":false,\"text\":\"-0.01\",\"x\":\"PercentSalaryHike\",\"xref\":\"x\",\"y\":\"Attrition\",\"yref\":\"y\"},{\"font\":{\"color\":\"black\"},\"showarrow\":false,\"text\":\"0.0\",\"x\":\"PerformanceRating\",\"xref\":\"x\",\"y\":\"Attrition\",\"yref\":\"y\"},{\"font\":{\"color\":\"black\"},\"showarrow\":false,\"text\":\"-0.05\",\"x\":\"RelationshipSatisfaction\",\"xref\":\"x\",\"y\":\"Attrition\",\"yref\":\"y\"},{\"font\":{\"color\":\"black\"},\"showarrow\":false,\"text\":\"-0.14\",\"x\":\"StockOptionLevel\",\"xref\":\"x\",\"y\":\"Attrition\",\"yref\":\"y\"},{\"font\":{\"color\":\"black\"},\"showarrow\":false,\"text\":\"-0.17\",\"x\":\"TotalWorkingYears\",\"xref\":\"x\",\"y\":\"Attrition\",\"yref\":\"y\"},{\"font\":{\"color\":\"black\"},\"showarrow\":false,\"text\":\"-0.06\",\"x\":\"TrainingTimesLastYear\",\"xref\":\"x\",\"y\":\"Attrition\",\"yref\":\"y\"},{\"font\":{\"color\":\"black\"},\"showarrow\":false,\"text\":\"-0.06\",\"x\":\"WorkLifeBalance\",\"xref\":\"x\",\"y\":\"Attrition\",\"yref\":\"y\"},{\"font\":{\"color\":\"black\"},\"showarrow\":false,\"text\":\"-0.13\",\"x\":\"YearsAtCompany\",\"xref\":\"x\",\"y\":\"Attrition\",\"yref\":\"y\"},{\"font\":{\"color\":\"black\"},\"showarrow\":false,\"text\":\"-0.16\",\"x\":\"YearsInCurrentRole\",\"xref\":\"x\",\"y\":\"Attrition\",\"yref\":\"y\"},{\"font\":{\"color\":\"black\"},\"showarrow\":false,\"text\":\"-0.03\",\"x\":\"YearsSinceLastPromotion\",\"xref\":\"x\",\"y\":\"Attrition\",\"yref\":\"y\"},{\"font\":{\"color\":\"black\"},\"showarrow\":false,\"text\":\"-0.16\",\"x\":\"YearsWithCurrManager\",\"xref\":\"x\",\"y\":\"Attrition\",\"yref\":\"y\"},{\"font\":{\"color\":\"black\"},\"showarrow\":false,\"text\":\"0.02\",\"x\":\"Age\",\"xref\":\"x\",\"y\":\"BusinessTravel\",\"yref\":\"y\"},{\"font\":{\"color\":\"black\"},\"showarrow\":false,\"text\":\"0.0\",\"x\":\"Attrition\",\"xref\":\"x\",\"y\":\"BusinessTravel\",\"yref\":\"y\"},{\"font\":{\"color\":\"white\"},\"showarrow\":false,\"text\":\"1.0\",\"x\":\"BusinessTravel\",\"xref\":\"x\",\"y\":\"BusinessTravel\",\"yref\":\"y\"},{\"font\":{\"color\":\"black\"},\"showarrow\":false,\"text\":\"-0.0\",\"x\":\"DailyRate\",\"xref\":\"x\",\"y\":\"BusinessTravel\",\"yref\":\"y\"},{\"font\":{\"color\":\"black\"},\"showarrow\":false,\"text\":\"-0.01\",\"x\":\"Department\",\"xref\":\"x\",\"y\":\"BusinessTravel\",\"yref\":\"y\"},{\"font\":{\"color\":\"black\"},\"showarrow\":false,\"text\":\"-0.02\",\"x\":\"DistanceFromHome\",\"xref\":\"x\",\"y\":\"BusinessTravel\",\"yref\":\"y\"},{\"font\":{\"color\":\"black\"},\"showarrow\":false,\"text\":\"0.0\",\"x\":\"Education\",\"xref\":\"x\",\"y\":\"BusinessTravel\",\"yref\":\"y\"},{\"font\":{\"color\":\"black\"},\"showarrow\":false,\"text\":\"0.02\",\"x\":\"EducationField\",\"xref\":\"x\",\"y\":\"BusinessTravel\",\"yref\":\"y\"},{\"font\":{\"color\":\"black\"},\"showarrow\":false,\"text\":\"0.0\",\"x\":\"EnvironmentSatisfaction\",\"xref\":\"x\",\"y\":\"BusinessTravel\",\"yref\":\"y\"},{\"font\":{\"color\":\"black\"},\"showarrow\":false,\"text\":\"-0.03\",\"x\":\"Gender\",\"xref\":\"x\",\"y\":\"BusinessTravel\",\"yref\":\"y\"},{\"font\":{\"color\":\"black\"},\"showarrow\":false,\"text\":\"0.03\",\"x\":\"HourlyRate\",\"xref\":\"x\",\"y\":\"BusinessTravel\",\"yref\":\"y\"},{\"font\":{\"color\":\"black\"},\"showarrow\":false,\"text\":\"0.04\",\"x\":\"JobInvolvement\",\"xref\":\"x\",\"y\":\"BusinessTravel\",\"yref\":\"y\"},{\"font\":{\"color\":\"black\"},\"showarrow\":false,\"text\":\"0.02\",\"x\":\"JobLevel\",\"xref\":\"x\",\"y\":\"BusinessTravel\",\"yref\":\"y\"},{\"font\":{\"color\":\"black\"},\"showarrow\":false,\"text\":\"0.0\",\"x\":\"JobRole\",\"xref\":\"x\",\"y\":\"BusinessTravel\",\"yref\":\"y\"},{\"font\":{\"color\":\"black\"},\"showarrow\":false,\"text\":\"0.02\",\"x\":\"JobSatisfaction\",\"xref\":\"x\",\"y\":\"BusinessTravel\",\"yref\":\"y\"},{\"font\":{\"color\":\"black\"},\"showarrow\":false,\"text\":\"0.02\",\"x\":\"MaritalStatus\",\"xref\":\"x\",\"y\":\"BusinessTravel\",\"yref\":\"y\"},{\"font\":{\"color\":\"black\"},\"showarrow\":false,\"text\":\"0.03\",\"x\":\"MonthlyIncome\",\"xref\":\"x\",\"y\":\"BusinessTravel\",\"yref\":\"y\"},{\"font\":{\"color\":\"black\"},\"showarrow\":false,\"text\":\"-0.01\",\"x\":\"MonthlyRate\",\"xref\":\"x\",\"y\":\"BusinessTravel\",\"yref\":\"y\"},{\"font\":{\"color\":\"black\"},\"showarrow\":false,\"text\":\"0.02\",\"x\":\"NumCompaniesWorked\",\"xref\":\"x\",\"y\":\"BusinessTravel\",\"yref\":\"y\"},{\"font\":{\"color\":\"black\"},\"showarrow\":false,\"text\":\"0.02\",\"x\":\"OverTime\",\"xref\":\"x\",\"y\":\"BusinessTravel\",\"yref\":\"y\"},{\"font\":{\"color\":\"black\"},\"showarrow\":false,\"text\":\"-0.03\",\"x\":\"PercentSalaryHike\",\"xref\":\"x\",\"y\":\"BusinessTravel\",\"yref\":\"y\"},{\"font\":{\"color\":\"black\"},\"showarrow\":false,\"text\":\"-0.03\",\"x\":\"PerformanceRating\",\"xref\":\"x\",\"y\":\"BusinessTravel\",\"yref\":\"y\"},{\"font\":{\"color\":\"black\"},\"showarrow\":false,\"text\":\"-0.04\",\"x\":\"RelationshipSatisfaction\",\"xref\":\"x\",\"y\":\"BusinessTravel\",\"yref\":\"y\"},{\"font\":{\"color\":\"black\"},\"showarrow\":false,\"text\":\"-0.02\",\"x\":\"StockOptionLevel\",\"xref\":\"x\",\"y\":\"BusinessTravel\",\"yref\":\"y\"},{\"font\":{\"color\":\"black\"},\"showarrow\":false,\"text\":\"0.03\",\"x\":\"TotalWorkingYears\",\"xref\":\"x\",\"y\":\"BusinessTravel\",\"yref\":\"y\"},{\"font\":{\"color\":\"black\"},\"showarrow\":false,\"text\":\"0.02\",\"x\":\"TrainingTimesLastYear\",\"xref\":\"x\",\"y\":\"BusinessTravel\",\"yref\":\"y\"},{\"font\":{\"color\":\"black\"},\"showarrow\":false,\"text\":\"-0.01\",\"x\":\"WorkLifeBalance\",\"xref\":\"x\",\"y\":\"BusinessTravel\",\"yref\":\"y\"},{\"font\":{\"color\":\"black\"},\"showarrow\":false,\"text\":\"-0.01\",\"x\":\"YearsAtCompany\",\"xref\":\"x\",\"y\":\"BusinessTravel\",\"yref\":\"y\"},{\"font\":{\"color\":\"black\"},\"showarrow\":false,\"text\":\"-0.01\",\"x\":\"YearsInCurrentRole\",\"xref\":\"x\",\"y\":\"BusinessTravel\",\"yref\":\"y\"},{\"font\":{\"color\":\"black\"},\"showarrow\":false,\"text\":\"-0.03\",\"x\":\"YearsSinceLastPromotion\",\"xref\":\"x\",\"y\":\"BusinessTravel\",\"yref\":\"y\"},{\"font\":{\"color\":\"black\"},\"showarrow\":false,\"text\":\"-0.02\",\"x\":\"YearsWithCurrManager\",\"xref\":\"x\",\"y\":\"BusinessTravel\",\"yref\":\"y\"},{\"font\":{\"color\":\"black\"},\"showarrow\":false,\"text\":\"0.01\",\"x\":\"Age\",\"xref\":\"x\",\"y\":\"DailyRate\",\"yref\":\"y\"},{\"font\":{\"color\":\"black\"},\"showarrow\":false,\"text\":\"-0.06\",\"x\":\"Attrition\",\"xref\":\"x\",\"y\":\"DailyRate\",\"yref\":\"y\"},{\"font\":{\"color\":\"black\"},\"showarrow\":false,\"text\":\"-0.0\",\"x\":\"BusinessTravel\",\"xref\":\"x\",\"y\":\"DailyRate\",\"yref\":\"y\"},{\"font\":{\"color\":\"white\"},\"showarrow\":false,\"text\":\"1.0\",\"x\":\"DailyRate\",\"xref\":\"x\",\"y\":\"DailyRate\",\"yref\":\"y\"},{\"font\":{\"color\":\"black\"},\"showarrow\":false,\"text\":\"0.01\",\"x\":\"Department\",\"xref\":\"x\",\"y\":\"DailyRate\",\"yref\":\"y\"},{\"font\":{\"color\":\"black\"},\"showarrow\":false,\"text\":\"-0.0\",\"x\":\"DistanceFromHome\",\"xref\":\"x\",\"y\":\"DailyRate\",\"yref\":\"y\"},{\"font\":{\"color\":\"black\"},\"showarrow\":false,\"text\":\"-0.02\",\"x\":\"Education\",\"xref\":\"x\",\"y\":\"DailyRate\",\"yref\":\"y\"},{\"font\":{\"color\":\"black\"},\"showarrow\":false,\"text\":\"0.04\",\"x\":\"EducationField\",\"xref\":\"x\",\"y\":\"DailyRate\",\"yref\":\"y\"},{\"font\":{\"color\":\"black\"},\"showarrow\":false,\"text\":\"0.02\",\"x\":\"EnvironmentSatisfaction\",\"xref\":\"x\",\"y\":\"DailyRate\",\"yref\":\"y\"},{\"font\":{\"color\":\"black\"},\"showarrow\":false,\"text\":\"-0.01\",\"x\":\"Gender\",\"xref\":\"x\",\"y\":\"DailyRate\",\"yref\":\"y\"},{\"font\":{\"color\":\"black\"},\"showarrow\":false,\"text\":\"0.02\",\"x\":\"HourlyRate\",\"xref\":\"x\",\"y\":\"DailyRate\",\"yref\":\"y\"},{\"font\":{\"color\":\"black\"},\"showarrow\":false,\"text\":\"0.05\",\"x\":\"JobInvolvement\",\"xref\":\"x\",\"y\":\"DailyRate\",\"yref\":\"y\"},{\"font\":{\"color\":\"black\"},\"showarrow\":false,\"text\":\"0.0\",\"x\":\"JobLevel\",\"xref\":\"x\",\"y\":\"DailyRate\",\"yref\":\"y\"},{\"font\":{\"color\":\"black\"},\"showarrow\":false,\"text\":\"-0.01\",\"x\":\"JobRole\",\"xref\":\"x\",\"y\":\"DailyRate\",\"yref\":\"y\"},{\"font\":{\"color\":\"black\"},\"showarrow\":false,\"text\":\"-0.03\",\"x\":\"JobSatisfaction\",\"xref\":\"x\",\"y\":\"DailyRate\",\"yref\":\"y\"},{\"font\":{\"color\":\"black\"},\"showarrow\":false,\"text\":\"-0.07\",\"x\":\"MaritalStatus\",\"xref\":\"x\",\"y\":\"DailyRate\",\"yref\":\"y\"},{\"font\":{\"color\":\"black\"},\"showarrow\":false,\"text\":\"0.01\",\"x\":\"MonthlyIncome\",\"xref\":\"x\",\"y\":\"DailyRate\",\"yref\":\"y\"},{\"font\":{\"color\":\"black\"},\"showarrow\":false,\"text\":\"-0.03\",\"x\":\"MonthlyRate\",\"xref\":\"x\",\"y\":\"DailyRate\",\"yref\":\"y\"},{\"font\":{\"color\":\"black\"},\"showarrow\":false,\"text\":\"0.04\",\"x\":\"NumCompaniesWorked\",\"xref\":\"x\",\"y\":\"DailyRate\",\"yref\":\"y\"},{\"font\":{\"color\":\"black\"},\"showarrow\":false,\"text\":\"0.01\",\"x\":\"OverTime\",\"xref\":\"x\",\"y\":\"DailyRate\",\"yref\":\"y\"},{\"font\":{\"color\":\"black\"},\"showarrow\":false,\"text\":\"0.02\",\"x\":\"PercentSalaryHike\",\"xref\":\"x\",\"y\":\"DailyRate\",\"yref\":\"y\"},{\"font\":{\"color\":\"black\"},\"showarrow\":false,\"text\":\"0.0\",\"x\":\"PerformanceRating\",\"xref\":\"x\",\"y\":\"DailyRate\",\"yref\":\"y\"},{\"font\":{\"color\":\"black\"},\"showarrow\":false,\"text\":\"0.01\",\"x\":\"RelationshipSatisfaction\",\"xref\":\"x\",\"y\":\"DailyRate\",\"yref\":\"y\"},{\"font\":{\"color\":\"black\"},\"showarrow\":false,\"text\":\"0.04\",\"x\":\"StockOptionLevel\",\"xref\":\"x\",\"y\":\"DailyRate\",\"yref\":\"y\"},{\"font\":{\"color\":\"black\"},\"showarrow\":false,\"text\":\"0.01\",\"x\":\"TotalWorkingYears\",\"xref\":\"x\",\"y\":\"DailyRate\",\"yref\":\"y\"},{\"font\":{\"color\":\"black\"},\"showarrow\":false,\"text\":\"0.0\",\"x\":\"TrainingTimesLastYear\",\"xref\":\"x\",\"y\":\"DailyRate\",\"yref\":\"y\"},{\"font\":{\"color\":\"black\"},\"showarrow\":false,\"text\":\"-0.04\",\"x\":\"WorkLifeBalance\",\"xref\":\"x\",\"y\":\"DailyRate\",\"yref\":\"y\"},{\"font\":{\"color\":\"black\"},\"showarrow\":false,\"text\":\"-0.03\",\"x\":\"YearsAtCompany\",\"xref\":\"x\",\"y\":\"DailyRate\",\"yref\":\"y\"},{\"font\":{\"color\":\"black\"},\"showarrow\":false,\"text\":\"0.01\",\"x\":\"YearsInCurrentRole\",\"xref\":\"x\",\"y\":\"DailyRate\",\"yref\":\"y\"},{\"font\":{\"color\":\"black\"},\"showarrow\":false,\"text\":\"-0.03\",\"x\":\"YearsSinceLastPromotion\",\"xref\":\"x\",\"y\":\"DailyRate\",\"yref\":\"y\"},{\"font\":{\"color\":\"black\"},\"showarrow\":false,\"text\":\"-0.03\",\"x\":\"YearsWithCurrManager\",\"xref\":\"x\",\"y\":\"DailyRate\",\"yref\":\"y\"},{\"font\":{\"color\":\"black\"},\"showarrow\":false,\"text\":\"-0.03\",\"x\":\"Age\",\"xref\":\"x\",\"y\":\"Department\",\"yref\":\"y\"},{\"font\":{\"color\":\"black\"},\"showarrow\":false,\"text\":\"0.06\",\"x\":\"Attrition\",\"xref\":\"x\",\"y\":\"Department\",\"yref\":\"y\"},{\"font\":{\"color\":\"black\"},\"showarrow\":false,\"text\":\"-0.01\",\"x\":\"BusinessTravel\",\"xref\":\"x\",\"y\":\"Department\",\"yref\":\"y\"},{\"font\":{\"color\":\"black\"},\"showarrow\":false,\"text\":\"0.01\",\"x\":\"DailyRate\",\"xref\":\"x\",\"y\":\"Department\",\"yref\":\"y\"},{\"font\":{\"color\":\"white\"},\"showarrow\":false,\"text\":\"1.0\",\"x\":\"Department\",\"xref\":\"x\",\"y\":\"Department\",\"yref\":\"y\"},{\"font\":{\"color\":\"black\"},\"showarrow\":false,\"text\":\"0.02\",\"x\":\"DistanceFromHome\",\"xref\":\"x\",\"y\":\"Department\",\"yref\":\"y\"},{\"font\":{\"color\":\"black\"},\"showarrow\":false,\"text\":\"0.01\",\"x\":\"Education\",\"xref\":\"x\",\"y\":\"Department\",\"yref\":\"y\"},{\"font\":{\"color\":\"black\"},\"showarrow\":false,\"text\":\"0.01\",\"x\":\"EducationField\",\"xref\":\"x\",\"y\":\"Department\",\"yref\":\"y\"},{\"font\":{\"color\":\"black\"},\"showarrow\":false,\"text\":\"-0.02\",\"x\":\"EnvironmentSatisfaction\",\"xref\":\"x\",\"y\":\"Department\",\"yref\":\"y\"},{\"font\":{\"color\":\"black\"},\"showarrow\":false,\"text\":\"-0.04\",\"x\":\"Gender\",\"xref\":\"x\",\"y\":\"Department\",\"yref\":\"y\"},{\"font\":{\"color\":\"black\"},\"showarrow\":false,\"text\":\"-0.0\",\"x\":\"HourlyRate\",\"xref\":\"x\",\"y\":\"Department\",\"yref\":\"y\"},{\"font\":{\"color\":\"black\"},\"showarrow\":false,\"text\":\"-0.02\",\"x\":\"JobInvolvement\",\"xref\":\"x\",\"y\":\"Department\",\"yref\":\"y\"},{\"font\":{\"color\":\"black\"},\"showarrow\":false,\"text\":\"0.1\",\"x\":\"JobLevel\",\"xref\":\"x\",\"y\":\"Department\",\"yref\":\"y\"},{\"font\":{\"color\":\"white\"},\"showarrow\":false,\"text\":\"0.66\",\"x\":\"JobRole\",\"xref\":\"x\",\"y\":\"Department\",\"yref\":\"y\"},{\"font\":{\"color\":\"black\"},\"showarrow\":false,\"text\":\"0.02\",\"x\":\"JobSatisfaction\",\"xref\":\"x\",\"y\":\"Department\",\"yref\":\"y\"},{\"font\":{\"color\":\"black\"},\"showarrow\":false,\"text\":\"0.06\",\"x\":\"MaritalStatus\",\"xref\":\"x\",\"y\":\"Department\",\"yref\":\"y\"},{\"font\":{\"color\":\"black\"},\"showarrow\":false,\"text\":\"0.05\",\"x\":\"MonthlyIncome\",\"xref\":\"x\",\"y\":\"Department\",\"yref\":\"y\"},{\"font\":{\"color\":\"black\"},\"showarrow\":false,\"text\":\"0.02\",\"x\":\"MonthlyRate\",\"xref\":\"x\",\"y\":\"Department\",\"yref\":\"y\"},{\"font\":{\"color\":\"black\"},\"showarrow\":false,\"text\":\"-0.04\",\"x\":\"NumCompaniesWorked\",\"xref\":\"x\",\"y\":\"Department\",\"yref\":\"y\"},{\"font\":{\"color\":\"black\"},\"showarrow\":false,\"text\":\"0.01\",\"x\":\"OverTime\",\"xref\":\"x\",\"y\":\"Department\",\"yref\":\"y\"},{\"font\":{\"color\":\"black\"},\"showarrow\":false,\"text\":\"-0.01\",\"x\":\"PercentSalaryHike\",\"xref\":\"x\",\"y\":\"Department\",\"yref\":\"y\"},{\"font\":{\"color\":\"black\"},\"showarrow\":false,\"text\":\"-0.02\",\"x\":\"PerformanceRating\",\"xref\":\"x\",\"y\":\"Department\",\"yref\":\"y\"},{\"font\":{\"color\":\"black\"},\"showarrow\":false,\"text\":\"-0.02\",\"x\":\"RelationshipSatisfaction\",\"xref\":\"x\",\"y\":\"Department\",\"yref\":\"y\"},{\"font\":{\"color\":\"black\"},\"showarrow\":false,\"text\":\"-0.01\",\"x\":\"StockOptionLevel\",\"xref\":\"x\",\"y\":\"Department\",\"yref\":\"y\"},{\"font\":{\"color\":\"black\"},\"showarrow\":false,\"text\":\"-0.02\",\"x\":\"TotalWorkingYears\",\"xref\":\"x\",\"y\":\"Department\",\"yref\":\"y\"},{\"font\":{\"color\":\"black\"},\"showarrow\":false,\"text\":\"0.04\",\"x\":\"TrainingTimesLastYear\",\"xref\":\"x\",\"y\":\"Department\",\"yref\":\"y\"},{\"font\":{\"color\":\"black\"},\"showarrow\":false,\"text\":\"0.03\",\"x\":\"WorkLifeBalance\",\"xref\":\"x\",\"y\":\"Department\",\"yref\":\"y\"},{\"font\":{\"color\":\"black\"},\"showarrow\":false,\"text\":\"0.02\",\"x\":\"YearsAtCompany\",\"xref\":\"x\",\"y\":\"Department\",\"yref\":\"y\"},{\"font\":{\"color\":\"black\"},\"showarrow\":false,\"text\":\"0.06\",\"x\":\"YearsInCurrentRole\",\"xref\":\"x\",\"y\":\"Department\",\"yref\":\"y\"},{\"font\":{\"color\":\"black\"},\"showarrow\":false,\"text\":\"0.04\",\"x\":\"YearsSinceLastPromotion\",\"xref\":\"x\",\"y\":\"Department\",\"yref\":\"y\"},{\"font\":{\"color\":\"black\"},\"showarrow\":false,\"text\":\"0.03\",\"x\":\"YearsWithCurrManager\",\"xref\":\"x\",\"y\":\"Department\",\"yref\":\"y\"},{\"font\":{\"color\":\"black\"},\"showarrow\":false,\"text\":\"-0.0\",\"x\":\"Age\",\"xref\":\"x\",\"y\":\"DistanceFromHome\",\"yref\":\"y\"},{\"font\":{\"color\":\"black\"},\"showarrow\":false,\"text\":\"0.08\",\"x\":\"Attrition\",\"xref\":\"x\",\"y\":\"DistanceFromHome\",\"yref\":\"y\"},{\"font\":{\"color\":\"black\"},\"showarrow\":false,\"text\":\"-0.02\",\"x\":\"BusinessTravel\",\"xref\":\"x\",\"y\":\"DistanceFromHome\",\"yref\":\"y\"},{\"font\":{\"color\":\"black\"},\"showarrow\":false,\"text\":\"-0.0\",\"x\":\"DailyRate\",\"xref\":\"x\",\"y\":\"DistanceFromHome\",\"yref\":\"y\"},{\"font\":{\"color\":\"black\"},\"showarrow\":false,\"text\":\"0.02\",\"x\":\"Department\",\"xref\":\"x\",\"y\":\"DistanceFromHome\",\"yref\":\"y\"},{\"font\":{\"color\":\"white\"},\"showarrow\":false,\"text\":\"1.0\",\"x\":\"DistanceFromHome\",\"xref\":\"x\",\"y\":\"DistanceFromHome\",\"yref\":\"y\"},{\"font\":{\"color\":\"black\"},\"showarrow\":false,\"text\":\"0.02\",\"x\":\"Education\",\"xref\":\"x\",\"y\":\"DistanceFromHome\",\"yref\":\"y\"},{\"font\":{\"color\":\"black\"},\"showarrow\":false,\"text\":\"0.0\",\"x\":\"EducationField\",\"xref\":\"x\",\"y\":\"DistanceFromHome\",\"yref\":\"y\"},{\"font\":{\"color\":\"black\"},\"showarrow\":false,\"text\":\"-0.02\",\"x\":\"EnvironmentSatisfaction\",\"xref\":\"x\",\"y\":\"DistanceFromHome\",\"yref\":\"y\"},{\"font\":{\"color\":\"black\"},\"showarrow\":false,\"text\":\"-0.0\",\"x\":\"Gender\",\"xref\":\"x\",\"y\":\"DistanceFromHome\",\"yref\":\"y\"},{\"font\":{\"color\":\"black\"},\"showarrow\":false,\"text\":\"0.03\",\"x\":\"HourlyRate\",\"xref\":\"x\",\"y\":\"DistanceFromHome\",\"yref\":\"y\"},{\"font\":{\"color\":\"black\"},\"showarrow\":false,\"text\":\"0.01\",\"x\":\"JobInvolvement\",\"xref\":\"x\",\"y\":\"DistanceFromHome\",\"yref\":\"y\"},{\"font\":{\"color\":\"black\"},\"showarrow\":false,\"text\":\"0.01\",\"x\":\"JobLevel\",\"xref\":\"x\",\"y\":\"DistanceFromHome\",\"yref\":\"y\"},{\"font\":{\"color\":\"black\"},\"showarrow\":false,\"text\":\"-0.0\",\"x\":\"JobRole\",\"xref\":\"x\",\"y\":\"DistanceFromHome\",\"yref\":\"y\"},{\"font\":{\"color\":\"black\"},\"showarrow\":false,\"text\":\"-0.02\",\"x\":\"JobSatisfaction\",\"xref\":\"x\",\"y\":\"DistanceFromHome\",\"yref\":\"y\"},{\"font\":{\"color\":\"black\"},\"showarrow\":false,\"text\":\"-0.01\",\"x\":\"MaritalStatus\",\"xref\":\"x\",\"y\":\"DistanceFromHome\",\"yref\":\"y\"},{\"font\":{\"color\":\"black\"},\"showarrow\":false,\"text\":\"-0.02\",\"x\":\"MonthlyIncome\",\"xref\":\"x\",\"y\":\"DistanceFromHome\",\"yref\":\"y\"},{\"font\":{\"color\":\"black\"},\"showarrow\":false,\"text\":\"0.03\",\"x\":\"MonthlyRate\",\"xref\":\"x\",\"y\":\"DistanceFromHome\",\"yref\":\"y\"},{\"font\":{\"color\":\"black\"},\"showarrow\":false,\"text\":\"-0.03\",\"x\":\"NumCompaniesWorked\",\"xref\":\"x\",\"y\":\"DistanceFromHome\",\"yref\":\"y\"},{\"font\":{\"color\":\"black\"},\"showarrow\":false,\"text\":\"0.03\",\"x\":\"OverTime\",\"xref\":\"x\",\"y\":\"DistanceFromHome\",\"yref\":\"y\"},{\"font\":{\"color\":\"black\"},\"showarrow\":false,\"text\":\"0.04\",\"x\":\"PercentSalaryHike\",\"xref\":\"x\",\"y\":\"DistanceFromHome\",\"yref\":\"y\"},{\"font\":{\"color\":\"black\"},\"showarrow\":false,\"text\":\"0.03\",\"x\":\"PerformanceRating\",\"xref\":\"x\",\"y\":\"DistanceFromHome\",\"yref\":\"y\"},{\"font\":{\"color\":\"black\"},\"showarrow\":false,\"text\":\"0.01\",\"x\":\"RelationshipSatisfaction\",\"xref\":\"x\",\"y\":\"DistanceFromHome\",\"yref\":\"y\"},{\"font\":{\"color\":\"black\"},\"showarrow\":false,\"text\":\"0.04\",\"x\":\"StockOptionLevel\",\"xref\":\"x\",\"y\":\"DistanceFromHome\",\"yref\":\"y\"},{\"font\":{\"color\":\"black\"},\"showarrow\":false,\"text\":\"0.0\",\"x\":\"TotalWorkingYears\",\"xref\":\"x\",\"y\":\"DistanceFromHome\",\"yref\":\"y\"},{\"font\":{\"color\":\"black\"},\"showarrow\":false,\"text\":\"-0.04\",\"x\":\"TrainingTimesLastYear\",\"xref\":\"x\",\"y\":\"DistanceFromHome\",\"yref\":\"y\"},{\"font\":{\"color\":\"black\"},\"showarrow\":false,\"text\":\"-0.03\",\"x\":\"WorkLifeBalance\",\"xref\":\"x\",\"y\":\"DistanceFromHome\",\"yref\":\"y\"},{\"font\":{\"color\":\"black\"},\"showarrow\":false,\"text\":\"0.01\",\"x\":\"YearsAtCompany\",\"xref\":\"x\",\"y\":\"DistanceFromHome\",\"yref\":\"y\"},{\"font\":{\"color\":\"black\"},\"showarrow\":false,\"text\":\"0.02\",\"x\":\"YearsInCurrentRole\",\"xref\":\"x\",\"y\":\"DistanceFromHome\",\"yref\":\"y\"},{\"font\":{\"color\":\"black\"},\"showarrow\":false,\"text\":\"0.01\",\"x\":\"YearsSinceLastPromotion\",\"xref\":\"x\",\"y\":\"DistanceFromHome\",\"yref\":\"y\"},{\"font\":{\"color\":\"black\"},\"showarrow\":false,\"text\":\"0.01\",\"x\":\"YearsWithCurrManager\",\"xref\":\"x\",\"y\":\"DistanceFromHome\",\"yref\":\"y\"},{\"font\":{\"color\":\"black\"},\"showarrow\":false,\"text\":\"0.21\",\"x\":\"Age\",\"xref\":\"x\",\"y\":\"Education\",\"yref\":\"y\"},{\"font\":{\"color\":\"black\"},\"showarrow\":false,\"text\":\"-0.03\",\"x\":\"Attrition\",\"xref\":\"x\",\"y\":\"Education\",\"yref\":\"y\"},{\"font\":{\"color\":\"black\"},\"showarrow\":false,\"text\":\"0.0\",\"x\":\"BusinessTravel\",\"xref\":\"x\",\"y\":\"Education\",\"yref\":\"y\"},{\"font\":{\"color\":\"black\"},\"showarrow\":false,\"text\":\"-0.02\",\"x\":\"DailyRate\",\"xref\":\"x\",\"y\":\"Education\",\"yref\":\"y\"},{\"font\":{\"color\":\"black\"},\"showarrow\":false,\"text\":\"0.01\",\"x\":\"Department\",\"xref\":\"x\",\"y\":\"Education\",\"yref\":\"y\"},{\"font\":{\"color\":\"black\"},\"showarrow\":false,\"text\":\"0.02\",\"x\":\"DistanceFromHome\",\"xref\":\"x\",\"y\":\"Education\",\"yref\":\"y\"},{\"font\":{\"color\":\"white\"},\"showarrow\":false,\"text\":\"1.0\",\"x\":\"Education\",\"xref\":\"x\",\"y\":\"Education\",\"yref\":\"y\"},{\"font\":{\"color\":\"black\"},\"showarrow\":false,\"text\":\"-0.04\",\"x\":\"EducationField\",\"xref\":\"x\",\"y\":\"Education\",\"yref\":\"y\"},{\"font\":{\"color\":\"black\"},\"showarrow\":false,\"text\":\"-0.03\",\"x\":\"EnvironmentSatisfaction\",\"xref\":\"x\",\"y\":\"Education\",\"yref\":\"y\"},{\"font\":{\"color\":\"black\"},\"showarrow\":false,\"text\":\"-0.02\",\"x\":\"Gender\",\"xref\":\"x\",\"y\":\"Education\",\"yref\":\"y\"},{\"font\":{\"color\":\"black\"},\"showarrow\":false,\"text\":\"0.02\",\"x\":\"HourlyRate\",\"xref\":\"x\",\"y\":\"Education\",\"yref\":\"y\"},{\"font\":{\"color\":\"black\"},\"showarrow\":false,\"text\":\"0.04\",\"x\":\"JobInvolvement\",\"xref\":\"x\",\"y\":\"Education\",\"yref\":\"y\"},{\"font\":{\"color\":\"black\"},\"showarrow\":false,\"text\":\"0.1\",\"x\":\"JobLevel\",\"xref\":\"x\",\"y\":\"Education\",\"yref\":\"y\"},{\"font\":{\"color\":\"black\"},\"showarrow\":false,\"text\":\"0.0\",\"x\":\"JobRole\",\"xref\":\"x\",\"y\":\"Education\",\"yref\":\"y\"},{\"font\":{\"color\":\"black\"},\"showarrow\":false,\"text\":\"-0.01\",\"x\":\"JobSatisfaction\",\"xref\":\"x\",\"y\":\"Education\",\"yref\":\"y\"},{\"font\":{\"color\":\"black\"},\"showarrow\":false,\"text\":\"0.0\",\"x\":\"MaritalStatus\",\"xref\":\"x\",\"y\":\"Education\",\"yref\":\"y\"},{\"font\":{\"color\":\"black\"},\"showarrow\":false,\"text\":\"0.09\",\"x\":\"MonthlyIncome\",\"xref\":\"x\",\"y\":\"Education\",\"yref\":\"y\"},{\"font\":{\"color\":\"black\"},\"showarrow\":false,\"text\":\"-0.03\",\"x\":\"MonthlyRate\",\"xref\":\"x\",\"y\":\"Education\",\"yref\":\"y\"},{\"font\":{\"color\":\"black\"},\"showarrow\":false,\"text\":\"0.13\",\"x\":\"NumCompaniesWorked\",\"xref\":\"x\",\"y\":\"Education\",\"yref\":\"y\"},{\"font\":{\"color\":\"black\"},\"showarrow\":false,\"text\":\"-0.02\",\"x\":\"OverTime\",\"xref\":\"x\",\"y\":\"Education\",\"yref\":\"y\"},{\"font\":{\"color\":\"black\"},\"showarrow\":false,\"text\":\"-0.01\",\"x\":\"PercentSalaryHike\",\"xref\":\"x\",\"y\":\"Education\",\"yref\":\"y\"},{\"font\":{\"color\":\"black\"},\"showarrow\":false,\"text\":\"-0.02\",\"x\":\"PerformanceRating\",\"xref\":\"x\",\"y\":\"Education\",\"yref\":\"y\"},{\"font\":{\"color\":\"black\"},\"showarrow\":false,\"text\":\"-0.01\",\"x\":\"RelationshipSatisfaction\",\"xref\":\"x\",\"y\":\"Education\",\"yref\":\"y\"},{\"font\":{\"color\":\"black\"},\"showarrow\":false,\"text\":\"0.02\",\"x\":\"StockOptionLevel\",\"xref\":\"x\",\"y\":\"Education\",\"yref\":\"y\"},{\"font\":{\"color\":\"black\"},\"showarrow\":false,\"text\":\"0.15\",\"x\":\"TotalWorkingYears\",\"xref\":\"x\",\"y\":\"Education\",\"yref\":\"y\"},{\"font\":{\"color\":\"black\"},\"showarrow\":false,\"text\":\"-0.03\",\"x\":\"TrainingTimesLastYear\",\"xref\":\"x\",\"y\":\"Education\",\"yref\":\"y\"},{\"font\":{\"color\":\"black\"},\"showarrow\":false,\"text\":\"0.01\",\"x\":\"WorkLifeBalance\",\"xref\":\"x\",\"y\":\"Education\",\"yref\":\"y\"},{\"font\":{\"color\":\"black\"},\"showarrow\":false,\"text\":\"0.07\",\"x\":\"YearsAtCompany\",\"xref\":\"x\",\"y\":\"Education\",\"yref\":\"y\"},{\"font\":{\"color\":\"black\"},\"showarrow\":false,\"text\":\"0.06\",\"x\":\"YearsInCurrentRole\",\"xref\":\"x\",\"y\":\"Education\",\"yref\":\"y\"},{\"font\":{\"color\":\"black\"},\"showarrow\":false,\"text\":\"0.05\",\"x\":\"YearsSinceLastPromotion\",\"xref\":\"x\",\"y\":\"Education\",\"yref\":\"y\"},{\"font\":{\"color\":\"black\"},\"showarrow\":false,\"text\":\"0.07\",\"x\":\"YearsWithCurrManager\",\"xref\":\"x\",\"y\":\"Education\",\"yref\":\"y\"},{\"font\":{\"color\":\"black\"},\"showarrow\":false,\"text\":\"-0.04\",\"x\":\"Age\",\"xref\":\"x\",\"y\":\"EducationField\",\"yref\":\"y\"},{\"font\":{\"color\":\"black\"},\"showarrow\":false,\"text\":\"0.03\",\"x\":\"Attrition\",\"xref\":\"x\",\"y\":\"EducationField\",\"yref\":\"y\"},{\"font\":{\"color\":\"black\"},\"showarrow\":false,\"text\":\"0.02\",\"x\":\"BusinessTravel\",\"xref\":\"x\",\"y\":\"EducationField\",\"yref\":\"y\"},{\"font\":{\"color\":\"black\"},\"showarrow\":false,\"text\":\"0.04\",\"x\":\"DailyRate\",\"xref\":\"x\",\"y\":\"EducationField\",\"yref\":\"y\"},{\"font\":{\"color\":\"black\"},\"showarrow\":false,\"text\":\"0.01\",\"x\":\"Department\",\"xref\":\"x\",\"y\":\"EducationField\",\"yref\":\"y\"},{\"font\":{\"color\":\"black\"},\"showarrow\":false,\"text\":\"0.0\",\"x\":\"DistanceFromHome\",\"xref\":\"x\",\"y\":\"EducationField\",\"yref\":\"y\"},{\"font\":{\"color\":\"black\"},\"showarrow\":false,\"text\":\"-0.04\",\"x\":\"Education\",\"xref\":\"x\",\"y\":\"EducationField\",\"yref\":\"y\"},{\"font\":{\"color\":\"white\"},\"showarrow\":false,\"text\":\"1.0\",\"x\":\"EducationField\",\"xref\":\"x\",\"y\":\"EducationField\",\"yref\":\"y\"},{\"font\":{\"color\":\"black\"},\"showarrow\":false,\"text\":\"0.04\",\"x\":\"EnvironmentSatisfaction\",\"xref\":\"x\",\"y\":\"EducationField\",\"yref\":\"y\"},{\"font\":{\"color\":\"black\"},\"showarrow\":false,\"text\":\"-0.0\",\"x\":\"Gender\",\"xref\":\"x\",\"y\":\"EducationField\",\"yref\":\"y\"},{\"font\":{\"color\":\"black\"},\"showarrow\":false,\"text\":\"-0.02\",\"x\":\"HourlyRate\",\"xref\":\"x\",\"y\":\"EducationField\",\"yref\":\"y\"},{\"font\":{\"color\":\"black\"},\"showarrow\":false,\"text\":\"-0.0\",\"x\":\"JobInvolvement\",\"xref\":\"x\",\"y\":\"EducationField\",\"yref\":\"y\"},{\"font\":{\"color\":\"black\"},\"showarrow\":false,\"text\":\"-0.04\",\"x\":\"JobLevel\",\"xref\":\"x\",\"y\":\"EducationField\",\"yref\":\"y\"},{\"font\":{\"color\":\"black\"},\"showarrow\":false,\"text\":\"0.02\",\"x\":\"JobRole\",\"xref\":\"x\",\"y\":\"EducationField\",\"yref\":\"y\"},{\"font\":{\"color\":\"black\"},\"showarrow\":false,\"text\":\"-0.03\",\"x\":\"JobSatisfaction\",\"xref\":\"x\",\"y\":\"EducationField\",\"yref\":\"y\"},{\"font\":{\"color\":\"black\"},\"showarrow\":false,\"text\":\"0.01\",\"x\":\"MaritalStatus\",\"xref\":\"x\",\"y\":\"EducationField\",\"yref\":\"y\"},{\"font\":{\"color\":\"black\"},\"showarrow\":false,\"text\":\"-0.04\",\"x\":\"MonthlyIncome\",\"xref\":\"x\",\"y\":\"EducationField\",\"yref\":\"y\"},{\"font\":{\"color\":\"black\"},\"showarrow\":false,\"text\":\"-0.03\",\"x\":\"MonthlyRate\",\"xref\":\"x\",\"y\":\"EducationField\",\"yref\":\"y\"},{\"font\":{\"color\":\"black\"},\"showarrow\":false,\"text\":\"-0.01\",\"x\":\"NumCompaniesWorked\",\"xref\":\"x\",\"y\":\"EducationField\",\"yref\":\"y\"},{\"font\":{\"color\":\"black\"},\"showarrow\":false,\"text\":\"0.0\",\"x\":\"OverTime\",\"xref\":\"x\",\"y\":\"EducationField\",\"yref\":\"y\"},{\"font\":{\"color\":\"black\"},\"showarrow\":false,\"text\":\"-0.01\",\"x\":\"PercentSalaryHike\",\"xref\":\"x\",\"y\":\"EducationField\",\"yref\":\"y\"},{\"font\":{\"color\":\"black\"},\"showarrow\":false,\"text\":\"-0.01\",\"x\":\"PerformanceRating\",\"xref\":\"x\",\"y\":\"EducationField\",\"yref\":\"y\"},{\"font\":{\"color\":\"black\"},\"showarrow\":false,\"text\":\"-0.0\",\"x\":\"RelationshipSatisfaction\",\"xref\":\"x\",\"y\":\"EducationField\",\"yref\":\"y\"},{\"font\":{\"color\":\"black\"},\"showarrow\":false,\"text\":\"-0.02\",\"x\":\"StockOptionLevel\",\"xref\":\"x\",\"y\":\"EducationField\",\"yref\":\"y\"},{\"font\":{\"color\":\"black\"},\"showarrow\":false,\"text\":\"-0.03\",\"x\":\"TotalWorkingYears\",\"xref\":\"x\",\"y\":\"EducationField\",\"yref\":\"y\"},{\"font\":{\"color\":\"black\"},\"showarrow\":false,\"text\":\"0.05\",\"x\":\"TrainingTimesLastYear\",\"xref\":\"x\",\"y\":\"EducationField\",\"yref\":\"y\"},{\"font\":{\"color\":\"black\"},\"showarrow\":false,\"text\":\"0.04\",\"x\":\"WorkLifeBalance\",\"xref\":\"x\",\"y\":\"EducationField\",\"yref\":\"y\"},{\"font\":{\"color\":\"black\"},\"showarrow\":false,\"text\":\"-0.02\",\"x\":\"YearsAtCompany\",\"xref\":\"x\",\"y\":\"EducationField\",\"yref\":\"y\"},{\"font\":{\"color\":\"black\"},\"showarrow\":false,\"text\":\"-0.01\",\"x\":\"YearsInCurrentRole\",\"xref\":\"x\",\"y\":\"EducationField\",\"yref\":\"y\"},{\"font\":{\"color\":\"black\"},\"showarrow\":false,\"text\":\"0.0\",\"x\":\"YearsSinceLastPromotion\",\"xref\":\"x\",\"y\":\"EducationField\",\"yref\":\"y\"},{\"font\":{\"color\":\"black\"},\"showarrow\":false,\"text\":\"-0.0\",\"x\":\"YearsWithCurrManager\",\"xref\":\"x\",\"y\":\"EducationField\",\"yref\":\"y\"},{\"font\":{\"color\":\"black\"},\"showarrow\":false,\"text\":\"0.01\",\"x\":\"Age\",\"xref\":\"x\",\"y\":\"EnvironmentSatisfaction\",\"yref\":\"y\"},{\"font\":{\"color\":\"black\"},\"showarrow\":false,\"text\":\"-0.1\",\"x\":\"Attrition\",\"xref\":\"x\",\"y\":\"EnvironmentSatisfaction\",\"yref\":\"y\"},{\"font\":{\"color\":\"black\"},\"showarrow\":false,\"text\":\"0.0\",\"x\":\"BusinessTravel\",\"xref\":\"x\",\"y\":\"EnvironmentSatisfaction\",\"yref\":\"y\"},{\"font\":{\"color\":\"black\"},\"showarrow\":false,\"text\":\"0.02\",\"x\":\"DailyRate\",\"xref\":\"x\",\"y\":\"EnvironmentSatisfaction\",\"yref\":\"y\"},{\"font\":{\"color\":\"black\"},\"showarrow\":false,\"text\":\"-0.02\",\"x\":\"Department\",\"xref\":\"x\",\"y\":\"EnvironmentSatisfaction\",\"yref\":\"y\"},{\"font\":{\"color\":\"black\"},\"showarrow\":false,\"text\":\"-0.02\",\"x\":\"DistanceFromHome\",\"xref\":\"x\",\"y\":\"EnvironmentSatisfaction\",\"yref\":\"y\"},{\"font\":{\"color\":\"black\"},\"showarrow\":false,\"text\":\"-0.03\",\"x\":\"Education\",\"xref\":\"x\",\"y\":\"EnvironmentSatisfaction\",\"yref\":\"y\"},{\"font\":{\"color\":\"black\"},\"showarrow\":false,\"text\":\"0.04\",\"x\":\"EducationField\",\"xref\":\"x\",\"y\":\"EnvironmentSatisfaction\",\"yref\":\"y\"},{\"font\":{\"color\":\"white\"},\"showarrow\":false,\"text\":\"1.0\",\"x\":\"EnvironmentSatisfaction\",\"xref\":\"x\",\"y\":\"EnvironmentSatisfaction\",\"yref\":\"y\"},{\"font\":{\"color\":\"black\"},\"showarrow\":false,\"text\":\"0.0\",\"x\":\"Gender\",\"xref\":\"x\",\"y\":\"EnvironmentSatisfaction\",\"yref\":\"y\"},{\"font\":{\"color\":\"black\"},\"showarrow\":false,\"text\":\"-0.05\",\"x\":\"HourlyRate\",\"xref\":\"x\",\"y\":\"EnvironmentSatisfaction\",\"yref\":\"y\"},{\"font\":{\"color\":\"black\"},\"showarrow\":false,\"text\":\"-0.01\",\"x\":\"JobInvolvement\",\"xref\":\"x\",\"y\":\"EnvironmentSatisfaction\",\"yref\":\"y\"},{\"font\":{\"color\":\"black\"},\"showarrow\":false,\"text\":\"0.0\",\"x\":\"JobLevel\",\"xref\":\"x\",\"y\":\"EnvironmentSatisfaction\",\"yref\":\"y\"},{\"font\":{\"color\":\"black\"},\"showarrow\":false,\"text\":\"-0.02\",\"x\":\"JobRole\",\"xref\":\"x\",\"y\":\"EnvironmentSatisfaction\",\"yref\":\"y\"},{\"font\":{\"color\":\"black\"},\"showarrow\":false,\"text\":\"0.04\",\"x\":\"JobSatisfaction\",\"xref\":\"x\",\"y\":\"EnvironmentSatisfaction\",\"yref\":\"y\"},{\"font\":{\"color\":\"black\"},\"showarrow\":false,\"text\":\"-0.0\",\"x\":\"MaritalStatus\",\"xref\":\"x\",\"y\":\"EnvironmentSatisfaction\",\"yref\":\"y\"},{\"font\":{\"color\":\"black\"},\"showarrow\":false,\"text\":\"-0.01\",\"x\":\"MonthlyIncome\",\"xref\":\"x\",\"y\":\"EnvironmentSatisfaction\",\"yref\":\"y\"},{\"font\":{\"color\":\"black\"},\"showarrow\":false,\"text\":\"0.04\",\"x\":\"MonthlyRate\",\"xref\":\"x\",\"y\":\"EnvironmentSatisfaction\",\"yref\":\"y\"},{\"font\":{\"color\":\"black\"},\"showarrow\":false,\"text\":\"0.01\",\"x\":\"NumCompaniesWorked\",\"xref\":\"x\",\"y\":\"EnvironmentSatisfaction\",\"yref\":\"y\"},{\"font\":{\"color\":\"black\"},\"showarrow\":false,\"text\":\"0.07\",\"x\":\"OverTime\",\"xref\":\"x\",\"y\":\"EnvironmentSatisfaction\",\"yref\":\"y\"},{\"font\":{\"color\":\"black\"},\"showarrow\":false,\"text\":\"-0.03\",\"x\":\"PercentSalaryHike\",\"xref\":\"x\",\"y\":\"EnvironmentSatisfaction\",\"yref\":\"y\"},{\"font\":{\"color\":\"black\"},\"showarrow\":false,\"text\":\"-0.03\",\"x\":\"PerformanceRating\",\"xref\":\"x\",\"y\":\"EnvironmentSatisfaction\",\"yref\":\"y\"},{\"font\":{\"color\":\"black\"},\"showarrow\":false,\"text\":\"0.01\",\"x\":\"RelationshipSatisfaction\",\"xref\":\"x\",\"y\":\"EnvironmentSatisfaction\",\"yref\":\"y\"},{\"font\":{\"color\":\"black\"},\"showarrow\":false,\"text\":\"0.0\",\"x\":\"StockOptionLevel\",\"xref\":\"x\",\"y\":\"EnvironmentSatisfaction\",\"yref\":\"y\"},{\"font\":{\"color\":\"black\"},\"showarrow\":false,\"text\":\"-0.0\",\"x\":\"TotalWorkingYears\",\"xref\":\"x\",\"y\":\"EnvironmentSatisfaction\",\"yref\":\"y\"},{\"font\":{\"color\":\"black\"},\"showarrow\":false,\"text\":\"-0.02\",\"x\":\"TrainingTimesLastYear\",\"xref\":\"x\",\"y\":\"EnvironmentSatisfaction\",\"yref\":\"y\"},{\"font\":{\"color\":\"black\"},\"showarrow\":false,\"text\":\"0.03\",\"x\":\"WorkLifeBalance\",\"xref\":\"x\",\"y\":\"EnvironmentSatisfaction\",\"yref\":\"y\"},{\"font\":{\"color\":\"black\"},\"showarrow\":false,\"text\":\"0.0\",\"x\":\"YearsAtCompany\",\"xref\":\"x\",\"y\":\"EnvironmentSatisfaction\",\"yref\":\"y\"},{\"font\":{\"color\":\"black\"},\"showarrow\":false,\"text\":\"0.02\",\"x\":\"YearsInCurrentRole\",\"xref\":\"x\",\"y\":\"EnvironmentSatisfaction\",\"yref\":\"y\"},{\"font\":{\"color\":\"black\"},\"showarrow\":false,\"text\":\"0.02\",\"x\":\"YearsSinceLastPromotion\",\"xref\":\"x\",\"y\":\"EnvironmentSatisfaction\",\"yref\":\"y\"},{\"font\":{\"color\":\"black\"},\"showarrow\":false,\"text\":\"-0.0\",\"x\":\"YearsWithCurrManager\",\"xref\":\"x\",\"y\":\"EnvironmentSatisfaction\",\"yref\":\"y\"},{\"font\":{\"color\":\"black\"},\"showarrow\":false,\"text\":\"-0.04\",\"x\":\"Age\",\"xref\":\"x\",\"y\":\"Gender\",\"yref\":\"y\"},{\"font\":{\"color\":\"black\"},\"showarrow\":false,\"text\":\"0.03\",\"x\":\"Attrition\",\"xref\":\"x\",\"y\":\"Gender\",\"yref\":\"y\"},{\"font\":{\"color\":\"black\"},\"showarrow\":false,\"text\":\"-0.03\",\"x\":\"BusinessTravel\",\"xref\":\"x\",\"y\":\"Gender\",\"yref\":\"y\"},{\"font\":{\"color\":\"black\"},\"showarrow\":false,\"text\":\"-0.01\",\"x\":\"DailyRate\",\"xref\":\"x\",\"y\":\"Gender\",\"yref\":\"y\"},{\"font\":{\"color\":\"black\"},\"showarrow\":false,\"text\":\"-0.04\",\"x\":\"Department\",\"xref\":\"x\",\"y\":\"Gender\",\"yref\":\"y\"},{\"font\":{\"color\":\"black\"},\"showarrow\":false,\"text\":\"-0.0\",\"x\":\"DistanceFromHome\",\"xref\":\"x\",\"y\":\"Gender\",\"yref\":\"y\"},{\"font\":{\"color\":\"black\"},\"showarrow\":false,\"text\":\"-0.02\",\"x\":\"Education\",\"xref\":\"x\",\"y\":\"Gender\",\"yref\":\"y\"},{\"font\":{\"color\":\"black\"},\"showarrow\":false,\"text\":\"-0.0\",\"x\":\"EducationField\",\"xref\":\"x\",\"y\":\"Gender\",\"yref\":\"y\"},{\"font\":{\"color\":\"black\"},\"showarrow\":false,\"text\":\"0.0\",\"x\":\"EnvironmentSatisfaction\",\"xref\":\"x\",\"y\":\"Gender\",\"yref\":\"y\"},{\"font\":{\"color\":\"white\"},\"showarrow\":false,\"text\":\"1.0\",\"x\":\"Gender\",\"xref\":\"x\",\"y\":\"Gender\",\"yref\":\"y\"},{\"font\":{\"color\":\"black\"},\"showarrow\":false,\"text\":\"-0.0\",\"x\":\"HourlyRate\",\"xref\":\"x\",\"y\":\"Gender\",\"yref\":\"y\"},{\"font\":{\"color\":\"black\"},\"showarrow\":false,\"text\":\"0.02\",\"x\":\"JobInvolvement\",\"xref\":\"x\",\"y\":\"Gender\",\"yref\":\"y\"},{\"font\":{\"color\":\"black\"},\"showarrow\":false,\"text\":\"-0.04\",\"x\":\"JobLevel\",\"xref\":\"x\",\"y\":\"Gender\",\"yref\":\"y\"},{\"font\":{\"color\":\"black\"},\"showarrow\":false,\"text\":\"-0.04\",\"x\":\"JobRole\",\"xref\":\"x\",\"y\":\"Gender\",\"yref\":\"y\"},{\"font\":{\"color\":\"black\"},\"showarrow\":false,\"text\":\"0.03\",\"x\":\"JobSatisfaction\",\"xref\":\"x\",\"y\":\"Gender\",\"yref\":\"y\"},{\"font\":{\"color\":\"black\"},\"showarrow\":false,\"text\":\"-0.05\",\"x\":\"MaritalStatus\",\"xref\":\"x\",\"y\":\"Gender\",\"yref\":\"y\"},{\"font\":{\"color\":\"black\"},\"showarrow\":false,\"text\":\"-0.03\",\"x\":\"MonthlyIncome\",\"xref\":\"x\",\"y\":\"Gender\",\"yref\":\"y\"},{\"font\":{\"color\":\"black\"},\"showarrow\":false,\"text\":\"-0.04\",\"x\":\"MonthlyRate\",\"xref\":\"x\",\"y\":\"Gender\",\"yref\":\"y\"},{\"font\":{\"color\":\"black\"},\"showarrow\":false,\"text\":\"-0.04\",\"x\":\"NumCompaniesWorked\",\"xref\":\"x\",\"y\":\"Gender\",\"yref\":\"y\"},{\"font\":{\"color\":\"black\"},\"showarrow\":false,\"text\":\"-0.04\",\"x\":\"OverTime\",\"xref\":\"x\",\"y\":\"Gender\",\"yref\":\"y\"},{\"font\":{\"color\":\"black\"},\"showarrow\":false,\"text\":\"0.0\",\"x\":\"PercentSalaryHike\",\"xref\":\"x\",\"y\":\"Gender\",\"yref\":\"y\"},{\"font\":{\"color\":\"black\"},\"showarrow\":false,\"text\":\"-0.01\",\"x\":\"PerformanceRating\",\"xref\":\"x\",\"y\":\"Gender\",\"yref\":\"y\"},{\"font\":{\"color\":\"black\"},\"showarrow\":false,\"text\":\"0.02\",\"x\":\"RelationshipSatisfaction\",\"xref\":\"x\",\"y\":\"Gender\",\"yref\":\"y\"},{\"font\":{\"color\":\"black\"},\"showarrow\":false,\"text\":\"0.01\",\"x\":\"StockOptionLevel\",\"xref\":\"x\",\"y\":\"Gender\",\"yref\":\"y\"},{\"font\":{\"color\":\"black\"},\"showarrow\":false,\"text\":\"-0.05\",\"x\":\"TotalWorkingYears\",\"xref\":\"x\",\"y\":\"Gender\",\"yref\":\"y\"},{\"font\":{\"color\":\"black\"},\"showarrow\":false,\"text\":\"-0.04\",\"x\":\"TrainingTimesLastYear\",\"xref\":\"x\",\"y\":\"Gender\",\"yref\":\"y\"},{\"font\":{\"color\":\"black\"},\"showarrow\":false,\"text\":\"-0.0\",\"x\":\"WorkLifeBalance\",\"xref\":\"x\",\"y\":\"Gender\",\"yref\":\"y\"},{\"font\":{\"color\":\"black\"},\"showarrow\":false,\"text\":\"-0.03\",\"x\":\"YearsAtCompany\",\"xref\":\"x\",\"y\":\"Gender\",\"yref\":\"y\"},{\"font\":{\"color\":\"black\"},\"showarrow\":false,\"text\":\"-0.04\",\"x\":\"YearsInCurrentRole\",\"xref\":\"x\",\"y\":\"Gender\",\"yref\":\"y\"},{\"font\":{\"color\":\"black\"},\"showarrow\":false,\"text\":\"-0.03\",\"x\":\"YearsSinceLastPromotion\",\"xref\":\"x\",\"y\":\"Gender\",\"yref\":\"y\"},{\"font\":{\"color\":\"black\"},\"showarrow\":false,\"text\":\"-0.03\",\"x\":\"YearsWithCurrManager\",\"xref\":\"x\",\"y\":\"Gender\",\"yref\":\"y\"},{\"font\":{\"color\":\"black\"},\"showarrow\":false,\"text\":\"0.02\",\"x\":\"Age\",\"xref\":\"x\",\"y\":\"HourlyRate\",\"yref\":\"y\"},{\"font\":{\"color\":\"black\"},\"showarrow\":false,\"text\":\"-0.01\",\"x\":\"Attrition\",\"xref\":\"x\",\"y\":\"HourlyRate\",\"yref\":\"y\"},{\"font\":{\"color\":\"black\"},\"showarrow\":false,\"text\":\"0.03\",\"x\":\"BusinessTravel\",\"xref\":\"x\",\"y\":\"HourlyRate\",\"yref\":\"y\"},{\"font\":{\"color\":\"black\"},\"showarrow\":false,\"text\":\"0.02\",\"x\":\"DailyRate\",\"xref\":\"x\",\"y\":\"HourlyRate\",\"yref\":\"y\"},{\"font\":{\"color\":\"black\"},\"showarrow\":false,\"text\":\"-0.0\",\"x\":\"Department\",\"xref\":\"x\",\"y\":\"HourlyRate\",\"yref\":\"y\"},{\"font\":{\"color\":\"black\"},\"showarrow\":false,\"text\":\"0.03\",\"x\":\"DistanceFromHome\",\"xref\":\"x\",\"y\":\"HourlyRate\",\"yref\":\"y\"},{\"font\":{\"color\":\"black\"},\"showarrow\":false,\"text\":\"0.02\",\"x\":\"Education\",\"xref\":\"x\",\"y\":\"HourlyRate\",\"yref\":\"y\"},{\"font\":{\"color\":\"black\"},\"showarrow\":false,\"text\":\"-0.02\",\"x\":\"EducationField\",\"xref\":\"x\",\"y\":\"HourlyRate\",\"yref\":\"y\"},{\"font\":{\"color\":\"black\"},\"showarrow\":false,\"text\":\"-0.05\",\"x\":\"EnvironmentSatisfaction\",\"xref\":\"x\",\"y\":\"HourlyRate\",\"yref\":\"y\"},{\"font\":{\"color\":\"black\"},\"showarrow\":false,\"text\":\"-0.0\",\"x\":\"Gender\",\"xref\":\"x\",\"y\":\"HourlyRate\",\"yref\":\"y\"},{\"font\":{\"color\":\"white\"},\"showarrow\":false,\"text\":\"1.0\",\"x\":\"HourlyRate\",\"xref\":\"x\",\"y\":\"HourlyRate\",\"yref\":\"y\"},{\"font\":{\"color\":\"black\"},\"showarrow\":false,\"text\":\"0.04\",\"x\":\"JobInvolvement\",\"xref\":\"x\",\"y\":\"HourlyRate\",\"yref\":\"y\"},{\"font\":{\"color\":\"black\"},\"showarrow\":false,\"text\":\"-0.03\",\"x\":\"JobLevel\",\"xref\":\"x\",\"y\":\"HourlyRate\",\"yref\":\"y\"},{\"font\":{\"color\":\"black\"},\"showarrow\":false,\"text\":\"-0.02\",\"x\":\"JobRole\",\"xref\":\"x\",\"y\":\"HourlyRate\",\"yref\":\"y\"},{\"font\":{\"color\":\"black\"},\"showarrow\":false,\"text\":\"-0.01\",\"x\":\"JobSatisfaction\",\"xref\":\"x\",\"y\":\"HourlyRate\",\"yref\":\"y\"},{\"font\":{\"color\":\"black\"},\"showarrow\":false,\"text\":\"-0.02\",\"x\":\"MaritalStatus\",\"xref\":\"x\",\"y\":\"HourlyRate\",\"yref\":\"y\"},{\"font\":{\"color\":\"black\"},\"showarrow\":false,\"text\":\"-0.02\",\"x\":\"MonthlyIncome\",\"xref\":\"x\",\"y\":\"HourlyRate\",\"yref\":\"y\"},{\"font\":{\"color\":\"black\"},\"showarrow\":false,\"text\":\"-0.02\",\"x\":\"MonthlyRate\",\"xref\":\"x\",\"y\":\"HourlyRate\",\"yref\":\"y\"},{\"font\":{\"color\":\"black\"},\"showarrow\":false,\"text\":\"0.02\",\"x\":\"NumCompaniesWorked\",\"xref\":\"x\",\"y\":\"HourlyRate\",\"yref\":\"y\"},{\"font\":{\"color\":\"black\"},\"showarrow\":false,\"text\":\"-0.01\",\"x\":\"OverTime\",\"xref\":\"x\",\"y\":\"HourlyRate\",\"yref\":\"y\"},{\"font\":{\"color\":\"black\"},\"showarrow\":false,\"text\":\"-0.01\",\"x\":\"PercentSalaryHike\",\"xref\":\"x\",\"y\":\"HourlyRate\",\"yref\":\"y\"},{\"font\":{\"color\":\"black\"},\"showarrow\":false,\"text\":\"-0.0\",\"x\":\"PerformanceRating\",\"xref\":\"x\",\"y\":\"HourlyRate\",\"yref\":\"y\"},{\"font\":{\"color\":\"black\"},\"showarrow\":false,\"text\":\"0.0\",\"x\":\"RelationshipSatisfaction\",\"xref\":\"x\",\"y\":\"HourlyRate\",\"yref\":\"y\"},{\"font\":{\"color\":\"black\"},\"showarrow\":false,\"text\":\"0.05\",\"x\":\"StockOptionLevel\",\"xref\":\"x\",\"y\":\"HourlyRate\",\"yref\":\"y\"},{\"font\":{\"color\":\"black\"},\"showarrow\":false,\"text\":\"-0.0\",\"x\":\"TotalWorkingYears\",\"xref\":\"x\",\"y\":\"HourlyRate\",\"yref\":\"y\"},{\"font\":{\"color\":\"black\"},\"showarrow\":false,\"text\":\"-0.01\",\"x\":\"TrainingTimesLastYear\",\"xref\":\"x\",\"y\":\"HourlyRate\",\"yref\":\"y\"},{\"font\":{\"color\":\"black\"},\"showarrow\":false,\"text\":\"-0.0\",\"x\":\"WorkLifeBalance\",\"xref\":\"x\",\"y\":\"HourlyRate\",\"yref\":\"y\"},{\"font\":{\"color\":\"black\"},\"showarrow\":false,\"text\":\"-0.02\",\"x\":\"YearsAtCompany\",\"xref\":\"x\",\"y\":\"HourlyRate\",\"yref\":\"y\"},{\"font\":{\"color\":\"black\"},\"showarrow\":false,\"text\":\"-0.02\",\"x\":\"YearsInCurrentRole\",\"xref\":\"x\",\"y\":\"HourlyRate\",\"yref\":\"y\"},{\"font\":{\"color\":\"black\"},\"showarrow\":false,\"text\":\"-0.03\",\"x\":\"YearsSinceLastPromotion\",\"xref\":\"x\",\"y\":\"HourlyRate\",\"yref\":\"y\"},{\"font\":{\"color\":\"black\"},\"showarrow\":false,\"text\":\"-0.02\",\"x\":\"YearsWithCurrManager\",\"xref\":\"x\",\"y\":\"HourlyRate\",\"yref\":\"y\"},{\"font\":{\"color\":\"black\"},\"showarrow\":false,\"text\":\"0.03\",\"x\":\"Age\",\"xref\":\"x\",\"y\":\"JobInvolvement\",\"yref\":\"y\"},{\"font\":{\"color\":\"black\"},\"showarrow\":false,\"text\":\"-0.13\",\"x\":\"Attrition\",\"xref\":\"x\",\"y\":\"JobInvolvement\",\"yref\":\"y\"},{\"font\":{\"color\":\"black\"},\"showarrow\":false,\"text\":\"0.04\",\"x\":\"BusinessTravel\",\"xref\":\"x\",\"y\":\"JobInvolvement\",\"yref\":\"y\"},{\"font\":{\"color\":\"black\"},\"showarrow\":false,\"text\":\"0.05\",\"x\":\"DailyRate\",\"xref\":\"x\",\"y\":\"JobInvolvement\",\"yref\":\"y\"},{\"font\":{\"color\":\"black\"},\"showarrow\":false,\"text\":\"-0.02\",\"x\":\"Department\",\"xref\":\"x\",\"y\":\"JobInvolvement\",\"yref\":\"y\"},{\"font\":{\"color\":\"black\"},\"showarrow\":false,\"text\":\"0.01\",\"x\":\"DistanceFromHome\",\"xref\":\"x\",\"y\":\"JobInvolvement\",\"yref\":\"y\"},{\"font\":{\"color\":\"black\"},\"showarrow\":false,\"text\":\"0.04\",\"x\":\"Education\",\"xref\":\"x\",\"y\":\"JobInvolvement\",\"yref\":\"y\"},{\"font\":{\"color\":\"black\"},\"showarrow\":false,\"text\":\"-0.0\",\"x\":\"EducationField\",\"xref\":\"x\",\"y\":\"JobInvolvement\",\"yref\":\"y\"},{\"font\":{\"color\":\"black\"},\"showarrow\":false,\"text\":\"-0.01\",\"x\":\"EnvironmentSatisfaction\",\"xref\":\"x\",\"y\":\"JobInvolvement\",\"yref\":\"y\"},{\"font\":{\"color\":\"black\"},\"showarrow\":false,\"text\":\"0.02\",\"x\":\"Gender\",\"xref\":\"x\",\"y\":\"JobInvolvement\",\"yref\":\"y\"},{\"font\":{\"color\":\"black\"},\"showarrow\":false,\"text\":\"0.04\",\"x\":\"HourlyRate\",\"xref\":\"x\",\"y\":\"JobInvolvement\",\"yref\":\"y\"},{\"font\":{\"color\":\"white\"},\"showarrow\":false,\"text\":\"1.0\",\"x\":\"JobInvolvement\",\"xref\":\"x\",\"y\":\"JobInvolvement\",\"yref\":\"y\"},{\"font\":{\"color\":\"black\"},\"showarrow\":false,\"text\":\"-0.01\",\"x\":\"JobLevel\",\"xref\":\"x\",\"y\":\"JobInvolvement\",\"yref\":\"y\"},{\"font\":{\"color\":\"black\"},\"showarrow\":false,\"text\":\"0.01\",\"x\":\"JobRole\",\"xref\":\"x\",\"y\":\"JobInvolvement\",\"yref\":\"y\"},{\"font\":{\"color\":\"black\"},\"showarrow\":false,\"text\":\"-0.01\",\"x\":\"JobSatisfaction\",\"xref\":\"x\",\"y\":\"JobInvolvement\",\"yref\":\"y\"},{\"font\":{\"color\":\"black\"},\"showarrow\":false,\"text\":\"-0.04\",\"x\":\"MaritalStatus\",\"xref\":\"x\",\"y\":\"JobInvolvement\",\"yref\":\"y\"},{\"font\":{\"color\":\"black\"},\"showarrow\":false,\"text\":\"-0.02\",\"x\":\"MonthlyIncome\",\"xref\":\"x\",\"y\":\"JobInvolvement\",\"yref\":\"y\"},{\"font\":{\"color\":\"black\"},\"showarrow\":false,\"text\":\"-0.02\",\"x\":\"MonthlyRate\",\"xref\":\"x\",\"y\":\"JobInvolvement\",\"yref\":\"y\"},{\"font\":{\"color\":\"black\"},\"showarrow\":false,\"text\":\"0.02\",\"x\":\"NumCompaniesWorked\",\"xref\":\"x\",\"y\":\"JobInvolvement\",\"yref\":\"y\"},{\"font\":{\"color\":\"black\"},\"showarrow\":false,\"text\":\"-0.0\",\"x\":\"OverTime\",\"xref\":\"x\",\"y\":\"JobInvolvement\",\"yref\":\"y\"},{\"font\":{\"color\":\"black\"},\"showarrow\":false,\"text\":\"-0.02\",\"x\":\"PercentSalaryHike\",\"xref\":\"x\",\"y\":\"JobInvolvement\",\"yref\":\"y\"},{\"font\":{\"color\":\"black\"},\"showarrow\":false,\"text\":\"-0.03\",\"x\":\"PerformanceRating\",\"xref\":\"x\",\"y\":\"JobInvolvement\",\"yref\":\"y\"},{\"font\":{\"color\":\"black\"},\"showarrow\":false,\"text\":\"0.03\",\"x\":\"RelationshipSatisfaction\",\"xref\":\"x\",\"y\":\"JobInvolvement\",\"yref\":\"y\"},{\"font\":{\"color\":\"black\"},\"showarrow\":false,\"text\":\"0.02\",\"x\":\"StockOptionLevel\",\"xref\":\"x\",\"y\":\"JobInvolvement\",\"yref\":\"y\"},{\"font\":{\"color\":\"black\"},\"showarrow\":false,\"text\":\"-0.01\",\"x\":\"TotalWorkingYears\",\"xref\":\"x\",\"y\":\"JobInvolvement\",\"yref\":\"y\"},{\"font\":{\"color\":\"black\"},\"showarrow\":false,\"text\":\"-0.02\",\"x\":\"TrainingTimesLastYear\",\"xref\":\"x\",\"y\":\"JobInvolvement\",\"yref\":\"y\"},{\"font\":{\"color\":\"black\"},\"showarrow\":false,\"text\":\"-0.01\",\"x\":\"WorkLifeBalance\",\"xref\":\"x\",\"y\":\"JobInvolvement\",\"yref\":\"y\"},{\"font\":{\"color\":\"black\"},\"showarrow\":false,\"text\":\"-0.02\",\"x\":\"YearsAtCompany\",\"xref\":\"x\",\"y\":\"JobInvolvement\",\"yref\":\"y\"},{\"font\":{\"color\":\"black\"},\"showarrow\":false,\"text\":\"0.01\",\"x\":\"YearsInCurrentRole\",\"xref\":\"x\",\"y\":\"JobInvolvement\",\"yref\":\"y\"},{\"font\":{\"color\":\"black\"},\"showarrow\":false,\"text\":\"-0.02\",\"x\":\"YearsSinceLastPromotion\",\"xref\":\"x\",\"y\":\"JobInvolvement\",\"yref\":\"y\"},{\"font\":{\"color\":\"black\"},\"showarrow\":false,\"text\":\"0.03\",\"x\":\"YearsWithCurrManager\",\"xref\":\"x\",\"y\":\"JobInvolvement\",\"yref\":\"y\"},{\"font\":{\"color\":\"white\"},\"showarrow\":false,\"text\":\"0.51\",\"x\":\"Age\",\"xref\":\"x\",\"y\":\"JobLevel\",\"yref\":\"y\"},{\"font\":{\"color\":\"black\"},\"showarrow\":false,\"text\":\"-0.17\",\"x\":\"Attrition\",\"xref\":\"x\",\"y\":\"JobLevel\",\"yref\":\"y\"},{\"font\":{\"color\":\"black\"},\"showarrow\":false,\"text\":\"0.02\",\"x\":\"BusinessTravel\",\"xref\":\"x\",\"y\":\"JobLevel\",\"yref\":\"y\"},{\"font\":{\"color\":\"black\"},\"showarrow\":false,\"text\":\"0.0\",\"x\":\"DailyRate\",\"xref\":\"x\",\"y\":\"JobLevel\",\"yref\":\"y\"},{\"font\":{\"color\":\"black\"},\"showarrow\":false,\"text\":\"0.1\",\"x\":\"Department\",\"xref\":\"x\",\"y\":\"JobLevel\",\"yref\":\"y\"},{\"font\":{\"color\":\"black\"},\"showarrow\":false,\"text\":\"0.01\",\"x\":\"DistanceFromHome\",\"xref\":\"x\",\"y\":\"JobLevel\",\"yref\":\"y\"},{\"font\":{\"color\":\"black\"},\"showarrow\":false,\"text\":\"0.1\",\"x\":\"Education\",\"xref\":\"x\",\"y\":\"JobLevel\",\"yref\":\"y\"},{\"font\":{\"color\":\"black\"},\"showarrow\":false,\"text\":\"-0.04\",\"x\":\"EducationField\",\"xref\":\"x\",\"y\":\"JobLevel\",\"yref\":\"y\"},{\"font\":{\"color\":\"black\"},\"showarrow\":false,\"text\":\"0.0\",\"x\":\"EnvironmentSatisfaction\",\"xref\":\"x\",\"y\":\"JobLevel\",\"yref\":\"y\"},{\"font\":{\"color\":\"black\"},\"showarrow\":false,\"text\":\"-0.04\",\"x\":\"Gender\",\"xref\":\"x\",\"y\":\"JobLevel\",\"yref\":\"y\"},{\"font\":{\"color\":\"black\"},\"showarrow\":false,\"text\":\"-0.03\",\"x\":\"HourlyRate\",\"xref\":\"x\",\"y\":\"JobLevel\",\"yref\":\"y\"},{\"font\":{\"color\":\"black\"},\"showarrow\":false,\"text\":\"-0.01\",\"x\":\"JobInvolvement\",\"xref\":\"x\",\"y\":\"JobLevel\",\"yref\":\"y\"},{\"font\":{\"color\":\"white\"},\"showarrow\":false,\"text\":\"1.0\",\"x\":\"JobLevel\",\"xref\":\"x\",\"y\":\"JobLevel\",\"yref\":\"y\"},{\"font\":{\"color\":\"black\"},\"showarrow\":false,\"text\":\"-0.09\",\"x\":\"JobRole\",\"xref\":\"x\",\"y\":\"JobLevel\",\"yref\":\"y\"},{\"font\":{\"color\":\"black\"},\"showarrow\":false,\"text\":\"-0.01\",\"x\":\"JobSatisfaction\",\"xref\":\"x\",\"y\":\"JobLevel\",\"yref\":\"y\"},{\"font\":{\"color\":\"black\"},\"showarrow\":false,\"text\":\"-0.08\",\"x\":\"MaritalStatus\",\"xref\":\"x\",\"y\":\"JobLevel\",\"yref\":\"y\"},{\"font\":{\"color\":\"white\"},\"showarrow\":false,\"text\":\"0.95\",\"x\":\"MonthlyIncome\",\"xref\":\"x\",\"y\":\"JobLevel\",\"yref\":\"y\"},{\"font\":{\"color\":\"black\"},\"showarrow\":false,\"text\":\"0.04\",\"x\":\"MonthlyRate\",\"xref\":\"x\",\"y\":\"JobLevel\",\"yref\":\"y\"},{\"font\":{\"color\":\"black\"},\"showarrow\":false,\"text\":\"0.14\",\"x\":\"NumCompaniesWorked\",\"xref\":\"x\",\"y\":\"JobLevel\",\"yref\":\"y\"},{\"font\":{\"color\":\"black\"},\"showarrow\":false,\"text\":\"0.0\",\"x\":\"OverTime\",\"xref\":\"x\",\"y\":\"JobLevel\",\"yref\":\"y\"},{\"font\":{\"color\":\"black\"},\"showarrow\":false,\"text\":\"-0.03\",\"x\":\"PercentSalaryHike\",\"xref\":\"x\",\"y\":\"JobLevel\",\"yref\":\"y\"},{\"font\":{\"color\":\"black\"},\"showarrow\":false,\"text\":\"-0.02\",\"x\":\"PerformanceRating\",\"xref\":\"x\",\"y\":\"JobLevel\",\"yref\":\"y\"},{\"font\":{\"color\":\"black\"},\"showarrow\":false,\"text\":\"0.02\",\"x\":\"RelationshipSatisfaction\",\"xref\":\"x\",\"y\":\"JobLevel\",\"yref\":\"y\"},{\"font\":{\"color\":\"black\"},\"showarrow\":false,\"text\":\"0.01\",\"x\":\"StockOptionLevel\",\"xref\":\"x\",\"y\":\"JobLevel\",\"yref\":\"y\"},{\"font\":{\"color\":\"white\"},\"showarrow\":false,\"text\":\"0.78\",\"x\":\"TotalWorkingYears\",\"xref\":\"x\",\"y\":\"JobLevel\",\"yref\":\"y\"},{\"font\":{\"color\":\"black\"},\"showarrow\":false,\"text\":\"-0.02\",\"x\":\"TrainingTimesLastYear\",\"xref\":\"x\",\"y\":\"JobLevel\",\"yref\":\"y\"},{\"font\":{\"color\":\"black\"},\"showarrow\":false,\"text\":\"0.04\",\"x\":\"WorkLifeBalance\",\"xref\":\"x\",\"y\":\"JobLevel\",\"yref\":\"y\"},{\"font\":{\"color\":\"white\"},\"showarrow\":false,\"text\":\"0.53\",\"x\":\"YearsAtCompany\",\"xref\":\"x\",\"y\":\"JobLevel\",\"yref\":\"y\"},{\"font\":{\"color\":\"black\"},\"showarrow\":false,\"text\":\"0.39\",\"x\":\"YearsInCurrentRole\",\"xref\":\"x\",\"y\":\"JobLevel\",\"yref\":\"y\"},{\"font\":{\"color\":\"black\"},\"showarrow\":false,\"text\":\"0.35\",\"x\":\"YearsSinceLastPromotion\",\"xref\":\"x\",\"y\":\"JobLevel\",\"yref\":\"y\"},{\"font\":{\"color\":\"black\"},\"showarrow\":false,\"text\":\"0.38\",\"x\":\"YearsWithCurrManager\",\"xref\":\"x\",\"y\":\"JobLevel\",\"yref\":\"y\"},{\"font\":{\"color\":\"black\"},\"showarrow\":false,\"text\":\"-0.12\",\"x\":\"Age\",\"xref\":\"x\",\"y\":\"JobRole\",\"yref\":\"y\"},{\"font\":{\"color\":\"black\"},\"showarrow\":false,\"text\":\"0.07\",\"x\":\"Attrition\",\"xref\":\"x\",\"y\":\"JobRole\",\"yref\":\"y\"},{\"font\":{\"color\":\"black\"},\"showarrow\":false,\"text\":\"0.0\",\"x\":\"BusinessTravel\",\"xref\":\"x\",\"y\":\"JobRole\",\"yref\":\"y\"},{\"font\":{\"color\":\"black\"},\"showarrow\":false,\"text\":\"-0.01\",\"x\":\"DailyRate\",\"xref\":\"x\",\"y\":\"JobRole\",\"yref\":\"y\"},{\"font\":{\"color\":\"white\"},\"showarrow\":false,\"text\":\"0.66\",\"x\":\"Department\",\"xref\":\"x\",\"y\":\"JobRole\",\"yref\":\"y\"},{\"font\":{\"color\":\"black\"},\"showarrow\":false,\"text\":\"-0.0\",\"x\":\"DistanceFromHome\",\"xref\":\"x\",\"y\":\"JobRole\",\"yref\":\"y\"},{\"font\":{\"color\":\"black\"},\"showarrow\":false,\"text\":\"0.0\",\"x\":\"Education\",\"xref\":\"x\",\"y\":\"JobRole\",\"yref\":\"y\"},{\"font\":{\"color\":\"black\"},\"showarrow\":false,\"text\":\"0.02\",\"x\":\"EducationField\",\"xref\":\"x\",\"y\":\"JobRole\",\"yref\":\"y\"},{\"font\":{\"color\":\"black\"},\"showarrow\":false,\"text\":\"-0.02\",\"x\":\"EnvironmentSatisfaction\",\"xref\":\"x\",\"y\":\"JobRole\",\"yref\":\"y\"},{\"font\":{\"color\":\"black\"},\"showarrow\":false,\"text\":\"-0.04\",\"x\":\"Gender\",\"xref\":\"x\",\"y\":\"JobRole\",\"yref\":\"y\"},{\"font\":{\"color\":\"black\"},\"showarrow\":false,\"text\":\"-0.02\",\"x\":\"HourlyRate\",\"xref\":\"x\",\"y\":\"JobRole\",\"yref\":\"y\"},{\"font\":{\"color\":\"black\"},\"showarrow\":false,\"text\":\"0.01\",\"x\":\"JobInvolvement\",\"xref\":\"x\",\"y\":\"JobRole\",\"yref\":\"y\"},{\"font\":{\"color\":\"black\"},\"showarrow\":false,\"text\":\"-0.09\",\"x\":\"JobLevel\",\"xref\":\"x\",\"y\":\"JobRole\",\"yref\":\"y\"},{\"font\":{\"color\":\"white\"},\"showarrow\":false,\"text\":\"1.0\",\"x\":\"JobRole\",\"xref\":\"x\",\"y\":\"JobRole\",\"yref\":\"y\"},{\"font\":{\"color\":\"black\"},\"showarrow\":false,\"text\":\"0.01\",\"x\":\"JobSatisfaction\",\"xref\":\"x\",\"y\":\"JobRole\",\"yref\":\"y\"},{\"font\":{\"color\":\"black\"},\"showarrow\":false,\"text\":\"0.07\",\"x\":\"MaritalStatus\",\"xref\":\"x\",\"y\":\"JobRole\",\"yref\":\"y\"},{\"font\":{\"color\":\"black\"},\"showarrow\":false,\"text\":\"-0.09\",\"x\":\"MonthlyIncome\",\"xref\":\"x\",\"y\":\"JobRole\",\"yref\":\"y\"},{\"font\":{\"color\":\"black\"},\"showarrow\":false,\"text\":\"0.01\",\"x\":\"MonthlyRate\",\"xref\":\"x\",\"y\":\"JobRole\",\"yref\":\"y\"},{\"font\":{\"color\":\"black\"},\"showarrow\":false,\"text\":\"-0.06\",\"x\":\"NumCompaniesWorked\",\"xref\":\"x\",\"y\":\"JobRole\",\"yref\":\"y\"},{\"font\":{\"color\":\"black\"},\"showarrow\":false,\"text\":\"0.04\",\"x\":\"OverTime\",\"xref\":\"x\",\"y\":\"JobRole\",\"yref\":\"y\"},{\"font\":{\"color\":\"black\"},\"showarrow\":false,\"text\":\"-0.0\",\"x\":\"PercentSalaryHike\",\"xref\":\"x\",\"y\":\"JobRole\",\"yref\":\"y\"},{\"font\":{\"color\":\"black\"},\"showarrow\":false,\"text\":\"-0.02\",\"x\":\"PerformanceRating\",\"xref\":\"x\",\"y\":\"JobRole\",\"yref\":\"y\"},{\"font\":{\"color\":\"black\"},\"showarrow\":false,\"text\":\"-0.02\",\"x\":\"RelationshipSatisfaction\",\"xref\":\"x\",\"y\":\"JobRole\",\"yref\":\"y\"},{\"font\":{\"color\":\"black\"},\"showarrow\":false,\"text\":\"-0.02\",\"x\":\"StockOptionLevel\",\"xref\":\"x\",\"y\":\"JobRole\",\"yref\":\"y\"},{\"font\":{\"color\":\"black\"},\"showarrow\":false,\"text\":\"-0.15\",\"x\":\"TotalWorkingYears\",\"xref\":\"x\",\"y\":\"JobRole\",\"yref\":\"y\"},{\"font\":{\"color\":\"black\"},\"showarrow\":false,\"text\":\"0.0\",\"x\":\"TrainingTimesLastYear\",\"xref\":\"x\",\"y\":\"JobRole\",\"yref\":\"y\"},{\"font\":{\"color\":\"black\"},\"showarrow\":false,\"text\":\"0.03\",\"x\":\"WorkLifeBalance\",\"xref\":\"x\",\"y\":\"JobRole\",\"yref\":\"y\"},{\"font\":{\"color\":\"black\"},\"showarrow\":false,\"text\":\"-0.08\",\"x\":\"YearsAtCompany\",\"xref\":\"x\",\"y\":\"JobRole\",\"yref\":\"y\"},{\"font\":{\"color\":\"black\"},\"showarrow\":false,\"text\":\"-0.03\",\"x\":\"YearsInCurrentRole\",\"xref\":\"x\",\"y\":\"JobRole\",\"yref\":\"y\"},{\"font\":{\"color\":\"black\"},\"showarrow\":false,\"text\":\"-0.05\",\"x\":\"YearsSinceLastPromotion\",\"xref\":\"x\",\"y\":\"JobRole\",\"yref\":\"y\"},{\"font\":{\"color\":\"black\"},\"showarrow\":false,\"text\":\"-0.04\",\"x\":\"YearsWithCurrManager\",\"xref\":\"x\",\"y\":\"JobRole\",\"yref\":\"y\"},{\"font\":{\"color\":\"black\"},\"showarrow\":false,\"text\":\"-0.01\",\"x\":\"Age\",\"xref\":\"x\",\"y\":\"JobSatisfaction\",\"yref\":\"y\"},{\"font\":{\"color\":\"black\"},\"showarrow\":false,\"text\":\"-0.07\",\"x\":\"Attrition\",\"xref\":\"x\",\"y\":\"JobSatisfaction\",\"yref\":\"y\"},{\"font\":{\"color\":\"black\"},\"showarrow\":false,\"text\":\"0.02\",\"x\":\"BusinessTravel\",\"xref\":\"x\",\"y\":\"JobSatisfaction\",\"yref\":\"y\"},{\"font\":{\"color\":\"black\"},\"showarrow\":false,\"text\":\"-0.03\",\"x\":\"DailyRate\",\"xref\":\"x\",\"y\":\"JobSatisfaction\",\"yref\":\"y\"},{\"font\":{\"color\":\"black\"},\"showarrow\":false,\"text\":\"0.02\",\"x\":\"Department\",\"xref\":\"x\",\"y\":\"JobSatisfaction\",\"yref\":\"y\"},{\"font\":{\"color\":\"black\"},\"showarrow\":false,\"text\":\"-0.02\",\"x\":\"DistanceFromHome\",\"xref\":\"x\",\"y\":\"JobSatisfaction\",\"yref\":\"y\"},{\"font\":{\"color\":\"black\"},\"showarrow\":false,\"text\":\"-0.01\",\"x\":\"Education\",\"xref\":\"x\",\"y\":\"JobSatisfaction\",\"yref\":\"y\"},{\"font\":{\"color\":\"black\"},\"showarrow\":false,\"text\":\"-0.03\",\"x\":\"EducationField\",\"xref\":\"x\",\"y\":\"JobSatisfaction\",\"yref\":\"y\"},{\"font\":{\"color\":\"black\"},\"showarrow\":false,\"text\":\"0.04\",\"x\":\"EnvironmentSatisfaction\",\"xref\":\"x\",\"y\":\"JobSatisfaction\",\"yref\":\"y\"},{\"font\":{\"color\":\"black\"},\"showarrow\":false,\"text\":\"0.03\",\"x\":\"Gender\",\"xref\":\"x\",\"y\":\"JobSatisfaction\",\"yref\":\"y\"},{\"font\":{\"color\":\"black\"},\"showarrow\":false,\"text\":\"-0.01\",\"x\":\"HourlyRate\",\"xref\":\"x\",\"y\":\"JobSatisfaction\",\"yref\":\"y\"},{\"font\":{\"color\":\"black\"},\"showarrow\":false,\"text\":\"-0.01\",\"x\":\"JobInvolvement\",\"xref\":\"x\",\"y\":\"JobSatisfaction\",\"yref\":\"y\"},{\"font\":{\"color\":\"black\"},\"showarrow\":false,\"text\":\"-0.01\",\"x\":\"JobLevel\",\"xref\":\"x\",\"y\":\"JobSatisfaction\",\"yref\":\"y\"},{\"font\":{\"color\":\"black\"},\"showarrow\":false,\"text\":\"0.01\",\"x\":\"JobRole\",\"xref\":\"x\",\"y\":\"JobSatisfaction\",\"yref\":\"y\"},{\"font\":{\"color\":\"white\"},\"showarrow\":false,\"text\":\"1.0\",\"x\":\"JobSatisfaction\",\"xref\":\"x\",\"y\":\"JobSatisfaction\",\"yref\":\"y\"},{\"font\":{\"color\":\"black\"},\"showarrow\":false,\"text\":\"0.02\",\"x\":\"MaritalStatus\",\"xref\":\"x\",\"y\":\"JobSatisfaction\",\"yref\":\"y\"},{\"font\":{\"color\":\"black\"},\"showarrow\":false,\"text\":\"-0.0\",\"x\":\"MonthlyIncome\",\"xref\":\"x\",\"y\":\"JobSatisfaction\",\"yref\":\"y\"},{\"font\":{\"color\":\"black\"},\"showarrow\":false,\"text\":\"-0.02\",\"x\":\"MonthlyRate\",\"xref\":\"x\",\"y\":\"JobSatisfaction\",\"yref\":\"y\"},{\"font\":{\"color\":\"black\"},\"showarrow\":false,\"text\":\"-0.02\",\"x\":\"NumCompaniesWorked\",\"xref\":\"x\",\"y\":\"JobSatisfaction\",\"yref\":\"y\"},{\"font\":{\"color\":\"black\"},\"showarrow\":false,\"text\":\"0.02\",\"x\":\"OverTime\",\"xref\":\"x\",\"y\":\"JobSatisfaction\",\"yref\":\"y\"},{\"font\":{\"color\":\"black\"},\"showarrow\":false,\"text\":\"0.04\",\"x\":\"PercentSalaryHike\",\"xref\":\"x\",\"y\":\"JobSatisfaction\",\"yref\":\"y\"},{\"font\":{\"color\":\"black\"},\"showarrow\":false,\"text\":\"0.04\",\"x\":\"PerformanceRating\",\"xref\":\"x\",\"y\":\"JobSatisfaction\",\"yref\":\"y\"},{\"font\":{\"color\":\"black\"},\"showarrow\":false,\"text\":\"0.0\",\"x\":\"RelationshipSatisfaction\",\"xref\":\"x\",\"y\":\"JobSatisfaction\",\"yref\":\"y\"},{\"font\":{\"color\":\"black\"},\"showarrow\":false,\"text\":\"0.03\",\"x\":\"StockOptionLevel\",\"xref\":\"x\",\"y\":\"JobSatisfaction\",\"yref\":\"y\"},{\"font\":{\"color\":\"black\"},\"showarrow\":false,\"text\":\"0.0\",\"x\":\"TotalWorkingYears\",\"xref\":\"x\",\"y\":\"JobSatisfaction\",\"yref\":\"y\"},{\"font\":{\"color\":\"black\"},\"showarrow\":false,\"text\":\"0.02\",\"x\":\"TrainingTimesLastYear\",\"xref\":\"x\",\"y\":\"JobSatisfaction\",\"yref\":\"y\"},{\"font\":{\"color\":\"black\"},\"showarrow\":false,\"text\":\"-0.03\",\"x\":\"WorkLifeBalance\",\"xref\":\"x\",\"y\":\"JobSatisfaction\",\"yref\":\"y\"},{\"font\":{\"color\":\"black\"},\"showarrow\":false,\"text\":\"-0.0\",\"x\":\"YearsAtCompany\",\"xref\":\"x\",\"y\":\"JobSatisfaction\",\"yref\":\"y\"},{\"font\":{\"color\":\"black\"},\"showarrow\":false,\"text\":\"-0.01\",\"x\":\"YearsInCurrentRole\",\"xref\":\"x\",\"y\":\"JobSatisfaction\",\"yref\":\"y\"},{\"font\":{\"color\":\"black\"},\"showarrow\":false,\"text\":\"-0.0\",\"x\":\"YearsSinceLastPromotion\",\"xref\":\"x\",\"y\":\"JobSatisfaction\",\"yref\":\"y\"},{\"font\":{\"color\":\"black\"},\"showarrow\":false,\"text\":\"-0.0\",\"x\":\"YearsWithCurrManager\",\"xref\":\"x\",\"y\":\"JobSatisfaction\",\"yref\":\"y\"},{\"font\":{\"color\":\"black\"},\"showarrow\":false,\"text\":\"-0.1\",\"x\":\"Age\",\"xref\":\"x\",\"y\":\"MaritalStatus\",\"yref\":\"y\"},{\"font\":{\"color\":\"black\"},\"showarrow\":false,\"text\":\"0.16\",\"x\":\"Attrition\",\"xref\":\"x\",\"y\":\"MaritalStatus\",\"yref\":\"y\"},{\"font\":{\"color\":\"black\"},\"showarrow\":false,\"text\":\"0.02\",\"x\":\"BusinessTravel\",\"xref\":\"x\",\"y\":\"MaritalStatus\",\"yref\":\"y\"},{\"font\":{\"color\":\"black\"},\"showarrow\":false,\"text\":\"-0.07\",\"x\":\"DailyRate\",\"xref\":\"x\",\"y\":\"MaritalStatus\",\"yref\":\"y\"},{\"font\":{\"color\":\"black\"},\"showarrow\":false,\"text\":\"0.06\",\"x\":\"Department\",\"xref\":\"x\",\"y\":\"MaritalStatus\",\"yref\":\"y\"},{\"font\":{\"color\":\"black\"},\"showarrow\":false,\"text\":\"-0.01\",\"x\":\"DistanceFromHome\",\"xref\":\"x\",\"y\":\"MaritalStatus\",\"yref\":\"y\"},{\"font\":{\"color\":\"black\"},\"showarrow\":false,\"text\":\"0.0\",\"x\":\"Education\",\"xref\":\"x\",\"y\":\"MaritalStatus\",\"yref\":\"y\"},{\"font\":{\"color\":\"black\"},\"showarrow\":false,\"text\":\"0.01\",\"x\":\"EducationField\",\"xref\":\"x\",\"y\":\"MaritalStatus\",\"yref\":\"y\"},{\"font\":{\"color\":\"black\"},\"showarrow\":false,\"text\":\"-0.0\",\"x\":\"EnvironmentSatisfaction\",\"xref\":\"x\",\"y\":\"MaritalStatus\",\"yref\":\"y\"},{\"font\":{\"color\":\"black\"},\"showarrow\":false,\"text\":\"-0.05\",\"x\":\"Gender\",\"xref\":\"x\",\"y\":\"MaritalStatus\",\"yref\":\"y\"},{\"font\":{\"color\":\"black\"},\"showarrow\":false,\"text\":\"-0.02\",\"x\":\"HourlyRate\",\"xref\":\"x\",\"y\":\"MaritalStatus\",\"yref\":\"y\"},{\"font\":{\"color\":\"black\"},\"showarrow\":false,\"text\":\"-0.04\",\"x\":\"JobInvolvement\",\"xref\":\"x\",\"y\":\"MaritalStatus\",\"yref\":\"y\"},{\"font\":{\"color\":\"black\"},\"showarrow\":false,\"text\":\"-0.08\",\"x\":\"JobLevel\",\"xref\":\"x\",\"y\":\"MaritalStatus\",\"yref\":\"y\"},{\"font\":{\"color\":\"black\"},\"showarrow\":false,\"text\":\"0.07\",\"x\":\"JobRole\",\"xref\":\"x\",\"y\":\"MaritalStatus\",\"yref\":\"y\"},{\"font\":{\"color\":\"black\"},\"showarrow\":false,\"text\":\"0.02\",\"x\":\"JobSatisfaction\",\"xref\":\"x\",\"y\":\"MaritalStatus\",\"yref\":\"y\"},{\"font\":{\"color\":\"white\"},\"showarrow\":false,\"text\":\"1.0\",\"x\":\"MaritalStatus\",\"xref\":\"x\",\"y\":\"MaritalStatus\",\"yref\":\"y\"},{\"font\":{\"color\":\"black\"},\"showarrow\":false,\"text\":\"-0.08\",\"x\":\"MonthlyIncome\",\"xref\":\"x\",\"y\":\"MaritalStatus\",\"yref\":\"y\"},{\"font\":{\"color\":\"black\"},\"showarrow\":false,\"text\":\"0.02\",\"x\":\"MonthlyRate\",\"xref\":\"x\",\"y\":\"MaritalStatus\",\"yref\":\"y\"},{\"font\":{\"color\":\"black\"},\"showarrow\":false,\"text\":\"-0.04\",\"x\":\"NumCompaniesWorked\",\"xref\":\"x\",\"y\":\"MaritalStatus\",\"yref\":\"y\"},{\"font\":{\"color\":\"black\"},\"showarrow\":false,\"text\":\"-0.02\",\"x\":\"OverTime\",\"xref\":\"x\",\"y\":\"MaritalStatus\",\"yref\":\"y\"},{\"font\":{\"color\":\"black\"},\"showarrow\":false,\"text\":\"0.01\",\"x\":\"PercentSalaryHike\",\"xref\":\"x\",\"y\":\"MaritalStatus\",\"yref\":\"y\"},{\"font\":{\"color\":\"black\"},\"showarrow\":false,\"text\":\"0.01\",\"x\":\"PerformanceRating\",\"xref\":\"x\",\"y\":\"MaritalStatus\",\"yref\":\"y\"},{\"font\":{\"color\":\"black\"},\"showarrow\":false,\"text\":\"0.02\",\"x\":\"RelationshipSatisfaction\",\"xref\":\"x\",\"y\":\"MaritalStatus\",\"yref\":\"y\"},{\"font\":{\"color\":\"white\"},\"showarrow\":false,\"text\":\"-0.66\",\"x\":\"StockOptionLevel\",\"xref\":\"x\",\"y\":\"MaritalStatus\",\"yref\":\"y\"},{\"font\":{\"color\":\"black\"},\"showarrow\":false,\"text\":\"-0.08\",\"x\":\"TotalWorkingYears\",\"xref\":\"x\",\"y\":\"MaritalStatus\",\"yref\":\"y\"},{\"font\":{\"color\":\"black\"},\"showarrow\":false,\"text\":\"0.01\",\"x\":\"TrainingTimesLastYear\",\"xref\":\"x\",\"y\":\"MaritalStatus\",\"yref\":\"y\"},{\"font\":{\"color\":\"black\"},\"showarrow\":false,\"text\":\"0.01\",\"x\":\"WorkLifeBalance\",\"xref\":\"x\",\"y\":\"MaritalStatus\",\"yref\":\"y\"},{\"font\":{\"color\":\"black\"},\"showarrow\":false,\"text\":\"-0.06\",\"x\":\"YearsAtCompany\",\"xref\":\"x\",\"y\":\"MaritalStatus\",\"yref\":\"y\"},{\"font\":{\"color\":\"black\"},\"showarrow\":false,\"text\":\"-0.07\",\"x\":\"YearsInCurrentRole\",\"xref\":\"x\",\"y\":\"MaritalStatus\",\"yref\":\"y\"},{\"font\":{\"color\":\"black\"},\"showarrow\":false,\"text\":\"-0.03\",\"x\":\"YearsSinceLastPromotion\",\"xref\":\"x\",\"y\":\"MaritalStatus\",\"yref\":\"y\"},{\"font\":{\"color\":\"black\"},\"showarrow\":false,\"text\":\"-0.04\",\"x\":\"YearsWithCurrManager\",\"xref\":\"x\",\"y\":\"MaritalStatus\",\"yref\":\"y\"},{\"font\":{\"color\":\"black\"},\"showarrow\":false,\"text\":\"0.5\",\"x\":\"Age\",\"xref\":\"x\",\"y\":\"MonthlyIncome\",\"yref\":\"y\"},{\"font\":{\"color\":\"black\"},\"showarrow\":false,\"text\":\"-0.16\",\"x\":\"Attrition\",\"xref\":\"x\",\"y\":\"MonthlyIncome\",\"yref\":\"y\"},{\"font\":{\"color\":\"black\"},\"showarrow\":false,\"text\":\"0.03\",\"x\":\"BusinessTravel\",\"xref\":\"x\",\"y\":\"MonthlyIncome\",\"yref\":\"y\"},{\"font\":{\"color\":\"black\"},\"showarrow\":false,\"text\":\"0.01\",\"x\":\"DailyRate\",\"xref\":\"x\",\"y\":\"MonthlyIncome\",\"yref\":\"y\"},{\"font\":{\"color\":\"black\"},\"showarrow\":false,\"text\":\"0.05\",\"x\":\"Department\",\"xref\":\"x\",\"y\":\"MonthlyIncome\",\"yref\":\"y\"},{\"font\":{\"color\":\"black\"},\"showarrow\":false,\"text\":\"-0.02\",\"x\":\"DistanceFromHome\",\"xref\":\"x\",\"y\":\"MonthlyIncome\",\"yref\":\"y\"},{\"font\":{\"color\":\"black\"},\"showarrow\":false,\"text\":\"0.09\",\"x\":\"Education\",\"xref\":\"x\",\"y\":\"MonthlyIncome\",\"yref\":\"y\"},{\"font\":{\"color\":\"black\"},\"showarrow\":false,\"text\":\"-0.04\",\"x\":\"EducationField\",\"xref\":\"x\",\"y\":\"MonthlyIncome\",\"yref\":\"y\"},{\"font\":{\"color\":\"black\"},\"showarrow\":false,\"text\":\"-0.01\",\"x\":\"EnvironmentSatisfaction\",\"xref\":\"x\",\"y\":\"MonthlyIncome\",\"yref\":\"y\"},{\"font\":{\"color\":\"black\"},\"showarrow\":false,\"text\":\"-0.03\",\"x\":\"Gender\",\"xref\":\"x\",\"y\":\"MonthlyIncome\",\"yref\":\"y\"},{\"font\":{\"color\":\"black\"},\"showarrow\":false,\"text\":\"-0.02\",\"x\":\"HourlyRate\",\"xref\":\"x\",\"y\":\"MonthlyIncome\",\"yref\":\"y\"},{\"font\":{\"color\":\"black\"},\"showarrow\":false,\"text\":\"-0.02\",\"x\":\"JobInvolvement\",\"xref\":\"x\",\"y\":\"MonthlyIncome\",\"yref\":\"y\"},{\"font\":{\"color\":\"white\"},\"showarrow\":false,\"text\":\"0.95\",\"x\":\"JobLevel\",\"xref\":\"x\",\"y\":\"MonthlyIncome\",\"yref\":\"y\"},{\"font\":{\"color\":\"black\"},\"showarrow\":false,\"text\":\"-0.09\",\"x\":\"JobRole\",\"xref\":\"x\",\"y\":\"MonthlyIncome\",\"yref\":\"y\"},{\"font\":{\"color\":\"black\"},\"showarrow\":false,\"text\":\"-0.0\",\"x\":\"JobSatisfaction\",\"xref\":\"x\",\"y\":\"MonthlyIncome\",\"yref\":\"y\"},{\"font\":{\"color\":\"black\"},\"showarrow\":false,\"text\":\"-0.08\",\"x\":\"MaritalStatus\",\"xref\":\"x\",\"y\":\"MonthlyIncome\",\"yref\":\"y\"},{\"font\":{\"color\":\"white\"},\"showarrow\":false,\"text\":\"1.0\",\"x\":\"MonthlyIncome\",\"xref\":\"x\",\"y\":\"MonthlyIncome\",\"yref\":\"y\"},{\"font\":{\"color\":\"black\"},\"showarrow\":false,\"text\":\"0.03\",\"x\":\"MonthlyRate\",\"xref\":\"x\",\"y\":\"MonthlyIncome\",\"yref\":\"y\"},{\"font\":{\"color\":\"black\"},\"showarrow\":false,\"text\":\"0.15\",\"x\":\"NumCompaniesWorked\",\"xref\":\"x\",\"y\":\"MonthlyIncome\",\"yref\":\"y\"},{\"font\":{\"color\":\"black\"},\"showarrow\":false,\"text\":\"0.01\",\"x\":\"OverTime\",\"xref\":\"x\",\"y\":\"MonthlyIncome\",\"yref\":\"y\"},{\"font\":{\"color\":\"black\"},\"showarrow\":false,\"text\":\"-0.03\",\"x\":\"PercentSalaryHike\",\"xref\":\"x\",\"y\":\"MonthlyIncome\",\"yref\":\"y\"},{\"font\":{\"color\":\"black\"},\"showarrow\":false,\"text\":\"-0.02\",\"x\":\"PerformanceRating\",\"xref\":\"x\",\"y\":\"MonthlyIncome\",\"yref\":\"y\"},{\"font\":{\"color\":\"black\"},\"showarrow\":false,\"text\":\"0.03\",\"x\":\"RelationshipSatisfaction\",\"xref\":\"x\",\"y\":\"MonthlyIncome\",\"yref\":\"y\"},{\"font\":{\"color\":\"black\"},\"showarrow\":false,\"text\":\"0.01\",\"x\":\"StockOptionLevel\",\"xref\":\"x\",\"y\":\"MonthlyIncome\",\"yref\":\"y\"},{\"font\":{\"color\":\"white\"},\"showarrow\":false,\"text\":\"0.77\",\"x\":\"TotalWorkingYears\",\"xref\":\"x\",\"y\":\"MonthlyIncome\",\"yref\":\"y\"},{\"font\":{\"color\":\"black\"},\"showarrow\":false,\"text\":\"-0.02\",\"x\":\"TrainingTimesLastYear\",\"xref\":\"x\",\"y\":\"MonthlyIncome\",\"yref\":\"y\"},{\"font\":{\"color\":\"black\"},\"showarrow\":false,\"text\":\"0.03\",\"x\":\"WorkLifeBalance\",\"xref\":\"x\",\"y\":\"MonthlyIncome\",\"yref\":\"y\"},{\"font\":{\"color\":\"white\"},\"showarrow\":false,\"text\":\"0.51\",\"x\":\"YearsAtCompany\",\"xref\":\"x\",\"y\":\"MonthlyIncome\",\"yref\":\"y\"},{\"font\":{\"color\":\"black\"},\"showarrow\":false,\"text\":\"0.36\",\"x\":\"YearsInCurrentRole\",\"xref\":\"x\",\"y\":\"MonthlyIncome\",\"yref\":\"y\"},{\"font\":{\"color\":\"black\"},\"showarrow\":false,\"text\":\"0.34\",\"x\":\"YearsSinceLastPromotion\",\"xref\":\"x\",\"y\":\"MonthlyIncome\",\"yref\":\"y\"},{\"font\":{\"color\":\"black\"},\"showarrow\":false,\"text\":\"0.34\",\"x\":\"YearsWithCurrManager\",\"xref\":\"x\",\"y\":\"MonthlyIncome\",\"yref\":\"y\"},{\"font\":{\"color\":\"black\"},\"showarrow\":false,\"text\":\"0.03\",\"x\":\"Age\",\"xref\":\"x\",\"y\":\"MonthlyRate\",\"yref\":\"y\"},{\"font\":{\"color\":\"black\"},\"showarrow\":false,\"text\":\"0.02\",\"x\":\"Attrition\",\"xref\":\"x\",\"y\":\"MonthlyRate\",\"yref\":\"y\"},{\"font\":{\"color\":\"black\"},\"showarrow\":false,\"text\":\"-0.01\",\"x\":\"BusinessTravel\",\"xref\":\"x\",\"y\":\"MonthlyRate\",\"yref\":\"y\"},{\"font\":{\"color\":\"black\"},\"showarrow\":false,\"text\":\"-0.03\",\"x\":\"DailyRate\",\"xref\":\"x\",\"y\":\"MonthlyRate\",\"yref\":\"y\"},{\"font\":{\"color\":\"black\"},\"showarrow\":false,\"text\":\"0.02\",\"x\":\"Department\",\"xref\":\"x\",\"y\":\"MonthlyRate\",\"yref\":\"y\"},{\"font\":{\"color\":\"black\"},\"showarrow\":false,\"text\":\"0.03\",\"x\":\"DistanceFromHome\",\"xref\":\"x\",\"y\":\"MonthlyRate\",\"yref\":\"y\"},{\"font\":{\"color\":\"black\"},\"showarrow\":false,\"text\":\"-0.03\",\"x\":\"Education\",\"xref\":\"x\",\"y\":\"MonthlyRate\",\"yref\":\"y\"},{\"font\":{\"color\":\"black\"},\"showarrow\":false,\"text\":\"-0.03\",\"x\":\"EducationField\",\"xref\":\"x\",\"y\":\"MonthlyRate\",\"yref\":\"y\"},{\"font\":{\"color\":\"black\"},\"showarrow\":false,\"text\":\"0.04\",\"x\":\"EnvironmentSatisfaction\",\"xref\":\"x\",\"y\":\"MonthlyRate\",\"yref\":\"y\"},{\"font\":{\"color\":\"black\"},\"showarrow\":false,\"text\":\"-0.04\",\"x\":\"Gender\",\"xref\":\"x\",\"y\":\"MonthlyRate\",\"yref\":\"y\"},{\"font\":{\"color\":\"black\"},\"showarrow\":false,\"text\":\"-0.02\",\"x\":\"HourlyRate\",\"xref\":\"x\",\"y\":\"MonthlyRate\",\"yref\":\"y\"},{\"font\":{\"color\":\"black\"},\"showarrow\":false,\"text\":\"-0.02\",\"x\":\"JobInvolvement\",\"xref\":\"x\",\"y\":\"MonthlyRate\",\"yref\":\"y\"},{\"font\":{\"color\":\"black\"},\"showarrow\":false,\"text\":\"0.04\",\"x\":\"JobLevel\",\"xref\":\"x\",\"y\":\"MonthlyRate\",\"yref\":\"y\"},{\"font\":{\"color\":\"black\"},\"showarrow\":false,\"text\":\"0.01\",\"x\":\"JobRole\",\"xref\":\"x\",\"y\":\"MonthlyRate\",\"yref\":\"y\"},{\"font\":{\"color\":\"black\"},\"showarrow\":false,\"text\":\"-0.02\",\"x\":\"JobSatisfaction\",\"xref\":\"x\",\"y\":\"MonthlyRate\",\"yref\":\"y\"},{\"font\":{\"color\":\"black\"},\"showarrow\":false,\"text\":\"0.02\",\"x\":\"MaritalStatus\",\"xref\":\"x\",\"y\":\"MonthlyRate\",\"yref\":\"y\"},{\"font\":{\"color\":\"black\"},\"showarrow\":false,\"text\":\"0.03\",\"x\":\"MonthlyIncome\",\"xref\":\"x\",\"y\":\"MonthlyRate\",\"yref\":\"y\"},{\"font\":{\"color\":\"white\"},\"showarrow\":false,\"text\":\"1.0\",\"x\":\"MonthlyRate\",\"xref\":\"x\",\"y\":\"MonthlyRate\",\"yref\":\"y\"},{\"font\":{\"color\":\"black\"},\"showarrow\":false,\"text\":\"0.02\",\"x\":\"NumCompaniesWorked\",\"xref\":\"x\",\"y\":\"MonthlyRate\",\"yref\":\"y\"},{\"font\":{\"color\":\"black\"},\"showarrow\":false,\"text\":\"0.02\",\"x\":\"OverTime\",\"xref\":\"x\",\"y\":\"MonthlyRate\",\"yref\":\"y\"},{\"font\":{\"color\":\"black\"},\"showarrow\":false,\"text\":\"-0.01\",\"x\":\"PercentSalaryHike\",\"xref\":\"x\",\"y\":\"MonthlyRate\",\"yref\":\"y\"},{\"font\":{\"color\":\"black\"},\"showarrow\":false,\"text\":\"-0.01\",\"x\":\"PerformanceRating\",\"xref\":\"x\",\"y\":\"MonthlyRate\",\"yref\":\"y\"},{\"font\":{\"color\":\"black\"},\"showarrow\":false,\"text\":\"-0.0\",\"x\":\"RelationshipSatisfaction\",\"xref\":\"x\",\"y\":\"MonthlyRate\",\"yref\":\"y\"},{\"font\":{\"color\":\"black\"},\"showarrow\":false,\"text\":\"-0.03\",\"x\":\"StockOptionLevel\",\"xref\":\"x\",\"y\":\"MonthlyRate\",\"yref\":\"y\"},{\"font\":{\"color\":\"black\"},\"showarrow\":false,\"text\":\"0.03\",\"x\":\"TotalWorkingYears\",\"xref\":\"x\",\"y\":\"MonthlyRate\",\"yref\":\"y\"},{\"font\":{\"color\":\"black\"},\"showarrow\":false,\"text\":\"0.0\",\"x\":\"TrainingTimesLastYear\",\"xref\":\"x\",\"y\":\"MonthlyRate\",\"yref\":\"y\"},{\"font\":{\"color\":\"black\"},\"showarrow\":false,\"text\":\"0.01\",\"x\":\"WorkLifeBalance\",\"xref\":\"x\",\"y\":\"MonthlyRate\",\"yref\":\"y\"},{\"font\":{\"color\":\"black\"},\"showarrow\":false,\"text\":\"-0.02\",\"x\":\"YearsAtCompany\",\"xref\":\"x\",\"y\":\"MonthlyRate\",\"yref\":\"y\"},{\"font\":{\"color\":\"black\"},\"showarrow\":false,\"text\":\"-0.01\",\"x\":\"YearsInCurrentRole\",\"xref\":\"x\",\"y\":\"MonthlyRate\",\"yref\":\"y\"},{\"font\":{\"color\":\"black\"},\"showarrow\":false,\"text\":\"0.0\",\"x\":\"YearsSinceLastPromotion\",\"xref\":\"x\",\"y\":\"MonthlyRate\",\"yref\":\"y\"},{\"font\":{\"color\":\"black\"},\"showarrow\":false,\"text\":\"-0.04\",\"x\":\"YearsWithCurrManager\",\"xref\":\"x\",\"y\":\"MonthlyRate\",\"yref\":\"y\"},{\"font\":{\"color\":\"black\"},\"showarrow\":false,\"text\":\"0.3\",\"x\":\"Age\",\"xref\":\"x\",\"y\":\"NumCompaniesWorked\",\"yref\":\"y\"},{\"font\":{\"color\":\"black\"},\"showarrow\":false,\"text\":\"0.04\",\"x\":\"Attrition\",\"xref\":\"x\",\"y\":\"NumCompaniesWorked\",\"yref\":\"y\"},{\"font\":{\"color\":\"black\"},\"showarrow\":false,\"text\":\"0.02\",\"x\":\"BusinessTravel\",\"xref\":\"x\",\"y\":\"NumCompaniesWorked\",\"yref\":\"y\"},{\"font\":{\"color\":\"black\"},\"showarrow\":false,\"text\":\"0.04\",\"x\":\"DailyRate\",\"xref\":\"x\",\"y\":\"NumCompaniesWorked\",\"yref\":\"y\"},{\"font\":{\"color\":\"black\"},\"showarrow\":false,\"text\":\"-0.04\",\"x\":\"Department\",\"xref\":\"x\",\"y\":\"NumCompaniesWorked\",\"yref\":\"y\"},{\"font\":{\"color\":\"black\"},\"showarrow\":false,\"text\":\"-0.03\",\"x\":\"DistanceFromHome\",\"xref\":\"x\",\"y\":\"NumCompaniesWorked\",\"yref\":\"y\"},{\"font\":{\"color\":\"black\"},\"showarrow\":false,\"text\":\"0.13\",\"x\":\"Education\",\"xref\":\"x\",\"y\":\"NumCompaniesWorked\",\"yref\":\"y\"},{\"font\":{\"color\":\"black\"},\"showarrow\":false,\"text\":\"-0.01\",\"x\":\"EducationField\",\"xref\":\"x\",\"y\":\"NumCompaniesWorked\",\"yref\":\"y\"},{\"font\":{\"color\":\"black\"},\"showarrow\":false,\"text\":\"0.01\",\"x\":\"EnvironmentSatisfaction\",\"xref\":\"x\",\"y\":\"NumCompaniesWorked\",\"yref\":\"y\"},{\"font\":{\"color\":\"black\"},\"showarrow\":false,\"text\":\"-0.04\",\"x\":\"Gender\",\"xref\":\"x\",\"y\":\"NumCompaniesWorked\",\"yref\":\"y\"},{\"font\":{\"color\":\"black\"},\"showarrow\":false,\"text\":\"0.02\",\"x\":\"HourlyRate\",\"xref\":\"x\",\"y\":\"NumCompaniesWorked\",\"yref\":\"y\"},{\"font\":{\"color\":\"black\"},\"showarrow\":false,\"text\":\"0.02\",\"x\":\"JobInvolvement\",\"xref\":\"x\",\"y\":\"NumCompaniesWorked\",\"yref\":\"y\"},{\"font\":{\"color\":\"black\"},\"showarrow\":false,\"text\":\"0.14\",\"x\":\"JobLevel\",\"xref\":\"x\",\"y\":\"NumCompaniesWorked\",\"yref\":\"y\"},{\"font\":{\"color\":\"black\"},\"showarrow\":false,\"text\":\"-0.06\",\"x\":\"JobRole\",\"xref\":\"x\",\"y\":\"NumCompaniesWorked\",\"yref\":\"y\"},{\"font\":{\"color\":\"black\"},\"showarrow\":false,\"text\":\"-0.02\",\"x\":\"JobSatisfaction\",\"xref\":\"x\",\"y\":\"NumCompaniesWorked\",\"yref\":\"y\"},{\"font\":{\"color\":\"black\"},\"showarrow\":false,\"text\":\"-0.04\",\"x\":\"MaritalStatus\",\"xref\":\"x\",\"y\":\"NumCompaniesWorked\",\"yref\":\"y\"},{\"font\":{\"color\":\"black\"},\"showarrow\":false,\"text\":\"0.15\",\"x\":\"MonthlyIncome\",\"xref\":\"x\",\"y\":\"NumCompaniesWorked\",\"yref\":\"y\"},{\"font\":{\"color\":\"black\"},\"showarrow\":false,\"text\":\"0.02\",\"x\":\"MonthlyRate\",\"xref\":\"x\",\"y\":\"NumCompaniesWorked\",\"yref\":\"y\"},{\"font\":{\"color\":\"white\"},\"showarrow\":false,\"text\":\"1.0\",\"x\":\"NumCompaniesWorked\",\"xref\":\"x\",\"y\":\"NumCompaniesWorked\",\"yref\":\"y\"},{\"font\":{\"color\":\"black\"},\"showarrow\":false,\"text\":\"-0.02\",\"x\":\"OverTime\",\"xref\":\"x\",\"y\":\"NumCompaniesWorked\",\"yref\":\"y\"},{\"font\":{\"color\":\"black\"},\"showarrow\":false,\"text\":\"-0.01\",\"x\":\"PercentSalaryHike\",\"xref\":\"x\",\"y\":\"NumCompaniesWorked\",\"yref\":\"y\"},{\"font\":{\"color\":\"black\"},\"showarrow\":false,\"text\":\"-0.01\",\"x\":\"PerformanceRating\",\"xref\":\"x\",\"y\":\"NumCompaniesWorked\",\"yref\":\"y\"},{\"font\":{\"color\":\"black\"},\"showarrow\":false,\"text\":\"0.05\",\"x\":\"RelationshipSatisfaction\",\"xref\":\"x\",\"y\":\"NumCompaniesWorked\",\"yref\":\"y\"},{\"font\":{\"color\":\"black\"},\"showarrow\":false,\"text\":\"0.03\",\"x\":\"StockOptionLevel\",\"xref\":\"x\",\"y\":\"NumCompaniesWorked\",\"yref\":\"y\"},{\"font\":{\"color\":\"black\"},\"showarrow\":false,\"text\":\"0.24\",\"x\":\"TotalWorkingYears\",\"xref\":\"x\",\"y\":\"NumCompaniesWorked\",\"yref\":\"y\"},{\"font\":{\"color\":\"black\"},\"showarrow\":false,\"text\":\"-0.07\",\"x\":\"TrainingTimesLastYear\",\"xref\":\"x\",\"y\":\"NumCompaniesWorked\",\"yref\":\"y\"},{\"font\":{\"color\":\"black\"},\"showarrow\":false,\"text\":\"-0.01\",\"x\":\"WorkLifeBalance\",\"xref\":\"x\",\"y\":\"NumCompaniesWorked\",\"yref\":\"y\"},{\"font\":{\"color\":\"black\"},\"showarrow\":false,\"text\":\"-0.12\",\"x\":\"YearsAtCompany\",\"xref\":\"x\",\"y\":\"NumCompaniesWorked\",\"yref\":\"y\"},{\"font\":{\"color\":\"black\"},\"showarrow\":false,\"text\":\"-0.09\",\"x\":\"YearsInCurrentRole\",\"xref\":\"x\",\"y\":\"NumCompaniesWorked\",\"yref\":\"y\"},{\"font\":{\"color\":\"black\"},\"showarrow\":false,\"text\":\"-0.04\",\"x\":\"YearsSinceLastPromotion\",\"xref\":\"x\",\"y\":\"NumCompaniesWorked\",\"yref\":\"y\"},{\"font\":{\"color\":\"black\"},\"showarrow\":false,\"text\":\"-0.11\",\"x\":\"YearsWithCurrManager\",\"xref\":\"x\",\"y\":\"NumCompaniesWorked\",\"yref\":\"y\"},{\"font\":{\"color\":\"black\"},\"showarrow\":false,\"text\":\"0.03\",\"x\":\"Age\",\"xref\":\"x\",\"y\":\"OverTime\",\"yref\":\"y\"},{\"font\":{\"color\":\"black\"},\"showarrow\":false,\"text\":\"0.25\",\"x\":\"Attrition\",\"xref\":\"x\",\"y\":\"OverTime\",\"yref\":\"y\"},{\"font\":{\"color\":\"black\"},\"showarrow\":false,\"text\":\"0.02\",\"x\":\"BusinessTravel\",\"xref\":\"x\",\"y\":\"OverTime\",\"yref\":\"y\"},{\"font\":{\"color\":\"black\"},\"showarrow\":false,\"text\":\"0.01\",\"x\":\"DailyRate\",\"xref\":\"x\",\"y\":\"OverTime\",\"yref\":\"y\"},{\"font\":{\"color\":\"black\"},\"showarrow\":false,\"text\":\"0.01\",\"x\":\"Department\",\"xref\":\"x\",\"y\":\"OverTime\",\"yref\":\"y\"},{\"font\":{\"color\":\"black\"},\"showarrow\":false,\"text\":\"0.03\",\"x\":\"DistanceFromHome\",\"xref\":\"x\",\"y\":\"OverTime\",\"yref\":\"y\"},{\"font\":{\"color\":\"black\"},\"showarrow\":false,\"text\":\"-0.02\",\"x\":\"Education\",\"xref\":\"x\",\"y\":\"OverTime\",\"yref\":\"y\"},{\"font\":{\"color\":\"black\"},\"showarrow\":false,\"text\":\"0.0\",\"x\":\"EducationField\",\"xref\":\"x\",\"y\":\"OverTime\",\"yref\":\"y\"},{\"font\":{\"color\":\"black\"},\"showarrow\":false,\"text\":\"0.07\",\"x\":\"EnvironmentSatisfaction\",\"xref\":\"x\",\"y\":\"OverTime\",\"yref\":\"y\"},{\"font\":{\"color\":\"black\"},\"showarrow\":false,\"text\":\"-0.04\",\"x\":\"Gender\",\"xref\":\"x\",\"y\":\"OverTime\",\"yref\":\"y\"},{\"font\":{\"color\":\"black\"},\"showarrow\":false,\"text\":\"-0.01\",\"x\":\"HourlyRate\",\"xref\":\"x\",\"y\":\"OverTime\",\"yref\":\"y\"},{\"font\":{\"color\":\"black\"},\"showarrow\":false,\"text\":\"-0.0\",\"x\":\"JobInvolvement\",\"xref\":\"x\",\"y\":\"OverTime\",\"yref\":\"y\"},{\"font\":{\"color\":\"black\"},\"showarrow\":false,\"text\":\"0.0\",\"x\":\"JobLevel\",\"xref\":\"x\",\"y\":\"OverTime\",\"yref\":\"y\"},{\"font\":{\"color\":\"black\"},\"showarrow\":false,\"text\":\"0.04\",\"x\":\"JobRole\",\"xref\":\"x\",\"y\":\"OverTime\",\"yref\":\"y\"},{\"font\":{\"color\":\"black\"},\"showarrow\":false,\"text\":\"0.02\",\"x\":\"JobSatisfaction\",\"xref\":\"x\",\"y\":\"OverTime\",\"yref\":\"y\"},{\"font\":{\"color\":\"black\"},\"showarrow\":false,\"text\":\"-0.02\",\"x\":\"MaritalStatus\",\"xref\":\"x\",\"y\":\"OverTime\",\"yref\":\"y\"},{\"font\":{\"color\":\"black\"},\"showarrow\":false,\"text\":\"0.01\",\"x\":\"MonthlyIncome\",\"xref\":\"x\",\"y\":\"OverTime\",\"yref\":\"y\"},{\"font\":{\"color\":\"black\"},\"showarrow\":false,\"text\":\"0.02\",\"x\":\"MonthlyRate\",\"xref\":\"x\",\"y\":\"OverTime\",\"yref\":\"y\"},{\"font\":{\"color\":\"black\"},\"showarrow\":false,\"text\":\"-0.02\",\"x\":\"NumCompaniesWorked\",\"xref\":\"x\",\"y\":\"OverTime\",\"yref\":\"y\"},{\"font\":{\"color\":\"white\"},\"showarrow\":false,\"text\":\"1.0\",\"x\":\"OverTime\",\"xref\":\"x\",\"y\":\"OverTime\",\"yref\":\"y\"},{\"font\":{\"color\":\"black\"},\"showarrow\":false,\"text\":\"-0.01\",\"x\":\"PercentSalaryHike\",\"xref\":\"x\",\"y\":\"OverTime\",\"yref\":\"y\"},{\"font\":{\"color\":\"black\"},\"showarrow\":false,\"text\":\"0.0\",\"x\":\"PerformanceRating\",\"xref\":\"x\",\"y\":\"OverTime\",\"yref\":\"y\"},{\"font\":{\"color\":\"black\"},\"showarrow\":false,\"text\":\"0.05\",\"x\":\"RelationshipSatisfaction\",\"xref\":\"x\",\"y\":\"OverTime\",\"yref\":\"y\"},{\"font\":{\"color\":\"black\"},\"showarrow\":false,\"text\":\"-0.0\",\"x\":\"StockOptionLevel\",\"xref\":\"x\",\"y\":\"OverTime\",\"yref\":\"y\"},{\"font\":{\"color\":\"black\"},\"showarrow\":false,\"text\":\"0.01\",\"x\":\"TotalWorkingYears\",\"xref\":\"x\",\"y\":\"OverTime\",\"yref\":\"y\"},{\"font\":{\"color\":\"black\"},\"showarrow\":false,\"text\":\"-0.08\",\"x\":\"TrainingTimesLastYear\",\"xref\":\"x\",\"y\":\"OverTime\",\"yref\":\"y\"},{\"font\":{\"color\":\"black\"},\"showarrow\":false,\"text\":\"-0.03\",\"x\":\"WorkLifeBalance\",\"xref\":\"x\",\"y\":\"OverTime\",\"yref\":\"y\"},{\"font\":{\"color\":\"black\"},\"showarrow\":false,\"text\":\"-0.01\",\"x\":\"YearsAtCompany\",\"xref\":\"x\",\"y\":\"OverTime\",\"yref\":\"y\"},{\"font\":{\"color\":\"black\"},\"showarrow\":false,\"text\":\"-0.03\",\"x\":\"YearsInCurrentRole\",\"xref\":\"x\",\"y\":\"OverTime\",\"yref\":\"y\"},{\"font\":{\"color\":\"black\"},\"showarrow\":false,\"text\":\"-0.01\",\"x\":\"YearsSinceLastPromotion\",\"xref\":\"x\",\"y\":\"OverTime\",\"yref\":\"y\"},{\"font\":{\"color\":\"black\"},\"showarrow\":false,\"text\":\"-0.04\",\"x\":\"YearsWithCurrManager\",\"xref\":\"x\",\"y\":\"OverTime\",\"yref\":\"y\"},{\"font\":{\"color\":\"black\"},\"showarrow\":false,\"text\":\"0.0\",\"x\":\"Age\",\"xref\":\"x\",\"y\":\"PercentSalaryHike\",\"yref\":\"y\"},{\"font\":{\"color\":\"black\"},\"showarrow\":false,\"text\":\"-0.01\",\"x\":\"Attrition\",\"xref\":\"x\",\"y\":\"PercentSalaryHike\",\"yref\":\"y\"},{\"font\":{\"color\":\"black\"},\"showarrow\":false,\"text\":\"-0.03\",\"x\":\"BusinessTravel\",\"xref\":\"x\",\"y\":\"PercentSalaryHike\",\"yref\":\"y\"},{\"font\":{\"color\":\"black\"},\"showarrow\":false,\"text\":\"0.02\",\"x\":\"DailyRate\",\"xref\":\"x\",\"y\":\"PercentSalaryHike\",\"yref\":\"y\"},{\"font\":{\"color\":\"black\"},\"showarrow\":false,\"text\":\"-0.01\",\"x\":\"Department\",\"xref\":\"x\",\"y\":\"PercentSalaryHike\",\"yref\":\"y\"},{\"font\":{\"color\":\"black\"},\"showarrow\":false,\"text\":\"0.04\",\"x\":\"DistanceFromHome\",\"xref\":\"x\",\"y\":\"PercentSalaryHike\",\"yref\":\"y\"},{\"font\":{\"color\":\"black\"},\"showarrow\":false,\"text\":\"-0.01\",\"x\":\"Education\",\"xref\":\"x\",\"y\":\"PercentSalaryHike\",\"yref\":\"y\"},{\"font\":{\"color\":\"black\"},\"showarrow\":false,\"text\":\"-0.01\",\"x\":\"EducationField\",\"xref\":\"x\",\"y\":\"PercentSalaryHike\",\"yref\":\"y\"},{\"font\":{\"color\":\"black\"},\"showarrow\":false,\"text\":\"-0.03\",\"x\":\"EnvironmentSatisfaction\",\"xref\":\"x\",\"y\":\"PercentSalaryHike\",\"yref\":\"y\"},{\"font\":{\"color\":\"black\"},\"showarrow\":false,\"text\":\"0.0\",\"x\":\"Gender\",\"xref\":\"x\",\"y\":\"PercentSalaryHike\",\"yref\":\"y\"},{\"font\":{\"color\":\"black\"},\"showarrow\":false,\"text\":\"-0.01\",\"x\":\"HourlyRate\",\"xref\":\"x\",\"y\":\"PercentSalaryHike\",\"yref\":\"y\"},{\"font\":{\"color\":\"black\"},\"showarrow\":false,\"text\":\"-0.02\",\"x\":\"JobInvolvement\",\"xref\":\"x\",\"y\":\"PercentSalaryHike\",\"yref\":\"y\"},{\"font\":{\"color\":\"black\"},\"showarrow\":false,\"text\":\"-0.03\",\"x\":\"JobLevel\",\"xref\":\"x\",\"y\":\"PercentSalaryHike\",\"yref\":\"y\"},{\"font\":{\"color\":\"black\"},\"showarrow\":false,\"text\":\"-0.0\",\"x\":\"JobRole\",\"xref\":\"x\",\"y\":\"PercentSalaryHike\",\"yref\":\"y\"},{\"font\":{\"color\":\"black\"},\"showarrow\":false,\"text\":\"0.04\",\"x\":\"JobSatisfaction\",\"xref\":\"x\",\"y\":\"PercentSalaryHike\",\"yref\":\"y\"},{\"font\":{\"color\":\"black\"},\"showarrow\":false,\"text\":\"0.01\",\"x\":\"MaritalStatus\",\"xref\":\"x\",\"y\":\"PercentSalaryHike\",\"yref\":\"y\"},{\"font\":{\"color\":\"black\"},\"showarrow\":false,\"text\":\"-0.03\",\"x\":\"MonthlyIncome\",\"xref\":\"x\",\"y\":\"PercentSalaryHike\",\"yref\":\"y\"},{\"font\":{\"color\":\"black\"},\"showarrow\":false,\"text\":\"-0.01\",\"x\":\"MonthlyRate\",\"xref\":\"x\",\"y\":\"PercentSalaryHike\",\"yref\":\"y\"},{\"font\":{\"color\":\"black\"},\"showarrow\":false,\"text\":\"-0.01\",\"x\":\"NumCompaniesWorked\",\"xref\":\"x\",\"y\":\"PercentSalaryHike\",\"yref\":\"y\"},{\"font\":{\"color\":\"black\"},\"showarrow\":false,\"text\":\"-0.01\",\"x\":\"OverTime\",\"xref\":\"x\",\"y\":\"PercentSalaryHike\",\"yref\":\"y\"},{\"font\":{\"color\":\"white\"},\"showarrow\":false,\"text\":\"1.0\",\"x\":\"PercentSalaryHike\",\"xref\":\"x\",\"y\":\"PercentSalaryHike\",\"yref\":\"y\"},{\"font\":{\"color\":\"white\"},\"showarrow\":false,\"text\":\"0.77\",\"x\":\"PerformanceRating\",\"xref\":\"x\",\"y\":\"PercentSalaryHike\",\"yref\":\"y\"},{\"font\":{\"color\":\"black\"},\"showarrow\":false,\"text\":\"-0.04\",\"x\":\"RelationshipSatisfaction\",\"xref\":\"x\",\"y\":\"PercentSalaryHike\",\"yref\":\"y\"},{\"font\":{\"color\":\"black\"},\"showarrow\":false,\"text\":\"0.01\",\"x\":\"StockOptionLevel\",\"xref\":\"x\",\"y\":\"PercentSalaryHike\",\"yref\":\"y\"},{\"font\":{\"color\":\"black\"},\"showarrow\":false,\"text\":\"-0.02\",\"x\":\"TotalWorkingYears\",\"xref\":\"x\",\"y\":\"PercentSalaryHike\",\"yref\":\"y\"},{\"font\":{\"color\":\"black\"},\"showarrow\":false,\"text\":\"-0.01\",\"x\":\"TrainingTimesLastYear\",\"xref\":\"x\",\"y\":\"PercentSalaryHike\",\"yref\":\"y\"},{\"font\":{\"color\":\"black\"},\"showarrow\":false,\"text\":\"-0.0\",\"x\":\"WorkLifeBalance\",\"xref\":\"x\",\"y\":\"PercentSalaryHike\",\"yref\":\"y\"},{\"font\":{\"color\":\"black\"},\"showarrow\":false,\"text\":\"-0.04\",\"x\":\"YearsAtCompany\",\"xref\":\"x\",\"y\":\"PercentSalaryHike\",\"yref\":\"y\"},{\"font\":{\"color\":\"black\"},\"showarrow\":false,\"text\":\"-0.0\",\"x\":\"YearsInCurrentRole\",\"xref\":\"x\",\"y\":\"PercentSalaryHike\",\"yref\":\"y\"},{\"font\":{\"color\":\"black\"},\"showarrow\":false,\"text\":\"-0.02\",\"x\":\"YearsSinceLastPromotion\",\"xref\":\"x\",\"y\":\"PercentSalaryHike\",\"yref\":\"y\"},{\"font\":{\"color\":\"black\"},\"showarrow\":false,\"text\":\"-0.01\",\"x\":\"YearsWithCurrManager\",\"xref\":\"x\",\"y\":\"PercentSalaryHike\",\"yref\":\"y\"},{\"font\":{\"color\":\"black\"},\"showarrow\":false,\"text\":\"0.0\",\"x\":\"Age\",\"xref\":\"x\",\"y\":\"PerformanceRating\",\"yref\":\"y\"},{\"font\":{\"color\":\"black\"},\"showarrow\":false,\"text\":\"0.0\",\"x\":\"Attrition\",\"xref\":\"x\",\"y\":\"PerformanceRating\",\"yref\":\"y\"},{\"font\":{\"color\":\"black\"},\"showarrow\":false,\"text\":\"-0.03\",\"x\":\"BusinessTravel\",\"xref\":\"x\",\"y\":\"PerformanceRating\",\"yref\":\"y\"},{\"font\":{\"color\":\"black\"},\"showarrow\":false,\"text\":\"0.0\",\"x\":\"DailyRate\",\"xref\":\"x\",\"y\":\"PerformanceRating\",\"yref\":\"y\"},{\"font\":{\"color\":\"black\"},\"showarrow\":false,\"text\":\"-0.02\",\"x\":\"Department\",\"xref\":\"x\",\"y\":\"PerformanceRating\",\"yref\":\"y\"},{\"font\":{\"color\":\"black\"},\"showarrow\":false,\"text\":\"0.03\",\"x\":\"DistanceFromHome\",\"xref\":\"x\",\"y\":\"PerformanceRating\",\"yref\":\"y\"},{\"font\":{\"color\":\"black\"},\"showarrow\":false,\"text\":\"-0.02\",\"x\":\"Education\",\"xref\":\"x\",\"y\":\"PerformanceRating\",\"yref\":\"y\"},{\"font\":{\"color\":\"black\"},\"showarrow\":false,\"text\":\"-0.01\",\"x\":\"EducationField\",\"xref\":\"x\",\"y\":\"PerformanceRating\",\"yref\":\"y\"},{\"font\":{\"color\":\"black\"},\"showarrow\":false,\"text\":\"-0.03\",\"x\":\"EnvironmentSatisfaction\",\"xref\":\"x\",\"y\":\"PerformanceRating\",\"yref\":\"y\"},{\"font\":{\"color\":\"black\"},\"showarrow\":false,\"text\":\"-0.01\",\"x\":\"Gender\",\"xref\":\"x\",\"y\":\"PerformanceRating\",\"yref\":\"y\"},{\"font\":{\"color\":\"black\"},\"showarrow\":false,\"text\":\"-0.0\",\"x\":\"HourlyRate\",\"xref\":\"x\",\"y\":\"PerformanceRating\",\"yref\":\"y\"},{\"font\":{\"color\":\"black\"},\"showarrow\":false,\"text\":\"-0.03\",\"x\":\"JobInvolvement\",\"xref\":\"x\",\"y\":\"PerformanceRating\",\"yref\":\"y\"},{\"font\":{\"color\":\"black\"},\"showarrow\":false,\"text\":\"-0.02\",\"x\":\"JobLevel\",\"xref\":\"x\",\"y\":\"PerformanceRating\",\"yref\":\"y\"},{\"font\":{\"color\":\"black\"},\"showarrow\":false,\"text\":\"-0.02\",\"x\":\"JobRole\",\"xref\":\"x\",\"y\":\"PerformanceRating\",\"yref\":\"y\"},{\"font\":{\"color\":\"black\"},\"showarrow\":false,\"text\":\"0.04\",\"x\":\"JobSatisfaction\",\"xref\":\"x\",\"y\":\"PerformanceRating\",\"yref\":\"y\"},{\"font\":{\"color\":\"black\"},\"showarrow\":false,\"text\":\"0.01\",\"x\":\"MaritalStatus\",\"xref\":\"x\",\"y\":\"PerformanceRating\",\"yref\":\"y\"},{\"font\":{\"color\":\"black\"},\"showarrow\":false,\"text\":\"-0.02\",\"x\":\"MonthlyIncome\",\"xref\":\"x\",\"y\":\"PerformanceRating\",\"yref\":\"y\"},{\"font\":{\"color\":\"black\"},\"showarrow\":false,\"text\":\"-0.01\",\"x\":\"MonthlyRate\",\"xref\":\"x\",\"y\":\"PerformanceRating\",\"yref\":\"y\"},{\"font\":{\"color\":\"black\"},\"showarrow\":false,\"text\":\"-0.01\",\"x\":\"NumCompaniesWorked\",\"xref\":\"x\",\"y\":\"PerformanceRating\",\"yref\":\"y\"},{\"font\":{\"color\":\"black\"},\"showarrow\":false,\"text\":\"0.0\",\"x\":\"OverTime\",\"xref\":\"x\",\"y\":\"PerformanceRating\",\"yref\":\"y\"},{\"font\":{\"color\":\"white\"},\"showarrow\":false,\"text\":\"0.77\",\"x\":\"PercentSalaryHike\",\"xref\":\"x\",\"y\":\"PerformanceRating\",\"yref\":\"y\"},{\"font\":{\"color\":\"white\"},\"showarrow\":false,\"text\":\"1.0\",\"x\":\"PerformanceRating\",\"xref\":\"x\",\"y\":\"PerformanceRating\",\"yref\":\"y\"},{\"font\":{\"color\":\"black\"},\"showarrow\":false,\"text\":\"-0.03\",\"x\":\"RelationshipSatisfaction\",\"xref\":\"x\",\"y\":\"PerformanceRating\",\"yref\":\"y\"},{\"font\":{\"color\":\"black\"},\"showarrow\":false,\"text\":\"0.0\",\"x\":\"StockOptionLevel\",\"xref\":\"x\",\"y\":\"PerformanceRating\",\"yref\":\"y\"},{\"font\":{\"color\":\"black\"},\"showarrow\":false,\"text\":\"0.01\",\"x\":\"TotalWorkingYears\",\"xref\":\"x\",\"y\":\"PerformanceRating\",\"yref\":\"y\"},{\"font\":{\"color\":\"black\"},\"showarrow\":false,\"text\":\"-0.02\",\"x\":\"TrainingTimesLastYear\",\"xref\":\"x\",\"y\":\"PerformanceRating\",\"yref\":\"y\"},{\"font\":{\"color\":\"black\"},\"showarrow\":false,\"text\":\"0.0\",\"x\":\"WorkLifeBalance\",\"xref\":\"x\",\"y\":\"PerformanceRating\",\"yref\":\"y\"},{\"font\":{\"color\":\"black\"},\"showarrow\":false,\"text\":\"0.0\",\"x\":\"YearsAtCompany\",\"xref\":\"x\",\"y\":\"PerformanceRating\",\"yref\":\"y\"},{\"font\":{\"color\":\"black\"},\"showarrow\":false,\"text\":\"0.03\",\"x\":\"YearsInCurrentRole\",\"xref\":\"x\",\"y\":\"PerformanceRating\",\"yref\":\"y\"},{\"font\":{\"color\":\"black\"},\"showarrow\":false,\"text\":\"0.02\",\"x\":\"YearsSinceLastPromotion\",\"xref\":\"x\",\"y\":\"PerformanceRating\",\"yref\":\"y\"},{\"font\":{\"color\":\"black\"},\"showarrow\":false,\"text\":\"0.02\",\"x\":\"YearsWithCurrManager\",\"xref\":\"x\",\"y\":\"PerformanceRating\",\"yref\":\"y\"},{\"font\":{\"color\":\"black\"},\"showarrow\":false,\"text\":\"0.05\",\"x\":\"Age\",\"xref\":\"x\",\"y\":\"RelationshipSatisfaction\",\"yref\":\"y\"},{\"font\":{\"color\":\"black\"},\"showarrow\":false,\"text\":\"-0.05\",\"x\":\"Attrition\",\"xref\":\"x\",\"y\":\"RelationshipSatisfaction\",\"yref\":\"y\"},{\"font\":{\"color\":\"black\"},\"showarrow\":false,\"text\":\"-0.04\",\"x\":\"BusinessTravel\",\"xref\":\"x\",\"y\":\"RelationshipSatisfaction\",\"yref\":\"y\"},{\"font\":{\"color\":\"black\"},\"showarrow\":false,\"text\":\"0.01\",\"x\":\"DailyRate\",\"xref\":\"x\",\"y\":\"RelationshipSatisfaction\",\"yref\":\"y\"},{\"font\":{\"color\":\"black\"},\"showarrow\":false,\"text\":\"-0.02\",\"x\":\"Department\",\"xref\":\"x\",\"y\":\"RelationshipSatisfaction\",\"yref\":\"y\"},{\"font\":{\"color\":\"black\"},\"showarrow\":false,\"text\":\"0.01\",\"x\":\"DistanceFromHome\",\"xref\":\"x\",\"y\":\"RelationshipSatisfaction\",\"yref\":\"y\"},{\"font\":{\"color\":\"black\"},\"showarrow\":false,\"text\":\"-0.01\",\"x\":\"Education\",\"xref\":\"x\",\"y\":\"RelationshipSatisfaction\",\"yref\":\"y\"},{\"font\":{\"color\":\"black\"},\"showarrow\":false,\"text\":\"-0.0\",\"x\":\"EducationField\",\"xref\":\"x\",\"y\":\"RelationshipSatisfaction\",\"yref\":\"y\"},{\"font\":{\"color\":\"black\"},\"showarrow\":false,\"text\":\"0.01\",\"x\":\"EnvironmentSatisfaction\",\"xref\":\"x\",\"y\":\"RelationshipSatisfaction\",\"yref\":\"y\"},{\"font\":{\"color\":\"black\"},\"showarrow\":false,\"text\":\"0.02\",\"x\":\"Gender\",\"xref\":\"x\",\"y\":\"RelationshipSatisfaction\",\"yref\":\"y\"},{\"font\":{\"color\":\"black\"},\"showarrow\":false,\"text\":\"0.0\",\"x\":\"HourlyRate\",\"xref\":\"x\",\"y\":\"RelationshipSatisfaction\",\"yref\":\"y\"},{\"font\":{\"color\":\"black\"},\"showarrow\":false,\"text\":\"0.03\",\"x\":\"JobInvolvement\",\"xref\":\"x\",\"y\":\"RelationshipSatisfaction\",\"yref\":\"y\"},{\"font\":{\"color\":\"black\"},\"showarrow\":false,\"text\":\"0.02\",\"x\":\"JobLevel\",\"xref\":\"x\",\"y\":\"RelationshipSatisfaction\",\"yref\":\"y\"},{\"font\":{\"color\":\"black\"},\"showarrow\":false,\"text\":\"-0.02\",\"x\":\"JobRole\",\"xref\":\"x\",\"y\":\"RelationshipSatisfaction\",\"yref\":\"y\"},{\"font\":{\"color\":\"black\"},\"showarrow\":false,\"text\":\"0.0\",\"x\":\"JobSatisfaction\",\"xref\":\"x\",\"y\":\"RelationshipSatisfaction\",\"yref\":\"y\"},{\"font\":{\"color\":\"black\"},\"showarrow\":false,\"text\":\"0.02\",\"x\":\"MaritalStatus\",\"xref\":\"x\",\"y\":\"RelationshipSatisfaction\",\"yref\":\"y\"},{\"font\":{\"color\":\"black\"},\"showarrow\":false,\"text\":\"0.03\",\"x\":\"MonthlyIncome\",\"xref\":\"x\",\"y\":\"RelationshipSatisfaction\",\"yref\":\"y\"},{\"font\":{\"color\":\"black\"},\"showarrow\":false,\"text\":\"-0.0\",\"x\":\"MonthlyRate\",\"xref\":\"x\",\"y\":\"RelationshipSatisfaction\",\"yref\":\"y\"},{\"font\":{\"color\":\"black\"},\"showarrow\":false,\"text\":\"0.05\",\"x\":\"NumCompaniesWorked\",\"xref\":\"x\",\"y\":\"RelationshipSatisfaction\",\"yref\":\"y\"},{\"font\":{\"color\":\"black\"},\"showarrow\":false,\"text\":\"0.05\",\"x\":\"OverTime\",\"xref\":\"x\",\"y\":\"RelationshipSatisfaction\",\"yref\":\"y\"},{\"font\":{\"color\":\"black\"},\"showarrow\":false,\"text\":\"-0.04\",\"x\":\"PercentSalaryHike\",\"xref\":\"x\",\"y\":\"RelationshipSatisfaction\",\"yref\":\"y\"},{\"font\":{\"color\":\"black\"},\"showarrow\":false,\"text\":\"-0.03\",\"x\":\"PerformanceRating\",\"xref\":\"x\",\"y\":\"RelationshipSatisfaction\",\"yref\":\"y\"},{\"font\":{\"color\":\"white\"},\"showarrow\":false,\"text\":\"1.0\",\"x\":\"RelationshipSatisfaction\",\"xref\":\"x\",\"y\":\"RelationshipSatisfaction\",\"yref\":\"y\"},{\"font\":{\"color\":\"black\"},\"showarrow\":false,\"text\":\"-0.05\",\"x\":\"StockOptionLevel\",\"xref\":\"x\",\"y\":\"RelationshipSatisfaction\",\"yref\":\"y\"},{\"font\":{\"color\":\"black\"},\"showarrow\":false,\"text\":\"0.02\",\"x\":\"TotalWorkingYears\",\"xref\":\"x\",\"y\":\"RelationshipSatisfaction\",\"yref\":\"y\"},{\"font\":{\"color\":\"black\"},\"showarrow\":false,\"text\":\"0.0\",\"x\":\"TrainingTimesLastYear\",\"xref\":\"x\",\"y\":\"RelationshipSatisfaction\",\"yref\":\"y\"},{\"font\":{\"color\":\"black\"},\"showarrow\":false,\"text\":\"0.02\",\"x\":\"WorkLifeBalance\",\"xref\":\"x\",\"y\":\"RelationshipSatisfaction\",\"yref\":\"y\"},{\"font\":{\"color\":\"black\"},\"showarrow\":false,\"text\":\"0.02\",\"x\":\"YearsAtCompany\",\"xref\":\"x\",\"y\":\"RelationshipSatisfaction\",\"yref\":\"y\"},{\"font\":{\"color\":\"black\"},\"showarrow\":false,\"text\":\"-0.02\",\"x\":\"YearsInCurrentRole\",\"xref\":\"x\",\"y\":\"RelationshipSatisfaction\",\"yref\":\"y\"},{\"font\":{\"color\":\"black\"},\"showarrow\":false,\"text\":\"0.03\",\"x\":\"YearsSinceLastPromotion\",\"xref\":\"x\",\"y\":\"RelationshipSatisfaction\",\"yref\":\"y\"},{\"font\":{\"color\":\"black\"},\"showarrow\":false,\"text\":\"-0.0\",\"x\":\"YearsWithCurrManager\",\"xref\":\"x\",\"y\":\"RelationshipSatisfaction\",\"yref\":\"y\"},{\"font\":{\"color\":\"black\"},\"showarrow\":false,\"text\":\"0.04\",\"x\":\"Age\",\"xref\":\"x\",\"y\":\"StockOptionLevel\",\"yref\":\"y\"},{\"font\":{\"color\":\"black\"},\"showarrow\":false,\"text\":\"-0.14\",\"x\":\"Attrition\",\"xref\":\"x\",\"y\":\"StockOptionLevel\",\"yref\":\"y\"},{\"font\":{\"color\":\"black\"},\"showarrow\":false,\"text\":\"-0.02\",\"x\":\"BusinessTravel\",\"xref\":\"x\",\"y\":\"StockOptionLevel\",\"yref\":\"y\"},{\"font\":{\"color\":\"black\"},\"showarrow\":false,\"text\":\"0.04\",\"x\":\"DailyRate\",\"xref\":\"x\",\"y\":\"StockOptionLevel\",\"yref\":\"y\"},{\"font\":{\"color\":\"black\"},\"showarrow\":false,\"text\":\"-0.01\",\"x\":\"Department\",\"xref\":\"x\",\"y\":\"StockOptionLevel\",\"yref\":\"y\"},{\"font\":{\"color\":\"black\"},\"showarrow\":false,\"text\":\"0.04\",\"x\":\"DistanceFromHome\",\"xref\":\"x\",\"y\":\"StockOptionLevel\",\"yref\":\"y\"},{\"font\":{\"color\":\"black\"},\"showarrow\":false,\"text\":\"0.02\",\"x\":\"Education\",\"xref\":\"x\",\"y\":\"StockOptionLevel\",\"yref\":\"y\"},{\"font\":{\"color\":\"black\"},\"showarrow\":false,\"text\":\"-0.02\",\"x\":\"EducationField\",\"xref\":\"x\",\"y\":\"StockOptionLevel\",\"yref\":\"y\"},{\"font\":{\"color\":\"black\"},\"showarrow\":false,\"text\":\"0.0\",\"x\":\"EnvironmentSatisfaction\",\"xref\":\"x\",\"y\":\"StockOptionLevel\",\"yref\":\"y\"},{\"font\":{\"color\":\"black\"},\"showarrow\":false,\"text\":\"0.01\",\"x\":\"Gender\",\"xref\":\"x\",\"y\":\"StockOptionLevel\",\"yref\":\"y\"},{\"font\":{\"color\":\"black\"},\"showarrow\":false,\"text\":\"0.05\",\"x\":\"HourlyRate\",\"xref\":\"x\",\"y\":\"StockOptionLevel\",\"yref\":\"y\"},{\"font\":{\"color\":\"black\"},\"showarrow\":false,\"text\":\"0.02\",\"x\":\"JobInvolvement\",\"xref\":\"x\",\"y\":\"StockOptionLevel\",\"yref\":\"y\"},{\"font\":{\"color\":\"black\"},\"showarrow\":false,\"text\":\"0.01\",\"x\":\"JobLevel\",\"xref\":\"x\",\"y\":\"StockOptionLevel\",\"yref\":\"y\"},{\"font\":{\"color\":\"black\"},\"showarrow\":false,\"text\":\"-0.02\",\"x\":\"JobRole\",\"xref\":\"x\",\"y\":\"StockOptionLevel\",\"yref\":\"y\"},{\"font\":{\"color\":\"black\"},\"showarrow\":false,\"text\":\"0.03\",\"x\":\"JobSatisfaction\",\"xref\":\"x\",\"y\":\"StockOptionLevel\",\"yref\":\"y\"},{\"font\":{\"color\":\"white\"},\"showarrow\":false,\"text\":\"-0.66\",\"x\":\"MaritalStatus\",\"xref\":\"x\",\"y\":\"StockOptionLevel\",\"yref\":\"y\"},{\"font\":{\"color\":\"black\"},\"showarrow\":false,\"text\":\"0.01\",\"x\":\"MonthlyIncome\",\"xref\":\"x\",\"y\":\"StockOptionLevel\",\"yref\":\"y\"},{\"font\":{\"color\":\"black\"},\"showarrow\":false,\"text\":\"-0.03\",\"x\":\"MonthlyRate\",\"xref\":\"x\",\"y\":\"StockOptionLevel\",\"yref\":\"y\"},{\"font\":{\"color\":\"black\"},\"showarrow\":false,\"text\":\"0.03\",\"x\":\"NumCompaniesWorked\",\"xref\":\"x\",\"y\":\"StockOptionLevel\",\"yref\":\"y\"},{\"font\":{\"color\":\"black\"},\"showarrow\":false,\"text\":\"-0.0\",\"x\":\"OverTime\",\"xref\":\"x\",\"y\":\"StockOptionLevel\",\"yref\":\"y\"},{\"font\":{\"color\":\"black\"},\"showarrow\":false,\"text\":\"0.01\",\"x\":\"PercentSalaryHike\",\"xref\":\"x\",\"y\":\"StockOptionLevel\",\"yref\":\"y\"},{\"font\":{\"color\":\"black\"},\"showarrow\":false,\"text\":\"0.0\",\"x\":\"PerformanceRating\",\"xref\":\"x\",\"y\":\"StockOptionLevel\",\"yref\":\"y\"},{\"font\":{\"color\":\"black\"},\"showarrow\":false,\"text\":\"-0.05\",\"x\":\"RelationshipSatisfaction\",\"xref\":\"x\",\"y\":\"StockOptionLevel\",\"yref\":\"y\"},{\"font\":{\"color\":\"white\"},\"showarrow\":false,\"text\":\"1.0\",\"x\":\"StockOptionLevel\",\"xref\":\"x\",\"y\":\"StockOptionLevel\",\"yref\":\"y\"},{\"font\":{\"color\":\"black\"},\"showarrow\":false,\"text\":\"0.01\",\"x\":\"TotalWorkingYears\",\"xref\":\"x\",\"y\":\"StockOptionLevel\",\"yref\":\"y\"},{\"font\":{\"color\":\"black\"},\"showarrow\":false,\"text\":\"0.01\",\"x\":\"TrainingTimesLastYear\",\"xref\":\"x\",\"y\":\"StockOptionLevel\",\"yref\":\"y\"},{\"font\":{\"color\":\"black\"},\"showarrow\":false,\"text\":\"0.0\",\"x\":\"WorkLifeBalance\",\"xref\":\"x\",\"y\":\"StockOptionLevel\",\"yref\":\"y\"},{\"font\":{\"color\":\"black\"},\"showarrow\":false,\"text\":\"0.02\",\"x\":\"YearsAtCompany\",\"xref\":\"x\",\"y\":\"StockOptionLevel\",\"yref\":\"y\"},{\"font\":{\"color\":\"black\"},\"showarrow\":false,\"text\":\"0.05\",\"x\":\"YearsInCurrentRole\",\"xref\":\"x\",\"y\":\"StockOptionLevel\",\"yref\":\"y\"},{\"font\":{\"color\":\"black\"},\"showarrow\":false,\"text\":\"0.01\",\"x\":\"YearsSinceLastPromotion\",\"xref\":\"x\",\"y\":\"StockOptionLevel\",\"yref\":\"y\"},{\"font\":{\"color\":\"black\"},\"showarrow\":false,\"text\":\"0.02\",\"x\":\"YearsWithCurrManager\",\"xref\":\"x\",\"y\":\"StockOptionLevel\",\"yref\":\"y\"},{\"font\":{\"color\":\"white\"},\"showarrow\":false,\"text\":\"0.68\",\"x\":\"Age\",\"xref\":\"x\",\"y\":\"TotalWorkingYears\",\"yref\":\"y\"},{\"font\":{\"color\":\"black\"},\"showarrow\":false,\"text\":\"-0.17\",\"x\":\"Attrition\",\"xref\":\"x\",\"y\":\"TotalWorkingYears\",\"yref\":\"y\"},{\"font\":{\"color\":\"black\"},\"showarrow\":false,\"text\":\"0.03\",\"x\":\"BusinessTravel\",\"xref\":\"x\",\"y\":\"TotalWorkingYears\",\"yref\":\"y\"},{\"font\":{\"color\":\"black\"},\"showarrow\":false,\"text\":\"0.01\",\"x\":\"DailyRate\",\"xref\":\"x\",\"y\":\"TotalWorkingYears\",\"yref\":\"y\"},{\"font\":{\"color\":\"black\"},\"showarrow\":false,\"text\":\"-0.02\",\"x\":\"Department\",\"xref\":\"x\",\"y\":\"TotalWorkingYears\",\"yref\":\"y\"},{\"font\":{\"color\":\"black\"},\"showarrow\":false,\"text\":\"0.0\",\"x\":\"DistanceFromHome\",\"xref\":\"x\",\"y\":\"TotalWorkingYears\",\"yref\":\"y\"},{\"font\":{\"color\":\"black\"},\"showarrow\":false,\"text\":\"0.15\",\"x\":\"Education\",\"xref\":\"x\",\"y\":\"TotalWorkingYears\",\"yref\":\"y\"},{\"font\":{\"color\":\"black\"},\"showarrow\":false,\"text\":\"-0.03\",\"x\":\"EducationField\",\"xref\":\"x\",\"y\":\"TotalWorkingYears\",\"yref\":\"y\"},{\"font\":{\"color\":\"black\"},\"showarrow\":false,\"text\":\"-0.0\",\"x\":\"EnvironmentSatisfaction\",\"xref\":\"x\",\"y\":\"TotalWorkingYears\",\"yref\":\"y\"},{\"font\":{\"color\":\"black\"},\"showarrow\":false,\"text\":\"-0.05\",\"x\":\"Gender\",\"xref\":\"x\",\"y\":\"TotalWorkingYears\",\"yref\":\"y\"},{\"font\":{\"color\":\"black\"},\"showarrow\":false,\"text\":\"-0.0\",\"x\":\"HourlyRate\",\"xref\":\"x\",\"y\":\"TotalWorkingYears\",\"yref\":\"y\"},{\"font\":{\"color\":\"black\"},\"showarrow\":false,\"text\":\"-0.01\",\"x\":\"JobInvolvement\",\"xref\":\"x\",\"y\":\"TotalWorkingYears\",\"yref\":\"y\"},{\"font\":{\"color\":\"white\"},\"showarrow\":false,\"text\":\"0.78\",\"x\":\"JobLevel\",\"xref\":\"x\",\"y\":\"TotalWorkingYears\",\"yref\":\"y\"},{\"font\":{\"color\":\"black\"},\"showarrow\":false,\"text\":\"-0.15\",\"x\":\"JobRole\",\"xref\":\"x\",\"y\":\"TotalWorkingYears\",\"yref\":\"y\"},{\"font\":{\"color\":\"black\"},\"showarrow\":false,\"text\":\"0.0\",\"x\":\"JobSatisfaction\",\"xref\":\"x\",\"y\":\"TotalWorkingYears\",\"yref\":\"y\"},{\"font\":{\"color\":\"black\"},\"showarrow\":false,\"text\":\"-0.08\",\"x\":\"MaritalStatus\",\"xref\":\"x\",\"y\":\"TotalWorkingYears\",\"yref\":\"y\"},{\"font\":{\"color\":\"white\"},\"showarrow\":false,\"text\":\"0.77\",\"x\":\"MonthlyIncome\",\"xref\":\"x\",\"y\":\"TotalWorkingYears\",\"yref\":\"y\"},{\"font\":{\"color\":\"black\"},\"showarrow\":false,\"text\":\"0.03\",\"x\":\"MonthlyRate\",\"xref\":\"x\",\"y\":\"TotalWorkingYears\",\"yref\":\"y\"},{\"font\":{\"color\":\"black\"},\"showarrow\":false,\"text\":\"0.24\",\"x\":\"NumCompaniesWorked\",\"xref\":\"x\",\"y\":\"TotalWorkingYears\",\"yref\":\"y\"},{\"font\":{\"color\":\"black\"},\"showarrow\":false,\"text\":\"0.01\",\"x\":\"OverTime\",\"xref\":\"x\",\"y\":\"TotalWorkingYears\",\"yref\":\"y\"},{\"font\":{\"color\":\"black\"},\"showarrow\":false,\"text\":\"-0.02\",\"x\":\"PercentSalaryHike\",\"xref\":\"x\",\"y\":\"TotalWorkingYears\",\"yref\":\"y\"},{\"font\":{\"color\":\"black\"},\"showarrow\":false,\"text\":\"0.01\",\"x\":\"PerformanceRating\",\"xref\":\"x\",\"y\":\"TotalWorkingYears\",\"yref\":\"y\"},{\"font\":{\"color\":\"black\"},\"showarrow\":false,\"text\":\"0.02\",\"x\":\"RelationshipSatisfaction\",\"xref\":\"x\",\"y\":\"TotalWorkingYears\",\"yref\":\"y\"},{\"font\":{\"color\":\"black\"},\"showarrow\":false,\"text\":\"0.01\",\"x\":\"StockOptionLevel\",\"xref\":\"x\",\"y\":\"TotalWorkingYears\",\"yref\":\"y\"},{\"font\":{\"color\":\"white\"},\"showarrow\":false,\"text\":\"1.0\",\"x\":\"TotalWorkingYears\",\"xref\":\"x\",\"y\":\"TotalWorkingYears\",\"yref\":\"y\"},{\"font\":{\"color\":\"black\"},\"showarrow\":false,\"text\":\"-0.04\",\"x\":\"TrainingTimesLastYear\",\"xref\":\"x\",\"y\":\"TotalWorkingYears\",\"yref\":\"y\"},{\"font\":{\"color\":\"black\"},\"showarrow\":false,\"text\":\"0.0\",\"x\":\"WorkLifeBalance\",\"xref\":\"x\",\"y\":\"TotalWorkingYears\",\"yref\":\"y\"},{\"font\":{\"color\":\"white\"},\"showarrow\":false,\"text\":\"0.63\",\"x\":\"YearsAtCompany\",\"xref\":\"x\",\"y\":\"TotalWorkingYears\",\"yref\":\"y\"},{\"font\":{\"color\":\"black\"},\"showarrow\":false,\"text\":\"0.46\",\"x\":\"YearsInCurrentRole\",\"xref\":\"x\",\"y\":\"TotalWorkingYears\",\"yref\":\"y\"},{\"font\":{\"color\":\"black\"},\"showarrow\":false,\"text\":\"0.4\",\"x\":\"YearsSinceLastPromotion\",\"xref\":\"x\",\"y\":\"TotalWorkingYears\",\"yref\":\"y\"},{\"font\":{\"color\":\"black\"},\"showarrow\":false,\"text\":\"0.46\",\"x\":\"YearsWithCurrManager\",\"xref\":\"x\",\"y\":\"TotalWorkingYears\",\"yref\":\"y\"},{\"font\":{\"color\":\"black\"},\"showarrow\":false,\"text\":\"-0.02\",\"x\":\"Age\",\"xref\":\"x\",\"y\":\"TrainingTimesLastYear\",\"yref\":\"y\"},{\"font\":{\"color\":\"black\"},\"showarrow\":false,\"text\":\"-0.06\",\"x\":\"Attrition\",\"xref\":\"x\",\"y\":\"TrainingTimesLastYear\",\"yref\":\"y\"},{\"font\":{\"color\":\"black\"},\"showarrow\":false,\"text\":\"0.02\",\"x\":\"BusinessTravel\",\"xref\":\"x\",\"y\":\"TrainingTimesLastYear\",\"yref\":\"y\"},{\"font\":{\"color\":\"black\"},\"showarrow\":false,\"text\":\"0.0\",\"x\":\"DailyRate\",\"xref\":\"x\",\"y\":\"TrainingTimesLastYear\",\"yref\":\"y\"},{\"font\":{\"color\":\"black\"},\"showarrow\":false,\"text\":\"0.04\",\"x\":\"Department\",\"xref\":\"x\",\"y\":\"TrainingTimesLastYear\",\"yref\":\"y\"},{\"font\":{\"color\":\"black\"},\"showarrow\":false,\"text\":\"-0.04\",\"x\":\"DistanceFromHome\",\"xref\":\"x\",\"y\":\"TrainingTimesLastYear\",\"yref\":\"y\"},{\"font\":{\"color\":\"black\"},\"showarrow\":false,\"text\":\"-0.03\",\"x\":\"Education\",\"xref\":\"x\",\"y\":\"TrainingTimesLastYear\",\"yref\":\"y\"},{\"font\":{\"color\":\"black\"},\"showarrow\":false,\"text\":\"0.05\",\"x\":\"EducationField\",\"xref\":\"x\",\"y\":\"TrainingTimesLastYear\",\"yref\":\"y\"},{\"font\":{\"color\":\"black\"},\"showarrow\":false,\"text\":\"-0.02\",\"x\":\"EnvironmentSatisfaction\",\"xref\":\"x\",\"y\":\"TrainingTimesLastYear\",\"yref\":\"y\"},{\"font\":{\"color\":\"black\"},\"showarrow\":false,\"text\":\"-0.04\",\"x\":\"Gender\",\"xref\":\"x\",\"y\":\"TrainingTimesLastYear\",\"yref\":\"y\"},{\"font\":{\"color\":\"black\"},\"showarrow\":false,\"text\":\"-0.01\",\"x\":\"HourlyRate\",\"xref\":\"x\",\"y\":\"TrainingTimesLastYear\",\"yref\":\"y\"},{\"font\":{\"color\":\"black\"},\"showarrow\":false,\"text\":\"-0.02\",\"x\":\"JobInvolvement\",\"xref\":\"x\",\"y\":\"TrainingTimesLastYear\",\"yref\":\"y\"},{\"font\":{\"color\":\"black\"},\"showarrow\":false,\"text\":\"-0.02\",\"x\":\"JobLevel\",\"xref\":\"x\",\"y\":\"TrainingTimesLastYear\",\"yref\":\"y\"},{\"font\":{\"color\":\"black\"},\"showarrow\":false,\"text\":\"0.0\",\"x\":\"JobRole\",\"xref\":\"x\",\"y\":\"TrainingTimesLastYear\",\"yref\":\"y\"},{\"font\":{\"color\":\"black\"},\"showarrow\":false,\"text\":\"0.02\",\"x\":\"JobSatisfaction\",\"xref\":\"x\",\"y\":\"TrainingTimesLastYear\",\"yref\":\"y\"},{\"font\":{\"color\":\"black\"},\"showarrow\":false,\"text\":\"0.01\",\"x\":\"MaritalStatus\",\"xref\":\"x\",\"y\":\"TrainingTimesLastYear\",\"yref\":\"y\"},{\"font\":{\"color\":\"black\"},\"showarrow\":false,\"text\":\"-0.02\",\"x\":\"MonthlyIncome\",\"xref\":\"x\",\"y\":\"TrainingTimesLastYear\",\"yref\":\"y\"},{\"font\":{\"color\":\"black\"},\"showarrow\":false,\"text\":\"0.0\",\"x\":\"MonthlyRate\",\"xref\":\"x\",\"y\":\"TrainingTimesLastYear\",\"yref\":\"y\"},{\"font\":{\"color\":\"black\"},\"showarrow\":false,\"text\":\"-0.07\",\"x\":\"NumCompaniesWorked\",\"xref\":\"x\",\"y\":\"TrainingTimesLastYear\",\"yref\":\"y\"},{\"font\":{\"color\":\"black\"},\"showarrow\":false,\"text\":\"-0.08\",\"x\":\"OverTime\",\"xref\":\"x\",\"y\":\"TrainingTimesLastYear\",\"yref\":\"y\"},{\"font\":{\"color\":\"black\"},\"showarrow\":false,\"text\":\"-0.01\",\"x\":\"PercentSalaryHike\",\"xref\":\"x\",\"y\":\"TrainingTimesLastYear\",\"yref\":\"y\"},{\"font\":{\"color\":\"black\"},\"showarrow\":false,\"text\":\"-0.02\",\"x\":\"PerformanceRating\",\"xref\":\"x\",\"y\":\"TrainingTimesLastYear\",\"yref\":\"y\"},{\"font\":{\"color\":\"black\"},\"showarrow\":false,\"text\":\"0.0\",\"x\":\"RelationshipSatisfaction\",\"xref\":\"x\",\"y\":\"TrainingTimesLastYear\",\"yref\":\"y\"},{\"font\":{\"color\":\"black\"},\"showarrow\":false,\"text\":\"0.01\",\"x\":\"StockOptionLevel\",\"xref\":\"x\",\"y\":\"TrainingTimesLastYear\",\"yref\":\"y\"},{\"font\":{\"color\":\"black\"},\"showarrow\":false,\"text\":\"-0.04\",\"x\":\"TotalWorkingYears\",\"xref\":\"x\",\"y\":\"TrainingTimesLastYear\",\"yref\":\"y\"},{\"font\":{\"color\":\"white\"},\"showarrow\":false,\"text\":\"1.0\",\"x\":\"TrainingTimesLastYear\",\"xref\":\"x\",\"y\":\"TrainingTimesLastYear\",\"yref\":\"y\"},{\"font\":{\"color\":\"black\"},\"showarrow\":false,\"text\":\"0.03\",\"x\":\"WorkLifeBalance\",\"xref\":\"x\",\"y\":\"TrainingTimesLastYear\",\"yref\":\"y\"},{\"font\":{\"color\":\"black\"},\"showarrow\":false,\"text\":\"0.0\",\"x\":\"YearsAtCompany\",\"xref\":\"x\",\"y\":\"TrainingTimesLastYear\",\"yref\":\"y\"},{\"font\":{\"color\":\"black\"},\"showarrow\":false,\"text\":\"-0.01\",\"x\":\"YearsInCurrentRole\",\"xref\":\"x\",\"y\":\"TrainingTimesLastYear\",\"yref\":\"y\"},{\"font\":{\"color\":\"black\"},\"showarrow\":false,\"text\":\"-0.0\",\"x\":\"YearsSinceLastPromotion\",\"xref\":\"x\",\"y\":\"TrainingTimesLastYear\",\"yref\":\"y\"},{\"font\":{\"color\":\"black\"},\"showarrow\":false,\"text\":\"-0.0\",\"x\":\"YearsWithCurrManager\",\"xref\":\"x\",\"y\":\"TrainingTimesLastYear\",\"yref\":\"y\"},{\"font\":{\"color\":\"black\"},\"showarrow\":false,\"text\":\"-0.02\",\"x\":\"Age\",\"xref\":\"x\",\"y\":\"WorkLifeBalance\",\"yref\":\"y\"},{\"font\":{\"color\":\"black\"},\"showarrow\":false,\"text\":\"-0.06\",\"x\":\"Attrition\",\"xref\":\"x\",\"y\":\"WorkLifeBalance\",\"yref\":\"y\"},{\"font\":{\"color\":\"black\"},\"showarrow\":false,\"text\":\"-0.01\",\"x\":\"BusinessTravel\",\"xref\":\"x\",\"y\":\"WorkLifeBalance\",\"yref\":\"y\"},{\"font\":{\"color\":\"black\"},\"showarrow\":false,\"text\":\"-0.04\",\"x\":\"DailyRate\",\"xref\":\"x\",\"y\":\"WorkLifeBalance\",\"yref\":\"y\"},{\"font\":{\"color\":\"black\"},\"showarrow\":false,\"text\":\"0.03\",\"x\":\"Department\",\"xref\":\"x\",\"y\":\"WorkLifeBalance\",\"yref\":\"y\"},{\"font\":{\"color\":\"black\"},\"showarrow\":false,\"text\":\"-0.03\",\"x\":\"DistanceFromHome\",\"xref\":\"x\",\"y\":\"WorkLifeBalance\",\"yref\":\"y\"},{\"font\":{\"color\":\"black\"},\"showarrow\":false,\"text\":\"0.01\",\"x\":\"Education\",\"xref\":\"x\",\"y\":\"WorkLifeBalance\",\"yref\":\"y\"},{\"font\":{\"color\":\"black\"},\"showarrow\":false,\"text\":\"0.04\",\"x\":\"EducationField\",\"xref\":\"x\",\"y\":\"WorkLifeBalance\",\"yref\":\"y\"},{\"font\":{\"color\":\"black\"},\"showarrow\":false,\"text\":\"0.03\",\"x\":\"EnvironmentSatisfaction\",\"xref\":\"x\",\"y\":\"WorkLifeBalance\",\"yref\":\"y\"},{\"font\":{\"color\":\"black\"},\"showarrow\":false,\"text\":\"-0.0\",\"x\":\"Gender\",\"xref\":\"x\",\"y\":\"WorkLifeBalance\",\"yref\":\"y\"},{\"font\":{\"color\":\"black\"},\"showarrow\":false,\"text\":\"-0.0\",\"x\":\"HourlyRate\",\"xref\":\"x\",\"y\":\"WorkLifeBalance\",\"yref\":\"y\"},{\"font\":{\"color\":\"black\"},\"showarrow\":false,\"text\":\"-0.01\",\"x\":\"JobInvolvement\",\"xref\":\"x\",\"y\":\"WorkLifeBalance\",\"yref\":\"y\"},{\"font\":{\"color\":\"black\"},\"showarrow\":false,\"text\":\"0.04\",\"x\":\"JobLevel\",\"xref\":\"x\",\"y\":\"WorkLifeBalance\",\"yref\":\"y\"},{\"font\":{\"color\":\"black\"},\"showarrow\":false,\"text\":\"0.03\",\"x\":\"JobRole\",\"xref\":\"x\",\"y\":\"WorkLifeBalance\",\"yref\":\"y\"},{\"font\":{\"color\":\"black\"},\"showarrow\":false,\"text\":\"-0.03\",\"x\":\"JobSatisfaction\",\"xref\":\"x\",\"y\":\"WorkLifeBalance\",\"yref\":\"y\"},{\"font\":{\"color\":\"black\"},\"showarrow\":false,\"text\":\"0.01\",\"x\":\"MaritalStatus\",\"xref\":\"x\",\"y\":\"WorkLifeBalance\",\"yref\":\"y\"},{\"font\":{\"color\":\"black\"},\"showarrow\":false,\"text\":\"0.03\",\"x\":\"MonthlyIncome\",\"xref\":\"x\",\"y\":\"WorkLifeBalance\",\"yref\":\"y\"},{\"font\":{\"color\":\"black\"},\"showarrow\":false,\"text\":\"0.01\",\"x\":\"MonthlyRate\",\"xref\":\"x\",\"y\":\"WorkLifeBalance\",\"yref\":\"y\"},{\"font\":{\"color\":\"black\"},\"showarrow\":false,\"text\":\"-0.01\",\"x\":\"NumCompaniesWorked\",\"xref\":\"x\",\"y\":\"WorkLifeBalance\",\"yref\":\"y\"},{\"font\":{\"color\":\"black\"},\"showarrow\":false,\"text\":\"-0.03\",\"x\":\"OverTime\",\"xref\":\"x\",\"y\":\"WorkLifeBalance\",\"yref\":\"y\"},{\"font\":{\"color\":\"black\"},\"showarrow\":false,\"text\":\"-0.0\",\"x\":\"PercentSalaryHike\",\"xref\":\"x\",\"y\":\"WorkLifeBalance\",\"yref\":\"y\"},{\"font\":{\"color\":\"black\"},\"showarrow\":false,\"text\":\"0.0\",\"x\":\"PerformanceRating\",\"xref\":\"x\",\"y\":\"WorkLifeBalance\",\"yref\":\"y\"},{\"font\":{\"color\":\"black\"},\"showarrow\":false,\"text\":\"0.02\",\"x\":\"RelationshipSatisfaction\",\"xref\":\"x\",\"y\":\"WorkLifeBalance\",\"yref\":\"y\"},{\"font\":{\"color\":\"black\"},\"showarrow\":false,\"text\":\"0.0\",\"x\":\"StockOptionLevel\",\"xref\":\"x\",\"y\":\"WorkLifeBalance\",\"yref\":\"y\"},{\"font\":{\"color\":\"black\"},\"showarrow\":false,\"text\":\"0.0\",\"x\":\"TotalWorkingYears\",\"xref\":\"x\",\"y\":\"WorkLifeBalance\",\"yref\":\"y\"},{\"font\":{\"color\":\"black\"},\"showarrow\":false,\"text\":\"0.03\",\"x\":\"TrainingTimesLastYear\",\"xref\":\"x\",\"y\":\"WorkLifeBalance\",\"yref\":\"y\"},{\"font\":{\"color\":\"white\"},\"showarrow\":false,\"text\":\"1.0\",\"x\":\"WorkLifeBalance\",\"xref\":\"x\",\"y\":\"WorkLifeBalance\",\"yref\":\"y\"},{\"font\":{\"color\":\"black\"},\"showarrow\":false,\"text\":\"0.01\",\"x\":\"YearsAtCompany\",\"xref\":\"x\",\"y\":\"WorkLifeBalance\",\"yref\":\"y\"},{\"font\":{\"color\":\"black\"},\"showarrow\":false,\"text\":\"0.05\",\"x\":\"YearsInCurrentRole\",\"xref\":\"x\",\"y\":\"WorkLifeBalance\",\"yref\":\"y\"},{\"font\":{\"color\":\"black\"},\"showarrow\":false,\"text\":\"0.01\",\"x\":\"YearsSinceLastPromotion\",\"xref\":\"x\",\"y\":\"WorkLifeBalance\",\"yref\":\"y\"},{\"font\":{\"color\":\"black\"},\"showarrow\":false,\"text\":\"0.0\",\"x\":\"YearsWithCurrManager\",\"xref\":\"x\",\"y\":\"WorkLifeBalance\",\"yref\":\"y\"},{\"font\":{\"color\":\"black\"},\"showarrow\":false,\"text\":\"0.31\",\"x\":\"Age\",\"xref\":\"x\",\"y\":\"YearsAtCompany\",\"yref\":\"y\"},{\"font\":{\"color\":\"black\"},\"showarrow\":false,\"text\":\"-0.13\",\"x\":\"Attrition\",\"xref\":\"x\",\"y\":\"YearsAtCompany\",\"yref\":\"y\"},{\"font\":{\"color\":\"black\"},\"showarrow\":false,\"text\":\"-0.01\",\"x\":\"BusinessTravel\",\"xref\":\"x\",\"y\":\"YearsAtCompany\",\"yref\":\"y\"},{\"font\":{\"color\":\"black\"},\"showarrow\":false,\"text\":\"-0.03\",\"x\":\"DailyRate\",\"xref\":\"x\",\"y\":\"YearsAtCompany\",\"yref\":\"y\"},{\"font\":{\"color\":\"black\"},\"showarrow\":false,\"text\":\"0.02\",\"x\":\"Department\",\"xref\":\"x\",\"y\":\"YearsAtCompany\",\"yref\":\"y\"},{\"font\":{\"color\":\"black\"},\"showarrow\":false,\"text\":\"0.01\",\"x\":\"DistanceFromHome\",\"xref\":\"x\",\"y\":\"YearsAtCompany\",\"yref\":\"y\"},{\"font\":{\"color\":\"black\"},\"showarrow\":false,\"text\":\"0.07\",\"x\":\"Education\",\"xref\":\"x\",\"y\":\"YearsAtCompany\",\"yref\":\"y\"},{\"font\":{\"color\":\"black\"},\"showarrow\":false,\"text\":\"-0.02\",\"x\":\"EducationField\",\"xref\":\"x\",\"y\":\"YearsAtCompany\",\"yref\":\"y\"},{\"font\":{\"color\":\"black\"},\"showarrow\":false,\"text\":\"0.0\",\"x\":\"EnvironmentSatisfaction\",\"xref\":\"x\",\"y\":\"YearsAtCompany\",\"yref\":\"y\"},{\"font\":{\"color\":\"black\"},\"showarrow\":false,\"text\":\"-0.03\",\"x\":\"Gender\",\"xref\":\"x\",\"y\":\"YearsAtCompany\",\"yref\":\"y\"},{\"font\":{\"color\":\"black\"},\"showarrow\":false,\"text\":\"-0.02\",\"x\":\"HourlyRate\",\"xref\":\"x\",\"y\":\"YearsAtCompany\",\"yref\":\"y\"},{\"font\":{\"color\":\"black\"},\"showarrow\":false,\"text\":\"-0.02\",\"x\":\"JobInvolvement\",\"xref\":\"x\",\"y\":\"YearsAtCompany\",\"yref\":\"y\"},{\"font\":{\"color\":\"white\"},\"showarrow\":false,\"text\":\"0.53\",\"x\":\"JobLevel\",\"xref\":\"x\",\"y\":\"YearsAtCompany\",\"yref\":\"y\"},{\"font\":{\"color\":\"black\"},\"showarrow\":false,\"text\":\"-0.08\",\"x\":\"JobRole\",\"xref\":\"x\",\"y\":\"YearsAtCompany\",\"yref\":\"y\"},{\"font\":{\"color\":\"black\"},\"showarrow\":false,\"text\":\"-0.0\",\"x\":\"JobSatisfaction\",\"xref\":\"x\",\"y\":\"YearsAtCompany\",\"yref\":\"y\"},{\"font\":{\"color\":\"black\"},\"showarrow\":false,\"text\":\"-0.06\",\"x\":\"MaritalStatus\",\"xref\":\"x\",\"y\":\"YearsAtCompany\",\"yref\":\"y\"},{\"font\":{\"color\":\"white\"},\"showarrow\":false,\"text\":\"0.51\",\"x\":\"MonthlyIncome\",\"xref\":\"x\",\"y\":\"YearsAtCompany\",\"yref\":\"y\"},{\"font\":{\"color\":\"black\"},\"showarrow\":false,\"text\":\"-0.02\",\"x\":\"MonthlyRate\",\"xref\":\"x\",\"y\":\"YearsAtCompany\",\"yref\":\"y\"},{\"font\":{\"color\":\"black\"},\"showarrow\":false,\"text\":\"-0.12\",\"x\":\"NumCompaniesWorked\",\"xref\":\"x\",\"y\":\"YearsAtCompany\",\"yref\":\"y\"},{\"font\":{\"color\":\"black\"},\"showarrow\":false,\"text\":\"-0.01\",\"x\":\"OverTime\",\"xref\":\"x\",\"y\":\"YearsAtCompany\",\"yref\":\"y\"},{\"font\":{\"color\":\"black\"},\"showarrow\":false,\"text\":\"-0.04\",\"x\":\"PercentSalaryHike\",\"xref\":\"x\",\"y\":\"YearsAtCompany\",\"yref\":\"y\"},{\"font\":{\"color\":\"black\"},\"showarrow\":false,\"text\":\"0.0\",\"x\":\"PerformanceRating\",\"xref\":\"x\",\"y\":\"YearsAtCompany\",\"yref\":\"y\"},{\"font\":{\"color\":\"black\"},\"showarrow\":false,\"text\":\"0.02\",\"x\":\"RelationshipSatisfaction\",\"xref\":\"x\",\"y\":\"YearsAtCompany\",\"yref\":\"y\"},{\"font\":{\"color\":\"black\"},\"showarrow\":false,\"text\":\"0.02\",\"x\":\"StockOptionLevel\",\"xref\":\"x\",\"y\":\"YearsAtCompany\",\"yref\":\"y\"},{\"font\":{\"color\":\"white\"},\"showarrow\":false,\"text\":\"0.63\",\"x\":\"TotalWorkingYears\",\"xref\":\"x\",\"y\":\"YearsAtCompany\",\"yref\":\"y\"},{\"font\":{\"color\":\"black\"},\"showarrow\":false,\"text\":\"0.0\",\"x\":\"TrainingTimesLastYear\",\"xref\":\"x\",\"y\":\"YearsAtCompany\",\"yref\":\"y\"},{\"font\":{\"color\":\"black\"},\"showarrow\":false,\"text\":\"0.01\",\"x\":\"WorkLifeBalance\",\"xref\":\"x\",\"y\":\"YearsAtCompany\",\"yref\":\"y\"},{\"font\":{\"color\":\"white\"},\"showarrow\":false,\"text\":\"1.0\",\"x\":\"YearsAtCompany\",\"xref\":\"x\",\"y\":\"YearsAtCompany\",\"yref\":\"y\"},{\"font\":{\"color\":\"white\"},\"showarrow\":false,\"text\":\"0.76\",\"x\":\"YearsInCurrentRole\",\"xref\":\"x\",\"y\":\"YearsAtCompany\",\"yref\":\"y\"},{\"font\":{\"color\":\"white\"},\"showarrow\":false,\"text\":\"0.62\",\"x\":\"YearsSinceLastPromotion\",\"xref\":\"x\",\"y\":\"YearsAtCompany\",\"yref\":\"y\"},{\"font\":{\"color\":\"white\"},\"showarrow\":false,\"text\":\"0.77\",\"x\":\"YearsWithCurrManager\",\"xref\":\"x\",\"y\":\"YearsAtCompany\",\"yref\":\"y\"},{\"font\":{\"color\":\"black\"},\"showarrow\":false,\"text\":\"0.21\",\"x\":\"Age\",\"xref\":\"x\",\"y\":\"YearsInCurrentRole\",\"yref\":\"y\"},{\"font\":{\"color\":\"black\"},\"showarrow\":false,\"text\":\"-0.16\",\"x\":\"Attrition\",\"xref\":\"x\",\"y\":\"YearsInCurrentRole\",\"yref\":\"y\"},{\"font\":{\"color\":\"black\"},\"showarrow\":false,\"text\":\"-0.01\",\"x\":\"BusinessTravel\",\"xref\":\"x\",\"y\":\"YearsInCurrentRole\",\"yref\":\"y\"},{\"font\":{\"color\":\"black\"},\"showarrow\":false,\"text\":\"0.01\",\"x\":\"DailyRate\",\"xref\":\"x\",\"y\":\"YearsInCurrentRole\",\"yref\":\"y\"},{\"font\":{\"color\":\"black\"},\"showarrow\":false,\"text\":\"0.06\",\"x\":\"Department\",\"xref\":\"x\",\"y\":\"YearsInCurrentRole\",\"yref\":\"y\"},{\"font\":{\"color\":\"black\"},\"showarrow\":false,\"text\":\"0.02\",\"x\":\"DistanceFromHome\",\"xref\":\"x\",\"y\":\"YearsInCurrentRole\",\"yref\":\"y\"},{\"font\":{\"color\":\"black\"},\"showarrow\":false,\"text\":\"0.06\",\"x\":\"Education\",\"xref\":\"x\",\"y\":\"YearsInCurrentRole\",\"yref\":\"y\"},{\"font\":{\"color\":\"black\"},\"showarrow\":false,\"text\":\"-0.01\",\"x\":\"EducationField\",\"xref\":\"x\",\"y\":\"YearsInCurrentRole\",\"yref\":\"y\"},{\"font\":{\"color\":\"black\"},\"showarrow\":false,\"text\":\"0.02\",\"x\":\"EnvironmentSatisfaction\",\"xref\":\"x\",\"y\":\"YearsInCurrentRole\",\"yref\":\"y\"},{\"font\":{\"color\":\"black\"},\"showarrow\":false,\"text\":\"-0.04\",\"x\":\"Gender\",\"xref\":\"x\",\"y\":\"YearsInCurrentRole\",\"yref\":\"y\"},{\"font\":{\"color\":\"black\"},\"showarrow\":false,\"text\":\"-0.02\",\"x\":\"HourlyRate\",\"xref\":\"x\",\"y\":\"YearsInCurrentRole\",\"yref\":\"y\"},{\"font\":{\"color\":\"black\"},\"showarrow\":false,\"text\":\"0.01\",\"x\":\"JobInvolvement\",\"xref\":\"x\",\"y\":\"YearsInCurrentRole\",\"yref\":\"y\"},{\"font\":{\"color\":\"black\"},\"showarrow\":false,\"text\":\"0.39\",\"x\":\"JobLevel\",\"xref\":\"x\",\"y\":\"YearsInCurrentRole\",\"yref\":\"y\"},{\"font\":{\"color\":\"black\"},\"showarrow\":false,\"text\":\"-0.03\",\"x\":\"JobRole\",\"xref\":\"x\",\"y\":\"YearsInCurrentRole\",\"yref\":\"y\"},{\"font\":{\"color\":\"black\"},\"showarrow\":false,\"text\":\"-0.01\",\"x\":\"JobSatisfaction\",\"xref\":\"x\",\"y\":\"YearsInCurrentRole\",\"yref\":\"y\"},{\"font\":{\"color\":\"black\"},\"showarrow\":false,\"text\":\"-0.07\",\"x\":\"MaritalStatus\",\"xref\":\"x\",\"y\":\"YearsInCurrentRole\",\"yref\":\"y\"},{\"font\":{\"color\":\"black\"},\"showarrow\":false,\"text\":\"0.36\",\"x\":\"MonthlyIncome\",\"xref\":\"x\",\"y\":\"YearsInCurrentRole\",\"yref\":\"y\"},{\"font\":{\"color\":\"black\"},\"showarrow\":false,\"text\":\"-0.01\",\"x\":\"MonthlyRate\",\"xref\":\"x\",\"y\":\"YearsInCurrentRole\",\"yref\":\"y\"},{\"font\":{\"color\":\"black\"},\"showarrow\":false,\"text\":\"-0.09\",\"x\":\"NumCompaniesWorked\",\"xref\":\"x\",\"y\":\"YearsInCurrentRole\",\"yref\":\"y\"},{\"font\":{\"color\":\"black\"},\"showarrow\":false,\"text\":\"-0.03\",\"x\":\"OverTime\",\"xref\":\"x\",\"y\":\"YearsInCurrentRole\",\"yref\":\"y\"},{\"font\":{\"color\":\"black\"},\"showarrow\":false,\"text\":\"-0.0\",\"x\":\"PercentSalaryHike\",\"xref\":\"x\",\"y\":\"YearsInCurrentRole\",\"yref\":\"y\"},{\"font\":{\"color\":\"black\"},\"showarrow\":false,\"text\":\"0.03\",\"x\":\"PerformanceRating\",\"xref\":\"x\",\"y\":\"YearsInCurrentRole\",\"yref\":\"y\"},{\"font\":{\"color\":\"black\"},\"showarrow\":false,\"text\":\"-0.02\",\"x\":\"RelationshipSatisfaction\",\"xref\":\"x\",\"y\":\"YearsInCurrentRole\",\"yref\":\"y\"},{\"font\":{\"color\":\"black\"},\"showarrow\":false,\"text\":\"0.05\",\"x\":\"StockOptionLevel\",\"xref\":\"x\",\"y\":\"YearsInCurrentRole\",\"yref\":\"y\"},{\"font\":{\"color\":\"black\"},\"showarrow\":false,\"text\":\"0.46\",\"x\":\"TotalWorkingYears\",\"xref\":\"x\",\"y\":\"YearsInCurrentRole\",\"yref\":\"y\"},{\"font\":{\"color\":\"black\"},\"showarrow\":false,\"text\":\"-0.01\",\"x\":\"TrainingTimesLastYear\",\"xref\":\"x\",\"y\":\"YearsInCurrentRole\",\"yref\":\"y\"},{\"font\":{\"color\":\"black\"},\"showarrow\":false,\"text\":\"0.05\",\"x\":\"WorkLifeBalance\",\"xref\":\"x\",\"y\":\"YearsInCurrentRole\",\"yref\":\"y\"},{\"font\":{\"color\":\"white\"},\"showarrow\":false,\"text\":\"0.76\",\"x\":\"YearsAtCompany\",\"xref\":\"x\",\"y\":\"YearsInCurrentRole\",\"yref\":\"y\"},{\"font\":{\"color\":\"white\"},\"showarrow\":false,\"text\":\"1.0\",\"x\":\"YearsInCurrentRole\",\"xref\":\"x\",\"y\":\"YearsInCurrentRole\",\"yref\":\"y\"},{\"font\":{\"color\":\"white\"},\"showarrow\":false,\"text\":\"0.55\",\"x\":\"YearsSinceLastPromotion\",\"xref\":\"x\",\"y\":\"YearsInCurrentRole\",\"yref\":\"y\"},{\"font\":{\"color\":\"white\"},\"showarrow\":false,\"text\":\"0.71\",\"x\":\"YearsWithCurrManager\",\"xref\":\"x\",\"y\":\"YearsInCurrentRole\",\"yref\":\"y\"},{\"font\":{\"color\":\"black\"},\"showarrow\":false,\"text\":\"0.22\",\"x\":\"Age\",\"xref\":\"x\",\"y\":\"YearsSinceLastPromotion\",\"yref\":\"y\"},{\"font\":{\"color\":\"black\"},\"showarrow\":false,\"text\":\"-0.03\",\"x\":\"Attrition\",\"xref\":\"x\",\"y\":\"YearsSinceLastPromotion\",\"yref\":\"y\"},{\"font\":{\"color\":\"black\"},\"showarrow\":false,\"text\":\"-0.03\",\"x\":\"BusinessTravel\",\"xref\":\"x\",\"y\":\"YearsSinceLastPromotion\",\"yref\":\"y\"},{\"font\":{\"color\":\"black\"},\"showarrow\":false,\"text\":\"-0.03\",\"x\":\"DailyRate\",\"xref\":\"x\",\"y\":\"YearsSinceLastPromotion\",\"yref\":\"y\"},{\"font\":{\"color\":\"black\"},\"showarrow\":false,\"text\":\"0.04\",\"x\":\"Department\",\"xref\":\"x\",\"y\":\"YearsSinceLastPromotion\",\"yref\":\"y\"},{\"font\":{\"color\":\"black\"},\"showarrow\":false,\"text\":\"0.01\",\"x\":\"DistanceFromHome\",\"xref\":\"x\",\"y\":\"YearsSinceLastPromotion\",\"yref\":\"y\"},{\"font\":{\"color\":\"black\"},\"showarrow\":false,\"text\":\"0.05\",\"x\":\"Education\",\"xref\":\"x\",\"y\":\"YearsSinceLastPromotion\",\"yref\":\"y\"},{\"font\":{\"color\":\"black\"},\"showarrow\":false,\"text\":\"0.0\",\"x\":\"EducationField\",\"xref\":\"x\",\"y\":\"YearsSinceLastPromotion\",\"yref\":\"y\"},{\"font\":{\"color\":\"black\"},\"showarrow\":false,\"text\":\"0.02\",\"x\":\"EnvironmentSatisfaction\",\"xref\":\"x\",\"y\":\"YearsSinceLastPromotion\",\"yref\":\"y\"},{\"font\":{\"color\":\"black\"},\"showarrow\":false,\"text\":\"-0.03\",\"x\":\"Gender\",\"xref\":\"x\",\"y\":\"YearsSinceLastPromotion\",\"yref\":\"y\"},{\"font\":{\"color\":\"black\"},\"showarrow\":false,\"text\":\"-0.03\",\"x\":\"HourlyRate\",\"xref\":\"x\",\"y\":\"YearsSinceLastPromotion\",\"yref\":\"y\"},{\"font\":{\"color\":\"black\"},\"showarrow\":false,\"text\":\"-0.02\",\"x\":\"JobInvolvement\",\"xref\":\"x\",\"y\":\"YearsSinceLastPromotion\",\"yref\":\"y\"},{\"font\":{\"color\":\"black\"},\"showarrow\":false,\"text\":\"0.35\",\"x\":\"JobLevel\",\"xref\":\"x\",\"y\":\"YearsSinceLastPromotion\",\"yref\":\"y\"},{\"font\":{\"color\":\"black\"},\"showarrow\":false,\"text\":\"-0.05\",\"x\":\"JobRole\",\"xref\":\"x\",\"y\":\"YearsSinceLastPromotion\",\"yref\":\"y\"},{\"font\":{\"color\":\"black\"},\"showarrow\":false,\"text\":\"-0.0\",\"x\":\"JobSatisfaction\",\"xref\":\"x\",\"y\":\"YearsSinceLastPromotion\",\"yref\":\"y\"},{\"font\":{\"color\":\"black\"},\"showarrow\":false,\"text\":\"-0.03\",\"x\":\"MaritalStatus\",\"xref\":\"x\",\"y\":\"YearsSinceLastPromotion\",\"yref\":\"y\"},{\"font\":{\"color\":\"black\"},\"showarrow\":false,\"text\":\"0.34\",\"x\":\"MonthlyIncome\",\"xref\":\"x\",\"y\":\"YearsSinceLastPromotion\",\"yref\":\"y\"},{\"font\":{\"color\":\"black\"},\"showarrow\":false,\"text\":\"0.0\",\"x\":\"MonthlyRate\",\"xref\":\"x\",\"y\":\"YearsSinceLastPromotion\",\"yref\":\"y\"},{\"font\":{\"color\":\"black\"},\"showarrow\":false,\"text\":\"-0.04\",\"x\":\"NumCompaniesWorked\",\"xref\":\"x\",\"y\":\"YearsSinceLastPromotion\",\"yref\":\"y\"},{\"font\":{\"color\":\"black\"},\"showarrow\":false,\"text\":\"-0.01\",\"x\":\"OverTime\",\"xref\":\"x\",\"y\":\"YearsSinceLastPromotion\",\"yref\":\"y\"},{\"font\":{\"color\":\"black\"},\"showarrow\":false,\"text\":\"-0.02\",\"x\":\"PercentSalaryHike\",\"xref\":\"x\",\"y\":\"YearsSinceLastPromotion\",\"yref\":\"y\"},{\"font\":{\"color\":\"black\"},\"showarrow\":false,\"text\":\"0.02\",\"x\":\"PerformanceRating\",\"xref\":\"x\",\"y\":\"YearsSinceLastPromotion\",\"yref\":\"y\"},{\"font\":{\"color\":\"black\"},\"showarrow\":false,\"text\":\"0.03\",\"x\":\"RelationshipSatisfaction\",\"xref\":\"x\",\"y\":\"YearsSinceLastPromotion\",\"yref\":\"y\"},{\"font\":{\"color\":\"black\"},\"showarrow\":false,\"text\":\"0.01\",\"x\":\"StockOptionLevel\",\"xref\":\"x\",\"y\":\"YearsSinceLastPromotion\",\"yref\":\"y\"},{\"font\":{\"color\":\"black\"},\"showarrow\":false,\"text\":\"0.4\",\"x\":\"TotalWorkingYears\",\"xref\":\"x\",\"y\":\"YearsSinceLastPromotion\",\"yref\":\"y\"},{\"font\":{\"color\":\"black\"},\"showarrow\":false,\"text\":\"-0.0\",\"x\":\"TrainingTimesLastYear\",\"xref\":\"x\",\"y\":\"YearsSinceLastPromotion\",\"yref\":\"y\"},{\"font\":{\"color\":\"black\"},\"showarrow\":false,\"text\":\"0.01\",\"x\":\"WorkLifeBalance\",\"xref\":\"x\",\"y\":\"YearsSinceLastPromotion\",\"yref\":\"y\"},{\"font\":{\"color\":\"white\"},\"showarrow\":false,\"text\":\"0.62\",\"x\":\"YearsAtCompany\",\"xref\":\"x\",\"y\":\"YearsSinceLastPromotion\",\"yref\":\"y\"},{\"font\":{\"color\":\"white\"},\"showarrow\":false,\"text\":\"0.55\",\"x\":\"YearsInCurrentRole\",\"xref\":\"x\",\"y\":\"YearsSinceLastPromotion\",\"yref\":\"y\"},{\"font\":{\"color\":\"white\"},\"showarrow\":false,\"text\":\"1.0\",\"x\":\"YearsSinceLastPromotion\",\"xref\":\"x\",\"y\":\"YearsSinceLastPromotion\",\"yref\":\"y\"},{\"font\":{\"color\":\"white\"},\"showarrow\":false,\"text\":\"0.51\",\"x\":\"YearsWithCurrManager\",\"xref\":\"x\",\"y\":\"YearsSinceLastPromotion\",\"yref\":\"y\"},{\"font\":{\"color\":\"black\"},\"showarrow\":false,\"text\":\"0.2\",\"x\":\"Age\",\"xref\":\"x\",\"y\":\"YearsWithCurrManager\",\"yref\":\"y\"},{\"font\":{\"color\":\"black\"},\"showarrow\":false,\"text\":\"-0.16\",\"x\":\"Attrition\",\"xref\":\"x\",\"y\":\"YearsWithCurrManager\",\"yref\":\"y\"},{\"font\":{\"color\":\"black\"},\"showarrow\":false,\"text\":\"-0.02\",\"x\":\"BusinessTravel\",\"xref\":\"x\",\"y\":\"YearsWithCurrManager\",\"yref\":\"y\"},{\"font\":{\"color\":\"black\"},\"showarrow\":false,\"text\":\"-0.03\",\"x\":\"DailyRate\",\"xref\":\"x\",\"y\":\"YearsWithCurrManager\",\"yref\":\"y\"},{\"font\":{\"color\":\"black\"},\"showarrow\":false,\"text\":\"0.03\",\"x\":\"Department\",\"xref\":\"x\",\"y\":\"YearsWithCurrManager\",\"yref\":\"y\"},{\"font\":{\"color\":\"black\"},\"showarrow\":false,\"text\":\"0.01\",\"x\":\"DistanceFromHome\",\"xref\":\"x\",\"y\":\"YearsWithCurrManager\",\"yref\":\"y\"},{\"font\":{\"color\":\"black\"},\"showarrow\":false,\"text\":\"0.07\",\"x\":\"Education\",\"xref\":\"x\",\"y\":\"YearsWithCurrManager\",\"yref\":\"y\"},{\"font\":{\"color\":\"black\"},\"showarrow\":false,\"text\":\"-0.0\",\"x\":\"EducationField\",\"xref\":\"x\",\"y\":\"YearsWithCurrManager\",\"yref\":\"y\"},{\"font\":{\"color\":\"black\"},\"showarrow\":false,\"text\":\"-0.0\",\"x\":\"EnvironmentSatisfaction\",\"xref\":\"x\",\"y\":\"YearsWithCurrManager\",\"yref\":\"y\"},{\"font\":{\"color\":\"black\"},\"showarrow\":false,\"text\":\"-0.03\",\"x\":\"Gender\",\"xref\":\"x\",\"y\":\"YearsWithCurrManager\",\"yref\":\"y\"},{\"font\":{\"color\":\"black\"},\"showarrow\":false,\"text\":\"-0.02\",\"x\":\"HourlyRate\",\"xref\":\"x\",\"y\":\"YearsWithCurrManager\",\"yref\":\"y\"},{\"font\":{\"color\":\"black\"},\"showarrow\":false,\"text\":\"0.03\",\"x\":\"JobInvolvement\",\"xref\":\"x\",\"y\":\"YearsWithCurrManager\",\"yref\":\"y\"},{\"font\":{\"color\":\"black\"},\"showarrow\":false,\"text\":\"0.38\",\"x\":\"JobLevel\",\"xref\":\"x\",\"y\":\"YearsWithCurrManager\",\"yref\":\"y\"},{\"font\":{\"color\":\"black\"},\"showarrow\":false,\"text\":\"-0.04\",\"x\":\"JobRole\",\"xref\":\"x\",\"y\":\"YearsWithCurrManager\",\"yref\":\"y\"},{\"font\":{\"color\":\"black\"},\"showarrow\":false,\"text\":\"-0.0\",\"x\":\"JobSatisfaction\",\"xref\":\"x\",\"y\":\"YearsWithCurrManager\",\"yref\":\"y\"},{\"font\":{\"color\":\"black\"},\"showarrow\":false,\"text\":\"-0.04\",\"x\":\"MaritalStatus\",\"xref\":\"x\",\"y\":\"YearsWithCurrManager\",\"yref\":\"y\"},{\"font\":{\"color\":\"black\"},\"showarrow\":false,\"text\":\"0.34\",\"x\":\"MonthlyIncome\",\"xref\":\"x\",\"y\":\"YearsWithCurrManager\",\"yref\":\"y\"},{\"font\":{\"color\":\"black\"},\"showarrow\":false,\"text\":\"-0.04\",\"x\":\"MonthlyRate\",\"xref\":\"x\",\"y\":\"YearsWithCurrManager\",\"yref\":\"y\"},{\"font\":{\"color\":\"black\"},\"showarrow\":false,\"text\":\"-0.11\",\"x\":\"NumCompaniesWorked\",\"xref\":\"x\",\"y\":\"YearsWithCurrManager\",\"yref\":\"y\"},{\"font\":{\"color\":\"black\"},\"showarrow\":false,\"text\":\"-0.04\",\"x\":\"OverTime\",\"xref\":\"x\",\"y\":\"YearsWithCurrManager\",\"yref\":\"y\"},{\"font\":{\"color\":\"black\"},\"showarrow\":false,\"text\":\"-0.01\",\"x\":\"PercentSalaryHike\",\"xref\":\"x\",\"y\":\"YearsWithCurrManager\",\"yref\":\"y\"},{\"font\":{\"color\":\"black\"},\"showarrow\":false,\"text\":\"0.02\",\"x\":\"PerformanceRating\",\"xref\":\"x\",\"y\":\"YearsWithCurrManager\",\"yref\":\"y\"},{\"font\":{\"color\":\"black\"},\"showarrow\":false,\"text\":\"-0.0\",\"x\":\"RelationshipSatisfaction\",\"xref\":\"x\",\"y\":\"YearsWithCurrManager\",\"yref\":\"y\"},{\"font\":{\"color\":\"black\"},\"showarrow\":false,\"text\":\"0.02\",\"x\":\"StockOptionLevel\",\"xref\":\"x\",\"y\":\"YearsWithCurrManager\",\"yref\":\"y\"},{\"font\":{\"color\":\"black\"},\"showarrow\":false,\"text\":\"0.46\",\"x\":\"TotalWorkingYears\",\"xref\":\"x\",\"y\":\"YearsWithCurrManager\",\"yref\":\"y\"},{\"font\":{\"color\":\"black\"},\"showarrow\":false,\"text\":\"-0.0\",\"x\":\"TrainingTimesLastYear\",\"xref\":\"x\",\"y\":\"YearsWithCurrManager\",\"yref\":\"y\"},{\"font\":{\"color\":\"black\"},\"showarrow\":false,\"text\":\"0.0\",\"x\":\"WorkLifeBalance\",\"xref\":\"x\",\"y\":\"YearsWithCurrManager\",\"yref\":\"y\"},{\"font\":{\"color\":\"white\"},\"showarrow\":false,\"text\":\"0.77\",\"x\":\"YearsAtCompany\",\"xref\":\"x\",\"y\":\"YearsWithCurrManager\",\"yref\":\"y\"},{\"font\":{\"color\":\"white\"},\"showarrow\":false,\"text\":\"0.71\",\"x\":\"YearsInCurrentRole\",\"xref\":\"x\",\"y\":\"YearsWithCurrManager\",\"yref\":\"y\"},{\"font\":{\"color\":\"white\"},\"showarrow\":false,\"text\":\"0.51\",\"x\":\"YearsSinceLastPromotion\",\"xref\":\"x\",\"y\":\"YearsWithCurrManager\",\"yref\":\"y\"},{\"font\":{\"color\":\"white\"},\"showarrow\":false,\"text\":\"1.0\",\"x\":\"YearsWithCurrManager\",\"xref\":\"x\",\"y\":\"YearsWithCurrManager\",\"yref\":\"y\"}],\"yaxis\":{\"autorange\":\"reversed\"},\"title\":{\"text\":\"\\u003cb\\u003eCorrelation Matrix of Employee Attrition\\u003c\\u002fb\\u003e\",\"x\":0.5},\"legend\":{\"orientation\":\"h\",\"yanchor\":\"bottom\",\"y\":-0.2,\"xanchor\":\"center\",\"x\":0.49},\"font\":{\"color\":\"#28221D\"},\"height\":800,\"paper_bgcolor\":\"#FFFFFF\",\"plot_bgcolor\":\"#FFFFFF\"},                        {\"responsive\": true}                    ).then(function(){\n",
              "                            \n",
              "var gd = document.getElementById('128f1171-dc20-4656-9947-fc47c8e1139f');\n",
              "var x = new MutationObserver(function (mutations, observer) {{\n",
              "        var display = window.getComputedStyle(gd).display;\n",
              "        if (!display || display === 'none') {{\n",
              "            console.log([gd, 'removed!']);\n",
              "            Plotly.purge(gd);\n",
              "            observer.disconnect();\n",
              "        }}\n",
              "}});\n",
              "\n",
              "// Listen for the removal of the full notebook cells\n",
              "var notebookContainer = gd.closest('#notebook-container');\n",
              "if (notebookContainer) {{\n",
              "    x.observe(notebookContainer, {childList: true});\n",
              "}}\n",
              "\n",
              "// Listen for the clearing of the current output cell\n",
              "var outputEl = gd.closest('.output');\n",
              "if (outputEl) {{\n",
              "    x.observe(outputEl, {childList: true});\n",
              "}}\n",
              "\n",
              "                        })                };                            </script>        </div>\n",
              "</body>\n",
              "</html>"
            ]
          },
          "metadata": {}
        }
      ],
      "source": [
        "corr = df_hr.corr().round(2)\n",
        "\n",
        "fig = go.Figure(data=go.Heatmap(\n",
        "    z=corr.to_numpy(),\n",
        "    x=corr.index.tolist(),\n",
        "    y=corr.columns.tolist(),\n",
        "    colorscale='OrRd',\n",
        "    hovertemplate=\"Correlation between %{x} and %{y} = %{z}\"\n",
        "))\n",
        "\n",
        "annotations = []\n",
        "for i, row in enumerate(corr.index):\n",
        "    for j, value in enumerate(corr.iloc[i]):\n",
        "        annotations.append(dict(\n",
        "            x=corr.columns[j],\n",
        "            y=corr.index[i],\n",
        "            text=str(value),\n",
        "            xref='x',\n",
        "            yref='y',\n",
        "            font=dict(color='white' if abs(value) > 0.5 else 'black'),  # Color based on value\n",
        "            showarrow=False))\n",
        "\n",
        "fig.update_layout(annotations=annotations)\n",
        "\n",
        "fig.update_yaxes(autorange=\"reversed\")\n",
        "fig.update_layout(\n",
        "    title=\"<b>Correlation Matrix of Employee Attrition</b>\",\n",
        "    height=800,\n",
        "    title_x=0.5,\n",
        "    legend=dict(orientation='h', yanchor='bottom', y=-0.2, xanchor='center', x=0.49),\n",
        "    font_color='#28221D',\n",
        "    paper_bgcolor='#FFFFFF',\n",
        "    plot_bgcolor='#FFFFFF')\n",
        "\n",
        "fig.show()\n"
      ]
    },
    {
      "cell_type": "markdown",
      "id": "d28c4489",
      "metadata": {
        "papermill": {
          "duration": 0.032754,
          "end_time": "2024-05-03T15:42:09.111430",
          "exception": false,
          "start_time": "2024-05-03T15:42:09.078676",
          "status": "completed"
        },
        "tags": [],
        "id": "d28c4489"
      },
      "source": [
        "Terdapat korelasi yang tinggi di antara sejumlah fitur:\n",
        "\n",
        "`MonthlyIncome` <> `JobLevel` <br>\n",
        "`YearsInCurrentRole` <> `YearAtCompany` <br>\n",
        "`YearWithCurrManager` <> `YearsInCurrentRole` <br>\n",
        "`TotalWorkingYears` <> `JobLevel` <br>\n",
        "`TotalWorkingYears` <> `MonthlyIncome` <br>\n",
        "`PercentSalaryHike` <> `PerformanceRating`"
      ]
    },
    {
      "cell_type": "markdown",
      "id": "0558caa9",
      "metadata": {
        "papermill": {
          "duration": 0.03188,
          "end_time": "2024-05-03T15:42:09.176950",
          "exception": false,
          "start_time": "2024-05-03T15:42:09.145070",
          "status": "completed"
        },
        "tags": [],
        "id": "0558caa9"
      },
      "source": [
        "### 3.5 Treating Imbalance Data"
      ]
    },
    {
      "cell_type": "code",
      "execution_count": 100,
      "id": "603dd43e",
      "metadata": {
        "execution": {
          "iopub.execute_input": "2024-05-03T15:42:09.245566Z",
          "iopub.status.busy": "2024-05-03T15:42:09.245135Z",
          "iopub.status.idle": "2024-05-03T15:42:09.252448Z",
          "shell.execute_reply": "2024-05-03T15:42:09.251287Z"
        },
        "papermill": {
          "duration": 0.044573,
          "end_time": "2024-05-03T15:42:09.254923",
          "exception": false,
          "start_time": "2024-05-03T15:42:09.210350",
          "status": "completed"
        },
        "tags": [],
        "colab": {
          "base_uri": "https://localhost:8080/"
        },
        "id": "603dd43e",
        "outputId": "665de9c2-fd26-40e1-9ae5-2a23a6656596"
      },
      "outputs": [
        {
          "output_type": "execute_result",
          "data": {
            "text/plain": [
              "(1470, 31)"
            ]
          },
          "metadata": {},
          "execution_count": 100
        }
      ],
      "source": [
        "df_hr.shape"
      ]
    },
    {
      "cell_type": "code",
      "execution_count": 101,
      "id": "be707303",
      "metadata": {
        "execution": {
          "iopub.execute_input": "2024-05-03T15:42:09.323689Z",
          "iopub.status.busy": "2024-05-03T15:42:09.323282Z",
          "iopub.status.idle": "2024-05-03T15:42:09.330572Z",
          "shell.execute_reply": "2024-05-03T15:42:09.328888Z"
        },
        "papermill": {
          "duration": 0.046101,
          "end_time": "2024-05-03T15:42:09.333775",
          "exception": false,
          "start_time": "2024-05-03T15:42:09.287674",
          "status": "completed"
        },
        "tags": [],
        "id": "be707303"
      },
      "outputs": [],
      "source": [
        "df_hr_cp = df_hr.copy()"
      ]
    },
    {
      "cell_type": "code",
      "execution_count": 102,
      "id": "10ad6948",
      "metadata": {
        "execution": {
          "iopub.execute_input": "2024-05-03T15:42:09.402937Z",
          "iopub.status.busy": "2024-05-03T15:42:09.402487Z",
          "iopub.status.idle": "2024-05-03T15:42:09.412775Z",
          "shell.execute_reply": "2024-05-03T15:42:09.411330Z"
        },
        "papermill": {
          "duration": 0.047402,
          "end_time": "2024-05-03T15:42:09.415331",
          "exception": false,
          "start_time": "2024-05-03T15:42:09.367929",
          "status": "completed"
        },
        "tags": [],
        "colab": {
          "base_uri": "https://localhost:8080/"
        },
        "id": "10ad6948",
        "outputId": "2d4e1e08-f188-4690-9514-ce83abc653be"
      },
      "outputs": [
        {
          "output_type": "stream",
          "name": "stdout",
          "text": [
            "Jumlah untuk setiap class:\n",
            "Attrition\n",
            "0    1233\n",
            "1     237\n",
            "Name: count, dtype: int64\n",
            "\n"
          ]
        }
      ],
      "source": [
        "attrition_counts = df_hr_cp['Attrition'].value_counts()\n",
        "print(\"Jumlah untuk setiap class:\")\n",
        "print(attrition_counts)\n",
        "print()"
      ]
    },
    {
      "cell_type": "code",
      "execution_count": 103,
      "id": "f7a30b45",
      "metadata": {
        "execution": {
          "iopub.execute_input": "2024-05-03T15:42:09.484009Z",
          "iopub.status.busy": "2024-05-03T15:42:09.483234Z",
          "iopub.status.idle": "2024-05-03T15:42:09.491360Z",
          "shell.execute_reply": "2024-05-03T15:42:09.489735Z"
        },
        "papermill": {
          "duration": 0.046524,
          "end_time": "2024-05-03T15:42:09.494506",
          "exception": false,
          "start_time": "2024-05-03T15:42:09.447982",
          "status": "completed"
        },
        "tags": [],
        "colab": {
          "base_uri": "https://localhost:8080/"
        },
        "id": "f7a30b45",
        "outputId": "d6401bc3-d440-4788-dac9-5c51cf279a28"
      },
      "outputs": [
        {
          "output_type": "stream",
          "name": "stdout",
          "text": [
            "Imbalance Ratio (Karyawan yang Dipertahankan: Karyawan yang Mengundurkan Diri): 5.20 : 1\n"
          ]
        }
      ],
      "source": [
        "attrition_counts = df_hr_cp['Attrition'].value_counts()\n",
        "\n",
        "# imbalance ratio\n",
        "imbalance_ratio = attrition_counts[0] / attrition_counts[1]\n",
        "\n",
        "print(\"Imbalance Ratio (Karyawan yang Dipertahankan: Karyawan yang Mengundurkan Diri): {:.2f} : 1\".format(imbalance_ratio))"
      ]
    },
    {
      "cell_type": "markdown",
      "id": "86246094",
      "metadata": {
        "papermill": {
          "duration": 0.031853,
          "end_time": "2024-05-03T15:42:09.560040",
          "exception": false,
          "start_time": "2024-05-03T15:42:09.528187",
          "status": "completed"
        },
        "tags": [],
        "id": "86246094"
      },
      "source": [
        "- Dataset tidak seimbang dengan bias terhadap Karyawan yang Dipertahankan dengan rasio 5,2 : 1 untuk Karyawan yang Dipertahankan: Karyawan yang keluar.\n",
        "<br><br>\n",
        "Untuk mengoptimalkan kinerja, strategi yang menggabungkan undersampling dan oversampling dilakukan.\n"
      ]
    },
    {
      "cell_type": "code",
      "execution_count": 104,
      "id": "317b5b72",
      "metadata": {
        "execution": {
          "iopub.execute_input": "2024-05-03T15:42:09.690370Z",
          "iopub.status.busy": "2024-05-03T15:42:09.689910Z",
          "iopub.status.idle": "2024-05-03T15:42:09.920919Z",
          "shell.execute_reply": "2024-05-03T15:42:09.918939Z"
        },
        "papermill": {
          "duration": 0.269554,
          "end_time": "2024-05-03T15:42:09.925599",
          "exception": false,
          "start_time": "2024-05-03T15:42:09.656045",
          "status": "completed"
        },
        "tags": [],
        "colab": {
          "base_uri": "https://localhost:8080/"
        },
        "id": "317b5b72",
        "outputId": "c046e02a-607d-4e3a-e520-bcedec508447"
      },
      "outputs": [
        {
          "output_type": "stream",
          "name": "stdout",
          "text": [
            "Distribusi kelas asli:\n",
            "Counter({0: 1233, 1: 237})\n",
            "\n",
            "Distribusi kelas setelah oversampling:\n",
            "Counter({0: 1233, 1: 1048})\n",
            "\n",
            "Distribusi kelas setelah undersampling:\n",
            "Counter({0: 1048, 1: 1048})\n"
          ]
        }
      ],
      "source": [
        "import imblearn\n",
        "from collections import Counter\n",
        "from imblearn.over_sampling import SMOTE\n",
        "from imblearn.under_sampling import RandomUnderSampler\n",
        "from imblearn.pipeline import Pipeline\n",
        "\n",
        "cols = list(df_hr_cp.columns)\n",
        "cols.remove('Attrition')\n",
        "\n",
        "print(\"Distribusi kelas asli:\")\n",
        "print(Counter(df_hr_cp['Attrition']))\n",
        "\n",
        "# SMOTE oversampling\n",
        "over_sampler = SMOTE(sampling_strategy=0.85)\n",
        "under_sampler = RandomUnderSampler(sampling_strategy='auto')\n",
        "\n",
        "# Oversampling pipeline\n",
        "oversampling_steps = [('over', over_sampler)]\n",
        "oversampling_pipeline = Pipeline(steps=oversampling_steps)\n",
        "X_resampled, y_resampled = oversampling_pipeline.fit_resample(df_hr_cp.loc[:, cols], df_hr_cp.loc[:, 'Attrition'])\n",
        "\n",
        "print(\"\\nDistribusi kelas setelah oversampling:\")\n",
        "print(Counter(y_resampled))\n",
        "\n",
        "# Undersampling pipeline\n",
        "undersampling_steps = [('under', under_sampler)]\n",
        "undersampling_pipeline = Pipeline(steps=undersampling_steps)\n",
        "X_resampled_final, y_resampled_final = undersampling_pipeline.fit_resample(X_resampled, y_resampled)\n",
        "\n",
        "print(\"\\nDistribusi kelas setelah undersampling:\")\n",
        "print(Counter(y_resampled_final))\n"
      ]
    },
    {
      "cell_type": "markdown",
      "id": "639d92b0",
      "metadata": {
        "papermill": {
          "duration": 0.033058,
          "end_time": "2024-05-03T15:42:10.102362",
          "exception": false,
          "start_time": "2024-05-03T15:42:10.069304",
          "status": "completed"
        },
        "tags": [],
        "id": "639d92b0"
      },
      "source": [
        "Tujuan utama dalam menangani ketidakseimbangan data adalah untuk mencegah prediksi model agar tidak condong ke arah Class 0 (kelas mayoritas) dan menghasilkan prediksi yang lebih adil dan akurat untuk Class 1 (kelas minoritas).\n"
      ]
    },
    {
      "cell_type": "code",
      "execution_count": 105,
      "id": "1ba503d4",
      "metadata": {
        "execution": {
          "iopub.execute_input": "2024-05-03T15:42:10.172615Z",
          "iopub.status.busy": "2024-05-03T15:42:10.171905Z",
          "iopub.status.idle": "2024-05-03T15:42:10.179438Z",
          "shell.execute_reply": "2024-05-03T15:42:10.178260Z"
        },
        "papermill": {
          "duration": 0.045128,
          "end_time": "2024-05-03T15:42:10.181658",
          "exception": false,
          "start_time": "2024-05-03T15:42:10.136530",
          "status": "completed"
        },
        "tags": [],
        "colab": {
          "base_uri": "https://localhost:8080/"
        },
        "id": "1ba503d4",
        "outputId": "11b52501-a2ce-47aa-9045-81b3c3d12363"
      },
      "outputs": [
        {
          "output_type": "execute_result",
          "data": {
            "text/plain": [
              "(1470, 31)"
            ]
          },
          "metadata": {},
          "execution_count": 105
        }
      ],
      "source": [
        "df_hr_cp.shape"
      ]
    },
    {
      "cell_type": "markdown",
      "source": [
        "### 3.6 Train-Test-Split"
      ],
      "metadata": {
        "id": "8hrdtKlibmP0"
      },
      "id": "8hrdtKlibmP0"
    },
    {
      "cell_type": "code",
      "execution_count": 106,
      "id": "bc9fc1bd",
      "metadata": {
        "execution": {
          "iopub.execute_input": "2024-05-03T15:42:10.251301Z",
          "iopub.status.busy": "2024-05-03T15:42:10.250569Z",
          "iopub.status.idle": "2024-05-03T15:42:10.262715Z",
          "shell.execute_reply": "2024-05-03T15:42:10.261236Z"
        },
        "papermill": {
          "duration": 0.050262,
          "end_time": "2024-05-03T15:42:10.265086",
          "exception": false,
          "start_time": "2024-05-03T15:42:10.214824",
          "status": "completed"
        },
        "tags": [],
        "colab": {
          "base_uri": "https://localhost:8080/"
        },
        "id": "bc9fc1bd",
        "outputId": "921fed96-568c-4569-eecf-cb12d02c316f"
      },
      "outputs": [
        {
          "output_type": "stream",
          "name": "stdout",
          "text": [
            "Shape of x_train: (1676, 30)\n",
            "Shape of x_test: (420, 30)\n",
            "Shape of y_train: (1676,)\n",
            "Shape of y_test: (420,)\n"
          ]
        }
      ],
      "source": [
        "from sklearn.model_selection import train_test_split\n",
        "\n",
        "# Split the resampled data into train and test sets\n",
        "x_train, x_test, y_train, y_test = train_test_split(X_resampled_final, y_resampled_final, test_size=0.2, random_state=42)\n",
        "\n",
        "# Print the shapes of train and test sets\n",
        "print(\"Shape of x_train:\", x_train.shape)\n",
        "print(\"Shape of x_test:\", x_test.shape)\n",
        "print(\"Shape of y_train:\", y_train.shape)\n",
        "print(\"Shape of y_test:\", y_test.shape)"
      ]
    },
    {
      "cell_type": "code",
      "execution_count": 107,
      "id": "90febc12",
      "metadata": {
        "execution": {
          "iopub.execute_input": "2024-05-03T15:42:10.332850Z",
          "iopub.status.busy": "2024-05-03T15:42:10.332110Z",
          "iopub.status.idle": "2024-05-03T15:42:10.340066Z",
          "shell.execute_reply": "2024-05-03T15:42:10.338721Z"
        },
        "papermill": {
          "duration": 0.045244,
          "end_time": "2024-05-03T15:42:10.342891",
          "exception": false,
          "start_time": "2024-05-03T15:42:10.297647",
          "status": "completed"
        },
        "tags": [],
        "id": "90febc12"
      },
      "outputs": [],
      "source": [
        "x_train_test = x_train.copy(deep = True)\n",
        "x_train_test['Attrition'] = y_train"
      ]
    },
    {
      "cell_type": "markdown",
      "id": "6256a27a",
      "metadata": {
        "papermill": {
          "duration": 0.034403,
          "end_time": "2024-05-03T15:42:11.215436",
          "exception": false,
          "start_time": "2024-05-03T15:42:11.181033",
          "status": "completed"
        },
        "tags": [],
        "id": "6256a27a"
      },
      "source": [
        "### 3.7 Chi-squared Test"
      ]
    },
    {
      "cell_type": "code",
      "execution_count": 108,
      "id": "d4bd323f",
      "metadata": {
        "execution": {
          "iopub.execute_input": "2024-05-03T15:42:11.288853Z",
          "iopub.status.busy": "2024-05-03T15:42:11.288440Z",
          "iopub.status.idle": "2024-05-03T15:42:11.293929Z",
          "shell.execute_reply": "2024-05-03T15:42:11.292640Z"
        },
        "papermill": {
          "duration": 0.044831,
          "end_time": "2024-05-03T15:42:11.296465",
          "exception": false,
          "start_time": "2024-05-03T15:42:11.251634",
          "status": "completed"
        },
        "tags": [],
        "id": "d4bd323f"
      },
      "outputs": [],
      "source": [
        "categorical_features.remove('Attrition')"
      ]
    },
    {
      "cell_type": "code",
      "execution_count": 109,
      "id": "c050ddef",
      "metadata": {
        "execution": {
          "iopub.execute_input": "2024-05-03T15:42:11.371039Z",
          "iopub.status.busy": "2024-05-03T15:42:11.370632Z",
          "iopub.status.idle": "2024-05-03T15:42:11.742837Z",
          "shell.execute_reply": "2024-05-03T15:42:11.741179Z"
        },
        "papermill": {
          "duration": 0.414152,
          "end_time": "2024-05-03T15:42:11.745944",
          "exception": false,
          "start_time": "2024-05-03T15:42:11.331792",
          "status": "completed"
        },
        "tags": [],
        "colab": {
          "base_uri": "https://localhost:8080/",
          "height": 468
        },
        "id": "c050ddef",
        "outputId": "a41ec330-f9ef-4db9-8b41-7383a870d95a"
      },
      "outputs": [
        {
          "output_type": "display_data",
          "data": {
            "text/plain": [
              "<Figure size 500x500 with 2 Axes>"
            ],
            "image/png": "[encoded data removed]"
          },
          "metadata": {}
        }
      ],
      "source": [
        "from sklearn.feature_selection import SelectKBest\n",
        "from sklearn.feature_selection import chi2\n",
        "\n",
        "features = x_train.loc[:, categorical_features]\n",
        "target = pd.DataFrame(y_train)\n",
        "\n",
        "best_features = SelectKBest(score_func=chi2, k='all')\n",
        "fit = best_features.fit(features, target)\n",
        "\n",
        "featureScores = pd.DataFrame(data=fit.scores_, index=list(features.columns), columns=['Chi Squared Score'])\n",
        "\n",
        "plt.subplots(figsize=(5, 5))\n",
        "sns.heatmap(featureScores.sort_values(ascending=False, by='Chi Squared Score'), annot=True, cmap='Oranges', linewidths=0.4, linecolor='black', fmt='.2f')\n",
        "plt.title('Selection of Categorical Features')\n",
        "plt.show()\n"
      ]
    },
    {
      "cell_type": "markdown",
      "id": "e340d9ef",
      "metadata": {
        "papermill": {
          "duration": 0.036206,
          "end_time": "2024-05-03T15:42:11.818366",
          "exception": false,
          "start_time": "2024-05-03T15:42:11.782160",
          "status": "completed"
        },
        "tags": [],
        "id": "e340d9ef"
      },
      "source": [
        "Uji Chi-kuadrat (χ²) adalah metode statistik yang digunakan untuk menilai adanya hubungan yang berarti antara variabel kategorikal. Metode ini terbukti bermanfaat ketika menyelidiki korelasi antara dua variabel kategorikal dalam kumpulan data tertentu.\n",
        "\n",
        "Nilai Chi-kuadrat yang tinggi menunjukkan varians yang besar antara frekuensi yang diamati dan yang diantisipasi, yang menandakan hubungan yang kuat antara variabel yang dianalisis. Sebaliknya, nilai Chi-kuadrat yang rendah menyiratkan kemiripan yang dekat antara frekuensi yang diamati dan yang diharapkan, yang mengindikasikan hubungan yang minimal atau dapat diabaikan antara variabel-variabel yang diteliti.\n",
        "\n",
        "features : __`Gender`, `BusinessTravel`, `EducationField`, `OverTime`,`Department`, `MaritalStatus`,`JobRole`__"
      ]
    },
    {
      "cell_type": "markdown",
      "id": "cdc394cf",
      "metadata": {
        "papermill": {
          "duration": 0.034993,
          "end_time": "2024-05-03T15:42:11.889007",
          "exception": false,
          "start_time": "2024-05-03T15:42:11.854014",
          "status": "completed"
        },
        "tags": [],
        "id": "cdc394cf"
      },
      "source": [
        "### 3.8 ANOVA Score Test"
      ]
    },
    {
      "cell_type": "code",
      "execution_count": 110,
      "id": "0a7695c9",
      "metadata": {
        "execution": {
          "iopub.execute_input": "2024-05-03T15:42:11.962659Z",
          "iopub.status.busy": "2024-05-03T15:42:11.961625Z",
          "iopub.status.idle": "2024-05-03T15:42:12.580821Z",
          "shell.execute_reply": "2024-05-03T15:42:12.579479Z"
        },
        "papermill": {
          "duration": 0.659712,
          "end_time": "2024-05-03T15:42:12.584332",
          "exception": false,
          "start_time": "2024-05-03T15:42:11.924620",
          "status": "completed"
        },
        "tags": [],
        "colab": {
          "base_uri": "https://localhost:8080/",
          "height": 468
        },
        "id": "0a7695c9",
        "outputId": "84587827-67f1-471b-d52c-7d612388d9b5"
      },
      "outputs": [
        {
          "output_type": "display_data",
          "data": {
            "text/plain": [
              "<Figure size 500x500 with 2 Axes>"
            ],
            "image/png": "[encoded data removed]"
          },
          "metadata": {}
        }
      ],
      "source": [
        "custom_cmap = mcolors.LinearSegmentedColormap.from_list(\"\", [\"orange\", \"white\"])\n",
        "\n",
        "from sklearn.feature_selection import SelectKBest, f_classif\n",
        "\n",
        "features = x_train.loc[:, numerical_features]\n",
        "target = pd.DataFrame(y_train)\n",
        "\n",
        "best_features = SelectKBest(score_func=f_classif, k='all')\n",
        "fit = best_features.fit(features, target)\n",
        "\n",
        "featureScores = pd.DataFrame(data=fit.scores_, index=list(features.columns), columns=['ANOVA Score'])\n",
        "\n",
        "plt.subplots(figsize=(5, 5))\n",
        "sns.heatmap(featureScores.sort_values(ascending=False, by='ANOVA Score'), annot=True, cmap=custom_cmap, linewidths=0.4, linecolor='black', fmt='.2f')\n",
        "plt.title('Selection of Numerical Features')\n",
        "plt.show()\n"
      ]
    },
    {
      "cell_type": "markdown",
      "id": "9722b901",
      "metadata": {
        "papermill": {
          "duration": 0.038846,
          "end_time": "2024-05-03T15:42:12.662902",
          "exception": false,
          "start_time": "2024-05-03T15:42:12.624056",
          "status": "completed"
        },
        "tags": [],
        "id": "9722b901"
      },
      "source": [
        "ANOVA F-test adalah alat yang umum digunakan untuk menilai seberapa kuat setiap fitur terkait dengan variabel target dalam pekerjaan klasifikasi. Tes Anova membantu memilih fitur numerik yang menunjukkan perbedaan besar dalam nilai rata-rata di berbagai kategori target. Kemampuan ini menjadikannya metode yang bagus untuk memilih fitur numerik yang relevan untuk tugas klasifikasi.\n",
        "\n",
        "Ketika Anda menggunakan uji F ANOVA untuk pemilihan fitur, skor ANOVA menunjukkan nilai F untuk setiap fitur. Nilai ini adalah rasio varians antar kelompok terhadap varians dalam kelompok.\n",
        "\n",
        "Nilai ANOVA yang tinggi berarti fitur tersebut memiliki hubungan yang kuat dengan variabel target, sehingga fitur tersebut sangat berguna untuk memprediksi target.\n",
        "\n",
        "drop features : __`YearsSinceLastPromotion`, `DailyRate`, `PercentSalaryHike`, `DistanceFromHome`, `NumCompaniesWorked`, `HourlyRate`, `MonthlyRate`__"
      ]
    },
    {
      "cell_type": "code",
      "execution_count": 111,
      "id": "b6116612",
      "metadata": {
        "execution": {
          "iopub.execute_input": "2024-05-03T15:42:12.821486Z",
          "iopub.status.busy": "2024-05-03T15:42:12.820446Z",
          "iopub.status.idle": "2024-05-03T15:42:12.830797Z",
          "shell.execute_reply": "2024-05-03T15:42:12.829572Z"
        },
        "papermill": {
          "duration": 0.055037,
          "end_time": "2024-05-03T15:42:12.833785",
          "exception": false,
          "start_time": "2024-05-03T15:42:12.778748",
          "status": "completed"
        },
        "tags": [],
        "id": "b6116612"
      },
      "outputs": [],
      "source": [
        "x_train = x_train.drop(columns = ['Gender', 'BusinessTravel', 'EducationField', 'OverTime', 'Department',\n",
        "                                  'MaritalStatus', 'JobRole', 'YearsSinceLastPromotion', 'DailyRate',\n",
        "                                  'PercentSalaryHike', 'DistanceFromHome', 'NumCompaniesWorked', 'HourlyRate',\n",
        "                                  'MonthlyRate'])\n",
        "\n",
        "x_test = x_test.drop(columns = ['Gender', 'BusinessTravel', 'EducationField', 'OverTime', 'Department',\n",
        "                                  'MaritalStatus', 'JobRole', 'YearsSinceLastPromotion', 'DailyRate',\n",
        "                                  'PercentSalaryHike', 'DistanceFromHome', 'NumCompaniesWorked', 'HourlyRate',\n",
        "                                  'MonthlyRate'])"
      ]
    },
    {
      "cell_type": "code",
      "execution_count": 112,
      "id": "381f4a81",
      "metadata": {
        "execution": {
          "iopub.execute_input": "2024-05-03T15:42:12.914439Z",
          "iopub.status.busy": "2024-05-03T15:42:12.913656Z",
          "iopub.status.idle": "2024-05-03T15:42:12.921493Z",
          "shell.execute_reply": "2024-05-03T15:42:12.919944Z"
        },
        "papermill": {
          "duration": 0.050488,
          "end_time": "2024-05-03T15:42:12.923975",
          "exception": false,
          "start_time": "2024-05-03T15:42:12.873487",
          "status": "completed"
        },
        "tags": [],
        "colab": {
          "base_uri": "https://localhost:8080/"
        },
        "id": "381f4a81",
        "outputId": "09aa8db9-5f94-429f-9085-db7f448b070e"
      },
      "outputs": [
        {
          "output_type": "execute_result",
          "data": {
            "text/plain": [
              "Index(['Age', 'Education', 'EnvironmentSatisfaction', 'JobInvolvement',\n",
              "       'JobLevel', 'JobSatisfaction', 'MonthlyIncome', 'PerformanceRating',\n",
              "       'RelationshipSatisfaction', 'StockOptionLevel', 'TotalWorkingYears',\n",
              "       'TrainingTimesLastYear', 'WorkLifeBalance', 'YearsAtCompany',\n",
              "       'YearsInCurrentRole', 'YearsWithCurrManager'],\n",
              "      dtype='object')"
            ]
          },
          "metadata": {},
          "execution_count": 112
        }
      ],
      "source": [
        "x_train.columns"
      ]
    },
    {
      "cell_type": "markdown",
      "id": "9df44fad",
      "metadata": {
        "papermill": {
          "duration": 0.039379,
          "end_time": "2024-05-03T15:42:13.004959",
          "exception": false,
          "start_time": "2024-05-03T15:42:12.965580",
          "status": "completed"
        },
        "tags": [],
        "id": "9df44fad"
      },
      "source": [
        "### 3.9 Data Standarisasi dan Normalisasi"
      ]
    },
    {
      "cell_type": "code",
      "execution_count": 113,
      "id": "ac29730e",
      "metadata": {
        "execution": {
          "iopub.execute_input": "2024-05-03T15:42:13.088402Z",
          "iopub.status.busy": "2024-05-03T15:42:13.087569Z",
          "iopub.status.idle": "2024-05-03T15:42:13.180771Z",
          "shell.execute_reply": "2024-05-03T15:42:13.179302Z"
        },
        "papermill": {
          "duration": 0.137632,
          "end_time": "2024-05-03T15:42:13.183495",
          "exception": false,
          "start_time": "2024-05-03T15:42:13.045863",
          "status": "completed"
        },
        "tags": [],
        "id": "ac29730e"
      },
      "outputs": [],
      "source": [
        "mms = MinMaxScaler()  # Normalization\n",
        "ss = StandardScaler()  # Standardization\n",
        "\n",
        "columns_to_transform = ['Age', 'Education', 'EnvironmentSatisfaction', 'JobInvolvement', 'JobLevel',\n",
        "                        'JobSatisfaction', 'MonthlyIncome', 'PerformanceRating', 'RelationshipSatisfaction',\n",
        "                        'StockOptionLevel', 'TotalWorkingYears', 'TrainingTimesLastYear', 'WorkLifeBalance',\n",
        "                        'YearsAtCompany', 'YearsInCurrentRole', 'YearsWithCurrManager']\n",
        "\n",
        "# transformation\n",
        "for col in columns_to_transform:\n",
        "    if col in ['MonthlyIncome', 'TotalWorkingYears', 'YearsAtCompany', 'YearsInCurrentRole', 'YearsWithCurrManager']:\n",
        "        x_train[col] = mms.fit_transform(x_train[[col]])\n",
        "        x_test[col] = mms.transform(x_test[[col]])\n",
        "    else:\n",
        "        x_train[col] = ss.fit_transform(x_train[[col]])\n",
        "        x_test[col] = ss.transform(x_test[[col]])\n"
      ]
    },
    {
      "cell_type": "code",
      "source": [
        "x_train.head()"
      ],
      "metadata": {
        "colab": {
          "base_uri": "https://localhost:8080/",
          "height": 226
        },
        "id": "nEu1M5paWRI3",
        "outputId": "01393378-7452-484f-834d-75110d48b924"
      },
      "id": "nEu1M5paWRI3",
      "execution_count": 114,
      "outputs": [
        {
          "output_type": "execute_result",
          "data": {
            "text/plain": [
              "           Age  Education  EnvironmentSatisfaction  JobInvolvement  JobLevel  \\\n",
              "876  -1.709500   0.229945                 0.481524        2.000559 -0.826855   \n",
              "1054  1.525279   1.263156                 0.481524        0.649658  1.123615   \n",
              "1868  0.521382   1.263156                -0.440801        0.649658  0.148380   \n",
              "1656 -0.482515  -1.836477                 0.481524       -0.701244 -0.826855   \n",
              "1442 -0.705603   1.263156                -1.363125        0.649658 -0.826855   \n",
              "\n",
              "      JobSatisfaction  MonthlyIncome  PerformanceRating  \\\n",
              "876          1.538663       0.088228          -0.349028   \n",
              "1054         0.641377       0.499921          -0.349028   \n",
              "1868        -0.255908       0.170799          -0.349028   \n",
              "1656        -1.153194       0.136068          -0.349028   \n",
              "1442         1.538663       0.199715          -0.349028   \n",
              "\n",
              "      RelationshipSatisfaction  StockOptionLevel  TotalWorkingYears  \\\n",
              "876                   1.414447         -0.727873              0.050   \n",
              "1054                 -0.462523          1.829601              0.725   \n",
              "1868                 -0.462523         -0.727873              0.200   \n",
              "1656                 -0.462523         -0.727873              0.100   \n",
              "1442                 -0.462523          3.108337              0.100   \n",
              "\n",
              "      TrainingTimesLastYear  WorkLifeBalance  YearsAtCompany  \\\n",
              "876               -0.477393         0.550334            0.05   \n",
              "1054               0.337383         0.550334            0.20   \n",
              "1868               1.152160        -2.123174            0.15   \n",
              "1656               0.337383        -0.786420            0.10   \n",
              "1442               0.337383         1.887089            0.05   \n",
              "\n",
              "      YearsInCurrentRole  YearsWithCurrManager  \n",
              "876             0.055556              0.117647  \n",
              "1054            0.388889              0.411765  \n",
              "1868            0.111111              0.235294  \n",
              "1656            0.166667              0.117647  \n",
              "1442            0.111111              0.117647  "
            ],
            "text/html": [
              "\n",
              "  <div id=\"df-4a9333d6-a23c-44f1-a290-c19f85fa5269\" class=\"colab-df-container\">\n",
              "    <div>\n",
              "<style scoped>\n",
              "    .dataframe tbody tr th:only-of-type {\n",
              "        vertical-align: middle;\n",
              "    }\n",
              "\n",
              "    .dataframe tbody tr th {\n",
              "        vertical-align: top;\n",
              "    }\n",
              "\n",
              "    .dataframe thead th {\n",
              "        text-align: right;\n",
              "    }\n",
              "</style>\n",
              "<table border=\"1\" class=\"dataframe\">\n",
              "  <thead>\n",
              "    <tr style=\"text-align: right;\">\n",
              "      <th></th>\n",
              "      <th>Age</th>\n",
              "      <th>Education</th>\n",
              "      <th>EnvironmentSatisfaction</th>\n",
              "      <th>JobInvolvement</th>\n",
              "      <th>JobLevel</th>\n",
              "      <th>JobSatisfaction</th>\n",
              "      <th>MonthlyIncome</th>\n",
              "      <th>PerformanceRating</th>\n",
              "      <th>RelationshipSatisfaction</th>\n",
              "      <th>StockOptionLevel</th>\n",
              "      <th>TotalWorkingYears</th>\n",
              "      <th>TrainingTimesLastYear</th>\n",
              "      <th>WorkLifeBalance</th>\n",
              "      <th>YearsAtCompany</th>\n",
              "      <th>YearsInCurrentRole</th>\n",
              "      <th>YearsWithCurrManager</th>\n",
              "    </tr>\n",
              "  </thead>\n",
              "  <tbody>\n",
              "    <tr>\n",
              "      <th>876</th>\n",
              "      <td>-1.709500</td>\n",
              "      <td>0.229945</td>\n",
              "      <td>0.481524</td>\n",
              "      <td>2.000559</td>\n",
              "      <td>-0.826855</td>\n",
              "      <td>1.538663</td>\n",
              "      <td>0.088228</td>\n",
              "      <td>-0.349028</td>\n",
              "      <td>1.414447</td>\n",
              "      <td>-0.727873</td>\n",
              "      <td>0.050</td>\n",
              "      <td>-0.477393</td>\n",
              "      <td>0.550334</td>\n",
              "      <td>0.05</td>\n",
              "      <td>0.055556</td>\n",
              "      <td>0.117647</td>\n",
              "    </tr>\n",
              "    <tr>\n",
              "      <th>1054</th>\n",
              "      <td>1.525279</td>\n",
              "      <td>1.263156</td>\n",
              "      <td>0.481524</td>\n",
              "      <td>0.649658</td>\n",
              "      <td>1.123615</td>\n",
              "      <td>0.641377</td>\n",
              "      <td>0.499921</td>\n",
              "      <td>-0.349028</td>\n",
              "      <td>-0.462523</td>\n",
              "      <td>1.829601</td>\n",
              "      <td>0.725</td>\n",
              "      <td>0.337383</td>\n",
              "      <td>0.550334</td>\n",
              "      <td>0.20</td>\n",
              "      <td>0.388889</td>\n",
              "      <td>0.411765</td>\n",
              "    </tr>\n",
              "    <tr>\n",
              "      <th>1868</th>\n",
              "      <td>0.521382</td>\n",
              "      <td>1.263156</td>\n",
              "      <td>-0.440801</td>\n",
              "      <td>0.649658</td>\n",
              "      <td>0.148380</td>\n",
              "      <td>-0.255908</td>\n",
              "      <td>0.170799</td>\n",
              "      <td>-0.349028</td>\n",
              "      <td>-0.462523</td>\n",
              "      <td>-0.727873</td>\n",
              "      <td>0.200</td>\n",
              "      <td>1.152160</td>\n",
              "      <td>-2.123174</td>\n",
              "      <td>0.15</td>\n",
              "      <td>0.111111</td>\n",
              "      <td>0.235294</td>\n",
              "    </tr>\n",
              "    <tr>\n",
              "      <th>1656</th>\n",
              "      <td>-0.482515</td>\n",
              "      <td>-1.836477</td>\n",
              "      <td>0.481524</td>\n",
              "      <td>-0.701244</td>\n",
              "      <td>-0.826855</td>\n",
              "      <td>-1.153194</td>\n",
              "      <td>0.136068</td>\n",
              "      <td>-0.349028</td>\n",
              "      <td>-0.462523</td>\n",
              "      <td>-0.727873</td>\n",
              "      <td>0.100</td>\n",
              "      <td>0.337383</td>\n",
              "      <td>-0.786420</td>\n",
              "      <td>0.10</td>\n",
              "      <td>0.166667</td>\n",
              "      <td>0.117647</td>\n",
              "    </tr>\n",
              "    <tr>\n",
              "      <th>1442</th>\n",
              "      <td>-0.705603</td>\n",
              "      <td>1.263156</td>\n",
              "      <td>-1.363125</td>\n",
              "      <td>0.649658</td>\n",
              "      <td>-0.826855</td>\n",
              "      <td>1.538663</td>\n",
              "      <td>0.199715</td>\n",
              "      <td>-0.349028</td>\n",
              "      <td>-0.462523</td>\n",
              "      <td>3.108337</td>\n",
              "      <td>0.100</td>\n",
              "      <td>0.337383</td>\n",
              "      <td>1.887089</td>\n",
              "      <td>0.05</td>\n",
              "      <td>0.111111</td>\n",
              "      <td>0.117647</td>\n",
              "    </tr>\n",
              "  </tbody>\n",
              "</table>\n",
              "</div>\n",
              "    <div class=\"colab-df-buttons\">\n",
              "\n",
              "  <div class=\"colab-df-container\">\n",
              "    <button class=\"colab-df-convert\" onclick=\"convertToInteractive('df-4a9333d6-a23c-44f1-a290-c19f85fa5269')\"\n",
              "            title=\"Convert this dataframe to an interactive table.\"\n",
              "            style=\"display:none;\">\n",
              "\n",
              "  <svg xmlns=\"http://www.w3.org/2000/svg\" height=\"24px\" viewBox=\"0 -960 960 960\">\n",
              "    <path d=\"M120-120v-720h720v720H120Zm60-500h600v-160H180v160Zm220 220h160v-160H400v160Zm0 220h160v-160H400v160ZM180-400h160v-160H180v160Zm440 0h160v-160H620v160ZM180-180h160v-160H180v160Zm440 0h160v-160H620v160Z\"/>\n",
              "  </svg>\n",
              "    </button>\n",
              "\n",
              "  <style>\n",
              "    .colab-df-container {\n",
              "      display:flex;\n",
              "      gap: 12px;\n",
              "    }\n",
              "\n",
              "    .colab-df-convert {\n",
              "      background-color: #E8F0FE;\n",
              "      border: none;\n",
              "      border-radius: 50%;\n",
              "      cursor: pointer;\n",
              "      display: none;\n",
              "      fill: #1967D2;\n",
              "      height: 32px;\n",
              "      padding: 0 0 0 0;\n",
              "      width: 32px;\n",
              "    }\n",
              "\n",
              "    .colab-df-convert:hover {\n",
              "      background-color: #E2EBFA;\n",
              "      box-shadow: 0px 1px 2px rgba(60, 64, 67, 0.3), 0px 1px 3px 1px rgba(60, 64, 67, 0.15);\n",
              "      fill: #174EA6;\n",
              "    }\n",
              "\n",
              "    .colab-df-buttons div {\n",
              "      margin-bottom: 4px;\n",
              "    }\n",
              "\n",
              "    [theme=dark] .colab-df-convert {\n",
              "      background-color: #3B4455;\n",
              "      fill: #D2E3FC;\n",
              "    }\n",
              "\n",
              "    [theme=dark] .colab-df-convert:hover {\n",
              "      background-color: #434B5C;\n",
              "      box-shadow: 0px 1px 3px 1px rgba(0, 0, 0, 0.15);\n",
              "      filter: drop-shadow(0px 1px 2px rgba(0, 0, 0, 0.3));\n",
              "      fill: #FFFFFF;\n",
              "    }\n",
              "  </style>\n",
              "\n",
              "    <script>\n",
              "      const buttonEl =\n",
              "        document.querySelector('#df-4a9333d6-a23c-44f1-a290-c19f85fa5269 button.colab-df-convert');\n",
              "      buttonEl.style.display =\n",
              "        google.colab.kernel.accessAllowed ? 'block' : 'none';\n",
              "\n",
              "      async function convertToInteractive(key) {\n",
              "        const element = document.querySelector('#df-4a9333d6-a23c-44f1-a290-c19f85fa5269');\n",
              "        const dataTable =\n",
              "          await google.colab.kernel.invokeFunction('convertToInteractive',\n",
              "                                                    [key], {});\n",
              "        if (!dataTable) return;\n",
              "\n",
              "        const docLinkHtml = 'Like what you see? Visit the ' +\n",
              "          '<a target=\"_blank\" href=https://colab.research.google.com/notebooks/data_table.ipynb>data table notebook</a>'\n",
              "          + ' to learn more about interactive tables.';\n",
              "        element.innerHTML = '';\n",
              "        dataTable['output_type'] = 'display_data';\n",
              "        await google.colab.output.renderOutput(dataTable, element);\n",
              "        const docLink = document.createElement('div');\n",
              "        docLink.innerHTML = docLinkHtml;\n",
              "        element.appendChild(docLink);\n",
              "      }\n",
              "    </script>\n",
              "  </div>\n",
              "\n",
              "\n",
              "<div id=\"df-550c278d-77fc-473e-a2ea-e850d5a563b5\">\n",
              "  <button class=\"colab-df-quickchart\" onclick=\"quickchart('df-550c278d-77fc-473e-a2ea-e850d5a563b5')\"\n",
              "            title=\"Suggest charts\"\n",
              "            style=\"display:none;\">\n",
              "\n",
              "<svg xmlns=\"http://www.w3.org/2000/svg\" height=\"24px\"viewBox=\"0 0 24 24\"\n",
              "     width=\"24px\">\n",
              "    <g>\n",
              "        <path d=\"M19 3H5c-1.1 0-2 .9-2 2v14c0 1.1.9 2 2 2h14c1.1 0 2-.9 2-2V5c0-1.1-.9-2-2-2zM9 17H7v-7h2v7zm4 0h-2V7h2v10zm4 0h-2v-4h2v4z\"/>\n",
              "    </g>\n",
              "</svg>\n",
              "  </button>\n",
              "\n",
              "<style>\n",
              "  .colab-df-quickchart {\n",
              "      --bg-color: #E8F0FE;\n",
              "      --fill-color: #1967D2;\n",
              "      --hover-bg-color: #E2EBFA;\n",
              "      --hover-fill-color: #174EA6;\n",
              "      --disabled-fill-color: #AAA;\n",
              "      --disabled-bg-color: #DDD;\n",
              "  }\n",
              "\n",
              "  [theme=dark] .colab-df-quickchart {\n",
              "      --bg-color: #3B4455;\n",
              "      --fill-color: #D2E3FC;\n",
              "      --hover-bg-color: #434B5C;\n",
              "      --hover-fill-color: #FFFFFF;\n",
              "      --disabled-bg-color: #3B4455;\n",
              "      --disabled-fill-color: #666;\n",
              "  }\n",
              "\n",
              "  .colab-df-quickchart {\n",
              "    background-color: var(--bg-color);\n",
              "    border: none;\n",
              "    border-radius: 50%;\n",
              "    cursor: pointer;\n",
              "    display: none;\n",
              "    fill: var(--fill-color);\n",
              "    height: 32px;\n",
              "    padding: 0;\n",
              "    width: 32px;\n",
              "  }\n",
              "\n",
              "  .colab-df-quickchart:hover {\n",
              "    background-color: var(--hover-bg-color);\n",
              "    box-shadow: 0 1px 2px rgba(60, 64, 67, 0.3), 0 1px 3px 1px rgba(60, 64, 67, 0.15);\n",
              "    fill: var(--button-hover-fill-color);\n",
              "  }\n",
              "\n",
              "  .colab-df-quickchart-complete:disabled,\n",
              "  .colab-df-quickchart-complete:disabled:hover {\n",
              "    background-color: var(--disabled-bg-color);\n",
              "    fill: var(--disabled-fill-color);\n",
              "    box-shadow: none;\n",
              "  }\n",
              "\n",
              "  .colab-df-spinner {\n",
              "    border: 2px solid var(--fill-color);\n",
              "    border-color: transparent;\n",
              "    border-bottom-color: var(--fill-color);\n",
              "    animation:\n",
              "      spin 1s steps(1) infinite;\n",
              "  }\n",
              "\n",
              "  @keyframes spin {\n",
              "    0% {\n",
              "      border-color: transparent;\n",
              "      border-bottom-color: var(--fill-color);\n",
              "      border-left-color: var(--fill-color);\n",
              "    }\n",
              "    20% {\n",
              "      border-color: transparent;\n",
              "      border-left-color: var(--fill-color);\n",
              "      border-top-color: var(--fill-color);\n",
              "    }\n",
              "    30% {\n",
              "      border-color: transparent;\n",
              "      border-left-color: var(--fill-color);\n",
              "      border-top-color: var(--fill-color);\n",
              "      border-right-color: var(--fill-color);\n",
              "    }\n",
              "    40% {\n",
              "      border-color: transparent;\n",
              "      border-right-color: var(--fill-color);\n",
              "      border-top-color: var(--fill-color);\n",
              "    }\n",
              "    60% {\n",
              "      border-color: transparent;\n",
              "      border-right-color: var(--fill-color);\n",
              "    }\n",
              "    80% {\n",
              "      border-color: transparent;\n",
              "      border-right-color: var(--fill-color);\n",
              "      border-bottom-color: var(--fill-color);\n",
              "    }\n",
              "    90% {\n",
              "      border-color: transparent;\n",
              "      border-bottom-color: var(--fill-color);\n",
              "    }\n",
              "  }\n",
              "</style>\n",
              "\n",
              "  <script>\n",
              "    async function quickchart(key) {\n",
              "      const quickchartButtonEl =\n",
              "        document.querySelector('#' + key + ' button');\n",
              "      quickchartButtonEl.disabled = true;  // To prevent multiple clicks.\n",
              "      quickchartButtonEl.classList.add('colab-df-spinner');\n",
              "      try {\n",
              "        const charts = await google.colab.kernel.invokeFunction(\n",
              "            'suggestCharts', [key], {});\n",
              "      } catch (error) {\n",
              "        console.error('Error during call to suggestCharts:', error);\n",
              "      }\n",
              "      quickchartButtonEl.classList.remove('colab-df-spinner');\n",
              "      quickchartButtonEl.classList.add('colab-df-quickchart-complete');\n",
              "    }\n",
              "    (() => {\n",
              "      let quickchartButtonEl =\n",
              "        document.querySelector('#df-550c278d-77fc-473e-a2ea-e850d5a563b5 button');\n",
              "      quickchartButtonEl.style.display =\n",
              "        google.colab.kernel.accessAllowed ? 'block' : 'none';\n",
              "    })();\n",
              "  </script>\n",
              "</div>\n",
              "\n",
              "    </div>\n",
              "  </div>\n"
            ],
            "application/vnd.google.colaboratory.intrinsic+json": {
              "type": "dataframe",
              "variable_name": "x_train",
              "summary": "{\n  \"name\": \"x_train\",\n  \"rows\": 1676,\n  \"fields\": [\n    {\n      \"column\": \"Age\",\n      \"properties\": {\n        \"dtype\": \"number\",\n        \"std\": 1.00029846292263,\n        \"min\": -1.932587845209502,\n        \"max\": 2.7522638525653886,\n        \"num_unique_values\": 43,\n        \"samples\": [\n          2.417631588438611,\n          0.1867498275934248,\n          -1.4864114930404648\n        ],\n        \"semantic_type\": \"\",\n        \"description\": \"\"\n      }\n    },\n    {\n      \"column\": \"Education\",\n      \"properties\": {\n        \"dtype\": \"number\",\n        \"std\": 1.0002984629226146,\n        \"min\": -1.8364766162736739,\n        \"max\": 2.296366363081381,\n        \"num_unique_values\": 5,\n        \"samples\": [\n          1.2631556182426174,\n          -0.8032658714349101,\n          -1.8364766162736739\n        ],\n        \"semantic_type\": \"\",\n        \"description\": \"\"\n      }\n    },\n    {\n      \"column\": \"EnvironmentSatisfaction\",\n      \"properties\": {\n        \"dtype\": \"number\",\n        \"std\": 1.0002984629226297,\n        \"min\": -1.3631250427611763,\n        \"max\": 1.4038481970463308,\n        \"num_unique_values\": 4,\n        \"samples\": [\n          -0.4408006294920073,\n          1.4038481970463308,\n          0.4815237837771617\n        ],\n        \"semantic_type\": \"\",\n        \"description\": \"\"\n      }\n    },\n    {\n      \"column\": \"JobInvolvement\",\n      \"properties\": {\n        \"dtype\": \"number\",\n        \"std\": 1.000298462922623,\n        \"min\": -2.0521450312977065,\n        \"max\": 2.0005592960254943,\n        \"num_unique_values\": 4,\n        \"samples\": [\n          0.6496578535844273,\n          -2.0521450312977065,\n          2.0005592960254943\n        ],\n        \"semantic_type\": \"\",\n        \"description\": \"\"\n      }\n    },\n    {\n      \"column\": \"JobLevel\",\n      \"properties\": {\n        \"dtype\": \"number\",\n        \"std\": 1.0002984629226288,\n        \"min\": -0.8268546877815359,\n        \"max\": 3.0740839659041903,\n        \"num_unique_values\": 5,\n        \"samples\": [\n          1.1236146390613273,\n          3.0740839659041903,\n          0.1483799756398957\n        ],\n        \"semantic_type\": \"\",\n        \"description\": \"\"\n      }\n    },\n    {\n      \"column\": \"JobSatisfaction\",\n      \"properties\": {\n        \"dtype\": \"number\",\n        \"std\": 1.0002984629226297,\n        \"min\": -1.15319415882676,\n        \"max\": 1.5386629584345906,\n        \"num_unique_values\": 4,\n        \"samples\": [\n          0.6413772526808071,\n          -1.15319415882676,\n          1.5386629584345906\n        ],\n        \"semantic_type\": \"\",\n        \"description\": \"\"\n      }\n    },\n    {\n      \"column\": \"MonthlyIncome\",\n      \"properties\": {\n        \"dtype\": \"number\",\n        \"std\": 0.22715589947295814,\n        \"min\": 0.0,\n        \"max\": 1.0,\n        \"num_unique_values\": 1469,\n        \"samples\": [\n          0.21208436855738222,\n          0.18189987841623934,\n          0.34445208013955697\n        ],\n        \"semantic_type\": \"\",\n        \"description\": \"\"\n      }\n    },\n    {\n      \"column\": \"PerformanceRating\",\n      \"properties\": {\n        \"dtype\": \"number\",\n        \"std\": 1.0002984629226117,\n        \"min\": -0.34902810172895693,\n        \"max\": 2.865098813093749,\n        \"num_unique_values\": 2,\n        \"samples\": [\n          2.865098813093749,\n          -0.34902810172895693\n        ],\n        \"semantic_type\": \"\",\n        \"description\": \"\"\n      }\n    },\n    {\n      \"column\": \"RelationshipSatisfaction\",\n      \"properties\": {\n        \"dtype\": \"number\",\n        \"std\": 1.0002984629226304,\n        \"min\": -1.4010083003797957,\n        \"max\": 1.4144472289206087,\n        \"num_unique_values\": 4,\n        \"samples\": [\n          -0.46252312394632755,\n          0.4759620524871406\n        ],\n        \"semantic_type\": \"\",\n        \"description\": \"\"\n      }\n    },\n    {\n      \"column\": \"StockOptionLevel\",\n      \"properties\": {\n        \"dtype\": \"number\",\n        \"std\": 1.0002984629226377,\n        \"min\": -0.7278728198039973,\n        \"max\": 3.1083373877164417,\n        \"num_unique_values\": 4,\n        \"samples\": [\n          1.8296006518762953,\n          0.5508639160361489\n        ],\n        \"semantic_type\": \"\",\n        \"description\": \"\"\n      }\n    },\n    {\n      \"column\": \"TotalWorkingYears\",\n      \"properties\": {\n        \"dtype\": \"number\",\n        \"std\": 0.1871921890691165,\n        \"min\": 0.0,\n        \"max\": 1.0,\n        \"num_unique_values\": 41,\n        \"samples\": [\n          0.55,\n          0.25\n        ],\n        \"semantic_type\": \"\",\n        \"description\": \"\"\n      }\n    },\n    {\n      \"column\": \"TrainingTimesLastYear\",\n      \"properties\": {\n        \"dtype\": \"number\",\n        \"std\": 1.0002984629226306,\n        \"min\": -2.1069451493603566,\n        \"max\": 2.781712077674195,\n        \"num_unique_values\": 7,\n        \"samples\": [\n          -0.47739274034883944,\n          0.3373834641569191\n        ],\n        \"semantic_type\": \"\",\n        \"description\": \"\"\n      }\n    },\n    {\n      \"column\": \"WorkLifeBalance\",\n      \"properties\": {\n        \"dtype\": \"number\",\n        \"std\": 1.0002984629226293,\n        \"min\": -2.12317429734467,\n        \"max\": 1.8870888007203193,\n        \"num_unique_values\": 4,\n        \"samples\": [\n          -2.12317429734467,\n          1.8870888007203193\n        ],\n        \"semantic_type\": \"\",\n        \"description\": \"\"\n      }\n    },\n    {\n      \"column\": \"YearsAtCompany\",\n      \"properties\": {\n        \"dtype\": \"number\",\n        \"std\": 0.14896440370811967,\n        \"min\": 0.0,\n        \"max\": 1.0,\n        \"num_unique_values\": 37,\n        \"samples\": [\n          0.4,\n          0.025\n        ],\n        \"semantic_type\": \"\",\n        \"description\": \"\"\n      }\n    },\n    {\n      \"column\": \"YearsInCurrentRole\",\n      \"properties\": {\n        \"dtype\": \"number\",\n        \"std\": 0.1881040265813606,\n        \"min\": 0.0,\n        \"max\": 1.0,\n        \"num_unique_values\": 19,\n        \"samples\": [\n          0.05555555555555555,\n          0.2222222222222222\n        ],\n        \"semantic_type\": \"\",\n        \"description\": \"\"\n      }\n    },\n    {\n      \"column\": \"YearsWithCurrManager\",\n      \"properties\": {\n        \"dtype\": \"number\",\n        \"std\": 0.19914908129705858,\n        \"min\": 0.0,\n        \"max\": 1.0,\n        \"num_unique_values\": 18,\n        \"samples\": [\n          0.11764705882352941,\n          0.4117647058823529\n        ],\n        \"semantic_type\": \"\",\n        \"description\": \"\"\n      }\n    }\n  ]\n}"
            }
          },
          "metadata": {},
          "execution_count": 114
        }
      ]
    },
    {
      "cell_type": "markdown",
      "source": [
        "## 3. Modelling: Training and Evaluation"
      ],
      "metadata": {
        "id": "7RrHlfnwhwBs"
      },
      "id": "7RrHlfnwhwBs"
    },
    {
      "cell_type": "code",
      "execution_count": 115,
      "id": "27ce5c7a",
      "metadata": {
        "execution": {
          "iopub.execute_input": "2024-05-03T15:42:13.265938Z",
          "iopub.status.busy": "2024-05-03T15:42:13.265154Z",
          "iopub.status.idle": "2024-05-03T15:42:13.280006Z",
          "shell.execute_reply": "2024-05-03T15:42:13.278760Z"
        },
        "papermill": {
          "duration": 0.059807,
          "end_time": "2024-05-03T15:42:13.282902",
          "exception": false,
          "start_time": "2024-05-03T15:42:13.223095",
          "status": "completed"
        },
        "tags": [],
        "id": "27ce5c7a"
      },
      "outputs": [],
      "source": [
        "def model(classifier, x_train, y_train, x_test, y_test):\n",
        "    classifier.fit(x_train, y_train)\n",
        "    prediction = classifier.predict(x_test)\n",
        "    cv = RepeatedStratifiedKFold(n_splits=10, n_repeats=3, random_state=1)\n",
        "    print(\"Cross Validation Score:\", '{0:.2%}'.format(cross_val_score(classifier, x_train, y_train, cv=cv, scoring='roc_auc').mean()))\n",
        "    print(\"ROC_AUC Score:\", '{0:.2%}'.format(roc_auc_score(y_test, prediction)))\n",
        "\n",
        "    y_score = classifier.predict_proba(x_test)[:, 1]\n",
        "    fpr, tpr, _ = roc_curve(y_test, y_score)\n",
        "    roc_auc = auc(fpr, tpr)\n",
        "\n",
        "    # Plot ROC curve\n",
        "    plt.figure()\n",
        "    plt.plot(fpr, tpr, color='darkorange', lw=2, label='ROC curve (area = %0.2f)' % roc_auc)\n",
        "    plt.plot([0, 1], [0, 1], color='navy', lw=2, linestyle='--')\n",
        "    plt.xlim([0.0, 1.0])\n",
        "    plt.ylim([0.0, 1.05])\n",
        "    plt.xlabel('False Positive Rate')\n",
        "    plt.ylabel('True Positive Rate')\n",
        "    plt.title('Receiver Operating Characteristic (ROC) Curve')\n",
        "    plt.legend(loc=\"lower right\")\n",
        "    plt.show()\n",
        "\n",
        "def model_evaluation(classifier, x_test, y_test):\n",
        "    # Confusion Matrix\n",
        "    cm = confusion_matrix(y_test, classifier.predict(x_test))\n",
        "    names = ['True Neg', 'False Pos', 'False Neg', 'True Pos']\n",
        "    counts = [value for value in cm.flatten()]\n",
        "    percentages = ['{0:.2%}'.format(value) for value in cm.flatten()/np.sum(cm)]\n",
        "    labels = [f'{v1}\\n{v2}\\n{v3}' for v1, v2, v3 in zip(names, counts, percentages)]\n",
        "    labels = np.asarray(labels).reshape(2, 2)\n",
        "    sns.heatmap(cm, annot=labels, cmap='Blues', fmt='')\n",
        "\n",
        "    # Classification Report\n",
        "    print(classification_report(y_test, classifier.predict(x_test)))"
      ]
    },
    {
      "cell_type": "markdown",
      "id": "579b35fd",
      "metadata": {
        "papermill": {
          "duration": 0.042771,
          "end_time": "2024-05-03T15:42:13.367474",
          "exception": false,
          "start_time": "2024-05-03T15:42:13.324703",
          "status": "completed"
        },
        "tags": [],
        "id": "579b35fd"
      },
      "source": [
        "### XGBoost"
      ]
    },
    {
      "cell_type": "code",
      "execution_count": 116,
      "id": "649397ab",
      "metadata": {
        "execution": {
          "iopub.execute_input": "2024-05-03T15:42:13.451139Z",
          "iopub.status.busy": "2024-05-03T15:42:13.449934Z",
          "iopub.status.idle": "2024-05-03T15:42:26.921768Z",
          "shell.execute_reply": "2024-05-03T15:42:26.920555Z"
        },
        "papermill": {
          "duration": 13.51514,
          "end_time": "2024-05-03T15:42:26.924020",
          "exception": false,
          "start_time": "2024-05-03T15:42:13.408880",
          "status": "completed"
        },
        "tags": [],
        "colab": {
          "base_uri": "https://localhost:8080/",
          "height": 507
        },
        "id": "649397ab",
        "outputId": "e19d8eca-c537-4a06-f5a2-89fdc00c4bdf"
      },
      "outputs": [
        {
          "output_type": "stream",
          "name": "stdout",
          "text": [
            "Cross Validation Score: 91.91%\n",
            "ROC_AUC Score: 84.53%\n"
          ]
        },
        {
          "output_type": "display_data",
          "data": {
            "text/plain": [
              "<Figure size 640x480 with 1 Axes>"
            ],
            "image/png": "[encoded data removed]"
          },
          "metadata": {}
        }
      ],
      "source": [
        "classifier_xgb = XGBClassifier(learning_rate=0.01, max_depth=3, n_estimators=1000)\n",
        "model(classifier_xgb, x_train.values, y_train.values, x_test.values, y_test.values)"
      ]
    },
    {
      "cell_type": "code",
      "source": [
        "model_evaluation(classifier_xgb, x_test.values, y_test.values)"
      ],
      "metadata": {
        "colab": {
          "base_uri": "https://localhost:8080/",
          "height": 586
        },
        "id": "gurP5fyOWnVe",
        "outputId": "b89a95d2-2e4f-4369-f252-e4fbe6cd0fac"
      },
      "id": "gurP5fyOWnVe",
      "execution_count": 117,
      "outputs": [
        {
          "output_type": "stream",
          "name": "stdout",
          "text": [
            "              precision    recall  f1-score   support\n",
            "\n",
            "           0       0.86      0.84      0.85       217\n",
            "           1       0.83      0.85      0.84       203\n",
            "\n",
            "    accuracy                           0.85       420\n",
            "   macro avg       0.85      0.85      0.85       420\n",
            "weighted avg       0.85      0.85      0.85       420\n",
            "\n"
          ]
        },
        {
          "output_type": "display_data",
          "data": {
            "text/plain": [
              "<Figure size 640x480 with 2 Axes>"
            ],
            "image/png": "[encoded data removed]"
          },
          "metadata": {}
        }
      ]
    },
    {
      "cell_type": "markdown",
      "id": "71fe78e5",
      "metadata": {
        "papermill": {
          "duration": 0.04197,
          "end_time": "2024-05-03T15:42:28.196512",
          "exception": false,
          "start_time": "2024-05-03T15:42:28.154542",
          "status": "completed"
        },
        "tags": [],
        "id": "71fe78e5"
      },
      "source": [
        "### Random Forest"
      ]
    },
    {
      "cell_type": "code",
      "execution_count": 71,
      "id": "723bf2d9",
      "metadata": {
        "execution": {
          "iopub.execute_input": "2024-05-03T15:42:28.283575Z",
          "iopub.status.busy": "2024-05-03T15:42:28.283074Z",
          "iopub.status.idle": "2024-05-03T15:42:38.783318Z",
          "shell.execute_reply": "2024-05-03T15:42:38.782143Z"
        },
        "papermill": {
          "duration": 10.547212,
          "end_time": "2024-05-03T15:42:38.786007",
          "exception": false,
          "start_time": "2024-05-03T15:42:28.238795",
          "status": "completed"
        },
        "tags": [],
        "id": "723bf2d9",
        "colab": {
          "base_uri": "https://localhost:8080/",
          "height": 1000
        },
        "outputId": "1ed32911-cbb1-472b-fbf2-1db383445569"
      },
      "outputs": [
        {
          "output_type": "stream",
          "name": "stdout",
          "text": [
            "Cross Validation Score: 88.36%\n",
            "ROC_AUC Score: 78.78%\n"
          ]
        },
        {
          "output_type": "display_data",
          "data": {
            "text/plain": [
              "<Figure size 640x480 with 1 Axes>"
            ],
            "image/png": "[encoded data removed]"
          },
          "metadata": {}
        },
        {
          "output_type": "stream",
          "name": "stdout",
          "text": [
            "              precision    recall  f1-score   support\n",
            "\n",
            "           0       0.79      0.80      0.80       217\n",
            "           1       0.78      0.78      0.78       203\n",
            "\n",
            "    accuracy                           0.79       420\n",
            "   macro avg       0.79      0.79      0.79       420\n",
            "weighted avg       0.79      0.79      0.79       420\n",
            "\n"
          ]
        },
        {
          "output_type": "display_data",
          "data": {
            "text/plain": [
              "<Figure size 640x480 with 2 Axes>"
            ],
            "image/png": "[encoded data removed]"
          },
          "metadata": {}
        }
      ],
      "source": [
        "classifier_rf = RandomForestClassifier(max_depth = 4,random_state = 0)\n",
        "model(classifier_rf,x_train.values,y_train.values,x_test.values,y_test.values)\n",
        "model_evaluation(classifier_rf,x_test.values,y_test.values)"
      ]
    },
    {
      "cell_type": "markdown",
      "id": "aba25b92",
      "metadata": {
        "papermill": {
          "duration": 0.043904,
          "end_time": "2024-05-03T15:42:38.874657",
          "exception": false,
          "start_time": "2024-05-03T15:42:38.830753",
          "status": "completed"
        },
        "tags": [],
        "id": "aba25b92"
      },
      "source": [
        "### Logistic Regression"
      ]
    },
    {
      "cell_type": "code",
      "execution_count": 72,
      "id": "d339cca6",
      "metadata": {
        "execution": {
          "iopub.execute_input": "2024-05-03T15:42:38.965104Z",
          "iopub.status.busy": "2024-05-03T15:42:38.964688Z",
          "iopub.status.idle": "2024-05-03T15:42:40.539397Z",
          "shell.execute_reply": "2024-05-03T15:42:40.538093Z"
        },
        "papermill": {
          "duration": 1.622948,
          "end_time": "2024-05-03T15:42:40.541850",
          "exception": false,
          "start_time": "2024-05-03T15:42:38.918902",
          "status": "completed"
        },
        "tags": [],
        "id": "d339cca6",
        "colab": {
          "base_uri": "https://localhost:8080/",
          "height": 1000
        },
        "outputId": "57e34611-7799-4c2d-e4d9-dc9bc8645228"
      },
      "outputs": [
        {
          "output_type": "stream",
          "name": "stdout",
          "text": [
            "Cross Validation Score: 87.22%\n",
            "ROC_AUC Score: 77.15%\n"
          ]
        },
        {
          "output_type": "display_data",
          "data": {
            "text/plain": [
              "<Figure size 640x480 with 1 Axes>"
            ],
            "image/png": "[encoded data removed]"
          },
          "metadata": {}
        },
        {
          "output_type": "stream",
          "name": "stdout",
          "text": [
            "              precision    recall  f1-score   support\n",
            "\n",
            "           0       0.78      0.77      0.78       217\n",
            "           1       0.76      0.77      0.77       203\n",
            "\n",
            "    accuracy                           0.77       420\n",
            "   macro avg       0.77      0.77      0.77       420\n",
            "weighted avg       0.77      0.77      0.77       420\n",
            "\n"
          ]
        },
        {
          "output_type": "display_data",
          "data": {
            "text/plain": [
              "<Figure size 640x480 with 2 Axes>"
            ],
            "image/png": "[encoded data removed]"
          },
          "metadata": {}
        }
      ],
      "source": [
        "classifier_lr = LogisticRegression()\n",
        "model(classifier_lr, x_train.values, y_train.values, x_test.values, y_test.values)\n",
        "model_evaluation(classifier_lr, x_test.values, y_test.values)"
      ]
    }
  ],
  "metadata": {
    "kaggle": {
      "accelerator": "none",
      "dataSources": [
        {
          "datasetId": 1067,
          "sourceId": 1925,
          "sourceType": "datasetVersion"
        }
      ],
      "dockerImageVersionId": 30698,
      "isGpuEnabled": false,
      "isInternetEnabled": false,
      "language": "python",
      "sourceType": "notebook"
    },
    "kernelspec": {
      "display_name": "Python 3",
      "name": "python3"
    },
    "language_info": {
      "codemirror_mode": {
        "name": "ipython",
        "version": 3
      },
      "file_extension": ".py",
      "mimetype": "text/x-python",
      "name": "python",
      "nbconvert_exporter": "python",
      "pygments_lexer": "ipython3",
      "version": "3.10.13"
    },
    "papermill": {
      "default_parameters": {},
      "duration": 62.155696,
      "end_time": "2024-05-03T15:42:54.975624",
      "environment_variables": {},
      "exception": null,
      "input_path": "__notebook__.ipynb",
      "output_path": "__notebook__.ipynb",
      "parameters": {},
      "start_time": "2024-05-03T15:41:52.819928",
      "version": "2.5.0"
    },
    "colab": {
      "provenance": [],
      "gpuType": "T4",
      "collapsed_sections": [
        "cOrdSahgLoZ2",
        "AVHlX373Pj8C",
        "ngItuNZLSsE7",
        "t1P-0Q3TSwcY",
        "eed2200b",
        "3MyZarg9gIof",
        "yGnyM4nHbXE9"
      ]
    },
    "accelerator": "GPU"
  },
  "nbformat": 4,
  "nbformat_minor": 5
}